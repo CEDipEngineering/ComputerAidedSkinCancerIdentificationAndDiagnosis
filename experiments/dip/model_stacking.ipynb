{
 "cells": [
  {
   "cell_type": "code",
   "execution_count": 111,
   "metadata": {},
   "outputs": [],
   "source": [
    "\n",
    "import pickle\n",
    "import time\n",
    "\n",
    "#basic\n",
    "import pandas as pd\n",
    "import numpy as np\n",
    "from PIL import Image\n",
    "import matplotlib.pyplot as plt\n",
    "\n",
    "#tensorflow and keras\n",
    "from tensorflow import keras\n",
    "import tensorflow\n",
    "from tensorflow.keras.layers import Input, Dense, GlobalAveragePooling2D, Flatten, MaxPooling2D, Dropout, Resizing, Rescaling, RandomBrightness, RandomContrast, RandomCrop, RandomFlip, RandomRotation\n",
    "from keras.preprocessing.image import ImageDataGenerator\n",
    "from keras.callbacks import ModelCheckpoint, EarlyStopping\n",
    "from keras import Model\n",
    "from keras.utils import load_img, img_to_array\n",
    "from keras.models import load_model\n",
    "\n",
    "#sklearn\n",
    "from sklearn.ensemble import RandomForestClassifier\n",
    "from sklearn.model_selection import train_test_split, cross_val_score\n",
    "from sklearn.preprocessing import OneHotEncoder\n",
    "from sklearn.preprocessing import OneHotEncoder\n",
    "from sklearn.compose import make_column_transformer\n",
    "from sklearn.metrics import confusion_matrix\n",
    "\n",
    "#open cv\n",
    "import cv2 as cv\n",
    "\n",
    "from cascid.configs import config, pad_ufes\n",
    "from cascid import database\n",
    "\n",
    "RANDOM_STATE = 42\n",
    "IMDIR = pad_ufes.IMAGES_DIR\n",
    "IMAGE_SHAPE = (300, 300, 3)"
   ]
  },
  {
   "cell_type": "code",
   "execution_count": 112,
   "metadata": {},
   "outputs": [
    {
     "name": "stderr",
     "output_type": "stream",
     "text": [
      "/home/cedip/.local/lib/python3.8/site-packages/sklearn/utils/deprecation.py:87: FutureWarning: Function get_feature_names is deprecated; get_feature_names is deprecated in 1.0 and will be removed in 1.2. Please use get_feature_names_out instead.\n",
      "  warnings.warn(msg, category=FutureWarning)\n"
     ]
    }
   ],
   "source": [
    "def modify_db(db: pd.DataFrame):\n",
    "    db[['smoke','drink','pesticide','skin_cancer_history','cancer_history','has_piped_water','has_sewage_system','itch','grew','hurt','changed','bleed','elevation','biopsed']] = db[['smoke','drink','pesticide','skin_cancer_history','cancer_history','has_piped_water','has_sewage_system','itch','grew','hurt','changed','bleed','elevation','biopsed']].astype(\"bool\")\n",
    "    db = db.dropna().drop(['patient_id','lesion_id'], axis = 1)\n",
    "    db['region'] = db['region'].apply(lambda x: 'OUTROS' if x in ['THIGH','LIP','FOOT','ABDOMEN','SCALP'] else x)\n",
    "    db['background_father'] = db['background_father'].apply(lambda x: 'OUTROS' if x in ['ISRAEL','SPAIN','AUSTRIA','CZECH','BRASIL','POLAND','PORTUGAL','NETHERLANDS','NORWAY','FRANCE'] else ('BRAZIL' if x == 'BRASIL' else x))\n",
    "    db['background_mother'] = db['background_mother'].apply(lambda x: 'OUTROS' if x in ['ISRAEL','SPAIN','AUSTRIA','CZECH','BRASIL','POLAND','PORTUGAL','NETHERLANDS','NORWAY','FRANCE'] else ('BRAZIL' if x == 'BRASIL' else x))\n",
    "    db['is_cancer'] = db['diagnostic'].apply(lambda x: 0 if x in ['ACK','NEV','SEK'] else 1)\n",
    "    # db.head(5).transpose()\n",
    "\n",
    "    transformer = make_column_transformer((OneHotEncoder(categories='auto'), ['region','gender']), remainder='passthrough')\n",
    "    transformed = transformer.fit_transform(db.drop(['diagnostic','biopsed','background_father','background_mother'], axis = 1))\n",
    "    transformed_db = pd.DataFrame(transformed, columns=transformer.get_feature_names())\n",
    "    transformed_db.loc[:, transformed_db.columns != 'img_id'] = transformed_db.loc[:, transformed_db.columns != 'img_id'].astype(np.float64)\n",
    "    # transformed_db.head(5).transpose()\n",
    "    return transformed_db\n",
    "\n",
    "\n",
    "db = database.get_db()\n",
    "transformed_db = modify_db(db)"
   ]
  },
  {
   "cell_type": "code",
   "execution_count": 113,
   "metadata": {},
   "outputs": [],
   "source": [
    "X = transformed_db.drop(\"is_cancer\", axis = 1)\n",
    "Y = transformed_db[\"is_cancer\"].to_numpy().astype(np.float32)"
   ]
  },
  {
   "cell_type": "code",
   "execution_count": 114,
   "metadata": {},
   "outputs": [
    {
     "name": "stdout",
     "output_type": "stream",
     "text": [
      "x_train shape: (1179, 30)\n",
      "x_test shape: (295, 30)\n",
      "y_train shape: (1179,)\n",
      "y_test shape: (295,)\n"
     ]
    }
   ],
   "source": [
    "x_train, x_test, y_train, y_test = train_test_split(X, Y, test_size=0.2, random_state=RANDOM_STATE)\n",
    "\n",
    "print(\"x_train shape: {0}\".format(x_train.shape))\n",
    "print(\"x_test shape: {0}\".format(x_test.shape))\n",
    "print(\"y_train shape: {0}\".format(y_train.shape))\n",
    "print(\"y_test shape: {0}\".format(y_test.shape))\n",
    "\n",
    "x_train = x_train.reset_index()\n",
    "x_test = x_test.reset_index()\n",
    "\n",
    "x_train_img = x_train[\"img_id\"]\n",
    "x_train_rfc = x_train.drop([\"img_id\"], axis=1)\n",
    "x_test_img = x_test[\"img_id\"]\n",
    "x_test_rfc = x_test.drop([\"img_id\"], axis=1)"
   ]
  },
  {
   "cell_type": "code",
   "execution_count": 115,
   "metadata": {},
   "outputs": [
    {
     "name": "stdout",
     "output_type": "stream",
     "text": [
      "Scores: [0.83 0.79 0.81 0.83 0.8 ]\n",
      "Mean: 0.8126098307430274\n",
      "Standard deviation: 0.014812220786743263\n"
     ]
    },
    {
     "data": {
      "text/plain": [
       "0.8126098307430274"
      ]
     },
     "execution_count": 115,
     "metadata": {},
     "output_type": "execute_result"
    }
   ],
   "source": [
    "rfc_top = RandomForestClassifier(n_estimators=x_train.shape[1]*5, random_state=RANDOM_STATE)\n",
    "\n",
    "def display_scores(scores):\n",
    "    print('Scores:', scores.round(decimals=2))\n",
    "    print('Mean:', scores.mean())\n",
    "    print('Standard deviation:', scores.std())\n",
    "    \n",
    "    return scores.mean()\n",
    "\n",
    "scores_rfc_top = cross_val_score(\n",
    "    rfc_top,\n",
    "    x_train_rfc,\n",
    "    y_train,\n",
    "    n_jobs=-1,\n",
    "    scoring=\"roc_auc\",\n",
    "    cv=5\n",
    ")\n",
    "\n",
    "rfc_top.fit(x_train_rfc, y_train)\n",
    "display_scores(scores_rfc_top)"
   ]
  },
  {
   "cell_type": "code",
   "execution_count": 116,
   "metadata": {},
   "outputs": [
    {
     "name": "stdout",
     "output_type": "stream",
     "text": [
      "Model: \"sequential_1\"\n",
      "_________________________________________________________________\n",
      " Layer (type)                Output Shape              Param #   \n",
      "=================================================================\n",
      " sequential (Sequential)     (None, 300, 300, 3)       0         \n",
      "                                                                 \n",
      " efficientnetb3 (Functional)  (None, 1536)             10783535  \n",
      "                                                                 \n",
      " dense (Dense)               (None, 32)                49184     \n",
      "                                                                 \n",
      " dropout (Dropout)           (None, 32)                0         \n",
      "                                                                 \n",
      " dense_1 (Dense)             (None, 32)                1056      \n",
      "                                                                 \n",
      " dropout_1 (Dropout)         (None, 32)                0         \n",
      "                                                                 \n",
      " dense_2 (Dense)             (None, 16)                528       \n",
      "                                                                 \n",
      " dropout_2 (Dropout)         (None, 16)                0         \n",
      "                                                                 \n",
      " dense_3 (Dense)             (None, 6)                 102       \n",
      "                                                                 \n",
      "=================================================================\n",
      "Total params: 10,834,405\n",
      "Trainable params: 50,870\n",
      "Non-trainable params: 10,783,535\n",
      "_________________________________________________________________\n"
     ]
    }
   ],
   "source": [
    "NN = load_model(config.DATA_DIR / 'experiments' / 'fernando' / 'models' / 'deep_learning_effnet')\n",
    "NN.treinable = False\n",
    "NN.summary()"
   ]
  },
  {
   "cell_type": "code",
   "execution_count": 117,
   "metadata": {},
   "outputs": [],
   "source": [
    "class StackedModel():\n",
    "\n",
    "    def __init__(self, NN: keras.models.Sequential, rfc: RandomForestClassifier) -> None:\n",
    "        self.nn = NN\n",
    "        self.rfc_top = rfc\n",
    "        self.model = self._build_stacker_model()\n",
    "\n",
    "    def _load_image(self, name: str):\n",
    "        pil_img = load_img(\n",
    "            str(IMDIR / name),\n",
    "            grayscale=False,\n",
    "            color_mode='rgb',\n",
    "            target_size=(IMAGE_SHAPE[0], IMAGE_SHAPE[1]),\n",
    "            interpolation='nearest',\n",
    "            keep_aspect_ratio=False\n",
    "        )\n",
    "\n",
    "        return img_to_array(pil_img, dtype=np.uint8)\n",
    "\n",
    "    def reader(self, img_path_list):\n",
    "        return np.array(list(map(self._load_image, img_path_list)))\n",
    "\n",
    "    def _build_stacker_model(self):\n",
    "        # Return some model for prediction. This model is used to predict the final value, from the outputs of both input models.\n",
    "        return RandomForestClassifier(n_estimators=50, random_state=RANDOM_STATE)\n",
    "    \n",
    "    def fit(self, x_train_rfc : np.ndarray, x_train_img : np.ndarray, y_train : np.ndarray) -> None:\n",
    "        y_pred_nn = self.nn.predict(self.reader(x_train_img))\n",
    "        y_pred_rfc = self.rfc_top.predict_proba(x_train_rfc)\n",
    "        x_train_stack = np.hstack([y_pred_nn, y_pred_rfc])\n",
    "        self.model.fit(x_train_stack, y_train)\n",
    "\n",
    "    def predict(self, x_train_rfc : np.ndarray, x_train_img : np.ndarray, *args, **kwargs):\n",
    "        y_pred_nn = self.nn.predict(self.reader(x_train_img))\n",
    "        y_pred_rfc = self.rfc_top.predict_proba(x_train_rfc)\n",
    "        x_pred_stack = np.hstack([y_pred_nn, y_pred_rfc])\n",
    "        return self.model.predict(x_pred_stack, *args, **kwargs)       \n"
   ]
  },
  {
   "cell_type": "code",
   "execution_count": 118,
   "metadata": {},
   "outputs": [
    {
     "name": "stdout",
     "output_type": "stream",
     "text": [
      "37/37 [==============================] - 105s 3s/step\n",
      "10/10 [==============================] - 27s 3s/step\n"
     ]
    },
    {
     "data": {
      "text/plain": [
       "array([1., 1., 1., 1., 1., 0., 1., 1., 0., 1., 1., 1., 1., 1., 1., 1., 1.,\n",
       "       1., 1., 1., 1., 1., 1., 0., 1., 1., 1., 0., 1., 1., 0., 1., 1., 1.,\n",
       "       1., 0., 1., 0., 1., 0., 1., 1., 1., 1., 0., 1., 0., 1., 1., 1., 1.,\n",
       "       1., 1., 0., 0., 1., 1., 1., 1., 1., 1., 1., 1., 0., 1., 1., 0., 0.,\n",
       "       0., 1., 1., 1., 1., 1., 1., 1., 1., 1., 1., 0., 1., 1., 1., 1., 0.,\n",
       "       1., 1., 1., 0., 1., 1., 0., 1., 1., 0., 1., 0., 1., 1., 1., 1., 1.,\n",
       "       1., 0., 0., 1., 1., 1., 1., 0., 1., 1., 1., 1., 1., 1., 1., 1., 0.,\n",
       "       1., 1., 1., 1., 1., 0., 1., 1., 1., 1., 1., 0., 1., 1., 1., 1., 1.,\n",
       "       1., 1., 1., 1., 1., 1., 1., 1., 0., 0., 1., 1., 1., 1., 1., 1., 1.,\n",
       "       1., 0., 1., 1., 1., 0., 1., 1., 1., 1., 0., 1., 0., 1., 1., 1., 0.,\n",
       "       0., 0., 1., 1., 1., 1., 1., 1., 1., 1., 1., 0., 1., 1., 1., 1., 1.,\n",
       "       0., 1., 1., 1., 1., 1., 1., 1., 1., 1., 1., 1., 1., 1., 1., 1., 1.,\n",
       "       1., 0., 1., 1., 1., 1., 1., 1., 1., 1., 0., 1., 1., 1., 0., 0., 0.,\n",
       "       1., 0., 1., 1., 1., 0., 1., 1., 0., 1., 1., 1., 1., 0., 1., 1., 1.,\n",
       "       1., 1., 1., 0., 1., 1., 1., 0., 0., 1., 1., 0., 1., 1., 1., 0., 1.,\n",
       "       1., 1., 1., 1., 1., 0., 0., 1., 1., 1., 1., 1., 1., 1., 0., 1., 1.,\n",
       "       1., 0., 1., 1., 1., 0., 0., 0., 1., 1., 1., 1., 1., 1., 1., 1., 1.,\n",
       "       1., 0., 1., 1., 1., 1.], dtype=float32)"
      ]
     },
     "execution_count": 118,
     "metadata": {},
     "output_type": "execute_result"
    }
   ],
   "source": [
    "StackModel = StackedModel(NN, rfc_top)\n",
    "\n",
    "StackModel.fit(x_train_rfc, x_train_img, y_train)\n",
    "\n",
    "preds = StackModel.predict(x_test_rfc, x_test_img)\n",
    "\n",
    "preds"
   ]
  },
  {
   "cell_type": "code",
   "execution_count": 121,
   "metadata": {},
   "outputs": [],
   "source": [
    "def plot_confusion_matrix(y_true, y_pred, classes,\n",
    "                          normalize=True,\n",
    "                          title=None,\n",
    "                          cmap=plt.cm.Greens, save_to_file = False):\n",
    "    if not title:\n",
    "        if normalize:\n",
    "            title = 'Normalized confusion matrix'\n",
    "        else:\n",
    "            title = 'Confusion matrix, without normalization'\n",
    "\n",
    "    # Compute confusion matrix\n",
    "    cm = confusion_matrix(y_true, y_pred)\n",
    "    if normalize:\n",
    "        cm = cm.astype('float') / cm.sum(axis=1)[:, np.newaxis]\n",
    "        #print(\"Normalized confusion matrix\")\n",
    "    else:\n",
    "        print('Confusion matrix, without normalization')\n",
    "\n",
    "    #print(cm)\n",
    "\n",
    "    fig, ax = plt.subplots(figsize = (16,16))\n",
    "    im = ax.imshow(cm, interpolation='nearest', cmap=cmap)\n",
    "    ax.figure.colorbar(im, ax=ax)\n",
    "    ax.set(xticks=np.arange(cm.shape[1]),\n",
    "           yticks=np.arange(cm.shape[0]),\n",
    "           xticklabels=classes, yticklabels=classes,\n",
    "           title=title,\n",
    "           ylabel='True label',\n",
    "           xlabel='Predicted label')\n",
    "\n",
    "    plt.setp(ax.get_xticklabels(), rotation=45, ha=\"right\",\n",
    "             rotation_mode=\"anchor\")\n",
    "\n",
    "    fmt = '.2f' if normalize else 'd'\n",
    "    thresh = cm.max() / 2.\n",
    "    for i in range(cm.shape[0]):\n",
    "        for j in range(cm.shape[1]):\n",
    "            ax.text(j, i, format(cm[i, j], fmt),\n",
    "                    ha=\"center\", va=\"center\",\n",
    "                    color=\"white\" if cm[i, j] > thresh else \"black\")\n",
    "    fig.tight_layout()\n",
    "    if save_to_file:\n",
    "        plt.savefig('Assets/files/' + title + '.pdf')\n",
    "    return ax"
   ]
  },
  {
   "cell_type": "code",
   "execution_count": 122,
   "metadata": {},
   "outputs": [
    {
     "ename": "NameError",
     "evalue": "name 'confusion_matrix' is not defined",
     "output_type": "error",
     "traceback": [
      "\u001b[0;31m---------------------------------------------------------------------------\u001b[0m",
      "\u001b[0;31mNameError\u001b[0m                                 Traceback (most recent call last)",
      "\u001b[1;32m/home/cedip/Repos/CASCID/experiments/dip/model_stacking.ipynb Cell 10\u001b[0m in \u001b[0;36m<cell line: 1>\u001b[0;34m()\u001b[0m\n\u001b[0;32m----> <a href='vscode-notebook-cell:/home/cedip/Repos/CASCID/experiments/dip/model_stacking.ipynb#X40sZmlsZQ%3D%3D?line=0'>1</a>\u001b[0m plot_confusion_matrix(y_test, preds, [\u001b[39m\"\u001b[39;49m\u001b[39mcancer\u001b[39;49m\u001b[39m\"\u001b[39;49m, \u001b[39m\"\u001b[39;49m\u001b[39mnot cancer\u001b[39;49m\u001b[39m\"\u001b[39;49m])\n",
      "\u001b[1;32m/home/cedip/Repos/CASCID/experiments/dip/model_stacking.ipynb Cell 10\u001b[0m in \u001b[0;36mplot_confusion_matrix\u001b[0;34m(y_true, y_pred, classes, normalize, title, cmap, save_to_file)\u001b[0m\n\u001b[1;32m      <a href='vscode-notebook-cell:/home/cedip/Repos/CASCID/experiments/dip/model_stacking.ipynb#X40sZmlsZQ%3D%3D?line=8'>9</a>\u001b[0m         title \u001b[39m=\u001b[39m \u001b[39m'\u001b[39m\u001b[39mConfusion matrix, without normalization\u001b[39m\u001b[39m'\u001b[39m\n\u001b[1;32m     <a href='vscode-notebook-cell:/home/cedip/Repos/CASCID/experiments/dip/model_stacking.ipynb#X40sZmlsZQ%3D%3D?line=10'>11</a>\u001b[0m \u001b[39m# Compute confusion matrix\u001b[39;00m\n\u001b[0;32m---> <a href='vscode-notebook-cell:/home/cedip/Repos/CASCID/experiments/dip/model_stacking.ipynb#X40sZmlsZQ%3D%3D?line=11'>12</a>\u001b[0m cm \u001b[39m=\u001b[39m confusion_matrix(y_true, y_pred)\n\u001b[1;32m     <a href='vscode-notebook-cell:/home/cedip/Repos/CASCID/experiments/dip/model_stacking.ipynb#X40sZmlsZQ%3D%3D?line=12'>13</a>\u001b[0m \u001b[39mif\u001b[39;00m normalize:\n\u001b[1;32m     <a href='vscode-notebook-cell:/home/cedip/Repos/CASCID/experiments/dip/model_stacking.ipynb#X40sZmlsZQ%3D%3D?line=13'>14</a>\u001b[0m     cm \u001b[39m=\u001b[39m cm\u001b[39m.\u001b[39mastype(\u001b[39m'\u001b[39m\u001b[39mfloat\u001b[39m\u001b[39m'\u001b[39m) \u001b[39m/\u001b[39m cm\u001b[39m.\u001b[39msum(axis\u001b[39m=\u001b[39m\u001b[39m1\u001b[39m)[:, np\u001b[39m.\u001b[39mnewaxis]\n",
      "\u001b[0;31mNameError\u001b[0m: name 'confusion_matrix' is not defined"
     ]
    }
   ],
   "source": [
    "plot_confusion_matrix(y_test, preds, [\"cancer\", \"not cancer\"])"
   ]
  }
 ],
 "metadata": {
  "kernelspec": {
   "display_name": "Python 3.8.10 64-bit",
   "language": "python",
   "name": "python3"
  },
  "language_info": {
   "codemirror_mode": {
    "name": "ipython",
    "version": 3
   },
   "file_extension": ".py",
   "mimetype": "text/x-python",
   "name": "python",
   "nbconvert_exporter": "python",
   "pygments_lexer": "ipython3",
   "version": "3.8.10"
  },
  "orig_nbformat": 4,
  "vscode": {
   "interpreter": {
    "hash": "916dbcbb3f70747c44a77c7bcd40155683ae19c65e1c03b4aa3499c5328201f1"
   }
  }
 },
 "nbformat": 4,
 "nbformat_minor": 2
}
