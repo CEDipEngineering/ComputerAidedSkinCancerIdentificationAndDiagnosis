{
 "cells": [
  {
   "cell_type": "code",
   "execution_count": 82,
   "metadata": {},
   "outputs": [],
   "source": [
    "\n",
    "import pickle\n",
    "import time\n",
    "\n",
    "#basic\n",
    "import pandas as pd\n",
    "import numpy as np\n",
    "from PIL import Image\n",
    "import matplotlib.pyplot as plt\n",
    "\n",
    "#tensorflow and keras\n",
    "from tensorflow import keras\n",
    "import tensorflow\n",
    "from tensorflow.keras.layers import Input, Dense, GlobalAveragePooling2D, Flatten, MaxPooling2D, Dropout, Resizing, Rescaling, RandomBrightness, RandomContrast, RandomCrop, RandomFlip, RandomRotation\n",
    "from keras.preprocessing.image import ImageDataGenerator\n",
    "from keras.callbacks import ModelCheckpoint, EarlyStopping\n",
    "from keras import Model\n",
    "from keras.utils import load_img, img_to_array\n",
    "from keras.models import load_model\n",
    "\n",
    "#sklearn\n",
    "from sklearn.ensemble import RandomForestClassifier\n",
    "from sklearn.model_selection import train_test_split, cross_val_score\n",
    "from sklearn.preprocessing import OneHotEncoder\n",
    "from sklearn.preprocessing import OneHotEncoder\n",
    "from sklearn.compose import make_column_transformer\n",
    "\n",
    "#open cv\n",
    "import cv2 as cv\n",
    "\n",
    "from cascid.configs import config, pad_ufes\n",
    "from cascid import database\n",
    "\n",
    "RANDOM_STATE = 42\n",
    "IMDIR = pad_ufes.IMAGES_DIR\n",
    "IMAGE_SHAPE = (300, 300, 3)"
   ]
  },
  {
   "cell_type": "code",
   "execution_count": 109,
   "metadata": {},
   "outputs": [
    {
     "name": "stderr",
     "output_type": "stream",
     "text": [
      "/home/cedip/.local/lib/python3.8/site-packages/sklearn/utils/deprecation.py:87: FutureWarning: Function get_feature_names is deprecated; get_feature_names is deprecated in 1.0 and will be removed in 1.2. Please use get_feature_names_out instead.\n",
      "  warnings.warn(msg, category=FutureWarning)\n"
     ]
    }
   ],
   "source": [
    "def modify_db(db: pd.DataFrame):\n",
    "    db[['smoke','drink','pesticide','skin_cancer_history','cancer_history','has_piped_water','has_sewage_system','itch','grew','hurt','changed','bleed','elevation','biopsed']] = db[['smoke','drink','pesticide','skin_cancer_history','cancer_history','has_piped_water','has_sewage_system','itch','grew','hurt','changed','bleed','elevation','biopsed']].astype(\"bool\")\n",
    "    db = db.dropna().drop(['patient_id','lesion_id'], axis = 1)\n",
    "    db['region'] = db['region'].apply(lambda x: 'OUTROS' if x in ['THIGH','LIP','FOOT','ABDOMEN','SCALP'] else x)\n",
    "    db['background_father'] = db['background_father'].apply(lambda x: 'OUTROS' if x in ['ISRAEL','SPAIN','AUSTRIA','CZECH','BRASIL','POLAND','PORTUGAL','NETHERLANDS','NORWAY','FRANCE'] else ('BRAZIL' if x == 'BRASIL' else x))\n",
    "    db['background_mother'] = db['background_mother'].apply(lambda x: 'OUTROS' if x in ['ISRAEL','SPAIN','AUSTRIA','CZECH','BRASIL','POLAND','PORTUGAL','NETHERLANDS','NORWAY','FRANCE'] else ('BRAZIL' if x == 'BRASIL' else x))\n",
    "    db['is_cancer'] = db['diagnostic'].apply(lambda x: 0 if x in ['ACK','NEV','SEK'] else 1)\n",
    "    # db.head(5).transpose()\n",
    "\n",
    "    transformer = make_column_transformer((OneHotEncoder(categories='auto'), ['region','gender']), remainder='passthrough')\n",
    "    transformed = transformer.fit_transform(db.drop(['diagnostic','biopsed','background_father','background_mother'], axis = 1))\n",
    "    transformed_db = pd.DataFrame(transformed, columns=transformer.get_feature_names())\n",
    "    transformed_db.loc[:, transformed_db.columns != 'img_id'] = transformed_db.loc[:, transformed_db.columns != 'img_id'].astype(np.float64)\n",
    "    # transformed_db.head(5).transpose()\n",
    "    return transformed_db\n",
    "\n",
    "\n",
    "db = database.get_db()\n",
    "transformed_db = modify_db(db)"
   ]
  },
  {
   "cell_type": "code",
   "execution_count": 69,
   "metadata": {},
   "outputs": [],
   "source": [
    "X = transformed_db.drop(\"is_cancer\", axis = 1)\n",
    "Y = transformed_db[\"is_cancer\"].to_numpy().astype(np.float32)"
   ]
  },
  {
   "cell_type": "code",
   "execution_count": 71,
   "metadata": {},
   "outputs": [
    {
     "name": "stdout",
     "output_type": "stream",
     "text": [
      "x_train shape: (1179, 30)\n",
      "x_test shape: (295, 30)\n",
      "y_train shape: (1179,)\n",
      "y_test shape: (295,)\n"
     ]
    }
   ],
   "source": [
    "x_train, x_test, y_train, y_test = train_test_split(X, Y, test_size=0.2, random_state=RANDOM_STATE)\n",
    "\n",
    "print(\"x_train shape: {0}\".format(x_train.shape))\n",
    "print(\"x_test shape: {0}\".format(x_test.shape))\n",
    "print(\"y_train shape: {0}\".format(y_train.shape))\n",
    "print(\"y_test shape: {0}\".format(y_test.shape))\n",
    "\n",
    "x_train = x_train.reset_index()\n",
    "x_test = x_test.reset_index()\n",
    "\n",
    "x_train_img = x_train[\"img_id\"]\n",
    "x_train_rfc = x_train.drop([\"img_id\"], axis=1)\n",
    "x_test_img = x_test[\"img_id\"]\n",
    "x_test_rfc = x_test.drop([\"img_id\"], axis=1)"
   ]
  },
  {
   "cell_type": "code",
   "execution_count": 77,
   "metadata": {},
   "outputs": [
    {
     "name": "stdout",
     "output_type": "stream",
     "text": [
      "Scores: [0.83 0.79 0.81 0.83 0.8 ]\n",
      "Mean: 0.8126098307430274\n",
      "Standard deviation: 0.014812220786743263\n"
     ]
    },
    {
     "data": {
      "text/plain": [
       "0.8126098307430274"
      ]
     },
     "execution_count": 77,
     "metadata": {},
     "output_type": "execute_result"
    }
   ],
   "source": [
    "rfc_top = RandomForestClassifier(n_estimators=x_train.shape[1]*5, random_state=RANDOM_STATE)\n",
    "\n",
    "def display_scores(scores):\n",
    "    print('Scores:', scores.round(decimals=2))\n",
    "    print('Mean:', scores.mean())\n",
    "    print('Standard deviation:', scores.std())\n",
    "    \n",
    "    return scores.mean()\n",
    "\n",
    "scores_rfc_top = cross_val_score(\n",
    "    rfc_top,\n",
    "    x_train_rfc,\n",
    "    y_train,\n",
    "    n_jobs=-1,\n",
    "    scoring=\"roc_auc\",\n",
    "    cv=5\n",
    ")\n",
    "\n",
    "rfc_top.fit(x_train_rfc, y_train)\n",
    "display_scores(scores_rfc_top)"
   ]
  },
  {
   "cell_type": "code",
   "execution_count": null,
   "metadata": {},
   "outputs": [],
   "source": [
    "NN = load_model(config.DATA_DIR / 'experiments' / 'fernando' / 'models' / 'deep_learning_effnet')\n",
    "NN.treinable = False\n",
    "NN.summary()"
   ]
  },
  {
   "cell_type": "code",
   "execution_count": 104,
   "metadata": {},
   "outputs": [],
   "source": [
    "class StackedModel():\n",
    "\n",
    "    def __init__(self, NN: keras.models.Sequential, rfc: RandomForestClassifier) -> None:\n",
    "        self.nn = NN\n",
    "        self.rfc_top = rfc\n",
    "        self.model = self._build_stacker_model()\n",
    "\n",
    "    def _load_image(self, name: str):\n",
    "        pil_img = load_img(\n",
    "            str(IMDIR / name),\n",
    "            grayscale=False,\n",
    "            color_mode='rgb',\n",
    "            target_size=(IMAGE_SHAPE[0], IMAGE_SHAPE[1]),\n",
    "            interpolation='nearest',\n",
    "            keep_aspect_ratio=False\n",
    "        )\n",
    "\n",
    "        return img_to_array(pil_img, dtype=np.uint8)\n",
    "\n",
    "    def reader(self, img_path_list):\n",
    "        return np.array(list(map(self._load_image, img_path_list)))\n",
    "\n",
    "    def _build_stacker_model(self):\n",
    "        # Return some model for prediction. This model is used to predict the final value, from the outputs of both input models.\n",
    "        return RandomForestClassifier(n_estimators=50, random_state=RANDOM_STATE)\n",
    "    \n",
    "    def fit(self, x_train_rfc : np.ndarray, x_train_img : np.ndarray, y_train : np.ndarray) -> None:\n",
    "        y_pred_nn = self.nn.predict(self.reader(x_train_img))\n",
    "        y_pred_rfc = self.rfc_top.predict_proba(x_train_rfc)\n",
    "        x_train_stack = np.hstack([y_pred_nn, y_pred_rfc])\n",
    "        self.model.fit(x_train_stack, y_train)\n",
    "\n",
    "    def predict(self, x_train_rfc : np.ndarray, x_train_img : np.ndarray, *args, **kwargs):\n",
    "        y_pred_nn = self.nn.predict(self.reader(x_train_img))\n",
    "        y_pred_rfc = self.rfc_top.predict_proba(x_train_rfc)\n",
    "        x_pred_stack = np.hstack([y_pred_nn, y_pred_rfc])\n",
    "        return self.model.predict(x_pred_stack, *args, **kwargs)       \n"
   ]
  },
  {
   "cell_type": "code",
   "execution_count": 105,
   "metadata": {},
   "outputs": [],
   "source": [
    "StackModel = StackedModel(NN, rfc_top)\n",
    "\n",
    "StackModel.fit(x_train_rfc[:5], x_train_img[:5], y_train[:5])\n",
    "\n",
    "preds = StackModel.predict(x_test_rfc[:5], x_test_img[:5])\n",
    "\n",
    "preds"
   ]
  }
 ],
 "metadata": {
  "kernelspec": {
   "display_name": "Python 3.8.10 64-bit",
   "language": "python",
   "name": "python3"
  },
  "language_info": {
   "codemirror_mode": {
    "name": "ipython",
    "version": 3
   },
   "file_extension": ".py",
   "mimetype": "text/x-python",
   "name": "python",
   "nbconvert_exporter": "python",
   "pygments_lexer": "ipython3",
   "version": "3.8.10"
  },
  "orig_nbformat": 4,
  "vscode": {
   "interpreter": {
    "hash": "916dbcbb3f70747c44a77c7bcd40155683ae19c65e1c03b4aa3499c5328201f1"
   }
  }
 },
 "nbformat": 4,
 "nbformat_minor": 2
}
