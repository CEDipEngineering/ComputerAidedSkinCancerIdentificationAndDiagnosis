{
 "cells": [
  {
   "cell_type": "code",
   "execution_count": null,
   "metadata": {},
   "outputs": [],
   "source": [
    "%matplotlib inline\n",
    "\n",
    "# To show model architecture, might need to install these\n",
    "# !pip install pydot\n",
    "# !pip install pydotplus\n",
    "# !pip install graphviz\n",
    "from tensorflow.keras.utils import plot_model\n",
    "\n",
    "from typing import Tuple\n",
    "import matplotlib as mpl\n",
    "import matplotlib.pyplot as plt\n",
    "import numpy as np\n",
    "import pandas as pd\n",
    "import cv2\n",
    "import sklearn\n",
    "from sklearn.metrics import confusion_matrix\n",
    "from sklearn.model_selection import train_test_split\n",
    "from sklearn.preprocessing import OneHotEncoder\n",
    "import pickle as pk\n",
    "\n",
    "mpl.rc(\"axes\", labelsize=14)\n",
    "mpl.rc(\"xtick\", labelsize=12)\n",
    "mpl.rc(\"ytick\", labelsize=12)\n",
    "\n",
    "import tensorflow as tf\n",
    "from tensorflow import keras\n",
    "from keras.models import Sequential\n",
    "from keras.layers import Dense, Dropout, Flatten\n",
    "from keras.layers import Conv2D, MaxPooling2D\n",
    "from keras.callbacks import EarlyStopping\n",
    "\n",
    "from cascid.datasets.pad_ufes.database import get_df, get_train_test_images_raw\n",
    "\n",
    "\n",
    "FORCE_TRAIN_MODELS = True\n"
   ]
  },
  {
   "cell_type": "code",
   "execution_count": null,
   "metadata": {},
   "outputs": [],
   "source": [
    "def process_image(filename: str) -> np.ndarray:\n",
    "    '''\n",
    "    Placeholder fucntion to process images, currently only reads from file, then resizes and grayscales.\n",
    "    '''\n",
    "    # Smallest size in dataset is 147x147\n",
    "    img = cv2.imread(\"../../data/images/\"+filename)\n",
    "    return cv2.cvtColor(cv2.resize(img, (100,100)), cv2.COLOR_BGR2GRAY)\n",
    "\n",
    "def plot_confusion_matrix(y_true, y_pred, classes,\n",
    "                          normalize=True,\n",
    "                          title=None,\n",
    "                          cmap=plt.cm.Greens, save_to_file = False):\n",
    "    if not title:\n",
    "        if normalize:\n",
    "            title = 'Normalized confusion matrix'\n",
    "        else:\n",
    "            title = 'Confusion matrix, without normalization'\n",
    "\n",
    "    # Compute confusion matrix\n",
    "    cm = confusion_matrix(y_true, y_pred)\n",
    "    if normalize:\n",
    "        cm = cm.astype('float') / cm.sum(axis=1)[:, np.newaxis]\n",
    "        #print(\"Normalized confusion matrix\")\n",
    "    else:\n",
    "        print('Confusion matrix, without normalization')\n",
    "\n",
    "    #print(cm)\n",
    "\n",
    "    fig, ax = plt.subplots(figsize = (9,9))\n",
    "    im = ax.imshow(cm, interpolation='nearest', cmap=cmap)\n",
    "    # ax.figure.colorbar(im, ax=ax)\n",
    "    ax.set(xticks=np.arange(cm.shape[1]),\n",
    "           yticks=np.arange(cm.shape[0]),\n",
    "           xticklabels=classes, yticklabels=classes,\n",
    "           title=title,\n",
    "           ylabel='True label',\n",
    "           xlabel='Predicted label')\n",
    "\n",
    "    plt.setp(ax.get_xticklabels(), rotation=45, ha=\"right\",\n",
    "             rotation_mode=\"anchor\")\n",
    "\n",
    "    fmt = '.2f' if normalize else 'd'\n",
    "    thresh = cm.max() / 2.\n",
    "    for i in range(cm.shape[0]):\n",
    "        for j in range(cm.shape[1]):\n",
    "            ax.text(j, i, format(cm[i, j], fmt),\n",
    "                    ha=\"center\", va=\"center\",\n",
    "                    color=\"white\" if cm[i, j] > thresh else \"black\")\n",
    "    fig.tight_layout()\n",
    "    if save_to_file:\n",
    "        plt.savefig('Assets/files/' + title + '.pdf')\n",
    "    return ax"
   ]
  },
  {
   "cell_type": "code",
   "execution_count": null,
   "metadata": {},
   "outputs": [],
   "source": [
    "df = get_df()\n",
    "df"
   ]
  },
  {
   "cell_type": "code",
   "execution_count": null,
   "metadata": {},
   "outputs": [],
   "source": [
    "df[\"diagnostic\"].value_counts().plot.pie();"
   ]
  },
  {
   "cell_type": "code",
   "execution_count": null,
   "metadata": {},
   "outputs": [],
   "source": [
    "df['is_cancer'] = df['diagnostic'].apply(lambda s: \"Cancer\" if s in [\"MEL\", \"BCC\", \"SCC\"] else \"Not\")\n",
    "df[\"is_cancer\"].value_counts().plot.pie();"
   ]
  },
  {
   "cell_type": "code",
   "execution_count": null,
   "metadata": {},
   "outputs": [],
   "source": [
    "x_train, x_test, y_train, y_test = get_train_test_images_raw()"
   ]
  },
  {
   "cell_type": "code",
   "execution_count": null,
   "metadata": {},
   "outputs": [],
   "source": [
    "MulticlassEnconder = OneHotEncoder(sparse=False)\n",
    "BinaryClassEnconder = OneHotEncoder(sparse=False)\n",
    "Y = MulticlassEnconder.fit_transform(y_train)\n",
    "Y_binary = BinaryClassEnconder.fit_transform(np.array(list(map(lambda x: \"Cancer\" if x in ['BCC', 'MEL', 'SCC'] else \"Not\", y_train))).reshape(-1,1))"
   ]
  },
  {
   "cell_type": "code",
   "execution_count": null,
   "metadata": {},
   "outputs": [],
   "source": [
    "def show_results(model: Sequential, history: keras.callbacks.History, y_test: np.ndarray, y_pred: np.ndarray, encoder: OneHotEncoder, cache_img_filename=\"cache.png\") -> plt.figure:\n",
    "    plot_model(model, show_shapes=True, show_layer_activations=True, to_file=cache_img_filename)\n",
    "    fig = plt.figure(figsize=(10,30))\n",
    "    \n",
    "    ax = fig.add_subplot(121)\n",
    "    ax.imshow(cv2.imread(cache_img_filename)[:,:,::-1])\n",
    "    ax.axis('off')\n",
    "\n",
    "    pd.DataFrame(history.history).plot(figsize=(8, 5))\n",
    "    plt.grid(True)\n",
    "    plt.xlabel(\"Epochs\")\n",
    "    plt.ylabel(\"Categorical Crossentropy (loss)\")\n",
    "    plt.ylim((0,10))\n",
    "    plt.title(\"Model History\")\n",
    "    plt.show()\n",
    "    print(\"Examples of predictions:\\n {}\".format(y_pred[:3]))\n",
    "    y_pred_classes = encoder.inverse_transform(y_pred)\n",
    "    ax = plot_confusion_matrix(y_true=encoder.inverse_transform(y_test), y_pred=y_pred_classes, classes=list(set(y_test.flatten())))\n",
    "    fig.axes.append(ax)\n",
    "\n",
    "    return fig"
   ]
  },
  {
   "cell_type": "code",
   "execution_count": null,
   "metadata": {},
   "outputs": [],
   "source": [
    "model = Sequential()\n",
    "model.add(keras.layers.Input(x_train[0].shape))\n",
    "model.add(Conv2D(64, kernel_size=(7, 7), activation='relu'))\n",
    "model.add(MaxPooling2D(pool_size=(2, 2)))\n",
    "model.add(Dropout(0.2))\n",
    "model.add(Conv2D(32, kernel_size=(5, 5), activation='relu'))\n",
    "model.add(MaxPooling2D(pool_size=(2, 2)))\n",
    "model.add(Dropout(0.2))\n",
    "model.add(Conv2D(16, kernel_size=(3, 3), activation='relu'))\n",
    "model.add(MaxPooling2D(pool_size=(2, 2)))\n",
    "model.add(Dropout(0.2))\n",
    "model.add(Flatten())\n",
    "model.add(Dense(128, activation='relu'))\n",
    "model.add(Dense(64, activation='relu'))\n",
    "model.add(Dense(6, activation='softmax'))\n",
    "\n",
    "model.compile(optimizer='adam', loss=keras.losses.CategoricalCrossentropy(), metrics=[\"accuracy\"])    \n",
    "es = EarlyStopping(monitor='val_loss', mode='min', verbose=1, patience=30, restore_best_weights=True)\n",
    "history = model.fit(x_train, Y, epochs=1000, batch_size=64, validation_split=.2, callbacks=es, verbose=2)"
   ]
  },
  {
   "cell_type": "code",
   "execution_count": null,
   "metadata": {},
   "outputs": [],
   "source": [
    "# if FORCE_TRAIN_MODELS:\n",
    "#     history, y_test, y_pred, model = model_run(X,Y_binary)\n",
    "#     model.save(\"binary_cnn\")\n",
    "#     show_results(model, history, y_test, y_pred, BinaryClassEnconder, \"cnn_simple_binary.png\")"
   ]
  },
  {
   "cell_type": "code",
   "execution_count": null,
   "metadata": {},
   "outputs": [],
   "source": [
    "y_pred_classes = MulticlassEnconder.inverse_transform(y_pred)\n",
    "y_true = MulticlassEnconder.inverse_transform(y_test).flatten()\n",
    "ax = plot_confusion_matrix(y_true=y_true, y_pred=y_pred_classes, classes=list(set(y_true)), cmap=\"Blues\", title=\"CNN confusion matrix\")"
   ]
  },
  {
   "cell_type": "code",
   "execution_count": null,
   "metadata": {},
   "outputs": [],
   "source": [
    "x_train = f[\"x_train\"]\n",
    "x_test = f[\"x_test\"]\n",
    "y_train = f[\"y_train\"]\n",
    "y_test = f[\"y_test\"]\n",
    "\n"
   ]
  },
  {
   "cell_type": "code",
   "execution_count": null,
   "metadata": {},
   "outputs": [],
   "source": [
    "model.evaluate(x_train, y_train)"
   ]
  },
  {
   "cell_type": "code",
   "execution_count": null,
   "metadata": {},
   "outputs": [],
   "source": [
    "model.evaluate(x_test, y_test)"
   ]
  }
 ],
 "metadata": {
  "kernelspec": {
   "display_name": "Python 3.8.10 64-bit",
   "language": "python",
   "name": "python3"
  },
  "language_info": {
   "codemirror_mode": {
    "name": "ipython",
    "version": 3
   },
   "file_extension": ".py",
   "mimetype": "text/x-python",
   "name": "python",
   "nbconvert_exporter": "python",
   "pygments_lexer": "ipython3",
   "version": "3.8.10"
  },
  "orig_nbformat": 4,
  "vscode": {
   "interpreter": {
    "hash": "916dbcbb3f70747c44a77c7bcd40155683ae19c65e1c03b4aa3499c5328201f1"
   }
  }
 },
 "nbformat": 4,
 "nbformat_minor": 2
}
