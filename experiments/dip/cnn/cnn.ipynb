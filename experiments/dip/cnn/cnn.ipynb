{
 "cells": [
  {
   "cell_type": "code",
   "execution_count": 1,
   "metadata": {},
   "outputs": [
    {
     "name": "stderr",
     "output_type": "stream",
     "text": [
      "2022-10-07 07:56:34.980109: W tensorflow/stream_executor/platform/default/dso_loader.cc:64] Could not load dynamic library 'libcudart.so.11.0'; dlerror: libcudart.so.11.0: cannot open shared object file: No such file or directory; LD_LIBRARY_PATH: /usr/lib/cuda/include:/usr/lib/cuda/lib64:\n",
      "2022-10-07 07:56:34.980135: I tensorflow/stream_executor/cuda/cudart_stub.cc:29] Ignore above cudart dlerror if you do not have a GPU set up on your machine.\n"
     ]
    }
   ],
   "source": [
    "%matplotlib inline\n",
    "\n",
    "# To show model architecture, might need to install these\n",
    "# !pip install pydot\n",
    "# !pip install pydotplus\n",
    "# !pip install graphviz\n",
    "from tensorflow.keras.utils import plot_model\n",
    "\n",
    "from typing import Tuple\n",
    "import matplotlib as mpl\n",
    "import matplotlib.pyplot as plt\n",
    "import numpy as np\n",
    "import pandas as pd\n",
    "import cv2\n",
    "import sklearn\n",
    "from sklearn.metrics import confusion_matrix\n",
    "from sklearn.model_selection import train_test_split\n",
    "from sklearn.preprocessing import OneHotEncoder\n",
    "import pickle as pk\n",
    "\n",
    "mpl.rc(\"axes\", labelsize=14)\n",
    "mpl.rc(\"xtick\", labelsize=12)\n",
    "mpl.rc(\"ytick\", labelsize=12)\n",
    "\n",
    "import tensorflow as tf\n",
    "from tensorflow import keras\n",
    "from keras.models import Sequential\n",
    "from keras.layers import Dense, Dropout, Flatten\n",
    "from keras.layers import Conv2D, MaxPooling2D\n",
    "from keras.callbacks import EarlyStopping\n",
    "\n",
    "\n",
    "FORCE_TRAIN_MODELS = True\n"
   ]
  },
  {
   "cell_type": "code",
   "execution_count": 2,
   "metadata": {},
   "outputs": [],
   "source": [
    "def process_image(filename: str) -> np.ndarray:\n",
    "    '''\n",
    "    Placeholder fucntion to process images, currently only reads from file, then resizes and grayscales.\n",
    "    '''\n",
    "    # Smallest size in dataset is 147x147\n",
    "    img = cv2.imread(\"../../data/images/\"+filename)\n",
    "    return cv2.cvtColor(cv2.resize(img, (100,100)), cv2.COLOR_BGR2GRAY)\n",
    "\n",
    "def plot_confusion_matrix(y_true, y_pred, classes,\n",
    "                          normalize=True,\n",
    "                          title=None,\n",
    "                          cmap=plt.cm.Greens, save_to_file = False):\n",
    "    if not title:\n",
    "        if normalize:\n",
    "            title = 'Normalized confusion matrix'\n",
    "        else:\n",
    "            title = 'Confusion matrix, without normalization'\n",
    "\n",
    "    # Compute confusion matrix\n",
    "    cm = confusion_matrix(y_true, y_pred)\n",
    "    if normalize:\n",
    "        cm = cm.astype('float') / cm.sum(axis=1)[:, np.newaxis]\n",
    "        #print(\"Normalized confusion matrix\")\n",
    "    else:\n",
    "        print('Confusion matrix, without normalization')\n",
    "\n",
    "    #print(cm)\n",
    "\n",
    "    fig, ax = plt.subplots(figsize = (9,9))\n",
    "    im = ax.imshow(cm, interpolation='nearest', cmap=cmap)\n",
    "    # ax.figure.colorbar(im, ax=ax)\n",
    "    ax.set(xticks=np.arange(cm.shape[1]),\n",
    "           yticks=np.arange(cm.shape[0]),\n",
    "           xticklabels=classes, yticklabels=classes,\n",
    "           title=title,\n",
    "           ylabel='True label',\n",
    "           xlabel='Predicted label')\n",
    "\n",
    "    plt.setp(ax.get_xticklabels(), rotation=45, ha=\"right\",\n",
    "             rotation_mode=\"anchor\")\n",
    "\n",
    "    fmt = '.2f' if normalize else 'd'\n",
    "    thresh = cm.max() / 2.\n",
    "    for i in range(cm.shape[0]):\n",
    "        for j in range(cm.shape[1]):\n",
    "            ax.text(j, i, format(cm[i, j], fmt),\n",
    "                    ha=\"center\", va=\"center\",\n",
    "                    color=\"white\" if cm[i, j] > thresh else \"black\")\n",
    "    fig.tight_layout()\n",
    "    if save_to_file:\n",
    "        plt.savefig('Assets/files/' + title + '.pdf')\n",
    "    return ax"
   ]
  },
  {
   "cell_type": "code",
   "execution_count": 3,
   "metadata": {},
   "outputs": [
    {
     "data": {
      "text/html": [
       "<div>\n",
       "<style scoped>\n",
       "    .dataframe tbody tr th:only-of-type {\n",
       "        vertical-align: middle;\n",
       "    }\n",
       "\n",
       "    .dataframe tbody tr th {\n",
       "        vertical-align: top;\n",
       "    }\n",
       "\n",
       "    .dataframe thead th {\n",
       "        text-align: right;\n",
       "    }\n",
       "</style>\n",
       "<table border=\"1\" class=\"dataframe\">\n",
       "  <thead>\n",
       "    <tr style=\"text-align: right;\">\n",
       "      <th></th>\n",
       "      <th>y</th>\n",
       "      <th>x_name</th>\n",
       "      <th>y2</th>\n",
       "      <th>x</th>\n",
       "    </tr>\n",
       "  </thead>\n",
       "  <tbody>\n",
       "    <tr>\n",
       "      <th>0</th>\n",
       "      <td>NEV</td>\n",
       "      <td>PAT_1516_1765_530.png</td>\n",
       "      <td>NOT CANCER</td>\n",
       "      <td>[[115, 113, 118, 115, 116, 114, 113, 113, 115,...</td>\n",
       "    </tr>\n",
       "    <tr>\n",
       "      <th>1</th>\n",
       "      <td>BCC</td>\n",
       "      <td>PAT_46_881_939.png</td>\n",
       "      <td>CANCER</td>\n",
       "      <td>[[148, 151, 151, 148, 152, 151, 168, 152, 151,...</td>\n",
       "    </tr>\n",
       "    <tr>\n",
       "      <th>2</th>\n",
       "      <td>ACK</td>\n",
       "      <td>PAT_1545_1867_547.png</td>\n",
       "      <td>NOT CANCER</td>\n",
       "      <td>[[172, 164, 186, 192, 190, 179, 181, 166, 153,...</td>\n",
       "    </tr>\n",
       "    <tr>\n",
       "      <th>3</th>\n",
       "      <td>ACK</td>\n",
       "      <td>PAT_1989_4061_934.png</td>\n",
       "      <td>NOT CANCER</td>\n",
       "      <td>[[192, 200, 193, 194, 190, 180, 180, 181, 190,...</td>\n",
       "    </tr>\n",
       "    <tr>\n",
       "      <th>4</th>\n",
       "      <td>BCC</td>\n",
       "      <td>PAT_684_1302_588.png</td>\n",
       "      <td>CANCER</td>\n",
       "      <td>[[108, 110, 116, 117, 126, 122, 123, 123, 123,...</td>\n",
       "    </tr>\n",
       "    <tr>\n",
       "      <th>...</th>\n",
       "      <td>...</td>\n",
       "      <td>...</td>\n",
       "      <td>...</td>\n",
       "      <td>...</td>\n",
       "    </tr>\n",
       "    <tr>\n",
       "      <th>2293</th>\n",
       "      <td>ACK</td>\n",
       "      <td>PAT_1708_3156_175.png</td>\n",
       "      <td>NOT CANCER</td>\n",
       "      <td>[[92, 96, 101, 97, 100, 102, 96, 96, 126, 130,...</td>\n",
       "    </tr>\n",
       "    <tr>\n",
       "      <th>2294</th>\n",
       "      <td>BCC</td>\n",
       "      <td>PAT_46_880_140.png</td>\n",
       "      <td>CANCER</td>\n",
       "      <td>[[178, 178, 177, 177, 172, 175, 181, 182, 172,...</td>\n",
       "    </tr>\n",
       "    <tr>\n",
       "      <th>2295</th>\n",
       "      <td>SEK</td>\n",
       "      <td>PAT_1343_1217_404.png</td>\n",
       "      <td>NOT CANCER</td>\n",
       "      <td>[[168, 169, 212, 160, 172, 177, 180, 178, 167,...</td>\n",
       "    </tr>\n",
       "    <tr>\n",
       "      <th>2296</th>\n",
       "      <td>BCC</td>\n",
       "      <td>PAT_326_690_823.png</td>\n",
       "      <td>CANCER</td>\n",
       "      <td>[[124, 124, 118, 115, 115, 115, 114, 116, 119,...</td>\n",
       "    </tr>\n",
       "    <tr>\n",
       "      <th>2297</th>\n",
       "      <td>SEK</td>\n",
       "      <td>PAT_1714_3189_989.png</td>\n",
       "      <td>NOT CANCER</td>\n",
       "      <td>[[178, 162, 177, 188, 162, 162, 143, 200, 149,...</td>\n",
       "    </tr>\n",
       "  </tbody>\n",
       "</table>\n",
       "<p>2298 rows × 4 columns</p>\n",
       "</div>"
      ],
      "text/plain": [
       "        y                 x_name          y2  \\\n",
       "0     NEV  PAT_1516_1765_530.png  NOT CANCER   \n",
       "1     BCC     PAT_46_881_939.png      CANCER   \n",
       "2     ACK  PAT_1545_1867_547.png  NOT CANCER   \n",
       "3     ACK  PAT_1989_4061_934.png  NOT CANCER   \n",
       "4     BCC   PAT_684_1302_588.png      CANCER   \n",
       "...   ...                    ...         ...   \n",
       "2293  ACK  PAT_1708_3156_175.png  NOT CANCER   \n",
       "2294  BCC     PAT_46_880_140.png      CANCER   \n",
       "2295  SEK  PAT_1343_1217_404.png  NOT CANCER   \n",
       "2296  BCC    PAT_326_690_823.png      CANCER   \n",
       "2297  SEK  PAT_1714_3189_989.png  NOT CANCER   \n",
       "\n",
       "                                                      x  \n",
       "0     [[115, 113, 118, 115, 116, 114, 113, 113, 115,...  \n",
       "1     [[148, 151, 151, 148, 152, 151, 168, 152, 151,...  \n",
       "2     [[172, 164, 186, 192, 190, 179, 181, 166, 153,...  \n",
       "3     [[192, 200, 193, 194, 190, 180, 180, 181, 190,...  \n",
       "4     [[108, 110, 116, 117, 126, 122, 123, 123, 123,...  \n",
       "...                                                 ...  \n",
       "2293  [[92, 96, 101, 97, 100, 102, 96, 96, 126, 130,...  \n",
       "2294  [[178, 178, 177, 177, 172, 175, 181, 182, 172,...  \n",
       "2295  [[168, 169, 212, 160, 172, 177, 180, 178, 167,...  \n",
       "2296  [[124, 124, 118, 115, 115, 115, 114, 116, 119,...  \n",
       "2297  [[178, 162, 177, 188, 162, 162, 143, 200, 149,...  \n",
       "\n",
       "[2298 rows x 4 columns]"
      ]
     },
     "execution_count": 3,
     "metadata": {},
     "output_type": "execute_result"
    }
   ],
   "source": [
    "LOAD_DB = False\n",
    "if LOAD_DB:\n",
    "    df = pd.read_csv(\"../../data/metadata.csv\")[[\"diagnostic\", \"img_id\"]].rename({\"diagnostic\": \"y\", \"img_id\":\"x_name\"}, axis=1)\n",
    "    df[\"y2\"] = df[\"y\"].apply(lambda x:\"CANCER\" if x in [\"MEL\", \"BCC\", \"SCC\"] else \"NOT CANCER\") #Separate Cancer from Not-Cancer\n",
    "    df[\"x\"] = df[\"x_name\"].apply(process_image)\n",
    "    with open(\"db_cache.pickle\", \"wb\") as fl:\n",
    "        pk.dump(df, fl)\n",
    "else:\n",
    "    with open(\"db_cache.pickle\", \"rb\") as fl:\n",
    "        df = pk.load(fl)\n",
    "df"
   ]
  },
  {
   "cell_type": "code",
   "execution_count": 4,
   "metadata": {},
   "outputs": [
    {
     "data": {
      "image/png": "[encoded data removed]",
      "text/plain": [
       "<Figure size 432x288 with 1 Axes>"
      ]
     },
     "metadata": {},
     "output_type": "display_data"
    }
   ],
   "source": [
    "df[\"y\"].value_counts().plot.pie();"
   ]
  },
  {
   "cell_type": "code",
   "execution_count": 5,
   "metadata": {},
   "outputs": [
    {
     "data": {
      "image/png": "[encoded data removed]",
      "text/plain": [
       "<Figure size 432x288 with 1 Axes>"
      ]
     },
     "metadata": {},
     "output_type": "display_data"
    }
   ],
   "source": [
    "df[\"y2\"].value_counts().plot.pie();"
   ]
  },
  {
   "cell_type": "code",
   "execution_count": 6,
   "metadata": {},
   "outputs": [],
   "source": [
    "MulticlassEnconder = OneHotEncoder(sparse=False)\n",
    "BinaryClassEnconder = OneHotEncoder(sparse=False)\n",
    "X = np.array(df[\"x\"])\n",
    "X = np.array([X[i] for i in range(len(X))]) # Reshape\n",
    "Y = MulticlassEnconder.fit_transform(df[[\"y\"]])\n",
    "Y_binary = BinaryClassEnconder.fit_transform(df[[\"y2\"]])"
   ]
  },
  {
   "cell_type": "code",
   "execution_count": 7,
   "metadata": {},
   "outputs": [
    {
     "name": "stdout",
     "output_type": "stream",
     "text": [
      "\n",
      "Y is a 2D array where each column represents a class, and each row represents a datapoint. 0 indicates that the data is not of this class, and 1 indicates it is.\n",
      "Sample Y\n",
      "[0. 0. 0. 1. 0. 0.] Shape=(6,)\n",
      "Decoded Sample Y\n",
      "[['NEV']]\n",
      "\n",
      "X is an array where each item is a 147x147 grayscale picture.\n",
      "Sample X\n",
      "[[115 113 118 ... 121 112 119]\n",
      " [115 113 116 ... 120 118 115]\n",
      " [115 112 113 ... 119 119 118]\n",
      " ...\n",
      " [148 143 147 ...  75  75  67]\n",
      " [146 148 146 ...  70  71  63]\n",
      " [152 144 140 ...  66  62  47]]\n",
      "Sample X is of shape (100, 100)\n",
      "\n",
      "Y_binary is a 2D array similar to Y, however classes were grouped in such a way as to reduce number of classes.\n",
      "Sample Y\n",
      "[0. 1.]\n",
      "Decoded Sample Y_binary\n",
      "[['NOT CANCER']]\n"
     ]
    }
   ],
   "source": [
    "# Examples of data\n",
    "print(\"\\nY is a 2D array where each column represents a class, and each row represents a datapoint. 0 indicates that the data is not of this class, and 1 indicates it is.\")\n",
    "print(\"Sample Y\")\n",
    "print(Y[0], \"Shape={}\".format(Y[0].shape))\n",
    "print(\"Decoded Sample Y\")\n",
    "print(MulticlassEnconder.inverse_transform([Y[0]]))\n",
    "print(\"\")\n",
    "\n",
    "print(\"X is an array where each item is a 147x147 grayscale picture.\")\n",
    "print(\"Sample X\")\n",
    "print(X[0])\n",
    "print(\"Sample X is of shape {}\\n\".format(X[0].shape))\n",
    "\n",
    "print(\"Y_binary is a 2D array similar to Y, however classes were grouped in such a way as to reduce number of classes.\")\n",
    "print(\"Sample Y\")\n",
    "print(Y_binary[0])\n",
    "print(\"Decoded Sample Y_binary\")\n",
    "print(BinaryClassEnconder.inverse_transform([Y_binary[0]]))\n"
   ]
  },
  {
   "cell_type": "code",
   "execution_count": 8,
   "metadata": {},
   "outputs": [],
   "source": [
    "# Used to discover minimum size to equalize dataset\n",
    "# w = []\n",
    "# h = []\n",
    "# for i in X:\n",
    "#     w.append(i.shape[0])\n",
    "#     h.append(i.shape[1])\n",
    "# min_w = min(w)\n",
    "# min_h = min(h)\n",
    "# print(min_w, min_h)"
   ]
  },
  {
   "cell_type": "code",
   "execution_count": 9,
   "metadata": {},
   "outputs": [],
   "source": [
    "def model_run(X: np.ndarray, Y: np.ndarray) -> Tuple[keras.callbacks.History, np.ndarray, np.ndarray, keras.models.Sequential]:\n",
    "    '''\n",
    "    Function to encompass data splitting and model training. Meant to allow for different preprocessed datasets to be used interchangeably.\n",
    "    '''\n",
    "    X_train, X_test, y_train, y_test = train_test_split(X, Y, test_size=0.2)\n",
    "    X_train, X_valid, y_train, y_valid = train_test_split(X_train, y_train, test_size=0.2)\n",
    "    keras.backend.clear_session()\n",
    "    np.random.seed(42)\n",
    "    tf.random.set_seed(42)\n",
    "\n",
    "    input_shape=(X_train[0].shape[0], X_train[0].shape[1], 1)\n",
    "    no_classes = y_train[0].shape[0]\n",
    "    \n",
    "    model = Sequential()\n",
    "    model.add(Conv2D(64, kernel_size=(7, 7), activation='relu', input_shape=input_shape))\n",
    "    model.add(MaxPooling2D(pool_size=(2, 2)))\n",
    "    model.add(Dropout(0.2))\n",
    "    model.add(Conv2D(32, kernel_size=(5, 5), activation='relu'))\n",
    "    model.add(MaxPooling2D(pool_size=(2, 2)))\n",
    "    model.add(Dropout(0.2))\n",
    "    model.add(Conv2D(16, kernel_size=(3, 3), activation='relu'))\n",
    "    model.add(MaxPooling2D(pool_size=(2, 2)))\n",
    "    model.add(Dropout(0.2))\n",
    "    model.add(Flatten())\n",
    "    model.add(Dense(128, activation='relu'))\n",
    "    model.add(Dense(64, activation='relu'))\n",
    "    model.add(Dense(no_classes, activation='softmax'))\n",
    "    \n",
    "    model.compile(optimizer='adam', loss=keras.losses.CategoricalCrossentropy(), metrics=[\"accuracy\"])    \n",
    "    es = EarlyStopping(monitor='val_loss', mode='min', verbose=1, patience=30, restore_best_weights=True)\n",
    "    history = model.fit(X_train, y_train, epochs=1000, batch_size=150, validation_data=(X_valid, y_valid), callbacks=es, verbose=0)\n",
    "    y_pred = model.predict(X_test)\n",
    "    \n",
    "    f = {\n",
    "        \"x_train\":X_train,\n",
    "        \"x_test\":X_test,\n",
    "        \"y_train\":y_train,\n",
    "        \"y_test\":y_test,\n",
    "    }\n",
    "\n",
    "    return history, y_test, y_pred, model, f\n",
    "\n",
    "def show_results(model: Sequential, history: keras.callbacks.History, y_test: np.ndarray, y_pred: np.ndarray, encoder: OneHotEncoder, cache_img_filename=\"cache.png\") -> plt.figure:\n",
    "    plot_model(model, show_shapes=True, show_layer_activations=True, to_file=cache_img_filename)\n",
    "    fig = plt.figure(figsize=(10,30))\n",
    "    \n",
    "    ax = fig.add_subplot(121)\n",
    "    ax.imshow(cv2.imread(cache_img_filename)[:,:,::-1])\n",
    "    ax.axis('off')\n",
    "\n",
    "    pd.DataFrame(history.history).plot(figsize=(8, 5))\n",
    "    plt.grid(True)\n",
    "    plt.xlabel(\"Epochs\")\n",
    "    plt.ylabel(\"Categorical Crossentropy (loss)\")\n",
    "    plt.ylim((0,10))\n",
    "    plt.title(\"Model History\")\n",
    "    plt.show()\n",
    "    print(\"Examples of predictions:\\n {}\".format(y_pred[:3]))\n",
    "    y_pred_classes = encoder.inverse_transform(y_pred)\n",
    "    ax = plot_confusion_matrix(y_true=encoder.inverse_transform(y_test), y_pred=y_pred_classes, classes=list(set(y_test.flatten())))\n",
    "    fig.axes.append(ax)\n",
    "\n",
    "    return fig"
   ]
  },
  {
   "cell_type": "code",
   "execution_count": 10,
   "metadata": {},
   "outputs": [
    {
     "name": "stderr",
     "output_type": "stream",
     "text": [
      "2022-10-03 18:14:52.743045: E tensorflow/stream_executor/cuda/cuda_driver.cc:271] failed call to cuInit: CUDA_ERROR_COMPAT_NOT_SUPPORTED_ON_DEVICE: forward compatibility was attempted on non supported HW\n",
      "2022-10-03 18:14:52.743084: I tensorflow/stream_executor/cuda/cuda_diagnostics.cc:169] retrieving CUDA diagnostic information for host: cedip\n",
      "2022-10-03 18:14:52.743094: I tensorflow/stream_executor/cuda/cuda_diagnostics.cc:176] hostname: cedip\n",
      "2022-10-03 18:14:52.743225: I tensorflow/stream_executor/cuda/cuda_diagnostics.cc:200] libcuda reported version is: 515.76.0\n",
      "2022-10-03 18:14:52.743257: I tensorflow/stream_executor/cuda/cuda_diagnostics.cc:204] kernel reported version is: 515.65.1\n",
      "2022-10-03 18:14:52.743266: E tensorflow/stream_executor/cuda/cuda_diagnostics.cc:313] kernel version 515.65.1 does not match DSO version 515.76.0 -- cannot find working devices in this configuration\n",
      "2022-10-03 18:14:52.743504: I tensorflow/core/platform/cpu_feature_guard.cc:193] This TensorFlow binary is optimized with oneAPI Deep Neural Network Library (oneDNN) to use the following CPU instructions in performance-critical operations:  AVX2 FMA\n",
      "To enable them in other operations, rebuild TensorFlow with the appropriate compiler flags.\n",
      "2022-10-03 18:14:53.555888: W tensorflow/core/framework/cpu_allocator_impl.cc:82] Allocation of 339302400 exceeds 10% of free system memory.\n",
      "2022-10-03 18:14:55.268093: W tensorflow/core/framework/cpu_allocator_impl.cc:82] Allocation of 339302400 exceeds 10% of free system memory.\n",
      "2022-10-03 18:14:55.818882: W tensorflow/core/framework/cpu_allocator_impl.cc:82] Allocation of 339302400 exceeds 10% of free system memory.\n",
      "2022-10-03 18:14:57.190650: W tensorflow/core/framework/cpu_allocator_impl.cc:82] Allocation of 339302400 exceeds 10% of free system memory.\n",
      "2022-10-03 18:14:57.698409: W tensorflow/core/framework/cpu_allocator_impl.cc:82] Allocation of 339302400 exceeds 10% of free system memory.\n"
     ]
    },
    {
     "name": "stdout",
     "output_type": "stream",
     "text": [
      "Restoring model weights from the end of the best epoch: 52.\n",
      "Epoch 82: early stopping\n",
      "15/15 [==============================] - 1s 64ms/step\n"
     ]
    },
    {
     "name": "stderr",
     "output_type": "stream",
     "text": [
      "WARNING:absl:Found untraced functions such as _jit_compiled_convolution_op, _jit_compiled_convolution_op, _jit_compiled_convolution_op while saving (showing 3 of 3). These functions will not be directly callable after loading.\n"
     ]
    },
    {
     "name": "stdout",
     "output_type": "stream",
     "text": [
      "INFO:tensorflow:Assets written to: multiclass_cnn/assets\n"
     ]
    },
    {
     "name": "stderr",
     "output_type": "stream",
     "text": [
      "INFO:tensorflow:Assets written to: multiclass_cnn/assets\n"
     ]
    }
   ],
   "source": [
    "if FORCE_TRAIN_MODELS:\n",
    "    history, y_test, y_pred, model, f = model_run(X,Y)\n",
    "    model.save(\"multiclass_cnn\")\n",
    "    # show_results(model, history, y_test, y_pred, MulticlassEnconder, \"cnn_simple_multiclass.png\")"
   ]
  },
  {
   "cell_type": "code",
   "execution_count": 11,
   "metadata": {},
   "outputs": [],
   "source": [
    "# if FORCE_TRAIN_MODELS:\n",
    "#     history, y_test, y_pred, model = model_run(X,Y_binary)\n",
    "#     model.save(\"binary_cnn\")\n",
    "#     show_results(model, history, y_test, y_pred, BinaryClassEnconder, \"cnn_simple_binary.png\")"
   ]
  },
  {
   "cell_type": "code",
   "execution_count": 16,
   "metadata": {},
   "outputs": [
    {
     "data": {
      "image/png": "[encoded data removed]",
      "text/plain": [
       "<Figure size 648x648 with 1 Axes>"
      ]
     },
     "metadata": {
      "needs_background": "light"
     },
     "output_type": "display_data"
    }
   ],
   "source": [
    "y_pred_classes = MulticlassEnconder.inverse_transform(y_pred)\n",
    "y_true = MulticlassEnconder.inverse_transform(y_test).flatten()\n",
    "ax = plot_confusion_matrix(y_true=y_true, y_pred=y_pred_classes, classes=list(set(y_true)), cmap=\"Blues\", title=\"CNN confusion matrix\")"
   ]
  },
  {
   "cell_type": "code",
   "execution_count": 13,
   "metadata": {},
   "outputs": [],
   "source": [
    "x_train = f[\"x_train\"]\n",
    "x_test = f[\"x_test\"]\n",
    "y_train = f[\"y_train\"]\n",
    "y_test = f[\"y_test\"]\n",
    "\n"
   ]
  },
  {
   "cell_type": "code",
   "execution_count": 14,
   "metadata": {},
   "outputs": [
    {
     "name": "stdout",
     "output_type": "stream",
     "text": [
      "46/46 [==============================] - 3s 66ms/step - loss: 1.1969 - accuracy: 0.5517\n"
     ]
    },
    {
     "data": {
      "text/plain": [
       "[1.196935772895813, 0.5517006516456604]"
      ]
     },
     "execution_count": 14,
     "metadata": {},
     "output_type": "execute_result"
    }
   ],
   "source": [
    "model.evaluate(x_train, y_train)"
   ]
  },
  {
   "cell_type": "code",
   "execution_count": 15,
   "metadata": {},
   "outputs": [
    {
     "name": "stdout",
     "output_type": "stream",
     "text": [
      "15/15 [==============================] - 1s 63ms/step - loss: 1.2997 - accuracy: 0.5000\n"
     ]
    },
    {
     "data": {
      "text/plain": [
       "[1.2997429370880127, 0.5]"
      ]
     },
     "execution_count": 15,
     "metadata": {},
     "output_type": "execute_result"
    }
   ],
   "source": [
    "model.evaluate(x_test, y_test)"
   ]
  }
 ],
 "metadata": {
  "kernelspec": {
   "display_name": "Python 3.8.10 64-bit",
   "language": "python",
   "name": "python3"
  },
  "language_info": {
   "codemirror_mode": {
    "name": "ipython",
    "version": 3
   },
   "file_extension": ".py",
   "mimetype": "text/x-python",
   "name": "python",
   "nbconvert_exporter": "python",
   "pygments_lexer": "ipython3",
   "version": "3.8.10"
  },
  "orig_nbformat": 4,
  "vscode": {
   "interpreter": {
    "hash": "916dbcbb3f70747c44a77c7bcd40155683ae19c65e1c03b4aa3499c5328201f1"
   }
  }
 },
 "nbformat": 4,
 "nbformat_minor": 2
}
