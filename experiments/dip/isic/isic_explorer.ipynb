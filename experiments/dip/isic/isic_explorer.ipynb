{
 "cells": [
  {
   "cell_type": "code",
   "execution_count": 1,
   "metadata": {},
   "outputs": [
    {
     "name": "stderr",
     "output_type": "stream",
     "text": [
      "2022-10-20 17:55:18.957025: I tensorflow/core/platform/cpu_feature_guard.cc:193] This TensorFlow binary is optimized with oneAPI Deep Neural Network Library (oneDNN) to use the following CPU instructions in performance-critical operations:  AVX2 FMA\n",
      "To enable them in other operations, rebuild TensorFlow with the appropriate compiler flags.\n",
      "2022-10-20 17:55:19.249689: W tensorflow/stream_executor/platform/default/dso_loader.cc:64] Could not load dynamic library 'libcudart.so.11.0'; dlerror: libcudart.so.11.0: cannot open shared object file: No such file or directory; LD_LIBRARY_PATH: /home/cedip/.local/lib/python3.8/site-packages/cv2/../../lib64:/usr/lib/cuda/include:/usr/lib/cuda/lib64:\n",
      "2022-10-20 17:55:19.249726: I tensorflow/stream_executor/cuda/cudart_stub.cc:29] Ignore above cudart dlerror if you do not have a GPU set up on your machine.\n",
      "2022-10-20 17:55:19.312874: E tensorflow/stream_executor/cuda/cuda_blas.cc:2981] Unable to register cuBLAS factory: Attempting to register factory for plugin cuBLAS when one has already been registered\n",
      "2022-10-20 17:55:20.743529: W tensorflow/stream_executor/platform/default/dso_loader.cc:64] Could not load dynamic library 'libnvinfer.so.7'; dlerror: libnvinfer.so.7: cannot open shared object file: No such file or directory; LD_LIBRARY_PATH: /home/cedip/.local/lib/python3.8/site-packages/cv2/../../lib64:/usr/lib/cuda/include:/usr/lib/cuda/lib64:\n",
      "2022-10-20 17:55:20.743706: W tensorflow/stream_executor/platform/default/dso_loader.cc:64] Could not load dynamic library 'libnvinfer_plugin.so.7'; dlerror: libnvinfer_plugin.so.7: cannot open shared object file: No such file or directory; LD_LIBRARY_PATH: /home/cedip/.local/lib/python3.8/site-packages/cv2/../../lib64:/usr/lib/cuda/include:/usr/lib/cuda/lib64:\n",
      "2022-10-20 17:55:20.743718: W tensorflow/compiler/tf2tensorrt/utils/py_utils.cc:38] TF-TRT Warning: Cannot dlopen some TensorRT libraries. If you would like to use Nvidia GPU with TensorRT, please make sure the missing libraries mentioned above are installed properly.\n"
     ]
    }
   ],
   "source": [
    "import cv2\n",
    "import numpy\n",
    "import pandas as pd\n",
    "import pickle as pk\n",
    "from cascid.datasets.isic import database, fetcher"
   ]
  },
  {
   "cell_type": "code",
   "execution_count": 2,
   "metadata": {},
   "outputs": [],
   "source": [
    "# images = fetcher.fetch_from_isic(6000, [\n",
    "#     \"melanoma\",\n",
    "#     \"nevus\",\n",
    "#     '\"basal cell carcinoma\"',\n",
    "#     '\"seborrheic keratosis\"',\n",
    "#     '\"actinic keratosis\"',\n",
    "#     '\"squamous cell carcinoma\"'\n",
    "# ])\n",
    "# with open('a.pkl', 'rb') as fl:\n",
    "#     images = pk.load(fl)\n",
    "# fetcher.save_metadata(image_list=images)"
   ]
  },
  {
   "cell_type": "code",
   "execution_count": 3,
   "metadata": {},
   "outputs": [
    {
     "data": {
      "text/html": [
       "<div>\n",
       "<style scoped>\n",
       "    .dataframe tbody tr th:only-of-type {\n",
       "        vertical-align: middle;\n",
       "    }\n",
       "\n",
       "    .dataframe tbody tr th {\n",
       "        vertical-align: top;\n",
       "    }\n",
       "\n",
       "    .dataframe thead th {\n",
       "        text-align: right;\n",
       "    }\n",
       "</style>\n",
       "<table border=\"1\" class=\"dataframe\">\n",
       "  <thead>\n",
       "    <tr style=\"text-align: right;\">\n",
       "      <th></th>\n",
       "      <th>isic_id</th>\n",
       "      <th>sex</th>\n",
       "      <th>diagnostic</th>\n",
       "      <th>age_approx</th>\n",
       "      <th>image_url</th>\n",
       "      <th>img_id</th>\n",
       "    </tr>\n",
       "  </thead>\n",
       "  <tbody>\n",
       "    <tr>\n",
       "      <th>0</th>\n",
       "      <td>ISIC_4327928</td>\n",
       "      <td>female</td>\n",
       "      <td>melanoma</td>\n",
       "      <td>55</td>\n",
       "      <td>https://content.isic-archive.com/d361a1ec-eb19...</td>\n",
       "      <td>ISIC_4327928.jpg</td>\n",
       "    </tr>\n",
       "    <tr>\n",
       "      <th>1</th>\n",
       "      <td>ISIC_5608178</td>\n",
       "      <td>male</td>\n",
       "      <td>melanoma</td>\n",
       "      <td>60</td>\n",
       "      <td>https://content.isic-archive.com/f2c041e9-24dd...</td>\n",
       "      <td>ISIC_5608178.jpg</td>\n",
       "    </tr>\n",
       "    <tr>\n",
       "      <th>2</th>\n",
       "      <td>ISIC_0757631</td>\n",
       "      <td>male</td>\n",
       "      <td>melanoma</td>\n",
       "      <td>25</td>\n",
       "      <td>https://content.isic-archive.com/17a0b05d-2c9d...</td>\n",
       "      <td>ISIC_0757631.jpg</td>\n",
       "    </tr>\n",
       "    <tr>\n",
       "      <th>3</th>\n",
       "      <td>ISIC_4735590</td>\n",
       "      <td>female</td>\n",
       "      <td>melanoma</td>\n",
       "      <td>55</td>\n",
       "      <td>https://content.isic-archive.com/ec25917c-1a3e...</td>\n",
       "      <td>ISIC_4735590.jpg</td>\n",
       "    </tr>\n",
       "    <tr>\n",
       "      <th>4</th>\n",
       "      <td>ISIC_2814689</td>\n",
       "      <td>female</td>\n",
       "      <td>melanoma</td>\n",
       "      <td>25</td>\n",
       "      <td>https://content.isic-archive.com/39295c46-ff28...</td>\n",
       "      <td>ISIC_2814689.jpg</td>\n",
       "    </tr>\n",
       "    <tr>\n",
       "      <th>...</th>\n",
       "      <td>...</td>\n",
       "      <td>...</td>\n",
       "      <td>...</td>\n",
       "      <td>...</td>\n",
       "      <td>...</td>\n",
       "      <td>...</td>\n",
       "    </tr>\n",
       "    <tr>\n",
       "      <th>18205</th>\n",
       "      <td>ISIC_0072796</td>\n",
       "      <td>male</td>\n",
       "      <td>nevus</td>\n",
       "      <td>25</td>\n",
       "      <td>https://content.isic-archive.com/7d97eddf-3d6e...</td>\n",
       "      <td>ISIC_0072796.jpg</td>\n",
       "    </tr>\n",
       "    <tr>\n",
       "      <th>18206</th>\n",
       "      <td>ISIC_0072781</td>\n",
       "      <td>female</td>\n",
       "      <td>nevus</td>\n",
       "      <td>45</td>\n",
       "      <td>https://content.isic-archive.com/c4c0cdbb-e9e3...</td>\n",
       "      <td>ISIC_0072781.jpg</td>\n",
       "    </tr>\n",
       "    <tr>\n",
       "      <th>18207</th>\n",
       "      <td>ISIC_0072778</td>\n",
       "      <td>female</td>\n",
       "      <td>nevus</td>\n",
       "      <td>30</td>\n",
       "      <td>https://content.isic-archive.com/6c241cba-b32d...</td>\n",
       "      <td>ISIC_0072778.jpg</td>\n",
       "    </tr>\n",
       "    <tr>\n",
       "      <th>18208</th>\n",
       "      <td>ISIC_0072777</td>\n",
       "      <td>female</td>\n",
       "      <td>nevus</td>\n",
       "      <td>40</td>\n",
       "      <td>https://content.isic-archive.com/68a12afd-8c86...</td>\n",
       "      <td>ISIC_0072777.jpg</td>\n",
       "    </tr>\n",
       "    <tr>\n",
       "      <th>18209</th>\n",
       "      <td>ISIC_0072775</td>\n",
       "      <td>female</td>\n",
       "      <td>nevus</td>\n",
       "      <td>20</td>\n",
       "      <td>https://content.isic-archive.com/87f26274-a2f9...</td>\n",
       "      <td>ISIC_0072775.jpg</td>\n",
       "    </tr>\n",
       "  </tbody>\n",
       "</table>\n",
       "<p>18210 rows × 6 columns</p>\n",
       "</div>"
      ],
      "text/plain": [
       "            isic_id     sex diagnostic  age_approx  \\\n",
       "0      ISIC_4327928  female   melanoma          55   \n",
       "1      ISIC_5608178    male   melanoma          60   \n",
       "2      ISIC_0757631    male   melanoma          25   \n",
       "3      ISIC_4735590  female   melanoma          55   \n",
       "4      ISIC_2814689  female   melanoma          25   \n",
       "...             ...     ...        ...         ...   \n",
       "18205  ISIC_0072796    male      nevus          25   \n",
       "18206  ISIC_0072781  female      nevus          45   \n",
       "18207  ISIC_0072778  female      nevus          30   \n",
       "18208  ISIC_0072777  female      nevus          40   \n",
       "18209  ISIC_0072775  female      nevus          20   \n",
       "\n",
       "                                               image_url            img_id  \n",
       "0      https://content.isic-archive.com/d361a1ec-eb19...  ISIC_4327928.jpg  \n",
       "1      https://content.isic-archive.com/f2c041e9-24dd...  ISIC_5608178.jpg  \n",
       "2      https://content.isic-archive.com/17a0b05d-2c9d...  ISIC_0757631.jpg  \n",
       "3      https://content.isic-archive.com/ec25917c-1a3e...  ISIC_4735590.jpg  \n",
       "4      https://content.isic-archive.com/39295c46-ff28...  ISIC_2814689.jpg  \n",
       "...                                                  ...               ...  \n",
       "18205  https://content.isic-archive.com/7d97eddf-3d6e...  ISIC_0072796.jpg  \n",
       "18206  https://content.isic-archive.com/c4c0cdbb-e9e3...  ISIC_0072781.jpg  \n",
       "18207  https://content.isic-archive.com/6c241cba-b32d...  ISIC_0072778.jpg  \n",
       "18208  https://content.isic-archive.com/68a12afd-8c86...  ISIC_0072777.jpg  \n",
       "18209  https://content.isic-archive.com/87f26274-a2f9...  ISIC_0072775.jpg  \n",
       "\n",
       "[18210 rows x 6 columns]"
      ]
     },
     "execution_count": 3,
     "metadata": {},
     "output_type": "execute_result"
    }
   ],
   "source": [
    "df = database.get_df()\n",
    "df"
   ]
  },
  {
   "cell_type": "code",
   "execution_count": 4,
   "metadata": {},
   "outputs": [
    {
     "name": "stdout",
     "output_type": "stream",
     "text": [
      "df.shape=(18210, 6)\n"
     ]
    },
    {
     "data": {
      "text/html": [
       "<div>\n",
       "<style scoped>\n",
       "    .dataframe tbody tr th:only-of-type {\n",
       "        vertical-align: middle;\n",
       "    }\n",
       "\n",
       "    .dataframe tbody tr th {\n",
       "        vertical-align: top;\n",
       "    }\n",
       "\n",
       "    .dataframe thead th {\n",
       "        text-align: right;\n",
       "    }\n",
       "</style>\n",
       "<table border=\"1\" class=\"dataframe\">\n",
       "  <thead>\n",
       "    <tr style=\"text-align: right;\">\n",
       "      <th></th>\n",
       "      <th>0</th>\n",
       "      <th>1</th>\n",
       "      <th>2</th>\n",
       "      <th>3</th>\n",
       "      <th>4</th>\n",
       "    </tr>\n",
       "  </thead>\n",
       "  <tbody>\n",
       "    <tr>\n",
       "      <th>isic_id</th>\n",
       "      <td>ISIC_4327928</td>\n",
       "      <td>ISIC_5608178</td>\n",
       "      <td>ISIC_0757631</td>\n",
       "      <td>ISIC_4735590</td>\n",
       "      <td>ISIC_2814689</td>\n",
       "    </tr>\n",
       "    <tr>\n",
       "      <th>sex</th>\n",
       "      <td>female</td>\n",
       "      <td>male</td>\n",
       "      <td>male</td>\n",
       "      <td>female</td>\n",
       "      <td>female</td>\n",
       "    </tr>\n",
       "    <tr>\n",
       "      <th>diagnostic</th>\n",
       "      <td>melanoma</td>\n",
       "      <td>melanoma</td>\n",
       "      <td>melanoma</td>\n",
       "      <td>melanoma</td>\n",
       "      <td>melanoma</td>\n",
       "    </tr>\n",
       "    <tr>\n",
       "      <th>age_approx</th>\n",
       "      <td>55</td>\n",
       "      <td>60</td>\n",
       "      <td>25</td>\n",
       "      <td>55</td>\n",
       "      <td>25</td>\n",
       "    </tr>\n",
       "    <tr>\n",
       "      <th>image_url</th>\n",
       "      <td>https://content.isic-archive.com/d361a1ec-eb19...</td>\n",
       "      <td>https://content.isic-archive.com/f2c041e9-24dd...</td>\n",
       "      <td>https://content.isic-archive.com/17a0b05d-2c9d...</td>\n",
       "      <td>https://content.isic-archive.com/ec25917c-1a3e...</td>\n",
       "      <td>https://content.isic-archive.com/39295c46-ff28...</td>\n",
       "    </tr>\n",
       "    <tr>\n",
       "      <th>img_id</th>\n",
       "      <td>ISIC_4327928.jpg</td>\n",
       "      <td>ISIC_5608178.jpg</td>\n",
       "      <td>ISIC_0757631.jpg</td>\n",
       "      <td>ISIC_4735590.jpg</td>\n",
       "      <td>ISIC_2814689.jpg</td>\n",
       "    </tr>\n",
       "  </tbody>\n",
       "</table>\n",
       "</div>"
      ],
      "text/plain": [
       "                                                            0  \\\n",
       "isic_id                                          ISIC_4327928   \n",
       "sex                                                    female   \n",
       "diagnostic                                           melanoma   \n",
       "age_approx                                                 55   \n",
       "image_url   https://content.isic-archive.com/d361a1ec-eb19...   \n",
       "img_id                                       ISIC_4327928.jpg   \n",
       "\n",
       "                                                            1  \\\n",
       "isic_id                                          ISIC_5608178   \n",
       "sex                                                      male   \n",
       "diagnostic                                           melanoma   \n",
       "age_approx                                                 60   \n",
       "image_url   https://content.isic-archive.com/f2c041e9-24dd...   \n",
       "img_id                                       ISIC_5608178.jpg   \n",
       "\n",
       "                                                            2  \\\n",
       "isic_id                                          ISIC_0757631   \n",
       "sex                                                      male   \n",
       "diagnostic                                           melanoma   \n",
       "age_approx                                                 25   \n",
       "image_url   https://content.isic-archive.com/17a0b05d-2c9d...   \n",
       "img_id                                       ISIC_0757631.jpg   \n",
       "\n",
       "                                                            3  \\\n",
       "isic_id                                          ISIC_4735590   \n",
       "sex                                                    female   \n",
       "diagnostic                                           melanoma   \n",
       "age_approx                                                 55   \n",
       "image_url   https://content.isic-archive.com/ec25917c-1a3e...   \n",
       "img_id                                       ISIC_4735590.jpg   \n",
       "\n",
       "                                                            4  \n",
       "isic_id                                          ISIC_2814689  \n",
       "sex                                                    female  \n",
       "diagnostic                                           melanoma  \n",
       "age_approx                                                 25  \n",
       "image_url   https://content.isic-archive.com/39295c46-ff28...  \n",
       "img_id                                       ISIC_2814689.jpg  "
      ]
     },
     "execution_count": 4,
     "metadata": {},
     "output_type": "execute_result"
    }
   ],
   "source": [
    "print(f\"{df.shape=}\")\n",
    "df.head(5).transpose()"
   ]
  },
  {
   "cell_type": "code",
   "execution_count": 5,
   "metadata": {},
   "outputs": [
    {
     "data": {
      "text/plain": [
       "nevus                      0.329325\n",
       "melanoma                   0.314058\n",
       "basal cell carcinoma       0.186820\n",
       "seborrheic keratosis       0.082921\n",
       "actinic keratosis          0.049808\n",
       "squamous cell carcinoma    0.037068\n",
       "Name: diagnostic, dtype: float64"
      ]
     },
     "execution_count": 5,
     "metadata": {},
     "output_type": "execute_result"
    }
   ],
   "source": [
    "df[\"diagnostic\"].value_counts(True)"
   ]
  },
  {
   "cell_type": "code",
   "execution_count": 6,
   "metadata": {},
   "outputs": [
    {
     "data": {
      "text/plain": [
       "nevus                      5997\n",
       "melanoma                   5719\n",
       "basal cell carcinoma       3402\n",
       "seborrheic keratosis       1510\n",
       "actinic keratosis           907\n",
       "squamous cell carcinoma     675\n",
       "Name: diagnostic, dtype: int64"
      ]
     },
     "execution_count": 6,
     "metadata": {},
     "output_type": "execute_result"
    }
   ],
   "source": [
    "df[\"diagnostic\"].value_counts()"
   ]
  },
  {
   "cell_type": "code",
   "execution_count": 7,
   "metadata": {},
   "outputs": [
    {
     "data": {
      "text/plain": [
       "(18210,)"
      ]
     },
     "execution_count": 7,
     "metadata": {},
     "output_type": "execute_result"
    }
   ],
   "source": [
    "df[\"isic_id\"].unique().shape"
   ]
  },
  {
   "cell_type": "code",
   "execution_count": 8,
   "metadata": {},
   "outputs": [
    {
     "name": "stdout",
     "output_type": "stream",
     "text": [
      "Beginning image downloads...\n",
      "Done\n"
     ]
    }
   ],
   "source": [
    "database.update_all_files(df)"
   ]
  },
  {
   "cell_type": "code",
   "execution_count": null,
   "metadata": {},
   "outputs": [],
   "source": []
  }
 ],
 "metadata": {
  "kernelspec": {
   "display_name": "Python 3.8.10 64-bit",
   "language": "python",
   "name": "python3"
  },
  "language_info": {
   "codemirror_mode": {
    "name": "ipython",
    "version": 3
   },
   "file_extension": ".py",
   "mimetype": "text/x-python",
   "name": "python",
   "nbconvert_exporter": "python",
   "pygments_lexer": "ipython3",
   "version": "3.8.10"
  },
  "orig_nbformat": 4,
  "vscode": {
   "interpreter": {
    "hash": "916dbcbb3f70747c44a77c7bcd40155683ae19c65e1c03b4aa3499c5328201f1"
   }
  }
 },
 "nbformat": 4,
 "nbformat_minor": 2
}
