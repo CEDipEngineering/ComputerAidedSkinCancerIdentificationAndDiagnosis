{
 "cells": [
  {
   "cell_type": "code",
   "execution_count": 13,
   "metadata": {},
   "outputs": [],
   "source": [
    "import cv2\n",
    "import numpy\n",
    "import pandas as pd\n",
    "from cascid.datasets.isic import database, fetcher"
   ]
  },
  {
   "cell_type": "code",
   "execution_count": 16,
   "metadata": {},
   "outputs": [
    {
     "name": "stdout",
     "output_type": "stream",
     "text": [
      "Fetching 6000 images from ISIC dataset for each of ['melanoma', 'nevus', '\"basal cell carcinoma\"', '\"seborrheic keratosis\"', '\"actinic keratosis\"', '\"squamous cell carcinoma\"'] diagnosis\n",
      "                                                                                                    \n",
      "Done!\n"
     ]
    }
   ],
   "source": [
    "images = fetcher.fetch_from_isic(6000, [\n",
    "    \"melanoma\",\n",
    "    \"nevus\",\n",
    "    '\"basal cell carcinoma\"',\n",
    "    '\"seborrheic keratosis\"',\n",
    "    '\"actinic keratosis\"',\n",
    "    '\"squamous cell carcinoma\"'\n",
    "])\n",
    "fetcher.save_metadata(image_list=images)"
   ]
  },
  {
   "cell_type": "code",
   "execution_count": 17,
   "metadata": {},
   "outputs": [
    {
     "data": {
      "text/html": [
       "<div>\n",
       "<style scoped>\n",
       "    .dataframe tbody tr th:only-of-type {\n",
       "        vertical-align: middle;\n",
       "    }\n",
       "\n",
       "    .dataframe tbody tr th {\n",
       "        vertical-align: top;\n",
       "    }\n",
       "\n",
       "    .dataframe thead th {\n",
       "        text-align: right;\n",
       "    }\n",
       "</style>\n",
       "<table border=\"1\" class=\"dataframe\">\n",
       "  <thead>\n",
       "    <tr style=\"text-align: right;\">\n",
       "      <th></th>\n",
       "      <th>isic_id</th>\n",
       "      <th>sex</th>\n",
       "      <th>diagnostic</th>\n",
       "      <th>age_approx</th>\n",
       "      <th>image_url</th>\n",
       "      <th>img_id</th>\n",
       "    </tr>\n",
       "  </thead>\n",
       "  <tbody>\n",
       "    <tr>\n",
       "      <th>0</th>\n",
       "      <td>ISIC_4327928</td>\n",
       "      <td>female</td>\n",
       "      <td>melanoma</td>\n",
       "      <td>55</td>\n",
       "      <td>https://content.isic-archive.com/d361a1ec-eb19...</td>\n",
       "      <td>ISIC_4327928.jpg</td>\n",
       "    </tr>\n",
       "    <tr>\n",
       "      <th>1</th>\n",
       "      <td>ISIC_5608178</td>\n",
       "      <td>male</td>\n",
       "      <td>melanoma</td>\n",
       "      <td>60</td>\n",
       "      <td>https://content.isic-archive.com/f2c041e9-24dd...</td>\n",
       "      <td>ISIC_5608178.jpg</td>\n",
       "    </tr>\n",
       "    <tr>\n",
       "      <th>2</th>\n",
       "      <td>ISIC_0757631</td>\n",
       "      <td>male</td>\n",
       "      <td>melanoma</td>\n",
       "      <td>25</td>\n",
       "      <td>https://content.isic-archive.com/17a0b05d-2c9d...</td>\n",
       "      <td>ISIC_0757631.jpg</td>\n",
       "    </tr>\n",
       "    <tr>\n",
       "      <th>3</th>\n",
       "      <td>ISIC_4735590</td>\n",
       "      <td>female</td>\n",
       "      <td>melanoma</td>\n",
       "      <td>55</td>\n",
       "      <td>https://content.isic-archive.com/ec25917c-1a3e...</td>\n",
       "      <td>ISIC_4735590.jpg</td>\n",
       "    </tr>\n",
       "    <tr>\n",
       "      <th>4</th>\n",
       "      <td>ISIC_2814689</td>\n",
       "      <td>female</td>\n",
       "      <td>melanoma</td>\n",
       "      <td>25</td>\n",
       "      <td>https://content.isic-archive.com/39295c46-ff28...</td>\n",
       "      <td>ISIC_2814689.jpg</td>\n",
       "    </tr>\n",
       "    <tr>\n",
       "      <th>...</th>\n",
       "      <td>...</td>\n",
       "      <td>...</td>\n",
       "      <td>...</td>\n",
       "      <td>...</td>\n",
       "      <td>...</td>\n",
       "      <td>...</td>\n",
       "    </tr>\n",
       "    <tr>\n",
       "      <th>27287</th>\n",
       "      <td>ISIC_0072796</td>\n",
       "      <td>male</td>\n",
       "      <td>nevus</td>\n",
       "      <td>25</td>\n",
       "      <td>https://content.isic-archive.com/7d97eddf-3d6e...</td>\n",
       "      <td>ISIC_0072796.jpg</td>\n",
       "    </tr>\n",
       "    <tr>\n",
       "      <th>27288</th>\n",
       "      <td>ISIC_0072781</td>\n",
       "      <td>female</td>\n",
       "      <td>nevus</td>\n",
       "      <td>45</td>\n",
       "      <td>https://content.isic-archive.com/c4c0cdbb-e9e3...</td>\n",
       "      <td>ISIC_0072781.jpg</td>\n",
       "    </tr>\n",
       "    <tr>\n",
       "      <th>27289</th>\n",
       "      <td>ISIC_0072778</td>\n",
       "      <td>female</td>\n",
       "      <td>nevus</td>\n",
       "      <td>30</td>\n",
       "      <td>https://content.isic-archive.com/6c241cba-b32d...</td>\n",
       "      <td>ISIC_0072778.jpg</td>\n",
       "    </tr>\n",
       "    <tr>\n",
       "      <th>27290</th>\n",
       "      <td>ISIC_0072777</td>\n",
       "      <td>female</td>\n",
       "      <td>nevus</td>\n",
       "      <td>40</td>\n",
       "      <td>https://content.isic-archive.com/68a12afd-8c86...</td>\n",
       "      <td>ISIC_0072777.jpg</td>\n",
       "    </tr>\n",
       "    <tr>\n",
       "      <th>27291</th>\n",
       "      <td>ISIC_0072775</td>\n",
       "      <td>female</td>\n",
       "      <td>nevus</td>\n",
       "      <td>20</td>\n",
       "      <td>https://content.isic-archive.com/87f26274-a2f9...</td>\n",
       "      <td>ISIC_0072775.jpg</td>\n",
       "    </tr>\n",
       "  </tbody>\n",
       "</table>\n",
       "<p>27292 rows × 6 columns</p>\n",
       "</div>"
      ],
      "text/plain": [
       "            isic_id     sex diagnostic  age_approx  \\\n",
       "0      ISIC_4327928  female   melanoma          55   \n",
       "1      ISIC_5608178    male   melanoma          60   \n",
       "2      ISIC_0757631    male   melanoma          25   \n",
       "3      ISIC_4735590  female   melanoma          55   \n",
       "4      ISIC_2814689  female   melanoma          25   \n",
       "...             ...     ...        ...         ...   \n",
       "27287  ISIC_0072796    male      nevus          25   \n",
       "27288  ISIC_0072781  female      nevus          45   \n",
       "27289  ISIC_0072778  female      nevus          30   \n",
       "27290  ISIC_0072777  female      nevus          40   \n",
       "27291  ISIC_0072775  female      nevus          20   \n",
       "\n",
       "                                               image_url            img_id  \n",
       "0      https://content.isic-archive.com/d361a1ec-eb19...  ISIC_4327928.jpg  \n",
       "1      https://content.isic-archive.com/f2c041e9-24dd...  ISIC_5608178.jpg  \n",
       "2      https://content.isic-archive.com/17a0b05d-2c9d...  ISIC_0757631.jpg  \n",
       "3      https://content.isic-archive.com/ec25917c-1a3e...  ISIC_4735590.jpg  \n",
       "4      https://content.isic-archive.com/39295c46-ff28...  ISIC_2814689.jpg  \n",
       "...                                                  ...               ...  \n",
       "27287  https://content.isic-archive.com/7d97eddf-3d6e...  ISIC_0072796.jpg  \n",
       "27288  https://content.isic-archive.com/c4c0cdbb-e9e3...  ISIC_0072781.jpg  \n",
       "27289  https://content.isic-archive.com/6c241cba-b32d...  ISIC_0072778.jpg  \n",
       "27290  https://content.isic-archive.com/68a12afd-8c86...  ISIC_0072777.jpg  \n",
       "27291  https://content.isic-archive.com/87f26274-a2f9...  ISIC_0072775.jpg  \n",
       "\n",
       "[27292 rows x 6 columns]"
      ]
     },
     "execution_count": 17,
     "metadata": {},
     "output_type": "execute_result"
    }
   ],
   "source": [
    "df = database.get_df()\n",
    "df"
   ]
  },
  {
   "cell_type": "code",
   "execution_count": 5,
   "metadata": {},
   "outputs": [
    {
     "name": "stdout",
     "output_type": "stream",
     "text": [
      "df.shape=(9082, 6)\n"
     ]
    },
    {
     "data": {
      "text/html": [
       "<div>\n",
       "<style scoped>\n",
       "    .dataframe tbody tr th:only-of-type {\n",
       "        vertical-align: middle;\n",
       "    }\n",
       "\n",
       "    .dataframe tbody tr th {\n",
       "        vertical-align: top;\n",
       "    }\n",
       "\n",
       "    .dataframe thead th {\n",
       "        text-align: right;\n",
       "    }\n",
       "</style>\n",
       "<table border=\"1\" class=\"dataframe\">\n",
       "  <thead>\n",
       "    <tr style=\"text-align: right;\">\n",
       "      <th></th>\n",
       "      <th>0</th>\n",
       "      <th>1</th>\n",
       "      <th>2</th>\n",
       "      <th>3</th>\n",
       "      <th>4</th>\n",
       "    </tr>\n",
       "  </thead>\n",
       "  <tbody>\n",
       "    <tr>\n",
       "      <th>isic_id</th>\n",
       "      <td>ISIC_4327928</td>\n",
       "      <td>ISIC_5608178</td>\n",
       "      <td>ISIC_0757631</td>\n",
       "      <td>ISIC_4735590</td>\n",
       "      <td>ISIC_2814689</td>\n",
       "    </tr>\n",
       "    <tr>\n",
       "      <th>sex</th>\n",
       "      <td>female</td>\n",
       "      <td>male</td>\n",
       "      <td>male</td>\n",
       "      <td>female</td>\n",
       "      <td>female</td>\n",
       "    </tr>\n",
       "    <tr>\n",
       "      <th>diagnostic</th>\n",
       "      <td>melanoma</td>\n",
       "      <td>melanoma</td>\n",
       "      <td>melanoma</td>\n",
       "      <td>melanoma</td>\n",
       "      <td>melanoma</td>\n",
       "    </tr>\n",
       "    <tr>\n",
       "      <th>age_approx</th>\n",
       "      <td>55</td>\n",
       "      <td>60</td>\n",
       "      <td>25</td>\n",
       "      <td>55</td>\n",
       "      <td>25</td>\n",
       "    </tr>\n",
       "    <tr>\n",
       "      <th>image_url</th>\n",
       "      <td>https://content.isic-archive.com/d361a1ec-eb19...</td>\n",
       "      <td>https://content.isic-archive.com/f2c041e9-24dd...</td>\n",
       "      <td>https://content.isic-archive.com/17a0b05d-2c9d...</td>\n",
       "      <td>https://content.isic-archive.com/ec25917c-1a3e...</td>\n",
       "      <td>https://content.isic-archive.com/39295c46-ff28...</td>\n",
       "    </tr>\n",
       "    <tr>\n",
       "      <th>img_id</th>\n",
       "      <td>ISIC_4327928.jpg</td>\n",
       "      <td>ISIC_5608178.jpg</td>\n",
       "      <td>ISIC_0757631.jpg</td>\n",
       "      <td>ISIC_4735590.jpg</td>\n",
       "      <td>ISIC_2814689.jpg</td>\n",
       "    </tr>\n",
       "  </tbody>\n",
       "</table>\n",
       "</div>"
      ],
      "text/plain": [
       "                                                            0  \\\n",
       "isic_id                                          ISIC_4327928   \n",
       "sex                                                    female   \n",
       "diagnostic                                           melanoma   \n",
       "age_approx                                                 55   \n",
       "image_url   https://content.isic-archive.com/d361a1ec-eb19...   \n",
       "img_id                                       ISIC_4327928.jpg   \n",
       "\n",
       "                                                            1  \\\n",
       "isic_id                                          ISIC_5608178   \n",
       "sex                                                      male   \n",
       "diagnostic                                           melanoma   \n",
       "age_approx                                                 60   \n",
       "image_url   https://content.isic-archive.com/f2c041e9-24dd...   \n",
       "img_id                                       ISIC_5608178.jpg   \n",
       "\n",
       "                                                            2  \\\n",
       "isic_id                                          ISIC_0757631   \n",
       "sex                                                      male   \n",
       "diagnostic                                           melanoma   \n",
       "age_approx                                                 25   \n",
       "image_url   https://content.isic-archive.com/17a0b05d-2c9d...   \n",
       "img_id                                       ISIC_0757631.jpg   \n",
       "\n",
       "                                                            3  \\\n",
       "isic_id                                          ISIC_4735590   \n",
       "sex                                                    female   \n",
       "diagnostic                                           melanoma   \n",
       "age_approx                                                 55   \n",
       "image_url   https://content.isic-archive.com/ec25917c-1a3e...   \n",
       "img_id                                       ISIC_4735590.jpg   \n",
       "\n",
       "                                                            4  \n",
       "isic_id                                          ISIC_2814689  \n",
       "sex                                                    female  \n",
       "diagnostic                                           melanoma  \n",
       "age_approx                                                 25  \n",
       "image_url   https://content.isic-archive.com/39295c46-ff28...  \n",
       "img_id                                       ISIC_2814689.jpg  "
      ]
     },
     "execution_count": 5,
     "metadata": {},
     "output_type": "execute_result"
    }
   ],
   "source": [
    "print(f\"{df.shape=}\")\n",
    "df.head(5).transpose()"
   ]
  },
  {
   "cell_type": "code",
   "execution_count": 6,
   "metadata": {},
   "outputs": [
    {
     "data": {
      "text/plain": [
       "nevus                      1998\n",
       "basal cell carcinoma       1997\n",
       "melanoma                   1995\n",
       "seborrheic keratosis       1510\n",
       "actinic keratosis           907\n",
       "squamous cell carcinoma     675\n",
       "Name: diagnostic, dtype: int64"
      ]
     },
     "execution_count": 6,
     "metadata": {},
     "output_type": "execute_result"
    }
   ],
   "source": [
    "df[\"diagnostic\"].value_counts()"
   ]
  },
  {
   "cell_type": "code",
   "execution_count": 7,
   "metadata": {},
   "outputs": [
    {
     "data": {
      "text/plain": [
       "(9082,)"
      ]
     },
     "execution_count": 7,
     "metadata": {},
     "output_type": "execute_result"
    }
   ],
   "source": [
    "df[\"isic_id\"].unique().shape"
   ]
  },
  {
   "cell_type": "code",
   "execution_count": null,
   "metadata": {},
   "outputs": [],
   "source": [
    "isic_dataset.update_all_files(df)"
   ]
  },
  {
   "cell_type": "code",
   "execution_count": null,
   "metadata": {},
   "outputs": [],
   "source": []
  }
 ],
 "metadata": {
  "kernelspec": {
   "display_name": "Python 3.8.10 64-bit",
   "language": "python",
   "name": "python3"
  },
  "language_info": {
   "codemirror_mode": {
    "name": "ipython",
    "version": 3
   },
   "file_extension": ".py",
   "mimetype": "text/x-python",
   "name": "python",
   "nbconvert_exporter": "python",
   "pygments_lexer": "ipython3",
   "version": "3.8.10"
  },
  "orig_nbformat": 4,
  "vscode": {
   "interpreter": {
    "hash": "916dbcbb3f70747c44a77c7bcd40155683ae19c65e1c03b4aa3499c5328201f1"
   }
  }
 },
 "nbformat": 4,
 "nbformat_minor": 2
}
