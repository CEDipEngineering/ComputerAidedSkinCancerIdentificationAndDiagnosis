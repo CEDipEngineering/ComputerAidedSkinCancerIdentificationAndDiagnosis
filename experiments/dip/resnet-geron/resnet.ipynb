{
 "cells": [
  {
   "cell_type": "code",
   "execution_count": 17,
   "metadata": {},
   "outputs": [],
   "source": [
    "import matplotlib.pyplot as plt\n",
    "import numpy as np\n",
    "import pandas as pd\n",
    "import cv2\n",
    "import sklearn\n",
    "from sklearn.metrics import confusion_matrix\n",
    "from sklearn.model_selection import train_test_split\n",
    "from sklearn.preprocessing import OneHotEncoder\n",
    "import pickle as pk\n",
    "\n",
    "from tensorflow import keras\n",
    "from keras.models import Sequential\n",
    "from keras.layers import Input, Dense, Dropout, Flatten\n",
    "from keras.layers import Conv2D, MaxPooling2D\n",
    "from keras.layers import RandomBrightness, RandomContrast, RandomCrop, RandomFlip, RandomRotation\n",
    "from keras.callbacks import EarlyStopping\n",
    "\n",
    "from functools import partial\n",
    "\n",
    "IMAGE_SIZE = (256,256,3)\n",
    "RANDOM_STATE = 42\n",
    "\n",
    "from cascid.configs.config import DATA_DIR\n",
    "\n",
    "EXPERIMENT_DIR = DATA_DIR / 'experiments'\n",
    "MODEL_PATH = DATA_DIR / 'dip' / 'model_resnet_noreg_aug'\n",
    "MODEL_PATH.mkdir(exist_ok=True, parents=True)"
   ]
  },
  {
   "cell_type": "code",
   "execution_count": 31,
   "metadata": {},
   "outputs": [],
   "source": [
    "def ResNet(amt_64, amt_128, amt_256, amt_512, augmentation = False):\n",
    "    # Aurelien Geron, Hands-On Machine Learning with Scikit-Learn, Keras & Tensorflow.\n",
    "    DefaultConv2D = partial(keras.layers.Conv2D, kernel_size=3, strides=1, padding=\"SAME\", use_bias=False)# , kernel_regularizer=keras.regularizers.l1(l1=0.01)\n",
    "\n",
    "    class ResidualUnit(keras.layers.Layer):\n",
    "        def __init__(self, filters, strides=1, activation=\"relu\", **kwargs):\n",
    "            super().__init__(**kwargs)\n",
    "            self.activation = keras.activations.get(activation)\n",
    "            self.main_layers = [\n",
    "                DefaultConv2D(filters, strides=strides), \n",
    "                keras.layers.BatchNormalization(),\n",
    "                self.activation,\n",
    "                DefaultConv2D(filters),\n",
    "                keras.layers.BatchNormalization(),\n",
    "                keras.layers.SpatialDropout2D(0.3)\n",
    "            ]\n",
    "            self.skip_layers = []\n",
    "            if strides > 1:\n",
    "                self.skip_layers = [\n",
    "                    DefaultConv2D(filters, kernel_size=1, strides=strides),\n",
    "                    keras.layers.BatchNormalization()\n",
    "                ]\n",
    "        def call(self, inputs):\n",
    "            Z = inputs\n",
    "            for layer in self.main_layers:\n",
    "                Z = layer(Z)\n",
    "            skip_Z = inputs\n",
    "            for layer in self.skip_layers:\n",
    "                skip_Z = layer(skip_Z)\n",
    "            return self.activation(Z + skip_Z)\n",
    "\n",
    "    model = keras.models.Sequential()\n",
    "    model.add(Input(shape=IMAGE_SIZE))\n",
    "    if augmentation:\n",
    "        # model.add(RandomBrightness(factor=(-0.2, 0.2), value_range=(0.0, 1.0), seed=RANDOM_STATE) # Randomly change brightness anywhere from -30% to +30%\n",
    "        # model.add(RandomContrast(factor=0.5, seed=RANDOM_STATE)) # Randomly change contrast anywhere from -30% to +30%\n",
    "        model.add(RandomFlip(mode=\"horizontal_and_vertical\", seed=RANDOM_STATE)), # Randomly flip images either horizontally, vertically or both\n",
    "        model.add(RandomRotation(factor=(-0.2, 0.2), fill_mode=\"nearest\", interpolation=\"bilinear\", seed=RANDOM_STATE)) # Randomly rotate anywhere from -30% * 2PI to +30% * 2PI, filling gaps by using 'nearest' strategy)\n",
    "        model.add(DefaultConv2D(64, kernel_size=7, strides=2))\n",
    "    else:\n",
    "        model.add(DefaultConv2D(64, kernel_size=7, strides=2))\n",
    "    model.add(keras.layers.BatchNormalization())\n",
    "    model.add(keras.layers.Activation(\"relu\"))\n",
    "    model.add(keras.layers.MaxPool2D(pool_size=3, strides=2, padding=\"SAME\"))\n",
    "    prev_filters = 64\n",
    "    for filters in [64] * amt_64 + [128] * amt_128 + [256] * amt_256 + [512] * amt_512:\n",
    "        strides = 1 if filters == prev_filters else 2\n",
    "        model.add(ResidualUnit(filters, strides=strides))\n",
    "        prev_filters = filters\n",
    "    model.add(keras.layers.GlobalAvgPool2D())\n",
    "    model.add(keras.layers.Flatten())\n",
    "    model.add(keras.layers.Dense(2, activation=\"softmax\"))\n",
    "    return model\n",
    "\n",
    "def dump_results(model, history, path):\n",
    "    model.save(path)\n",
    "\n",
    "    with open(path / \"history.pkl\", \"wb\") as fl:\n",
    "        pk.dump(history, fl)\n"
   ]
  },
  {
   "cell_type": "code",
   "execution_count": 3,
   "metadata": {},
   "outputs": [
    {
     "name": "stderr",
     "output_type": "stream",
     "text": [
      "2022-10-13 14:53:30.955178: I tensorflow/stream_executor/cuda/cuda_gpu_executor.cc:980] successful NUMA node read from SysFS had negative value (-1), but there must be at least one NUMA node, so returning NUMA node zero\n",
      "2022-10-13 14:53:30.963110: I tensorflow/stream_executor/cuda/cuda_gpu_executor.cc:980] successful NUMA node read from SysFS had negative value (-1), but there must be at least one NUMA node, so returning NUMA node zero\n",
      "2022-10-13 14:53:30.963804: I tensorflow/stream_executor/cuda/cuda_gpu_executor.cc:980] successful NUMA node read from SysFS had negative value (-1), but there must be at least one NUMA node, so returning NUMA node zero\n",
      "2022-10-13 14:53:30.964757: I tensorflow/core/platform/cpu_feature_guard.cc:193] This TensorFlow binary is optimized with oneAPI Deep Neural Network Library (oneDNN) to use the following CPU instructions in performance-critical operations:  AVX2 FMA\n",
      "To enable them in other operations, rebuild TensorFlow with the appropriate compiler flags.\n",
      "2022-10-13 14:53:30.965274: I tensorflow/stream_executor/cuda/cuda_gpu_executor.cc:980] successful NUMA node read from SysFS had negative value (-1), but there must be at least one NUMA node, so returning NUMA node zer"
     ]
    },
    {
     "name": "stdout",
     "output_type": "stream",
     "text": [
      "WARNING:tensorflow:Using a while_loop for converting RngReadAndSkip cause there is no registered converter for this op.\n",
      "WARNING:tensorflow:Using a while_loop for converting Bitcast cause there is no registered converter for this op.\n",
      "WARNING:tensorflow:Using a while_loop for converting Bitcast cause there is no registered converter for this op.\n",
      "WARNING:tensorflow:Using a while_loop for converting StatelessRandomUniformV2 cause there is no registered converter for this op.\n"
     ]
    },
    {
     "name": "stderr",
     "output_type": "stream",
     "text": [
      "o\n",
      "2022-10-13 14:53:30.965903: I tensorflow/stream_executor/cuda/cuda_gpu_executor.cc:980] successful NUMA node read from SysFS had negative value (-1), but there must be at least one NUMA node, so returning NUMA node zero\n",
      "2022-10-13 14:53:30.966479: I tensorflow/stream_executor/cuda/cuda_gpu_executor.cc:980] successful NUMA node read from SysFS had negative value (-1), but there must be at least one NUMA node, so returning NUMA node zero\n",
      "2022-10-13 14:53:31.978042: I tensorflow/stream_executor/cuda/cuda_gpu_executor.cc:980] successful NUMA node read from SysFS had negative value (-1), but there must be at least one NUMA node, so returning NUMA node zero\n",
      "2022-10-13 14:53:31.978782: I tensorflow/stream_executor/cuda/cuda_gpu_executor.cc:980] successful NUMA node read from SysFS had negative value (-1), but there must be at least one NUMA node, so returning NUMA node zero\n",
      "2022-10-13 14:53:31.979353: I tensorflow/stream_executor/cuda/cuda_gpu_executor.cc:980] successful NUMA node read from SysFS had negative value (-1), but there must be at least one NUMA node, so returning NUMA node zero\n",
      "2022-10-13 14:53:31.979905: I tensorflow/core/common_runtime/gpu/gpu_device.cc:1616] Created device /job:localhost/replica:0/task:0/device:GPU:0 with 29042 MB memory:  -> device: 0, name: GRID V100D-32C, pci bus id: 0000:02:00.0, compute capability: 7.0\n"
     ]
    },
    {
     "name": "stdout",
     "output_type": "stream",
     "text": [
      "WARNING:tensorflow:Using a while_loop for converting ImageProjectiveTransformV3 cause there is no registered converter for this op.\n"
     ]
    }
   ],
   "source": [
    "# 'resnet18': (2, 2, 2, 2)\n",
    "# 'resnet34': (3, 4, 6, 3)\n",
    "\n",
    "model = ResNet(3,4,6,3, augmentation=True)"
   ]
  },
  {
   "cell_type": "code",
   "execution_count": 4,
   "metadata": {},
   "outputs": [
    {
     "name": "stdout",
     "output_type": "stream",
     "text": [
      "Model: \"sequential\"\n",
      "_________________________________________________________________\n",
      " Layer (type)                Output Shape              Param #   \n",
      "=================================================================\n",
      " random_flip (RandomFlip)    (None, 256, 256, 3)       0         \n",
      "                                                                 \n",
      " random_rotation (RandomRota  (None, 256, 256, 3)      0         \n",
      " tion)                                                           \n",
      "                                                                 \n",
      " conv2d (Conv2D)             (None, 128, 128, 64)      9408      \n",
      "                                                                 \n",
      " batch_normalization (BatchN  (None, 128, 128, 64)     256       \n",
      " ormalization)                                                   \n",
      "                                                                 \n",
      " activation (Activation)     (None, 128, 128, 64)      0         \n",
      "                                                                 \n",
      " max_pooling2d (MaxPooling2D  (None, 64, 64, 64)       0         \n",
      " )                                                               \n",
      "                                                                 \n",
      " residual_unit (ResidualUnit  (None, 64, 64, 64)       74240     \n",
      " )                                                               \n",
      "                                                                 \n",
      " residual_unit_1 (ResidualUn  (None, 64, 64, 64)       74240     \n",
      " it)                                                             \n",
      "                                                                 \n",
      " residual_unit_2 (ResidualUn  (None, 64, 64, 64)       74240     \n",
      " it)                                                             \n",
      "                                                                 \n",
      " residual_unit_3 (ResidualUn  (None, 32, 32, 128)      230912    \n",
      " it)                                                             \n",
      "                                                                 \n",
      " residual_unit_4 (ResidualUn  (None, 32, 32, 128)      295936    \n",
      " it)                                                             \n",
      "                                                                 \n",
      " residual_unit_5 (ResidualUn  (None, 32, 32, 128)      295936    \n",
      " it)                                                             \n",
      "                                                                 \n",
      " residual_unit_6 (ResidualUn  (None, 32, 32, 128)      295936    \n",
      " it)                                                             \n",
      "                                                                 \n",
      " residual_unit_7 (ResidualUn  (None, 16, 16, 256)      920576    \n",
      " it)                                                             \n",
      "                                                                 \n",
      " residual_unit_8 (ResidualUn  (None, 16, 16, 256)      1181696   \n",
      " it)                                                             \n",
      "                                                                 \n",
      " residual_unit_9 (ResidualUn  (None, 16, 16, 256)      1181696   \n",
      " it)                                                             \n",
      "                                                                 \n",
      " residual_unit_10 (ResidualU  (None, 16, 16, 256)      1181696   \n",
      " nit)                                                            \n",
      "                                                                 \n",
      " residual_unit_11 (ResidualU  (None, 16, 16, 256)      1181696   \n",
      " nit)                                                            \n",
      "                                                                 \n",
      " residual_unit_12 (ResidualU  (None, 16, 16, 256)      1181696   \n",
      " nit)                                                            \n",
      "                                                                 \n",
      " residual_unit_13 (ResidualU  (None, 8, 8, 512)        3676160   \n",
      " nit)                                                            \n",
      "                                                                 \n",
      " residual_unit_14 (ResidualU  (None, 8, 8, 512)        4722688   \n",
      " nit)                                                            \n",
      "                                                                 \n",
      " residual_unit_15 (ResidualU  (None, 8, 8, 512)        4722688   \n",
      " nit)                                                            \n",
      "                                                                 \n",
      " global_average_pooling2d (G  (None, 512)              0         \n",
      " lobalAveragePooling2D)                                          \n",
      "                                                                 \n",
      " flatten (Flatten)           (None, 512)               0         \n",
      "                                                                 \n",
      " dense (Dense)               (None, 2)                 1026      \n",
      "                                                                 \n",
      "=================================================================\n",
      "Total params: 21,302,722\n",
      "Trainable params: 21,285,698\n",
      "Non-trainable params: 17,024\n",
      "_________________________________________________________________\n"
     ]
    }
   ],
   "source": [
    "model.compile(\n",
    "    optimizer=keras.optimizers.Adam(learning_rate=0.001),\n",
    "    loss=keras.losses.BinaryCrossentropy(),\n",
    "    metrics=['acc', keras.metrics.AUC()]\n",
    ")\n",
    "model.summary()"
   ]
  },
  {
   "cell_type": "code",
   "execution_count": 5,
   "metadata": {},
   "outputs": [
    {
     "data": {
      "text/html": [
       "<div>\n",
       "<style scoped>\n",
       "    .dataframe tbody tr th:only-of-type {\n",
       "        vertical-align: middle;\n",
       "    }\n",
       "\n",
       "    .dataframe tbody tr th {\n",
       "        vertical-align: top;\n",
       "    }\n",
       "\n",
       "    .dataframe thead th {\n",
       "        text-align: right;\n",
       "    }\n",
       "</style>\n",
       "<table border=\"1\" class=\"dataframe\">\n",
       "  <thead>\n",
       "    <tr style=\"text-align: right;\">\n",
       "      <th></th>\n",
       "      <th>0</th>\n",
       "      <th>1</th>\n",
       "      <th>2</th>\n",
       "      <th>3</th>\n",
       "      <th>4</th>\n",
       "    </tr>\n",
       "  </thead>\n",
       "  <tbody>\n",
       "    <tr>\n",
       "      <th>patient_id</th>\n",
       "      <td>PAT_1516</td>\n",
       "      <td>PAT_46</td>\n",
       "      <td>PAT_1545</td>\n",
       "      <td>PAT_1989</td>\n",
       "      <td>PAT_684</td>\n",
       "    </tr>\n",
       "    <tr>\n",
       "      <th>lesion_id</th>\n",
       "      <td>1765</td>\n",
       "      <td>881</td>\n",
       "      <td>1867</td>\n",
       "      <td>4061</td>\n",
       "      <td>1302</td>\n",
       "    </tr>\n",
       "    <tr>\n",
       "      <th>smoke</th>\n",
       "      <td>NaN</td>\n",
       "      <td>False</td>\n",
       "      <td>NaN</td>\n",
       "      <td>NaN</td>\n",
       "      <td>False</td>\n",
       "    </tr>\n",
       "    <tr>\n",
       "      <th>drink</th>\n",
       "      <td>NaN</td>\n",
       "      <td>False</td>\n",
       "      <td>NaN</td>\n",
       "      <td>NaN</td>\n",
       "      <td>True</td>\n",
       "    </tr>\n",
       "    <tr>\n",
       "      <th>background_father</th>\n",
       "      <td>NaN</td>\n",
       "      <td>POMERANIA</td>\n",
       "      <td>NaN</td>\n",
       "      <td>NaN</td>\n",
       "      <td>POMERANIA</td>\n",
       "    </tr>\n",
       "    <tr>\n",
       "      <th>background_mother</th>\n",
       "      <td>NaN</td>\n",
       "      <td>POMERANIA</td>\n",
       "      <td>NaN</td>\n",
       "      <td>NaN</td>\n",
       "      <td>POMERANIA</td>\n",
       "    </tr>\n",
       "    <tr>\n",
       "      <th>age</th>\n",
       "      <td>8</td>\n",
       "      <td>55</td>\n",
       "      <td>77</td>\n",
       "      <td>75</td>\n",
       "      <td>79</td>\n",
       "    </tr>\n",
       "    <tr>\n",
       "      <th>pesticide</th>\n",
       "      <td>NaN</td>\n",
       "      <td>False</td>\n",
       "      <td>NaN</td>\n",
       "      <td>NaN</td>\n",
       "      <td>False</td>\n",
       "    </tr>\n",
       "    <tr>\n",
       "      <th>gender</th>\n",
       "      <td>NaN</td>\n",
       "      <td>FEMALE</td>\n",
       "      <td>NaN</td>\n",
       "      <td>NaN</td>\n",
       "      <td>MALE</td>\n",
       "    </tr>\n",
       "    <tr>\n",
       "      <th>skin_cancer_history</th>\n",
       "      <td>NaN</td>\n",
       "      <td>True</td>\n",
       "      <td>NaN</td>\n",
       "      <td>NaN</td>\n",
       "      <td>True</td>\n",
       "    </tr>\n",
       "    <tr>\n",
       "      <th>cancer_history</th>\n",
       "      <td>NaN</td>\n",
       "      <td>True</td>\n",
       "      <td>NaN</td>\n",
       "      <td>NaN</td>\n",
       "      <td>False</td>\n",
       "    </tr>\n",
       "    <tr>\n",
       "      <th>has_piped_water</th>\n",
       "      <td>NaN</td>\n",
       "      <td>True</td>\n",
       "      <td>NaN</td>\n",
       "      <td>NaN</td>\n",
       "      <td>False</td>\n",
       "    </tr>\n",
       "    <tr>\n",
       "      <th>has_sewage_system</th>\n",
       "      <td>NaN</td>\n",
       "      <td>True</td>\n",
       "      <td>NaN</td>\n",
       "      <td>NaN</td>\n",
       "      <td>False</td>\n",
       "    </tr>\n",
       "    <tr>\n",
       "      <th>fitspatrick</th>\n",
       "      <td>NaN</td>\n",
       "      <td>3.0</td>\n",
       "      <td>NaN</td>\n",
       "      <td>NaN</td>\n",
       "      <td>1.0</td>\n",
       "    </tr>\n",
       "    <tr>\n",
       "      <th>region</th>\n",
       "      <td>ARM</td>\n",
       "      <td>NECK</td>\n",
       "      <td>FACE</td>\n",
       "      <td>HAND</td>\n",
       "      <td>FOREARM</td>\n",
       "    </tr>\n",
       "    <tr>\n",
       "      <th>diameter_1</th>\n",
       "      <td>NaN</td>\n",
       "      <td>6.0</td>\n",
       "      <td>NaN</td>\n",
       "      <td>NaN</td>\n",
       "      <td>5.0</td>\n",
       "    </tr>\n",
       "    <tr>\n",
       "      <th>diameter_2</th>\n",
       "      <td>NaN</td>\n",
       "      <td>5.0</td>\n",
       "      <td>NaN</td>\n",
       "      <td>NaN</td>\n",
       "      <td>5.0</td>\n",
       "    </tr>\n",
       "    <tr>\n",
       "      <th>diagnostic</th>\n",
       "      <td>NEV</td>\n",
       "      <td>BCC</td>\n",
       "      <td>ACK</td>\n",
       "      <td>ACK</td>\n",
       "      <td>BCC</td>\n",
       "    </tr>\n",
       "    <tr>\n",
       "      <th>itch</th>\n",
       "      <td>False</td>\n",
       "      <td>True</td>\n",
       "      <td>True</td>\n",
       "      <td>True</td>\n",
       "      <td>True</td>\n",
       "    </tr>\n",
       "    <tr>\n",
       "      <th>grew</th>\n",
       "      <td>False</td>\n",
       "      <td>True</td>\n",
       "      <td>False</td>\n",
       "      <td>False</td>\n",
       "      <td>True</td>\n",
       "    </tr>\n",
       "    <tr>\n",
       "      <th>hurt</th>\n",
       "      <td>False</td>\n",
       "      <td>False</td>\n",
       "      <td>False</td>\n",
       "      <td>False</td>\n",
       "      <td>False</td>\n",
       "    </tr>\n",
       "    <tr>\n",
       "      <th>changed</th>\n",
       "      <td>False</td>\n",
       "      <td>True</td>\n",
       "      <td>False</td>\n",
       "      <td>False</td>\n",
       "      <td>False</td>\n",
       "    </tr>\n",
       "    <tr>\n",
       "      <th>bleed</th>\n",
       "      <td>False</td>\n",
       "      <td>True</td>\n",
       "      <td>False</td>\n",
       "      <td>False</td>\n",
       "      <td>True</td>\n",
       "    </tr>\n",
       "    <tr>\n",
       "      <th>elevation</th>\n",
       "      <td>False</td>\n",
       "      <td>True</td>\n",
       "      <td>False</td>\n",
       "      <td>False</td>\n",
       "      <td>True</td>\n",
       "    </tr>\n",
       "    <tr>\n",
       "      <th>img_id</th>\n",
       "      <td>PAT_1516_1765_530.png</td>\n",
       "      <td>PAT_46_881_939.png</td>\n",
       "      <td>PAT_1545_1867_547.png</td>\n",
       "      <td>PAT_1989_4061_934.png</td>\n",
       "      <td>PAT_684_1302_588.png</td>\n",
       "    </tr>\n",
       "    <tr>\n",
       "      <th>biopsed</th>\n",
       "      <td>False</td>\n",
       "      <td>True</td>\n",
       "      <td>False</td>\n",
       "      <td>False</td>\n",
       "      <td>True</td>\n",
       "    </tr>\n",
       "  </tbody>\n",
       "</table>\n",
       "</div>"
      ],
      "text/plain": [
       "                                         0                   1  \\\n",
       "patient_id                        PAT_1516              PAT_46   \n",
       "lesion_id                             1765                 881   \n",
       "smoke                                  NaN               False   \n",
       "drink                                  NaN               False   \n",
       "background_father                      NaN           POMERANIA   \n",
       "background_mother                      NaN           POMERANIA   \n",
       "age                                      8                  55   \n",
       "pesticide                              NaN               False   \n",
       "gender                                 NaN              FEMALE   \n",
       "skin_cancer_history                    NaN                True   \n",
       "cancer_history                         NaN                True   \n",
       "has_piped_water                        NaN                True   \n",
       "has_sewage_system                      NaN                True   \n",
       "fitspatrick                            NaN                 3.0   \n",
       "region                                 ARM                NECK   \n",
       "diameter_1                             NaN                 6.0   \n",
       "diameter_2                             NaN                 5.0   \n",
       "diagnostic                             NEV                 BCC   \n",
       "itch                                 False                True   \n",
       "grew                                 False                True   \n",
       "hurt                                 False               False   \n",
       "changed                              False                True   \n",
       "bleed                                False                True   \n",
       "elevation                            False                True   \n",
       "img_id               PAT_1516_1765_530.png  PAT_46_881_939.png   \n",
       "biopsed                              False                True   \n",
       "\n",
       "                                         2                      3  \\\n",
       "patient_id                        PAT_1545               PAT_1989   \n",
       "lesion_id                             1867                   4061   \n",
       "smoke                                  NaN                    NaN   \n",
       "drink                                  NaN                    NaN   \n",
       "background_father                      NaN                    NaN   \n",
       "background_mother                      NaN                    NaN   \n",
       "age                                     77                     75   \n",
       "pesticide                              NaN                    NaN   \n",
       "gender                                 NaN                    NaN   \n",
       "skin_cancer_history                    NaN                    NaN   \n",
       "cancer_history                         NaN                    NaN   \n",
       "has_piped_water                        NaN                    NaN   \n",
       "has_sewage_system                      NaN                    NaN   \n",
       "fitspatrick                            NaN                    NaN   \n",
       "region                                FACE                   HAND   \n",
       "diameter_1                             NaN                    NaN   \n",
       "diameter_2                             NaN                    NaN   \n",
       "diagnostic                             ACK                    ACK   \n",
       "itch                                  True                   True   \n",
       "grew                                 False                  False   \n",
       "hurt                                 False                  False   \n",
       "changed                              False                  False   \n",
       "bleed                                False                  False   \n",
       "elevation                            False                  False   \n",
       "img_id               PAT_1545_1867_547.png  PAT_1989_4061_934.png   \n",
       "biopsed                              False                  False   \n",
       "\n",
       "                                        4  \n",
       "patient_id                        PAT_684  \n",
       "lesion_id                            1302  \n",
       "smoke                               False  \n",
       "drink                                True  \n",
       "background_father               POMERANIA  \n",
       "background_mother               POMERANIA  \n",
       "age                                    79  \n",
       "pesticide                           False  \n",
       "gender                               MALE  \n",
       "skin_cancer_history                  True  \n",
       "cancer_history                      False  \n",
       "has_piped_water                     False  \n",
       "has_sewage_system                   False  \n",
       "fitspatrick                           1.0  \n",
       "region                            FOREARM  \n",
       "diameter_1                            5.0  \n",
       "diameter_2                            5.0  \n",
       "diagnostic                            BCC  \n",
       "itch                                 True  \n",
       "grew                                 True  \n",
       "hurt                                False  \n",
       "changed                             False  \n",
       "bleed                                True  \n",
       "elevation                            True  \n",
       "img_id               PAT_684_1302_588.png  \n",
       "biopsed                              True  "
      ]
     },
     "execution_count": 5,
     "metadata": {},
     "output_type": "execute_result"
    }
   ],
   "source": [
    "from cascid.datasets.pad_ufes import database, images\n",
    "\n",
    "df = database.get_df()\n",
    "df.head(5).transpose()"
   ]
  },
  {
   "cell_type": "code",
   "execution_count": 6,
   "metadata": {},
   "outputs": [
    {
     "data": {
      "text/plain": [
       "0       PAT_1516_1765_530.png\n",
       "1          PAT_46_881_939.png\n",
       "2       PAT_1545_1867_547.png\n",
       "3       PAT_1989_4061_934.png\n",
       "4        PAT_684_1302_588.png\n",
       "                ...          \n",
       "2293    PAT_1708_3156_175.png\n",
       "2294       PAT_46_880_140.png\n",
       "2295    PAT_1343_1217_404.png\n",
       "2296      PAT_326_690_823.png\n",
       "2297    PAT_1714_3189_989.png\n",
       "Name: img_id, Length: 2298, dtype: object"
      ]
     },
     "execution_count": 6,
     "metadata": {},
     "output_type": "execute_result"
    }
   ],
   "source": [
    "im = df['img_id']\n",
    "im"
   ]
  },
  {
   "cell_type": "code",
   "execution_count": 7,
   "metadata": {},
   "outputs": [
    {
     "name": "stdout",
     "output_type": "stream",
     "text": [
      "Beginning transformations, this may take a while...\n",
      "Finished transformations after 0h00min0.04s\n"
     ]
    }
   ],
   "source": [
    "from cascid.image.apply_preprocessing import remove_hair\n",
    "\n",
    "remove_hair(im.to_list())"
   ]
  },
  {
   "cell_type": "code",
   "execution_count": 8,
   "metadata": {},
   "outputs": [
    {
     "data": {
      "text/plain": [
       "(2298,)"
      ]
     },
     "execution_count": 8,
     "metadata": {},
     "output_type": "execute_result"
    }
   ],
   "source": [
    "x = df['img_id'].apply(lambda x: images.get_hairless_image(x, IMAGE_SIZE[:2])).to_numpy()\n",
    "x.shape"
   ]
  },
  {
   "cell_type": "code",
   "execution_count": 9,
   "metadata": {},
   "outputs": [
    {
     "data": {
      "text/plain": [
       "(2298, 256, 256, 3)"
      ]
     },
     "execution_count": 9,
     "metadata": {},
     "output_type": "execute_result"
    }
   ],
   "source": [
    "x = np.array([x[i] for i in range(len(x))])\n",
    "x.shape"
   ]
  },
  {
   "cell_type": "code",
   "execution_count": 10,
   "metadata": {},
   "outputs": [
    {
     "data": {
      "text/plain": [
       "(2298, 2)"
      ]
     },
     "execution_count": 10,
     "metadata": {},
     "output_type": "execute_result"
    }
   ],
   "source": [
    "OHE = OneHotEncoder(sparse=False)\n",
    "y=df['diagnostic'].apply(lambda x: \"Cancer\" if x in ['MEL', 'SCC', 'BCC'] else \"Not\").to_numpy().reshape(-1,1)\n",
    "y = OHE.fit_transform(y)\n",
    "y.shape"
   ]
  },
  {
   "cell_type": "code",
   "execution_count": 11,
   "metadata": {},
   "outputs": [
    {
     "name": "stdout",
     "output_type": "stream",
     "text": [
      "x_train shape: (2068, 256, 256, 3)\n",
      "x_test shape: (230, 256, 256, 3)\n",
      "y_train shape: (2068, 2)\n",
      "y_test shape: (230, 2)\n"
     ]
    }
   ],
   "source": [
    "x_train, x_test, y_train, y_test = train_test_split(x, y, test_size=0.1, random_state=42)\n",
    "print(\"x_train shape: {0}\".format(x_train.shape))\n",
    "print(\"x_test shape: {0}\".format(x_test.shape))\n",
    "print(\"y_train shape: {0}\".format(y_train.shape))\n",
    "print(\"y_test shape: {0}\".format(y_test.shape))"
   ]
  },
  {
   "cell_type": "code",
   "execution_count": 19,
   "metadata": {},
   "outputs": [
    {
     "name": "stdout",
     "output_type": "stream",
     "text": [
      "Epoch 1/100\n",
      "14/14 [==============================] - 9s 677ms/step - loss: 0.4109 - acc: 0.8002 - auc: 0.8924 - val_loss: 0.5585 - val_acc: 0.7299 - val_auc: 0.7939\n",
      "Epoch 2/100\n",
      "14/14 [==============================] - 10s 684ms/step - loss: 0.4012 - acc: 0.8173 - auc: 0.8994 - val_loss: 0.7991 - val_acc: 0.7235 - val_auc: 0.7714\n",
      "Epoch 3/100\n",
      "14/14 [==============================] - 9s 669ms/step - loss: 0.3979 - acc: 0.8116 - auc: 0.8997 - val_loss: 0.7664 - val_acc: 0.7395 - val_auc: 0.7939\n",
      "Epoch 4/100\n",
      "14/14 [==============================] - 9s 659ms/step - loss: 0.3962 - acc: 0.8184 - auc: 0.9009 - val_loss: 0.6160 - val_acc: 0.7170 - val_auc: 0.8122\n",
      "Epoch 5/100\n",
      "14/14 [==============================] - 9s 662ms/step - loss: 0.3928 - acc: 0.8190 - auc: 0.9029 - val_loss: 0.5745 - val_acc: 0.7395 - val_auc: 0.8092\n",
      "Epoch 6/100\n",
      "14/14 [==============================] - 9s 667ms/step - loss: 0.4173 - acc: 0.8116 - auc: 0.8913 - val_loss: 0.5843 - val_acc: 0.6977 - val_auc: 0.7762\n",
      "Epoch 7/100\n",
      "14/14 [==============================] - 9s 655ms/step - loss: 0.3969 - acc: 0.8219 - auc: 0.9012 - val_loss: 0.6120 - val_acc: 0.6945 - val_auc: 0.7707\n",
      "Epoch 8/100\n",
      "14/14 [==============================] - 9s 653ms/step - loss: 0.3921 - acc: 0.8184 - auc: 0.9013 - val_loss: 0.5780 - val_acc: 0.7299 - val_auc: 0.8095\n",
      "Epoch 9/100\n",
      "14/14 [==============================] - 9s 657ms/step - loss: 0.3997 - acc: 0.8167 - auc: 0.8984 - val_loss: 0.5752 - val_acc: 0.7524 - val_auc: 0.8170\n",
      "Epoch 10/100\n",
      "14/14 [==============================] - 9s 661ms/step - loss: 0.3980 - acc: 0.8122 - auc: 0.8980 - val_loss: 0.7255 - val_acc: 0.7267 - val_auc: 0.7728\n",
      "Epoch 11/100\n",
      "14/14 [==============================] - 9s 665ms/step - loss: 0.3824 - acc: 0.8236 - auc: 0.9067 - val_loss: 0.8307 - val_acc: 0.7331 - val_auc: 0.7614\n",
      "Epoch 12/100\n",
      "14/14 [==============================] - 9s 668ms/step - loss: 0.3880 - acc: 0.8219 - auc: 0.9057 - val_loss: 0.6750 - val_acc: 0.7170 - val_auc: 0.7789\n",
      "Epoch 13/100\n",
      "14/14 [==============================] - 9s 663ms/step - loss: 0.3781 - acc: 0.8327 - auc: 0.9103 - val_loss: 0.6128 - val_acc: 0.7492 - val_auc: 0.7995\n",
      "Epoch 14/100\n",
      "14/14 [==============================] - 10s 694ms/step - loss: 0.3840 - acc: 0.8219 - auc: 0.9069 - val_loss: 0.6135 - val_acc: 0.7299 - val_auc: 0.7909\n",
      "Epoch 15/100\n",
      "14/14 [==============================] - 9s 660ms/step - loss: 0.4061 - acc: 0.8150 - auc: 0.8946 - val_loss: 0.7641 - val_acc: 0.6302 - val_auc: 0.6911\n",
      "Epoch 16/100\n",
      "14/14 [==============================] - 9s 666ms/step - loss: 0.3986 - acc: 0.8190 - auc: 0.9006 - val_loss: 0.5741 - val_acc: 0.7653 - val_auc: 0.8243\n",
      "Epoch 17/100\n",
      "14/14 [==============================] - 9s 665ms/step - loss: 0.3814 - acc: 0.8321 - auc: 0.9085 - val_loss: 0.6407 - val_acc: 0.7170 - val_auc: 0.8016\n",
      "Epoch 18/100\n",
      "14/14 [==============================] - 9s 669ms/step - loss: 0.3738 - acc: 0.8349 - auc: 0.9115 - val_loss: 0.5432 - val_acc: 0.7814 - val_auc: 0.8399\n",
      "Epoch 19/100\n",
      "14/14 [==============================] - 9s 680ms/step - loss: 0.3691 - acc: 0.8349 - auc: 0.9141 - val_loss: 0.6102 - val_acc: 0.7395 - val_auc: 0.8088\n",
      "Epoch 20/100\n",
      "14/14 [==============================] - 9s 665ms/step - loss: 0.3665 - acc: 0.8355 - auc: 0.9137 - val_loss: 0.5952 - val_acc: 0.7492 - val_auc: 0.8217\n",
      "Epoch 21/100\n",
      "14/14 [==============================] - 9s 660ms/step - loss: 0.3589 - acc: 0.8469 - auc: 0.9156 - val_loss: 0.6127 - val_acc: 0.7267 - val_auc: 0.8117\n",
      "Epoch 22/100\n",
      "14/14 [==============================] - 9s 671ms/step - loss: 0.3981 - acc: 0.8207 - auc: 0.8990 - val_loss: 0.7157 - val_acc: 0.7524 - val_auc: 0.7944\n",
      "Epoch 23/100\n",
      "14/14 [==============================] - 9s 664ms/step - loss: 0.3640 - acc: 0.8435 - auc: 0.9180 - val_loss: 0.8028 - val_acc: 0.7267 - val_auc: 0.7811\n",
      "Epoch 24/100\n",
      "14/14 [==============================] - 9s 659ms/step - loss: 0.3634 - acc: 0.8423 - auc: 0.9165 - val_loss: 0.6012 - val_acc: 0.7556 - val_auc: 0.8237\n",
      "Epoch 25/100\n",
      "14/14 [==============================] - 9s 653ms/step - loss: 0.3547 - acc: 0.8492 - auc: 0.9211 - val_loss: 0.7856 - val_acc: 0.7042 - val_auc: 0.7677\n",
      "Epoch 26/100\n",
      "14/14 [==============================] - 9s 667ms/step - loss: 0.3781 - acc: 0.8253 - auc: 0.9091 - val_loss: 1.1537 - val_acc: 0.6785 - val_auc: 0.7060\n",
      "Epoch 27/100\n",
      "14/14 [==============================] - 9s 672ms/step - loss: 0.3851 - acc: 0.8310 - auc: 0.9053 - val_loss: 0.9251 - val_acc: 0.7267 - val_auc: 0.7651\n",
      "Epoch 28/100\n",
      "14/14 [==============================] - 9s 661ms/step - loss: 0.3616 - acc: 0.8344 - auc: 0.9184 - val_loss: 1.2004 - val_acc: 0.6881 - val_auc: 0.7132\n",
      "Epoch 29/100\n",
      "14/14 [==============================] - 9s 666ms/step - loss: 0.3577 - acc: 0.8412 - auc: 0.9199 - val_loss: 0.8232 - val_acc: 0.7106 - val_auc: 0.7703\n",
      "Epoch 30/100\n",
      "14/14 [==============================] - 9s 670ms/step - loss: 0.3439 - acc: 0.8492 - auc: 0.9259 - val_loss: 0.6483 - val_acc: 0.7653 - val_auc: 0.8321\n",
      "Epoch 31/100\n",
      "14/14 [==============================] - 9s 674ms/step - loss: 0.3561 - acc: 0.8384 - auc: 0.9191 - val_loss: 0.9483 - val_acc: 0.7042 - val_auc: 0.7374\n",
      "Epoch 32/100\n",
      "14/14 [==============================] - 9s 661ms/step - loss: 0.3532 - acc: 0.8492 - auc: 0.9221 - val_loss: 0.8772 - val_acc: 0.6785 - val_auc: 0.7485\n",
      "Epoch 33/100\n",
      "14/14 [==============================] - 9s 654ms/step - loss: 0.3469 - acc: 0.8486 - auc: 0.9236 - val_loss: 0.8978 - val_acc: 0.7106 - val_auc: 0.7396\n",
      "Epoch 34/100\n",
      "14/14 [==============================] - 9s 663ms/step - loss: 0.3590 - acc: 0.8372 - auc: 0.9192 - val_loss: 0.6202 - val_acc: 0.7460 - val_auc: 0.8131\n",
      "Epoch 35/100\n",
      "14/14 [==============================] - 9s 667ms/step - loss: 0.3459 - acc: 0.8458 - auc: 0.9255 - val_loss: 0.6297 - val_acc: 0.7492 - val_auc: 0.8265\n",
      "Epoch 36/100\n",
      "14/14 [==============================] - 9s 666ms/step - loss: 0.3430 - acc: 0.8549 - auc: 0.9255 - val_loss: 0.6905 - val_acc: 0.7621 - val_auc: 0.8054\n",
      "Epoch 37/100\n",
      "14/14 [==============================] - 9s 665ms/step - loss: 0.3470 - acc: 0.8480 - auc: 0.9240 - val_loss: 0.6173 - val_acc: 0.7717 - val_auc: 0.8250\n",
      "Epoch 38/100\n",
      "14/14 [==============================] - 9s 675ms/step - loss: 0.3498 - acc: 0.8492 - auc: 0.9223 - val_loss: 0.6381 - val_acc: 0.7042 - val_auc: 0.7928\n",
      "Epoch 39/100\n",
      "14/14 [==============================] - 9s 657ms/step - loss: 0.3697 - acc: 0.8315 - auc: 0.9142 - val_loss: 0.7069 - val_acc: 0.6720 - val_auc: 0.7642\n",
      "Epoch 40/100\n",
      "14/14 [==============================] - 9s 655ms/step - loss: 0.3410 - acc: 0.8509 - auc: 0.9274 - val_loss: 0.8380 - val_acc: 0.7138 - val_auc: 0.7641\n",
      "Epoch 41/100\n",
      "14/14 [==============================] - 9s 651ms/step - loss: 0.3284 - acc: 0.8543 - auc: 0.9319 - val_loss: 0.7637 - val_acc: 0.7556 - val_auc: 0.7975\n",
      "Epoch 42/100\n",
      "14/14 [==============================] - 9s 666ms/step - loss: 0.3336 - acc: 0.8560 - auc: 0.9297 - val_loss: 0.6572 - val_acc: 0.7460 - val_auc: 0.8062\n",
      "Epoch 43/100\n",
      "14/14 [==============================] - 9s 659ms/step - loss: 0.3520 - acc: 0.8503 - auc: 0.9225 - val_loss: 0.6020 - val_acc: 0.7428 - val_auc: 0.8109\n",
      "Epoch 44/100\n",
      "14/14 [==============================] - 9s 666ms/step - loss: 0.3625 - acc: 0.8475 - auc: 0.9167 - val_loss: 1.2564 - val_acc: 0.6945 - val_auc: 0.7233\n",
      "Epoch 45/100\n",
      "14/14 [==============================] - 9s 666ms/step - loss: 0.3485 - acc: 0.8435 - auc: 0.9243 - val_loss: 0.8026 - val_acc: 0.7460 - val_auc: 0.7964\n",
      "Epoch 46/100\n",
      "14/14 [==============================] - 9s 657ms/step - loss: 0.3259 - acc: 0.8560 - auc: 0.9341 - val_loss: 0.6670 - val_acc: 0.7846 - val_auc: 0.8288\n",
      "Epoch 47/100\n",
      "14/14 [==============================] - 9s 674ms/step - loss: 0.3307 - acc: 0.8560 - auc: 0.9307 - val_loss: 0.6594 - val_acc: 0.7460 - val_auc: 0.8028\n",
      "Epoch 48/100\n",
      "14/14 [==============================] - 9s 671ms/step - loss: 0.3342 - acc: 0.8475 - auc: 0.9287 - val_loss: 0.6161 - val_acc: 0.6977 - val_auc: 0.7856\n",
      "Epoch 49/100\n",
      "14/14 [==============================] - 10s 683ms/step - loss: 0.3211 - acc: 0.8560 - auc: 0.9354 - val_loss: 0.8704 - val_acc: 0.7106 - val_auc: 0.7734\n",
      "Epoch 50/100\n",
      "14/14 [==============================] - 9s 662ms/step - loss: 0.3228 - acc: 0.8589 - auc: 0.9344 - val_loss: 0.6661 - val_acc: 0.7524 - val_auc: 0.8108\n",
      "Epoch 51/100\n",
      "14/14 [==============================] - 9s 671ms/step - loss: 0.3328 - acc: 0.8515 - auc: 0.9281 - val_loss: 0.6935 - val_acc: 0.7235 - val_auc: 0.7839\n",
      "Epoch 52/100\n",
      "14/14 [==============================] - 9s 672ms/step - loss: 0.3016 - acc: 0.8714 - auc: 0.9444 - val_loss: 0.6912 - val_acc: 0.7203 - val_auc: 0.7979\n",
      "Epoch 53/100\n",
      "14/14 [==============================] - 9s 673ms/step - loss: 0.3347 - acc: 0.8583 - auc: 0.9274 - val_loss: 0.7799 - val_acc: 0.7235 - val_auc: 0.7787\n",
      "Epoch 54/100\n",
      "14/14 [==============================] - 9s 664ms/step - loss: 0.3248 - acc: 0.8560 - auc: 0.9346 - val_loss: 0.6915 - val_acc: 0.6881 - val_auc: 0.7648\n",
      "Epoch 55/100\n",
      "14/14 [==============================] - 9s 649ms/step - loss: 0.3104 - acc: 0.8628 - auc: 0.9401 - val_loss: 0.7883 - val_acc: 0.7267 - val_auc: 0.7773\n",
      "Epoch 56/100\n",
      "14/14 [==============================] - 9s 665ms/step - loss: 0.3482 - acc: 0.8395 - auc: 0.9221 - val_loss: 0.6362 - val_acc: 0.7556 - val_auc: 0.8243\n",
      "Epoch 57/100\n",
      "14/14 [==============================] - 9s 672ms/step - loss: 0.3288 - acc: 0.8554 - auc: 0.9316 - val_loss: 0.6586 - val_acc: 0.7074 - val_auc: 0.7867\n",
      "Epoch 58/100\n",
      "14/14 [==============================] - 9s 665ms/step - loss: 0.3356 - acc: 0.8549 - auc: 0.9276 - val_loss: 0.5934 - val_acc: 0.7524 - val_auc: 0.8199\n",
      "Epoch 59/100\n",
      "14/14 [==============================] - 9s 670ms/step - loss: 0.3190 - acc: 0.8617 - auc: 0.9360 - val_loss: 0.6978 - val_acc: 0.6977 - val_auc: 0.7747\n",
      "Epoch 60/100\n",
      "14/14 [==============================] - 9s 668ms/step - loss: 0.3194 - acc: 0.8674 - auc: 0.9355 - val_loss: 0.6910 - val_acc: 0.7331 - val_auc: 0.7971\n",
      "Epoch 61/100\n",
      "14/14 [==============================] - 9s 663ms/step - loss: 0.3269 - acc: 0.8554 - auc: 0.9320 - val_loss: 0.6425 - val_acc: 0.7299 - val_auc: 0.8121\n",
      "Epoch 62/100\n",
      "14/14 [==============================] - 9s 671ms/step - loss: 0.2964 - acc: 0.8754 - auc: 0.9437 - val_loss: 0.7717 - val_acc: 0.7428 - val_auc: 0.8082\n",
      "Epoch 63/100\n",
      "14/14 [==============================] - 9s 659ms/step - loss: 0.3014 - acc: 0.8725 - auc: 0.9413 - val_loss: 0.7273 - val_acc: 0.7138 - val_auc: 0.7853\n",
      "Epoch 64/100\n",
      "14/14 [==============================] - 9s 665ms/step - loss: 0.3264 - acc: 0.8611 - auc: 0.9300 - val_loss: 0.7713 - val_acc: 0.6881 - val_auc: 0.7448\n",
      "Epoch 65/100\n",
      "14/14 [==============================] - 9s 658ms/step - loss: 0.3069 - acc: 0.8668 - auc: 0.9405 - val_loss: 0.5796 - val_acc: 0.7814 - val_auc: 0.8418\n",
      "Epoch 66/100\n",
      "14/14 [==============================] - 9s 665ms/step - loss: 0.2992 - acc: 0.8725 - auc: 0.9423 - val_loss: 0.6654 - val_acc: 0.7814 - val_auc: 0.8196\n",
      "Epoch 67/100\n",
      "14/14 [==============================] - 9s 657ms/step - loss: 0.2795 - acc: 0.8839 - auc: 0.9507 - val_loss: 0.7428 - val_acc: 0.6913 - val_auc: 0.7630\n",
      "Epoch 68/100\n",
      "14/14 [==============================] - 9s 661ms/step - loss: 0.3138 - acc: 0.8628 - auc: 0.9356 - val_loss: 0.7183 - val_acc: 0.7299 - val_auc: 0.7839\n",
      "Epoch 69/100\n",
      "14/14 [==============================] - 9s 659ms/step - loss: 0.3001 - acc: 0.8685 - auc: 0.9415 - val_loss: 1.5175 - val_acc: 0.6592 - val_auc: 0.6800\n",
      "Epoch 70/100\n",
      "14/14 [==============================] - 9s 658ms/step - loss: 0.2995 - acc: 0.8742 - auc: 0.9426 - val_loss: 0.7771 - val_acc: 0.7395 - val_auc: 0.8005\n",
      "Epoch 71/100\n",
      "14/14 [==============================] - 9s 667ms/step - loss: 0.2899 - acc: 0.8788 - auc: 0.9462 - val_loss: 0.8806 - val_acc: 0.7331 - val_auc: 0.7892\n",
      "Epoch 72/100\n",
      "14/14 [==============================] - 9s 664ms/step - loss: 0.2870 - acc: 0.8776 - auc: 0.9456 - val_loss: 0.7725 - val_acc: 0.6913 - val_auc: 0.7702\n",
      "Epoch 73/100\n",
      "14/14 [==============================] - 9s 673ms/step - loss: 0.2847 - acc: 0.8782 - auc: 0.9483 - val_loss: 0.7012 - val_acc: 0.7331 - val_auc: 0.7906\n",
      "Epoch 74/100\n",
      "14/14 [==============================] - 9s 662ms/step - loss: 0.2717 - acc: 0.8845 - auc: 0.9517 - val_loss: 0.7610 - val_acc: 0.7363 - val_auc: 0.7914\n",
      "Epoch 75/100\n",
      "14/14 [==============================] - 9s 670ms/step - loss: 0.3006 - acc: 0.8680 - auc: 0.9408 - val_loss: 0.7652 - val_acc: 0.7299 - val_auc: 0.7855\n",
      "Epoch 76/100\n",
      "14/14 [==============================] - 9s 654ms/step - loss: 0.3002 - acc: 0.8674 - auc: 0.9414 - val_loss: 0.8178 - val_acc: 0.6849 - val_auc: 0.7322\n",
      "Epoch 77/100\n",
      "14/14 [==============================] - 9s 667ms/step - loss: 0.3047 - acc: 0.8685 - auc: 0.9410 - val_loss: 0.7357 - val_acc: 0.7235 - val_auc: 0.7934\n",
      "Epoch 78/100\n",
      "14/14 [==============================] - 9s 658ms/step - loss: 0.2919 - acc: 0.8862 - auc: 0.9465 - val_loss: 0.7403 - val_acc: 0.7460 - val_auc: 0.8152\n",
      "Epoch 79/100\n",
      "14/14 [==============================] - 9s 661ms/step - loss: 0.3094 - acc: 0.8645 - auc: 0.9391 - val_loss: 0.8220 - val_acc: 0.7138 - val_auc: 0.7647\n",
      "Epoch 80/100\n",
      "14/14 [==============================] - 9s 668ms/step - loss: 0.2820 - acc: 0.8839 - auc: 0.9491 - val_loss: 0.7017 - val_acc: 0.7138 - val_auc: 0.7699\n",
      "Epoch 81/100\n",
      "14/14 [==============================] - 9s 659ms/step - loss: 0.3025 - acc: 0.8714 - auc: 0.9412 - val_loss: 0.7510 - val_acc: 0.7460 - val_auc: 0.8057\n",
      "Epoch 82/100\n",
      "14/14 [==============================] - 9s 676ms/step - loss: 0.2922 - acc: 0.8810 - auc: 0.9450 - val_loss: 1.3072 - val_acc: 0.6913 - val_auc: 0.7091\n",
      "Epoch 83/100\n",
      "14/14 [==============================] - 9s 669ms/step - loss: 0.3022 - acc: 0.8628 - auc: 0.9416 - val_loss: 0.7434 - val_acc: 0.7428 - val_auc: 0.8095\n",
      "Epoch 84/100\n",
      "14/14 [==============================] - 9s 662ms/step - loss: 0.2812 - acc: 0.8873 - auc: 0.9488 - val_loss: 0.6989 - val_acc: 0.7428 - val_auc: 0.8233\n",
      "Epoch 85/100\n",
      "14/14 [==============================] - 9s 654ms/step - loss: 0.2804 - acc: 0.8862 - auc: 0.9482 - val_loss: 0.7605 - val_acc: 0.7588 - val_auc: 0.8229\n",
      "Epoch 86/100\n",
      "14/14 [==============================] - 9s 670ms/step - loss: 0.2879 - acc: 0.8765 - auc: 0.9459 - val_loss: 0.7427 - val_acc: 0.7170 - val_auc: 0.7891\n",
      "Epoch 87/100\n",
      "14/14 [==============================] - 10s 690ms/step - loss: 0.2815 - acc: 0.8748 - auc: 0.9499 - val_loss: 0.7989 - val_acc: 0.7203 - val_auc: 0.7721\n",
      "Epoch 88/100\n",
      "14/14 [==============================] - 9s 671ms/step - loss: 0.2866 - acc: 0.8884 - auc: 0.9443 - val_loss: 0.9103 - val_acc: 0.7042 - val_auc: 0.7875\n",
      "Epoch 89/100\n",
      "14/14 [==============================] - 9s 667ms/step - loss: 0.2802 - acc: 0.8765 - auc: 0.9490 - val_loss: 0.7266 - val_acc: 0.7460 - val_auc: 0.8000\n",
      "Epoch 90/100\n",
      "14/14 [==============================] - 9s 669ms/step - loss: 0.2662 - acc: 0.8845 - auc: 0.9540 - val_loss: 1.4945 - val_acc: 0.6720 - val_auc: 0.7168\n",
      "Epoch 91/100\n",
      "14/14 [==============================] - 9s 674ms/step - loss: 0.2768 - acc: 0.8845 - auc: 0.9499 - val_loss: 0.7402 - val_acc: 0.7428 - val_auc: 0.8041\n",
      "Epoch 92/100\n",
      "14/14 [==============================] - 9s 657ms/step - loss: 0.2814 - acc: 0.8810 - auc: 0.9484 - val_loss: 0.7663 - val_acc: 0.6913 - val_auc: 0.7646\n",
      "Epoch 93/100\n",
      "14/14 [==============================] - 9s 671ms/step - loss: 0.2583 - acc: 0.8839 - auc: 0.9591 - val_loss: 0.6814 - val_acc: 0.7492 - val_auc: 0.8110\n",
      "Epoch 94/100\n",
      "14/14 [==============================] - 9s 671ms/step - loss: 0.2693 - acc: 0.8902 - auc: 0.9508 - val_loss: 0.8077 - val_acc: 0.7685 - val_auc: 0.7981\n",
      "Epoch 95/100\n",
      "14/14 [==============================] - 9s 672ms/step - loss: 0.2617 - acc: 0.8919 - auc: 0.9553 - val_loss: 0.8071 - val_acc: 0.7363 - val_auc: 0.7977\n",
      "Epoch 96/100\n",
      "14/14 [==============================] - 9s 677ms/step - loss: 0.2909 - acc: 0.8839 - auc: 0.9449 - val_loss: 0.7576 - val_acc: 0.7588 - val_auc: 0.8244\n",
      "Epoch 97/100\n",
      "14/14 [==============================] - 9s 668ms/step - loss: 0.2646 - acc: 0.8839 - auc: 0.9537 - val_loss: 0.9242 - val_acc: 0.7460 - val_auc: 0.7997\n",
      "Epoch 98/100\n",
      "14/14 [==============================] - 9s 653ms/step - loss: 0.2634 - acc: 0.8828 - auc: 0.9545 - val_loss: 0.7756 - val_acc: 0.7556 - val_auc: 0.8181\n",
      "Epoch 99/100\n",
      "14/14 [==============================] - 9s 665ms/step - loss: 0.2655 - acc: 0.8987 - auc: 0.9535 - val_loss: 0.7497 - val_acc: 0.6913 - val_auc: 0.7585\n",
      "Epoch 100/100\n",
      "14/14 [==============================] - 9s 662ms/step - loss: 0.2385 - acc: 0.9032 - auc: 0.9645 - val_loss: 0.7694 - val_acc: 0.7170 - val_auc: 0.7900\n"
     ]
    }
   ],
   "source": [
    "history = model.fit(\n",
    "    x_train,\n",
    "    y_train,\n",
    "    epochs=100,\n",
    "    batch_size=128,\n",
    "    validation_split=0.15\n",
    ")"
   ]
  },
  {
   "cell_type": "code",
   "execution_count": 28,
   "metadata": {},
   "outputs": [],
   "source": [
    "# history = history.history\n",
    "train_loss = history['acc']\n",
    "val_loss = history['val_acc']"
   ]
  },
  {
   "cell_type": "code",
   "execution_count": 29,
   "metadata": {},
   "outputs": [
    {
     "data": {
      "image/png": "[encoded data removed]",
      "text/plain": [
       "<Figure size 640x480 with 1 Axes>"
      ]
     },
     "metadata": {},
     "output_type": "display_data"
    }
   ],
   "source": [
    "x = range(len(train_loss))\n",
    "plt.plot(x, train_loss, label='train')\n",
    "plt.plot(x, val_loss, label='val')\n",
    "plt.ylim((0, 1.1))\n",
    "plt.legend()\n",
    "plt.show();"
   ]
  },
  {
   "cell_type": "code",
   "execution_count": 27,
   "metadata": {},
   "outputs": [],
   "source": [
    "# Merge history from multiple steps\n",
    "# with open(MODEL_PATH / 'history.pkl', 'rb') as fl:\n",
    "#     h = pk.load(fl)\n",
    "\n",
    "# for k in h.keys():\n",
    "#     history[k] = h[k] + history[k]"
   ]
  },
  {
   "cell_type": "code",
   "execution_count": 32,
   "metadata": {},
   "outputs": [
    {
     "name": "stdout",
     "output_type": "stream",
     "text": [
      "WARNING:tensorflow:Using a while_loop for converting RngReadAndSkip cause there is no registered converter for this op.\n"
     ]
    },
    {
     "name": "stderr",
     "output_type": "stream",
     "text": [
      "WARNING:tensorflow:Using a while_loop for converting RngReadAndSkip cause there is no registered converter for this op.\n"
     ]
    },
    {
     "name": "stdout",
     "output_type": "stream",
     "text": [
      "WARNING:tensorflow:Using a while_loop for converting Bitcast cause there is no registered converter for this op.\n"
     ]
    },
    {
     "name": "stderr",
     "output_type": "stream",
     "text": [
      "WARNING:tensorflow:Using a while_loop for converting Bitcast cause there is no registered converter for this op.\n"
     ]
    },
    {
     "name": "stdout",
     "output_type": "stream",
     "text": [
      "WARNING:tensorflow:Using a while_loop for converting Bitcast cause there is no registered converter for this op.\n"
     ]
    },
    {
     "name": "stderr",
     "output_type": "stream",
     "text": [
      "WARNING:tensorflow:Using a while_loop for converting Bitcast cause there is no registered converter for this op.\n"
     ]
    },
    {
     "name": "stdout",
     "output_type": "stream",
     "text": [
      "WARNING:tensorflow:Using a while_loop for converting StatelessRandomUniformV2 cause there is no registered converter for this op.\n"
     ]
    },
    {
     "name": "stderr",
     "output_type": "stream",
     "text": [
      "WARNING:tensorflow:Using a while_loop for converting StatelessRandomUniformV2 cause there is no registered converter for this op.\n"
     ]
    },
    {
     "name": "stdout",
     "output_type": "stream",
     "text": [
      "WARNING:tensorflow:Using a while_loop for converting ImageProjectiveTransformV3 cause there is no registered converter for this op.\n"
     ]
    },
    {
     "name": "stderr",
     "output_type": "stream",
     "text": [
      "WARNING:tensorflow:Using a while_loop for converting ImageProjectiveTransformV3 cause there is no registered converter for this op.\n"
     ]
    },
    {
     "name": "stdout",
     "output_type": "stream",
     "text": [
      "WARNING:tensorflow:Using a while_loop for converting RngReadAndSkip cause there is no registered converter for this op.\n"
     ]
    },
    {
     "name": "stderr",
     "output_type": "stream",
     "text": [
      "WARNING:tensorflow:Using a while_loop for converting RngReadAndSkip cause there is no registered converter for this op.\n"
     ]
    },
    {
     "name": "stdout",
     "output_type": "stream",
     "text": [
      "WARNING:tensorflow:Using a while_loop for converting Bitcast cause there is no registered converter for this op.\n"
     ]
    },
    {
     "name": "stderr",
     "output_type": "stream",
     "text": [
      "WARNING:tensorflow:Using a while_loop for converting Bitcast cause there is no registered converter for this op.\n"
     ]
    },
    {
     "name": "stdout",
     "output_type": "stream",
     "text": [
      "WARNING:tensorflow:Using a while_loop for converting Bitcast cause there is no registered converter for this op.\n"
     ]
    },
    {
     "name": "stderr",
     "output_type": "stream",
     "text": [
      "WARNING:tensorflow:Using a while_loop for converting Bitcast cause there is no registered converter for this op.\n"
     ]
    },
    {
     "name": "stdout",
     "output_type": "stream",
     "text": [
      "WARNING:tensorflow:Using a while_loop for converting StatelessRandomUniformV2 cause there is no registered converter for this op.\n"
     ]
    },
    {
     "name": "stderr",
     "output_type": "stream",
     "text": [
      "WARNING:tensorflow:Using a while_loop for converting StatelessRandomUniformV2 cause there is no registered converter for this op.\n"
     ]
    },
    {
     "name": "stdout",
     "output_type": "stream",
     "text": [
      "WARNING:tensorflow:Using a while_loop for converting ImageProjectiveTransformV3 cause there is no registered converter for this op.\n"
     ]
    },
    {
     "name": "stderr",
     "output_type": "stream",
     "text": [
      "WARNING:tensorflow:Using a while_loop for converting ImageProjectiveTransformV3 cause there is no registered converter for this op.\n"
     ]
    },
    {
     "name": "stdout",
     "output_type": "stream",
     "text": [
      "WARNING:tensorflow:Using a while_loop for converting RngReadAndSkip cause there is no registered converter for this op.\n"
     ]
    },
    {
     "name": "stderr",
     "output_type": "stream",
     "text": [
      "WARNING:tensorflow:Using a while_loop for converting RngReadAndSkip cause there is no registered converter for this op.\n"
     ]
    },
    {
     "name": "stdout",
     "output_type": "stream",
     "text": [
      "WARNING:tensorflow:Using a while_loop for converting Bitcast cause there is no registered converter for this op.\n"
     ]
    },
    {
     "name": "stderr",
     "output_type": "stream",
     "text": [
      "WARNING:tensorflow:Using a while_loop for converting Bitcast cause there is no registered converter for this op.\n"
     ]
    },
    {
     "name": "stdout",
     "output_type": "stream",
     "text": [
      "WARNING:tensorflow:Using a while_loop for converting Bitcast cause there is no registered converter for this op.\n"
     ]
    },
    {
     "name": "stderr",
     "output_type": "stream",
     "text": [
      "WARNING:tensorflow:Using a while_loop for converting Bitcast cause there is no registered converter for this op.\n"
     ]
    },
    {
     "name": "stdout",
     "output_type": "stream",
     "text": [
      "WARNING:tensorflow:Using a while_loop for converting StatelessRandomUniformV2 cause there is no registered converter for this op.\n"
     ]
    },
    {
     "name": "stderr",
     "output_type": "stream",
     "text": [
      "WARNING:tensorflow:Using a while_loop for converting StatelessRandomUniformV2 cause there is no registered converter for this op.\n"
     ]
    },
    {
     "name": "stdout",
     "output_type": "stream",
     "text": [
      "WARNING:tensorflow:Using a while_loop for converting ImageProjectiveTransformV3 cause there is no registered converter for this op.\n"
     ]
    },
    {
     "name": "stderr",
     "output_type": "stream",
     "text": [
      "WARNING:tensorflow:Using a while_loop for converting ImageProjectiveTransformV3 cause there is no registered converter for this op.\n",
      "WARNING:absl:Found untraced functions such as _jit_compiled_convolution_op, conv2d_1_layer_call_fn, conv2d_1_layer_call_and_return_conditional_losses, _jit_compiled_convolution_op, conv2d_2_layer_call_fn while saving (showing 5 of 106). These functions will not be directly callable after loading.\n"
     ]
    },
    {
     "name": "stdout",
     "output_type": "stream",
     "text": [
      "INFO:tensorflow:Assets written to: /home/dell/.cascid_data/dip/model_resnet_noreg_aug/assets\n"
     ]
    },
    {
     "name": "stderr",
     "output_type": "stream",
     "text": [
      "INFO:tensorflow:Assets written to: /home/dell/.cascid_data/dip/model_resnet_noreg_aug/assets\n"
     ]
    }
   ],
   "source": [
    "dump_results(model, history, MODEL_PATH)"
   ]
  }
 ],
 "metadata": {
  "kernelspec": {
   "display_name": "Python 3.10.6 ('dell')",
   "language": "python",
   "name": "python3"
  },
  "language_info": {
   "codemirror_mode": {
    "name": "ipython",
    "version": 3
   },
   "file_extension": ".py",
   "mimetype": "text/x-python",
   "name": "python",
   "nbconvert_exporter": "python",
   "pygments_lexer": "ipython3",
   "version": "3.10.6"
  },
  "orig_nbformat": 4,
  "vscode": {
   "interpreter": {
    "hash": "6dc1564da09cba32049585eb0f8312288c03cc3344cb8faac4fd8e3be7299e4f"
   }
  }
 },
 "nbformat": 4,
 "nbformat_minor": 2
}
