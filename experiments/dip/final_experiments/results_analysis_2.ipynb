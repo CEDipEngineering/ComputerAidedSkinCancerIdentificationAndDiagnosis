{
 "cells": [
  {
   "cell_type": "code",
   "execution_count": 1,
   "metadata": {},
   "outputs": [
    {
     "name": "stderr",
     "output_type": "stream",
     "text": [
      "2022-11-07 09:20:14.396777: I tensorflow/core/platform/cpu_feature_guard.cc:193] This TensorFlow binary is optimized with oneAPI Deep Neural Network Library (oneDNN) to use the following CPU instructions in performance-critical operations:  AVX2 FMA\n",
      "To enable them in other operations, rebuild TensorFlow with the appropriate compiler flags.\n",
      "2022-11-07 09:20:14.613835: E tensorflow/stream_executor/cuda/cuda_blas.cc:2981] Unable to register cuBLAS factory: Attempting to register factory for plugin cuBLAS when one has already been registered\n",
      "2022-11-07 09:20:15.284430: W tensorflow/stream_executor/platform/default/dso_loader.cc:64] Could not load dynamic library 'libnvinfer.so.7'; dlerror: libnvinfer.so.7: cannot open shared object file: No such file or directory\n",
      "2022-11-07 09:20:15.284509: W tensorflow/stream_executor/platform/default/dso_loader.cc:64] Could not load dynamic library 'libnvinfer_plugin.so.7'; dlerror: libnvinfer_plugin.so.7: cannot open shared object file: No such file or directory\n",
      "2022-11-07 09:20:15.284517: W tensorflow/compiler/tf2tensorrt/utils/py_utils.cc:38] TF-TRT Warning: Cannot dlopen some TensorRT libraries. If you would like to use Nvidia GPU with TensorRT, please make sure the missing libraries mentioned above are installed properly.\n"
     ]
    }
   ],
   "source": [
    "# Basic\n",
    "from pathlib import Path\n",
    "import pickle as pk\n",
    "import os\n",
    "import re\n",
    "from typing import Tuple, Callable\n",
    "from collections import Counter\n",
    "\n",
    "# External\n",
    "import numpy as np\n",
    "import matplotlib.pyplot as plt\n",
    "\n",
    "# Tensorflow\n",
    "from tensorflow import keras\n",
    "from keras.models import load_model\n",
    "\n",
    "# CASCID\n",
    "from cascid.configs.config import DATA_DIR\n",
    "from cascid.datasets.isic.database import get_train_test_images_hairless as get_isic_hairless, get_train_test_images_raw as get_isic_raw, get_train_test_images_hairless_quantized as get_isic_hq\n",
    "from cascid.datasets.pad_ufes.database import get_train_test_images_hairless as get_pad_ufes_hairless, get_train_test_images_raw as get_pad_ufes_raw, get_train_test_images_hairless_quantized as get_pad_ufes_hq\n",
    "\n",
    "# Constants\n",
    "EXPERIMENT_DIR = DATA_DIR / 'experiments_strongaug'"
   ]
  },
  {
   "cell_type": "code",
   "execution_count": null,
   "metadata": {},
   "outputs": [],
   "source": [
    "from cascid.datasets.pad_ufes.images import get_hairless_image, get_raw_image, get_hq_image, remove_hair, remove_hair_and_quantize\n",
    "from cascid.datasets.pad_ufes.database import get_df\n",
    "df = get_df()\n",
    "imlist = df['img_id'].to_list()\n",
    "remove_hair(imlist)\n",
    "remove_hair_and_quantize(imlist)\n"
   ]
  },
  {
   "cell_type": "code",
   "execution_count": 2,
   "metadata": {},
   "outputs": [],
   "source": [
    "def get_train_ratio_cancer(func: Callable) -> Tuple[float, float]:\n",
    "    _, _, y_train, _ = func()\n",
    "    cnt = Counter(y_train.flatten().tolist())\n",
    "    s, h = 0., 0.\n",
    "    for i, e in cnt.items():\n",
    "        if i in [\"BCC\", \"SCC\", \"MEL\"]:\n",
    "            h += e\n",
    "        s += e\n",
    "    return h/s\n",
    "\n",
    "isic_raw_ratio = get_train_ratio_cancer(get_isic_raw)\n",
    "isic_hairless_ratio = get_train_ratio_cancer(get_isic_hairless)\n",
    "isic_hairless_hq_ratio = get_train_ratio_cancer(get_isic_hq)\n",
    "pad_ufes_raw_ratio = get_train_ratio_cancer(get_pad_ufes_raw)\n",
    "pad_ufes_hairless_ratio = get_train_ratio_cancer(get_pad_ufes_hairless)\n",
    "pad_ufes_hairless_hq_ratio = get_train_ratio_cancer(get_pad_ufes_hq)"
   ]
  },
  {
   "cell_type": "code",
   "execution_count": null,
   "metadata": {},
   "outputs": [],
   "source": [
    "models = dict()\n",
    "for d in [\"final_isic\" , \"final_pad_ufes\"]:\n",
    "    for mod in ['resnet34', 'resnet18']:\n",
    "        for style in ['aug_hairless', 'noaug_hairless', 'noaug_raw', 'aug_raw', 'aug_hq', 'noaug_hq']:\n",
    "            path = EXPERIMENT_DIR / d / mod / style\n",
    "            key = \"{}_{}_{}\".format(d , mod , style)\n",
    "            # models[key] = load_model(path)\n",
    "            with open(path / \"history.pkl\", \"rb\") as f:\n",
    "                models[key+\"_history\"] = pk.load(f)"
   ]
  },
  {
   "cell_type": "code",
   "execution_count": null,
   "metadata": {},
   "outputs": [],
   "source": [
    "models_fixed = dict()\n",
    "for k,v in models.items():\n",
    "    models_fixed[k] = dict()\n",
    "    for metric, history in v.items():\n",
    "        if metric not in [\"loss\", \"acc\", \"auc\", \"val_loss\", \"val_acc\", \"val_auc\"]:\n",
    "            fixed_metric = re.sub('_[0-9]', '', metric) # Remove _number from end of name\n",
    "            models_fixed[k][fixed_metric] = history\n",
    "        else:\n",
    "            models_fixed[k][metric] = history"
   ]
  },
  {
   "cell_type": "code",
   "execution_count": null,
   "metadata": {},
   "outputs": [],
   "source": [
    "METRICS = [\"loss\", \"acc\", \"auc\"]\n",
    "\n",
    "Names = { # Prettyfied names for titles\n",
    "    \"loss\": \"Binary Crossentropy\",\n",
    "    \"acc\": \"Accuracy\",\n",
    "    \"auc\": \"ROC-AUC\"\n",
    "}\n",
    "\n",
    "def moving_average(a, n=25) :\n",
    "    ret = np.cumsum(a, dtype=float)\n",
    "    ret[n:] = ret[n:] - ret[:-n]\n",
    "    return ret[n - 1:] / n\n",
    "\n",
    "DO_MOVING_AVG = True\n",
    "\n",
    "for m_name, history in models_fixed.items():\n",
    "    fig = plt.figure(figsize=(21,5))\n",
    "    fig.suptitle(\"History: \" + m_name)\n",
    "    axList = []\n",
    "    for i, m in enumerate(METRICS):\n",
    "        axList.append(fig.add_subplot(1,3,i+1))\n",
    "        try:\n",
    "            train_m = history[m]\n",
    "            val_m = history['val_'+m]\n",
    "            x = range(len(train_m))\n",
    "            axList[i].set_title(Names[m])\n",
    "            if i == 0:\n",
    "                axList[i].plot(x, train_m, label='Train', alpha=0.3, color='green')\n",
    "                axList[i].plot(x, val_m, label='Validation', alpha=0.3, color='blue')\n",
    "                if DO_MOVING_AVG:\n",
    "                    axList[i].plot(x[12:-12], moving_average(train_m), label='Train Average', alpha=0.8, color='green')\n",
    "                    axList[i].plot(x[12:-12], moving_average(val_m), label='Validation Average', alpha=0.8, color='blue')\n",
    "            else:\n",
    "                axList[i].plot(x, train_m, alpha=0.3, color='green')\n",
    "                axList[i].plot(x, val_m, alpha=0.3, color='blue')\n",
    "                if DO_MOVING_AVG:\n",
    "                    axList[i].plot(x[12:-12], moving_average(train_m), alpha=0.8, color='green')\n",
    "                    axList[i].plot(x[12:-12], moving_average(val_m), alpha=0.8, color='blue')\n",
    "            if m != 'loss':\n",
    "                if 'isic' in m_name:\n",
    "                    if 'raw' in m_name:\n",
    "                        h = isic_raw_ratio\n",
    "                    else:\n",
    "                        h = isic_hairless_ratio\n",
    "                else:\n",
    "                    if 'raw' in m_name:\n",
    "                        h = pad_ufes_raw_ratio\n",
    "                    else:\n",
    "                        h = pad_ufes_hairless_ratio\n",
    "                    \n",
    "                if i>1:\n",
    "                    axList[i].axhline(h, label='Majority', c='red', ls='--')\n",
    "                else:\n",
    "                    axList[i].axhline(h, c='red', ls='--')\n",
    "                axList[i].set_ylim((0, 1.1))\n",
    "        except KeyError:\n",
    "            continue\n",
    "    fig.legend()\n",
    "    fig.show();"
   ]
  },
  {
   "cell_type": "code",
   "execution_count": null,
   "metadata": {},
   "outputs": [],
   "source": [
    "series = dict()\n",
    "for m_name, history in models_fixed.items():\n",
    "    series[m_name] = moving_average(history['val_acc'])\n",
    "    # series[m_name] = history['val_acc']"
   ]
  },
  {
   "cell_type": "code",
   "execution_count": null,
   "metadata": {},
   "outputs": [],
   "source": [
    "TRASH_FIRST_N = 10\n",
    "\n",
    "fig = plt.figure(figsize=(15,30))\n",
    "ax = fig.add_subplot(4,1,1)\n",
    "ax.set_title(\"Resnet18 - ISIC\")\n",
    "ax2 = fig.add_subplot(4,1,2)\n",
    "ax2.set_title(\"Resnet34 - ISIC\")\n",
    "ax3 = fig.add_subplot(4,1,3)\n",
    "ax3.set_title(\"Resnet18 - PAD-UFES\")\n",
    "ax4 = fig.add_subplot(4,1,4)\n",
    "ax4.set_title(\"Resnet34 - PAD-UFES\")\n",
    "\n",
    "fig.suptitle(\"Comparison of Validation Accuracy between all models\")\n",
    "for m_name, history in series.items():\n",
    "    x = range(len(history[TRASH_FIRST_N:]))\n",
    "    if 'isic' in m_name:\n",
    "        if \"resnet18\" in m_name:\n",
    "            ax.plot(x, history[TRASH_FIRST_N:], label=m_name)\n",
    "        else:\n",
    "            ax2.plot(x, history[TRASH_FIRST_N:], label=m_name)\n",
    "    else:\n",
    "        if \"resnet18\" in m_name:\n",
    "            ax3.plot(x, history[TRASH_FIRST_N:], label=m_name)\n",
    "        else:\n",
    "            ax4.plot(x, history[TRASH_FIRST_N:], label=m_name)\n",
    "\n",
    "\n",
    "ax.legend()\n",
    "ax2.legend()\n",
    "ax3.legend()\n",
    "ax4.legend()\n",
    "fig.show();"
   ]
  }
 ],
 "metadata": {
  "kernelspec": {
   "display_name": "Python 3.10.6 ('dell')",
   "language": "python",
   "name": "python3"
  },
  "language_info": {
   "codemirror_mode": {
    "name": "ipython",
    "version": 3
   },
   "file_extension": ".py",
   "mimetype": "text/x-python",
   "name": "python",
   "nbconvert_exporter": "python",
   "pygments_lexer": "ipython3",
   "version": "3.10.6"
  },
  "orig_nbformat": 4,
  "vscode": {
   "interpreter": {
    "hash": "6dc1564da09cba32049585eb0f8312288c03cc3344cb8faac4fd8e3be7299e4f"
   }
  }
 },
 "nbformat": 4,
 "nbformat_minor": 2
}
