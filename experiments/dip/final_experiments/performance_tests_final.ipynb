{
 "cells": [
  {
   "cell_type": "code",
   "execution_count": 1,
   "metadata": {},
   "outputs": [
    {
     "name": "stderr",
     "output_type": "stream",
     "text": [
      "2022-11-23 09:23:47.128109: I tensorflow/core/platform/cpu_feature_guard.cc:193] This TensorFlow binary is optimized with oneAPI Deep Neural Network Library (oneDNN) to use the following CPU instructions in performance-critical operations:  AVX2 FMA\n",
      "To enable them in other operations, rebuild TensorFlow with the appropriate compiler flags.\n",
      "2022-11-23 09:23:47.339108: E tensorflow/stream_executor/cuda/cuda_blas.cc:2981] Unable to register cuBLAS factory: Attempting to register factory for plugin cuBLAS when one has already been registered\n",
      "2022-11-23 09:23:48.081722: W tensorflow/stream_executor/platform/default/dso_loader.cc:64] Could not load dynamic library 'libnvinfer.so.7'; dlerror: libnvinfer.so.7: cannot open shared object file: No such file or directory\n",
      "2022-11-23 09:23:48.081801: W tensorflow/stream_executor/platform/default/dso_loader.cc:64] Could not load dynamic library 'libnvinfer_plugin.so.7'; dlerror: libnvinfer_plugin.so.7: cannot open shared object file: No such file or directory\n",
      "2022-11-23 09:23:48.081810: W tensorflow/compiler/tf2tensorrt/utils/py_utils.cc:38] TF-TRT Warning: Cannot dlopen some TensorRT libraries. If you would like to use Nvidia GPU with TensorRT, please make sure the missing libraries mentioned above are installed properly.\n",
      "2022-11-23 09:23:48.916818: I tensorflow/stream_executor/cuda/cuda_gpu_executor.cc:980] successful NUMA node read from SysFS had negative value (-1), but there must be at least one NUMA node, so returning NUMA node zero\n",
      "2022-11-23 09:23:48.924862: I tensorflow/stream_executor/cuda/cuda_gpu_executor.cc:980] successful NUMA node read from SysFS had negative value (-1), but there must be at least one NUMA node, so returning NUMA node zero\n",
      "2022-11-23 09:23:48.925470: I tensorflow/stream_executor/cuda/cuda_gpu_executor.cc:980] successful NUMA node read from SysFS had negative value (-1), but there must be at least one NUMA node, so returning NUMA node zero\n"
     ]
    }
   ],
   "source": [
    "import os\n",
    "from collections import Counter\n",
    "\n",
    "import numpy as np\n",
    "from sklearn.preprocessing import OneHotEncoder\n",
    "from sklearn.metrics import confusion_matrix, accuracy_score\n",
    "import matplotlib.pyplot as plt\n",
    "\n",
    "from tensorflow import keras, config\n",
    "# Configure GPU memory to run alongside other training tasks\n",
    "gpus = config.experimental.list_physical_devices('GPU')\n",
    "config.experimental.set_virtual_device_configuration(gpus[0], [config.experimental.VirtualDeviceConfiguration(memory_limit=1024 * 8)]) # 1024MB * 8 = 8GB\n",
    "os.environ['TF_CPP_MIN_LOG_LEVEL'] = '3' # Hide tf warnings\n",
    "from keras.models import load_model\n",
    "\n",
    "from cascid.datasets.pad_ufes.database import get_images_with_no_metadata\n",
    "from cascid.datasets.isic.database import get_train_test_images_raw, get_train_test_images_hairless, get_train_test_images_hairless_quantized\n",
    "from cascid.datasets.pad_ufes import images as pad_ufes_images, database as pad_ufes_db\n",
    "from cascid.configs.config import DATA_DIR"
   ]
  },
  {
   "cell_type": "markdown",
   "metadata": {},
   "source": [
    "## PAD-UFES"
   ]
  },
  {
   "cell_type": "code",
   "execution_count": 2,
   "metadata": {},
   "outputs": [],
   "source": [
    "pad_ufes_vals_raw = dict()\n",
    "pad_ufes_vals_hairless = dict()\n",
    "pad_ufes_vals_hq = dict()\n",
    "# df\n",
    "categories = [np.array(sorted(['Cancer', \"Not\"]), dtype='object')]\n",
    "ohe = OneHotEncoder(sparse=False, categories=categories, handle_unknown=\"ignore\")\n",
    "\n",
    "_, pad_ufes_vals_raw['x_test'], _, pad_ufes_vals_raw['y_test'] = pad_ufes_db.get_train_test_images_raw()\n",
    "pad_ufes_vals_raw['y_test'] = ['Cancer' if x in ['MEL', 'BCC', 'SCC'] else 'Not' for x in pad_ufes_vals_raw['y_test'].flatten()]\n",
    "ohe.fit(np.array(pad_ufes_vals_raw['y_test']).reshape(-1,1))\n",
    "\n",
    "_, pad_ufes_vals_hairless['x_test'], _, pad_ufes_vals_hairless['y_test'] = pad_ufes_db.get_train_test_images_hairless()\n",
    "pad_ufes_vals_hairless['y_test'] = ['Cancer' if x in ['MEL', 'BCC', 'SCC'] else 'Not' for x in pad_ufes_vals_hairless['y_test'].flatten()]\n",
    "\n",
    "_, pad_ufes_vals_hq['x_test'], _, pad_ufes_vals_hq['y_test'] = pad_ufes_db.get_train_test_images_hairless_quantized()\n",
    "pad_ufes_vals_hq['y_test'] = ['Cancer' if x in ['MEL', 'BCC', 'SCC'] else 'Not' for x in pad_ufes_vals_hq['y_test'].flatten()]"
   ]
  },
  {
   "cell_type": "markdown",
   "metadata": {},
   "source": [
    "## ISIC"
   ]
  },
  {
   "cell_type": "code",
   "execution_count": 3,
   "metadata": {},
   "outputs": [],
   "source": [
    "isic_vals_raw = dict()\n",
    "# df\n",
    "_, isic_vals_raw['x_test'], _, isic_vals_raw['y_test'] = get_train_test_images_raw()\n",
    "isic_vals_raw['y_test'] = list(map(lambda x: \"Cancer\" if x in [\"MEL\", \"SCC\", \"BCC\"] else \"Not\", isic_vals_raw['y_test'].flatten()))\n",
    "\n",
    "isic_vals_hairless = dict()\n",
    "# df\n",
    "_, isic_vals_hairless['x_test'], _, isic_vals_hairless['y_test'] = get_train_test_images_hairless()\n",
    "isic_vals_hairless['y_test'] = list(map(lambda x: \"Cancer\" if x in [\"MEL\", \"SCC\", \"BCC\"] else \"Not\", isic_vals_hairless['y_test'].flatten()))\n",
    "\n",
    "isic_vals_hq = dict()\n",
    "# df\n",
    "_, isic_vals_hq['x_test'], _, isic_vals_hq['y_test'] = get_train_test_images_hairless_quantized()\n",
    "isic_vals_hq['y_test'] = list(map(lambda x: \"Cancer\" if x in [\"MEL\", \"SCC\", \"BCC\"] else \"Not\", isic_vals_hq['y_test'].flatten()))"
   ]
  },
  {
   "cell_type": "markdown",
   "metadata": {},
   "source": [
    "## Evaluation"
   ]
  },
  {
   "cell_type": "code",
   "execution_count": 4,
   "metadata": {},
   "outputs": [],
   "source": [
    "def plot_confusion_matrix(y_true, y_pred, classes,\n",
    "                          normalize=True,\n",
    "                          title=None,\n",
    "                          cmap=plt.cm.Blues, save_to_file = False):\n",
    "    if not title:\n",
    "        if normalize:\n",
    "            title = 'Normalized confusion matrix'\n",
    "        else:\n",
    "            title = 'Confusion matrix, without normalization'\n",
    "\n",
    "    # Compute confusion matrix\n",
    "    cm = confusion_matrix(y_true, y_pred, normalize='true' if normalize else None)\n",
    "    \n",
    "    #print(cm)\n",
    "\n",
    "    fig, ax = plt.subplots(figsize = (5,5))\n",
    "    im = ax.imshow(cm, interpolation='nearest', cmap=cmap)\n",
    "    # ax.figure.colorbar(im, ax=ax)\n",
    "    ax.set(xticks=np.arange(cm.shape[1]),\n",
    "           yticks=np.arange(cm.shape[0]),\n",
    "           xticklabels=classes, yticklabels=classes,\n",
    "           title=title,\n",
    "           ylabel='True label',\n",
    "           xlabel='Predicted label')\n",
    "\n",
    "    plt.setp(ax.get_xticklabels(), rotation=45, ha=\"right\",\n",
    "             rotation_mode=\"anchor\")\n",
    "\n",
    "    fmt = '.3f' if normalize else 'd'\n",
    "    thresh = cm.mean()\n",
    "    for i in range(cm.shape[0]):\n",
    "        for j in range(cm.shape[1]):\n",
    "            ax.text(j, i, format(cm[i, j], fmt),\n",
    "                    ha=\"center\", va=\"center\",\n",
    "                    color=\"white\" if cm[i, j] > thresh else \"black\")\n",
    "    fig.tight_layout()\n",
    "    if save_to_file:\n",
    "        plt.savefig('Assets/files/' + title + '.pdf')\n",
    "    return ax"
   ]
  },
  {
   "cell_type": "code",
   "execution_count": 5,
   "metadata": {},
   "outputs": [],
   "source": [
    "def evaluate_model_performance(model: keras.models.Sequential, x_test, y_test):\n",
    "    y_pred = model.predict(x_test, verbose=0)\n",
    "    y_pred = ohe.inverse_transform(y_pred).flatten()\n",
    "    acc = accuracy_score(y_test, y_pred)\n",
    "    if acc < 0.5:\n",
    "        y_pred_fixed = [\"Not\" if x == \"Cancer\" else \"Cancer\" for x in y_pred]\n",
    "        acc = 1-acc\n",
    "    else:\n",
    "        y_pred_fixed = y_pred\n",
    "    # # print(\"Model accuracy for {}: {:.3f}%\".format(title, 100*acc))\n",
    "    # plot_confusion_matrix(\n",
    "    #     y_true=y_test,\n",
    "    #     y_pred=y_pred_fixed,\n",
    "    #     classes=ohe.categories_[0].tolist(),\n",
    "    #     normalize=True,\n",
    "    #     title=title\n",
    "    # );\n",
    "    return acc"
   ]
  },
  {
   "cell_type": "code",
   "execution_count": 22,
   "metadata": {},
   "outputs": [
    {
     "name": "stderr",
     "output_type": "stream",
     "text": [
      "2022-11-23 09:39:09.021485: I tensorflow/core/platform/cpu_feature_guard.cc:193] This TensorFlow binary is optimized with oneAPI Deep Neural Network Library (oneDNN) to use the following CPU instructions in performance-critical operations:  AVX2 FMA\n",
      "To enable them in other operations, rebuild TensorFlow with the appropriate compiler flags.\n",
      "2022-11-23 09:39:09.022124: I tensorflow/stream_executor/cuda/cuda_gpu_executor.cc:980] successful NUMA node read from SysFS had negative value (-1), but there must be at least one NUMA node, so returning NUMA node zero\n",
      "2022-11-23 09:39:09.022949: I tensorflow/stream_executor/cuda/cuda_gpu_executor.cc:980] successful NUMA node read from SysFS had negative value (-1), but there must be at least one NUMA node, so returning NUMA node zero\n",
      "2022-11-23 09:39:09.023506: I tensorflow/stream_executor/cuda/cuda_gpu_executor.cc:980] successful NUMA node read from SysFS had negative value (-1), but there must be at least one NUMA node, so returning NUMA node zero\n",
      "2022-11-23 09:39:10.100940: I tensorflow/stream_executor/cuda/cuda_gpu_executor.cc:980] successful NUMA node read from SysFS had negative value (-1), but there must be at least one NUMA node, so returning NUMA node zero\n",
      "2022-11-23 09:39:10.101864: I tensorflow/stream_executor/cuda/cuda_gpu_executor.cc:980] successful NUMA node read from SysFS had negative value (-1), but there must be at least one NUMA node, so returning NUMA node zero\n",
      "2022-11-23 09:39:10.102504: I tensorflow/stream_executor/cuda/cuda_gpu_executor.cc:980] successful NUMA node read from SysFS had negative value (-1), but there must be at least one NUMA node, so returning NUMA node zero\n",
      "2022-11-23 09:39:10.103070: I tensorflow/core/common_runtime/gpu/gpu_device.cc:1616] Created device /job:localhost/replica:0/task:0/device:GPU:0 with 8192 MB memory:  -> device: 0, name: GRID V100D-32C, pci bus id: 0000:02:00.0, compute capability: 7.0\n"
     ]
    },
    {
     "name": "stdout",
     "output_type": "stream",
     "text": [
      "WARNING:tensorflow:Using a while_loop for converting RngReadAndSkip cause there is no registered converter for this op.\n",
      "WARNING:tensorflow:Using a while_loop for converting Bitcast cause there is no registered converter for this op.\n",
      "WARNING:tensorflow:Using a while_loop for converting Bitcast cause there is no registered converter for this op.\n",
      "WARNING:tensorflow:Using a while_loop for converting StatelessRandomUniformV2 cause there is no registered converter for this op.\n",
      "WARNING:tensorflow:Using a while_loop for converting RngReadAndSkip cause there is no registered converter for this op.\n",
      "WARNING:tensorflow:Using a while_loop for converting Bitcast cause there is no registered converter for this op.\n",
      "WARNING:tensorflow:Using a while_loop for converting Bitcast cause there is no registered converter for this op.\n",
      "WARNING:tensorflow:Using a while_loop for converting StatelessRandomUniformFullIntV2 cause there is no registered converter for this op.\n",
      "WARNING:tensorflow:Using a while_loop for converting StatelessRandomGetKeyCounter cause there is no registered converter for this op.\n",
      "WARNING:tensorflow:Using a while_loop for converting StatelessRandomUniformV2 cause there is no registered converter for this op.\n",
      "WARNING:tensorflow:Using a while_loop for converting AdjustContrastv2 cause Input \"contrast_factor\" of op 'AdjustContrastv2' expected to be loop invariant.\n",
      "WARNING:tensorflow:Using a while_loop for converting RngReadAndSkip cause there is no registered converter for this op.\n",
      "WARNING:tensorflow:Using a while_loop for converting Bitcast cause there is no registered converter for this op.\n",
      "WARNING:tensorflow:Using a while_loop for converting Bitcast cause there is no registered converter for this op.\n",
      "WARNING:tensorflow:Using a while_loop for converting StatelessRandomUniformV2 cause there is no registered converter for this op.\n",
      "WARNING:tensorflow:Using a while_loop for converting ImageProjectiveTransformV3 cause there is no registered converter for this op.\n"
     ]
    },
    {
     "ename": "TypeError",
     "evalue": "evaluate_model_performance() missing 1 required positional argument: 'title'",
     "output_type": "error",
     "traceback": [
      "\u001b[0;31m---------------------------------------------------------------------------\u001b[0m",
      "\u001b[0;31mTypeError\u001b[0m                                 Traceback (most recent call last)",
      "\u001b[1;32m/home/dell/CASCID/experiments/dip/final_experiments/performance_tests_final.ipynb Cell 9\u001b[0m in \u001b[0;36m<cell line: 5>\u001b[0;34m()\u001b[0m\n\u001b[1;32m     <a href='vscode-notebook-cell://ssh-remote%2B10.103.2.100/home/dell/CASCID/experiments/dip/final_experiments/performance_tests_final.ipynb#X20sdnNjb2RlLXJlbW90ZQ%3D%3D?line=11'>12</a>\u001b[0m loaded \u001b[39m=\u001b[39m load_model(EXPERIMENT_DIR \u001b[39m/\u001b[39m top \u001b[39m/\u001b[39m mod \u001b[39m/\u001b[39m chk)\n\u001b[1;32m     <a href='vscode-notebook-cell://ssh-remote%2B10.103.2.100/home/dell/CASCID/experiments/dip/final_experiments/performance_tests_final.ipynb#X20sdnNjb2RlLXJlbW90ZQ%3D%3D?line=12'>13</a>\u001b[0m \u001b[39mif\u001b[39;00m mod \u001b[39m==\u001b[39m \u001b[39m'\u001b[39m\u001b[39maug_hq\u001b[39m\u001b[39m'\u001b[39m:\n\u001b[0;32m---> <a href='vscode-notebook-cell://ssh-remote%2B10.103.2.100/home/dell/CASCID/experiments/dip/final_experiments/performance_tests_final.ipynb#X20sdnNjb2RlLXJlbW90ZQ%3D%3D?line=13'>14</a>\u001b[0m     acc_isic \u001b[39m=\u001b[39m evaluate_model_performance(loaded, \u001b[39m*\u001b[39;49m\u001b[39m*\u001b[39;49misic_vals_hq)\n\u001b[1;32m     <a href='vscode-notebook-cell://ssh-remote%2B10.103.2.100/home/dell/CASCID/experiments/dip/final_experiments/performance_tests_final.ipynb#X20sdnNjb2RlLXJlbW90ZQ%3D%3D?line=14'>15</a>\u001b[0m     acc_pad \u001b[39m=\u001b[39m evaluate_model_performance(loaded, \u001b[39m*\u001b[39m\u001b[39m*\u001b[39mpad_ufes_vals_hq)\n\u001b[1;32m     <a href='vscode-notebook-cell://ssh-remote%2B10.103.2.100/home/dell/CASCID/experiments/dip/final_experiments/performance_tests_final.ipynb#X20sdnNjb2RlLXJlbW90ZQ%3D%3D?line=15'>16</a>\u001b[0m \u001b[39melif\u001b[39;00m mod \u001b[39m==\u001b[39m \u001b[39m'\u001b[39m\u001b[39maug_raw\u001b[39m\u001b[39m'\u001b[39m:\n",
      "\u001b[0;31mTypeError\u001b[0m: evaluate_model_performance() missing 1 required positional argument: 'title'"
     ]
    }
   ],
   "source": [
    "history = dict()\n",
    "\n",
    "EXPERIMENT_DIR = DATA_DIR / 'experiments_final' / 'final_isic'\n",
    "tops = os.listdir(EXPERIMENT_DIR)\n",
    "for top in tops:\n",
    "    models = os.listdir(EXPERIMENT_DIR / top)\n",
    "    for mod in models:\n",
    "        history[mod] = []\n",
    "        checkpoints = sorted(list((EXPERIMENT_DIR / top / mod).glob('*checkpoint*')))\n",
    "        for chk in checkpoints:\n",
    "            epoch = int(str(chk)[-4:])\n",
    "            loaded = load_model(EXPERIMENT_DIR / top / mod / chk)\n",
    "            if mod == 'aug_hq':\n",
    "                acc_isic = evaluate_model_performance(loaded, **isic_vals_hq)\n",
    "                acc_pad = evaluate_model_performance(loaded, **pad_ufes_vals_hq)\n",
    "            elif mod == 'aug_raw':\n",
    "                acc_isic = evaluate_model_performance(loaded, **isic_vals_raw)\n",
    "                acc_pad = evaluate_model_performance(loaded, **pad_ufes_vals_raw)\n",
    "            else: # 'aug_hairless'\n",
    "                acc_isic = evaluate_model_performance(loaded, **isic_vals_hairless)\n",
    "                acc_pad = evaluate_model_performance(loaded, **pad_ufes_vals_hairless)\n",
    "            # EPOCH, acc_isic, acc_pad\n",
    "            history[mod].append([epoch, acc_isic, acc_pad])"
   ]
  }
 ],
 "metadata": {
  "kernelspec": {
   "display_name": "Python 3.10.6 ('dell')",
   "language": "python",
   "name": "python3"
  },
  "language_info": {
   "codemirror_mode": {
    "name": "ipython",
    "version": 3
   },
   "file_extension": ".py",
   "mimetype": "text/x-python",
   "name": "python",
   "nbconvert_exporter": "python",
   "pygments_lexer": "ipython3",
   "version": "3.10.6"
  },
  "orig_nbformat": 4,
  "vscode": {
   "interpreter": {
    "hash": "6dc1564da09cba32049585eb0f8312288c03cc3344cb8faac4fd8e3be7299e4f"
   }
  }
 },
 "nbformat": 4,
 "nbformat_minor": 2
}
