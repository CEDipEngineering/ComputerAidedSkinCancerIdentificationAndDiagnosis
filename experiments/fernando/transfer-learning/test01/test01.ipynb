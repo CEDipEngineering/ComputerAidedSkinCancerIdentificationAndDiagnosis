{
 "cells": [
  {
   "cell_type": "markdown",
   "metadata": {},
   "source": [
    "## TRASNFER LEARNING: INITIAL TEST"
   ]
  },
  {
   "cell_type": "markdown",
   "metadata": {},
   "source": [
    "### Introduction"
   ]
  },
  {
   "cell_type": "markdown",
   "metadata": {},
   "source": []
  },
  {
   "cell_type": "markdown",
   "metadata": {},
   "source": [
    "### Libraries"
   ]
  },
  {
   "cell_type": "code",
   "execution_count": 1,
   "metadata": {},
   "outputs": [],
   "source": [
    "# basic\n",
    "import pandas as pd\n",
    "import numpy as np\n",
    "\n",
    "# tensorflow and keras\n",
    "from keras_preprocessing.image import ImageDataGenerator\n",
    "\n",
    "# sklearn\n",
    "from sklearn.model_selection import StratifiedShuffleSplit\n",
    "from sklearn.model_selection import train_test_split"
   ]
  },
  {
   "cell_type": "markdown",
   "metadata": {},
   "source": [
    "### Functions"
   ]
  },
  {
   "cell_type": "code",
   "execution_count": 2,
   "metadata": {},
   "outputs": [],
   "source": [
    "from utils import transform_diagnosis_to_numerical, add_prefix_to_string"
   ]
  },
  {
   "cell_type": "markdown",
   "metadata": {},
   "source": [
    "### Globals"
   ]
  },
  {
   "cell_type": "code",
   "execution_count": 3,
   "metadata": {},
   "outputs": [],
   "source": [
    "from constants import RANDOM_SEED"
   ]
  },
  {
   "cell_type": "markdown",
   "metadata": {},
   "source": [
    "### Reading data "
   ]
  },
  {
   "cell_type": "code",
   "execution_count": 4,
   "metadata": {},
   "outputs": [],
   "source": [
    "dataframe = pd.read_csv(\"../../../../src/data/zr7vgbcyr2-1/metadata.csv\")\n",
    "image_file_names_and_diagnosis = dataframe[[\"img_id\", \"diagnostic\"]]"
   ]
  },
  {
   "cell_type": "markdown",
   "metadata": {},
   "source": [
    "### Data transformations"
   ]
  },
  {
   "cell_type": "code",
   "execution_count": 6,
   "metadata": {},
   "outputs": [
    {
     "name": "stderr",
     "output_type": "stream",
     "text": [
      "/tmp/ipykernel_38644/2060156290.py:1: SettingWithCopyWarning: \n",
      "A value is trying to be set on a copy of a slice from a DataFrame.\n",
      "Try using .loc[row_indexer,col_indexer] = value instead\n",
      "\n",
      "See the caveats in the documentation: https://pandas.pydata.org/pandas-docs/stable/user_guide/indexing.html#returning-a-view-versus-a-copy\n",
      "  image_file_names_and_diagnosis[\"img_id\"] = image_file_names_and_diagnosis[\"img_id\"].apply(\n"
     ]
    }
   ],
   "source": [
    "image_file_names_and_diagnosis[\"img_id\"] = image_file_names_and_diagnosis[\"img_id\"].apply(\n",
    "    lambda string: add_prefix_to_string(string, \"../../../../src/data/zr7vgbcyr2-1/images/all_images/\"))"
   ]
  },
  {
   "cell_type": "code",
   "execution_count": 7,
   "metadata": {},
   "outputs": [
    {
     "data": {
      "text/html": [
       "<div>\n",
       "<style scoped>\n",
       "    .dataframe tbody tr th:only-of-type {\n",
       "        vertical-align: middle;\n",
       "    }\n",
       "\n",
       "    .dataframe tbody tr th {\n",
       "        vertical-align: top;\n",
       "    }\n",
       "\n",
       "    .dataframe thead th {\n",
       "        text-align: right;\n",
       "    }\n",
       "</style>\n",
       "<table border=\"1\" class=\"dataframe\">\n",
       "  <thead>\n",
       "    <tr style=\"text-align: right;\">\n",
       "      <th></th>\n",
       "      <th>img_id</th>\n",
       "      <th>diagnostic</th>\n",
       "    </tr>\n",
       "  </thead>\n",
       "  <tbody>\n",
       "    <tr>\n",
       "      <th>0</th>\n",
       "      <td>../../../../src/data/zr7vgbcyr2-1/images/all_i...</td>\n",
       "      <td>NEV</td>\n",
       "    </tr>\n",
       "    <tr>\n",
       "      <th>1</th>\n",
       "      <td>../../../../src/data/zr7vgbcyr2-1/images/all_i...</td>\n",
       "      <td>BCC</td>\n",
       "    </tr>\n",
       "    <tr>\n",
       "      <th>2</th>\n",
       "      <td>../../../../src/data/zr7vgbcyr2-1/images/all_i...</td>\n",
       "      <td>ACK</td>\n",
       "    </tr>\n",
       "    <tr>\n",
       "      <th>3</th>\n",
       "      <td>../../../../src/data/zr7vgbcyr2-1/images/all_i...</td>\n",
       "      <td>ACK</td>\n",
       "    </tr>\n",
       "    <tr>\n",
       "      <th>4</th>\n",
       "      <td>../../../../src/data/zr7vgbcyr2-1/images/all_i...</td>\n",
       "      <td>BCC</td>\n",
       "    </tr>\n",
       "  </tbody>\n",
       "</table>\n",
       "</div>"
      ],
      "text/plain": [
       "                                              img_id diagnostic\n",
       "0  ../../../../src/data/zr7vgbcyr2-1/images/all_i...        NEV\n",
       "1  ../../../../src/data/zr7vgbcyr2-1/images/all_i...        BCC\n",
       "2  ../../../../src/data/zr7vgbcyr2-1/images/all_i...        ACK\n",
       "3  ../../../../src/data/zr7vgbcyr2-1/images/all_i...        ACK\n",
       "4  ../../../../src/data/zr7vgbcyr2-1/images/all_i...        BCC"
      ]
     },
     "execution_count": 7,
     "metadata": {},
     "output_type": "execute_result"
    }
   ],
   "source": [
    "image_file_names_and_diagnosis.head()"
   ]
  },
  {
   "cell_type": "code",
   "execution_count": 8,
   "metadata": {},
   "outputs": [
    {
     "data": {
      "text/plain": [
       "'../../../../src/data/zr7vgbcyr2-1/images/all_images/PAT_1516_1765_530.png'"
      ]
     },
     "execution_count": 8,
     "metadata": {},
     "output_type": "execute_result"
    }
   ],
   "source": [
    "image_file_names_and_diagnosis.img_id[0]"
   ]
  },
  {
   "cell_type": "markdown",
   "metadata": {},
   "source": [
    "### Split data in train, test and validation"
   ]
  },
  {
   "cell_type": "code",
   "execution_count": 9,
   "metadata": {},
   "outputs": [],
   "source": [
    "stratified_shuffle_split_train_test = StratifiedShuffleSplit(\n",
    "    n_splits=1,\n",
    "    test_size=0.2,\n",
    "    random_state=RANDOM_SEED,\n",
    ")\n",
    "stratified_shuffle_split_train_val = StratifiedShuffleSplit(\n",
    "    n_splits=1,\n",
    "    test_size=0.1,\n",
    "    random_state=RANDOM_SEED,\n",
    ")"
   ]
  },
  {
   "cell_type": "code",
   "execution_count": 10,
   "metadata": {},
   "outputs": [],
   "source": [
    "for train_index, test_index in stratified_shuffle_split_train_test.split(\n",
    "    image_file_names_and_diagnosis,\n",
    "    image_file_names_and_diagnosis[\"diagnostic\"]):\n",
    "        stratified_train_and_validation_set = image_file_names_and_diagnosis.iloc[train_index]\n",
    "        stratified_test_set = image_file_names_and_diagnosis.iloc[test_index]"
   ]
  },
  {
   "cell_type": "code",
   "execution_count": 11,
   "metadata": {},
   "outputs": [],
   "source": [
    "for train_index, validation_index in stratified_shuffle_split_train_val.split(\n",
    "    stratified_train_and_validation_set,\n",
    "    stratified_train_and_validation_set[\"diagnostic\"]):\n",
    "        stratified_train_set = stratified_train_and_validation_set.iloc[train_index]\n",
    "        stratified_validation_set = stratified_train_and_validation_set.iloc[validation_index]"
   ]
  },
  {
   "cell_type": "code",
   "execution_count": 12,
   "metadata": {},
   "outputs": [
    {
     "name": "stdout",
     "output_type": "stream",
     "text": [
      "Examples in train set: 1654\n",
      "Examples in validation set: 184\n",
      "Examples in test set: 460\n"
     ]
    }
   ],
   "source": [
    "print(\"Examples in train set: {0}\".format(stratified_train_set.shape[0]))\n",
    "print(\"Examples in validation set: {0}\".format(stratified_validation_set.shape[0]))\n",
    "print(\"Examples in test set: {0}\".format(stratified_test_set.shape[0]))"
   ]
  },
  {
   "cell_type": "markdown",
   "metadata": {},
   "source": [
    "### Generate tensorflow objects"
   ]
  },
  {
   "cell_type": "code",
   "execution_count": 13,
   "metadata": {},
   "outputs": [],
   "source": [
    "# create the ImageDataGenerator object\n",
    "data_augmentation_generator = ImageDataGenerator(\n",
    "    featurewise_center=True,\n",
    "    featurewise_std_normalization=True,\n",
    "    rotation_range=20,\n",
    "    width_shift_range=0.2,\n",
    "    height_shift_range=0.2,\n",
    "    horizontal_flip=True,\n",
    ")"
   ]
  },
  {
   "cell_type": "code",
   "execution_count": 14,
   "metadata": {},
   "outputs": [
    {
     "name": "stdout",
     "output_type": "stream",
     "text": [
      "Found 1654 validated image filenames belonging to 6 classes.\n",
      "Found 184 validated image filenames belonging to 6 classes.\n"
     ]
    }
   ],
   "source": [
    "# generate batches and augment the images\n",
    "train_data_generator = data_augmentation_generator.flow_from_dataframe(\n",
    "    stratified_train_set,\n",
    "    x_col='img_id',\n",
    "    y_col='diagnostic',\n",
    "    class_mode='categorical',\n",
    "    target_size=(224, 224),\n",
    ")\n",
    "\n",
    "validation_data_generator = data_augmentation_generator.flow_from_dataframe(\n",
    "    stratified_validation_set,\n",
    "    x_col='img_id',\n",
    "    y_col='diagnostic',\n",
    "    class_mode='categorical',\n",
    "    target_size=(224, 224),\n",
    ")"
   ]
  },
  {
   "cell_type": "code",
   "execution_count": null,
   "metadata": {},
   "outputs": [],
   "source": []
  }
 ],
 "metadata": {
  "kernelspec": {
   "display_name": "Python 3.10.4 64-bit",
   "language": "python",
   "name": "python3"
  },
  "language_info": {
   "codemirror_mode": {
    "name": "ipython",
    "version": 3
   },
   "file_extension": ".py",
   "mimetype": "text/x-python",
   "name": "python",
   "nbconvert_exporter": "python",
   "pygments_lexer": "ipython3",
   "version": "3.10.4"
  },
  "orig_nbformat": 4,
  "vscode": {
   "interpreter": {
    "hash": "916dbcbb3f70747c44a77c7bcd40155683ae19c65e1c03b4aa3499c5328201f1"
   }
  }
 },
 "nbformat": 4,
 "nbformat_minor": 2
}
