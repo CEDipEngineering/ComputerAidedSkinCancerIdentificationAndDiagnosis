{
 "cells": [
  {
   "cell_type": "markdown",
   "metadata": {},
   "source": [
    "## TRANSFER LEARNING: IMPROVING ALGORITHM\n",
    "---"
   ]
  },
  {
   "cell_type": "markdown",
   "metadata": {},
   "source": [
    "### Libraries"
   ]
  },
  {
   "cell_type": "code",
   "execution_count": 1,
   "metadata": {},
   "outputs": [],
   "source": [
    "#basic\n",
    "import pandas as pd\n",
    "import numpy as np\n",
    "from PIL import Image\n",
    "import matplotlib.pyplot as plt\n",
    "import plotly.graph_objects as go\n",
    "from os import listdir\n",
    "\n",
    "#tensorflow and keras\n",
    "from tensorflow import keras\n",
    "from keras.preprocessing.image import ImageDataGenerator\n",
    "from keras.layers import Input, Dense, GlobalAveragePooling2D, Flatten, MaxPooling2D, Dropout\n",
    "from keras.callbacks import ModelCheckpoint, EarlyStopping\n",
    "from keras import Model\n",
    "\n",
    "#sklearn\n",
    "from sklearn.model_selection import train_test_split\n",
    "from fast_ml.model_development import train_valid_test_split\n",
    "\n",
    "#open cv\n",
    "import cv2 as cv\n",
    "\n",
    "#functions\n",
    "from utils.images import load_images, read_image_file\n",
    "from utils.train import series_to_array, get_classes_dictionary\n",
    "\n",
    "from cascid import config"
   ]
  },
  {
   "cell_type": "markdown",
   "metadata": {},
   "source": [
    "### Constants"
   ]
  },
  {
   "cell_type": "code",
   "execution_count": 2,
   "metadata": {},
   "outputs": [],
   "source": [
    "# PATH = \"/home/fernandofincatti/Documents/insper/pfe/ComputerAidedSkinCancerIdentificationAndDiagnosis/data/\"\n",
    "RANDOM_STATE = 42\n",
    "TRAIN_SIZE = 0.7\n",
    "VALIDATION_SIZE = 0.15\n",
    "TEST_SIZE = 0.15\n",
    "EPOCHS = 250\n",
    "IMAGE_SHAPE = (128, 128, 3)"
   ]
  },
  {
   "cell_type": "markdown",
   "metadata": {},
   "source": [
    "### Loading data"
   ]
  },
  {
   "cell_type": "code",
   "execution_count": 3,
   "metadata": {},
   "outputs": [],
   "source": [
    "from pathlib import Path"
   ]
  },
  {
   "cell_type": "code",
   "execution_count": 4,
   "metadata": {},
   "outputs": [
    {
     "data": {
      "text/plain": [
       "PosixPath('/home/fjayres/Dropbox/Insper/Disciplinas/PFE/2022-2-Dell/projeto/data/PAD-UFES/images')"
      ]
     },
     "execution_count": 4,
     "metadata": {},
     "output_type": "execute_result"
    }
   ],
   "source": [
    "config.IMAGE_DIR"
   ]
  },
  {
   "cell_type": "code",
   "execution_count": 5,
   "metadata": {},
   "outputs": [],
   "source": [
    "images = []\n",
    "file_names = []\n",
    "k = 0\n",
    "for path in config.IMAGE_DIR.glob('*.png'):\n",
    "    k += 1\n",
    "    if k == 100:\n",
    "        break\n",
    "    images.append(read_image_file(str(path), IMAGE_SHAPE))\n",
    "    file_names.append(path.name)"
   ]
  },
  {
   "cell_type": "code",
   "execution_count": 6,
   "metadata": {},
   "outputs": [],
   "source": [
    "# file_names = list(path.name for path in config.IMAGE_DIR.glob('*.png'))"
   ]
  },
  {
   "cell_type": "code",
   "execution_count": 7,
   "metadata": {},
   "outputs": [],
   "source": [
    "# images, file_names = load_images(config.IMAGE_DIR, shape=IMAGE_SHAPE)\n",
    "images_dataframe = pd.DataFrame({\"image_array\": images, \"img_id\": file_names})"
   ]
  },
  {
   "cell_type": "code",
   "execution_count": 8,
   "metadata": {},
   "outputs": [],
   "source": [
    "metadata = pd.read_csv(config.DATA_FILE)"
   ]
  },
  {
   "cell_type": "code",
   "execution_count": 14,
   "metadata": {},
   "outputs": [],
   "source": [
    "# full_dataframe = metadata.merge(images_dataframe, how=\"left\", on=\"img_id\")\n",
    "full_dataframe = metadata.merge(images_dataframe, how=\"right\", on=\"img_id\")"
   ]
  },
  {
   "cell_type": "code",
   "execution_count": 15,
   "metadata": {},
   "outputs": [
    {
     "data": {
      "text/html": [
       "<div>\n",
       "<style scoped>\n",
       "    .dataframe tbody tr th:only-of-type {\n",
       "        vertical-align: middle;\n",
       "    }\n",
       "\n",
       "    .dataframe tbody tr th {\n",
       "        vertical-align: top;\n",
       "    }\n",
       "\n",
       "    .dataframe thead th {\n",
       "        text-align: right;\n",
       "    }\n",
       "</style>\n",
       "<table border=\"1\" class=\"dataframe\">\n",
       "  <thead>\n",
       "    <tr style=\"text-align: right;\">\n",
       "      <th></th>\n",
       "      <th>patient_id</th>\n",
       "      <th>lesion_id</th>\n",
       "      <th>smoke</th>\n",
       "      <th>drink</th>\n",
       "      <th>background_father</th>\n",
       "      <th>background_mother</th>\n",
       "      <th>age</th>\n",
       "      <th>pesticide</th>\n",
       "      <th>gender</th>\n",
       "      <th>skin_cancer_history</th>\n",
       "      <th>...</th>\n",
       "      <th>diagnostic</th>\n",
       "      <th>itch</th>\n",
       "      <th>grew</th>\n",
       "      <th>hurt</th>\n",
       "      <th>changed</th>\n",
       "      <th>bleed</th>\n",
       "      <th>elevation</th>\n",
       "      <th>img_id</th>\n",
       "      <th>biopsed</th>\n",
       "      <th>image_array</th>\n",
       "    </tr>\n",
       "  </thead>\n",
       "  <tbody>\n",
       "    <tr>\n",
       "      <th>0</th>\n",
       "      <td>PAT_615</td>\n",
       "      <td>1168</td>\n",
       "      <td>False</td>\n",
       "      <td>False</td>\n",
       "      <td>UNK</td>\n",
       "      <td>UNK</td>\n",
       "      <td>16</td>\n",
       "      <td>False</td>\n",
       "      <td>FEMALE</td>\n",
       "      <td>False</td>\n",
       "      <td>...</td>\n",
       "      <td>NEV</td>\n",
       "      <td>False</td>\n",
       "      <td>UNK</td>\n",
       "      <td>False</td>\n",
       "      <td>UNK</td>\n",
       "      <td>False</td>\n",
       "      <td>True</td>\n",
       "      <td>PAT_615_1168_968.png</td>\n",
       "      <td>True</td>\n",
       "      <td>[[[0.6980392156862745, 0.5254901960784314, 0.4...</td>\n",
       "    </tr>\n",
       "    <tr>\n",
       "      <th>1</th>\n",
       "      <td>PAT_211</td>\n",
       "      <td>319</td>\n",
       "      <td>False</td>\n",
       "      <td>False</td>\n",
       "      <td>GERMANY</td>\n",
       "      <td>GERMANY</td>\n",
       "      <td>72</td>\n",
       "      <td>False</td>\n",
       "      <td>MALE</td>\n",
       "      <td>True</td>\n",
       "      <td>...</td>\n",
       "      <td>BCC</td>\n",
       "      <td>True</td>\n",
       "      <td>True</td>\n",
       "      <td>False</td>\n",
       "      <td>False</td>\n",
       "      <td>True</td>\n",
       "      <td>True</td>\n",
       "      <td>PAT_211_319_777.png</td>\n",
       "      <td>True</td>\n",
       "      <td>[[[0.6666666666666666, 0.36470588235294116, 0....</td>\n",
       "    </tr>\n",
       "    <tr>\n",
       "      <th>2</th>\n",
       "      <td>PAT_1305</td>\n",
       "      <td>1082</td>\n",
       "      <td>NaN</td>\n",
       "      <td>NaN</td>\n",
       "      <td>NaN</td>\n",
       "      <td>NaN</td>\n",
       "      <td>53</td>\n",
       "      <td>NaN</td>\n",
       "      <td>NaN</td>\n",
       "      <td>NaN</td>\n",
       "      <td>...</td>\n",
       "      <td>NEV</td>\n",
       "      <td>False</td>\n",
       "      <td>False</td>\n",
       "      <td>False</td>\n",
       "      <td>False</td>\n",
       "      <td>False</td>\n",
       "      <td>False</td>\n",
       "      <td>PAT_1305_1082_88.png</td>\n",
       "      <td>False</td>\n",
       "      <td>[[[0.803921568627451, 0.7058823529411765, 0.61...</td>\n",
       "    </tr>\n",
       "    <tr>\n",
       "      <th>3</th>\n",
       "      <td>PAT_526</td>\n",
       "      <td>991</td>\n",
       "      <td>False</td>\n",
       "      <td>True</td>\n",
       "      <td>ITALY</td>\n",
       "      <td>GERMANY</td>\n",
       "      <td>59</td>\n",
       "      <td>True</td>\n",
       "      <td>MALE</td>\n",
       "      <td>False</td>\n",
       "      <td>...</td>\n",
       "      <td>BCC</td>\n",
       "      <td>True</td>\n",
       "      <td>True</td>\n",
       "      <td>True</td>\n",
       "      <td>False</td>\n",
       "      <td>True</td>\n",
       "      <td>True</td>\n",
       "      <td>PAT_526_991_109.png</td>\n",
       "      <td>True</td>\n",
       "      <td>[[[0.5607843137254902, 0.49411764705882355, 0....</td>\n",
       "    </tr>\n",
       "    <tr>\n",
       "      <th>4</th>\n",
       "      <td>PAT_940</td>\n",
       "      <td>1774</td>\n",
       "      <td>False</td>\n",
       "      <td>False</td>\n",
       "      <td>GERMANY</td>\n",
       "      <td>GERMANY</td>\n",
       "      <td>69</td>\n",
       "      <td>True</td>\n",
       "      <td>MALE</td>\n",
       "      <td>False</td>\n",
       "      <td>...</td>\n",
       "      <td>SCC</td>\n",
       "      <td>True</td>\n",
       "      <td>UNK</td>\n",
       "      <td>False</td>\n",
       "      <td>UNK</td>\n",
       "      <td>True</td>\n",
       "      <td>True</td>\n",
       "      <td>PAT_940_1774_962.png</td>\n",
       "      <td>True</td>\n",
       "      <td>[[[0.8392156862745098, 0.5686274509803921, 0.4...</td>\n",
       "    </tr>\n",
       "  </tbody>\n",
       "</table>\n",
       "<p>5 rows × 27 columns</p>\n",
       "</div>"
      ],
      "text/plain": [
       "  patient_id  lesion_id  smoke  drink background_father background_mother  \\\n",
       "0    PAT_615       1168  False  False               UNK               UNK   \n",
       "1    PAT_211        319  False  False           GERMANY           GERMANY   \n",
       "2   PAT_1305       1082    NaN    NaN               NaN               NaN   \n",
       "3    PAT_526        991  False   True             ITALY           GERMANY   \n",
       "4    PAT_940       1774  False  False           GERMANY           GERMANY   \n",
       "\n",
       "   age pesticide  gender skin_cancer_history  ... diagnostic   itch   grew  \\\n",
       "0   16     False  FEMALE               False  ...        NEV  False    UNK   \n",
       "1   72     False    MALE                True  ...        BCC   True   True   \n",
       "2   53       NaN     NaN                 NaN  ...        NEV  False  False   \n",
       "3   59      True    MALE               False  ...        BCC   True   True   \n",
       "4   69      True    MALE               False  ...        SCC   True    UNK   \n",
       "\n",
       "    hurt changed  bleed  elevation                img_id biopsed  \\\n",
       "0  False     UNK  False       True  PAT_615_1168_968.png    True   \n",
       "1  False   False   True       True   PAT_211_319_777.png    True   \n",
       "2  False   False  False      False  PAT_1305_1082_88.png   False   \n",
       "3   True   False   True       True   PAT_526_991_109.png    True   \n",
       "4  False     UNK   True       True  PAT_940_1774_962.png    True   \n",
       "\n",
       "                                         image_array  \n",
       "0  [[[0.6980392156862745, 0.5254901960784314, 0.4...  \n",
       "1  [[[0.6666666666666666, 0.36470588235294116, 0....  \n",
       "2  [[[0.803921568627451, 0.7058823529411765, 0.61...  \n",
       "3  [[[0.5607843137254902, 0.49411764705882355, 0....  \n",
       "4  [[[0.8392156862745098, 0.5686274509803921, 0.4...  \n",
       "\n",
       "[5 rows x 27 columns]"
      ]
     },
     "execution_count": 15,
     "metadata": {},
     "output_type": "execute_result"
    }
   ],
   "source": [
    "full_dataframe.head()"
   ]
  },
  {
   "cell_type": "code",
   "execution_count": 16,
   "metadata": {},
   "outputs": [
    {
     "data": {
      "text/plain": [
       "BCC    41\n",
       "ACK    34\n",
       "SCC     9\n",
       "SEK     8\n",
       "NEV     6\n",
       "MEL     1\n",
       "Name: diagnostic, dtype: int64"
      ]
     },
     "execution_count": 16,
     "metadata": {},
     "output_type": "execute_result"
    }
   ],
   "source": [
    "full_dataframe.diagnostic.value_counts()"
   ]
  },
  {
   "cell_type": "code",
   "execution_count": 17,
   "metadata": {},
   "outputs": [],
   "source": [
    "df_bcc = full_dataframe.loc[full_dataframe[\"diagnostic\"] == \"BCC\"].head(52)\n",
    "df_ack = full_dataframe.loc[full_dataframe[\"diagnostic\"] == \"ACK\"].head(52)\n",
    "df_nev = full_dataframe.loc[full_dataframe[\"diagnostic\"] == \"NEV\"].head(52)\n",
    "df_sek = full_dataframe.loc[full_dataframe[\"diagnostic\"] == \"SEK\"].head(52)\n",
    "df_scc = full_dataframe.loc[full_dataframe[\"diagnostic\"] == \"SCC\"].head(52)\n",
    "df_mel = full_dataframe.loc[full_dataframe[\"diagnostic\"] == \"MEL\"].head(52)"
   ]
  },
  {
   "cell_type": "code",
   "execution_count": 18,
   "metadata": {},
   "outputs": [],
   "source": [
    "full_dataframe = df_bcc \\\n",
    "    .append(df_ack, ignore_index=True) \\\n",
    "    .append(df_nev, ignore_index=True) \\\n",
    "    .append(df_sek, ignore_index=True) \\\n",
    "    .append(df_scc, ignore_index=True) \\\n",
    "    .append(df_mel, ignore_index=True) "
   ]
  },
  {
   "cell_type": "code",
   "execution_count": 20,
   "metadata": {},
   "outputs": [
    {
     "data": {
      "text/plain": [
       "BCC    41\n",
       "ACK    34\n",
       "SCC     9\n",
       "SEK     8\n",
       "NEV     6\n",
       "MEL     1\n",
       "Name: diagnostic, dtype: int64"
      ]
     },
     "execution_count": 20,
     "metadata": {},
     "output_type": "execute_result"
    }
   ],
   "source": [
    "full_dataframe.diagnostic.value_counts()"
   ]
  },
  {
   "cell_type": "markdown",
   "metadata": {},
   "source": [
    "### Test image"
   ]
  },
  {
   "cell_type": "code",
   "execution_count": 27,
   "metadata": {},
   "outputs": [],
   "source": [
    "img_test = images_dataframe[\"image_array\"][0]\n",
    "file_test = images_dataframe[\"img_id\"][0]"
   ]
  },
  {
   "cell_type": "code",
   "execution_count": 28,
   "metadata": {},
   "outputs": [
    {
     "name": "stdout",
     "output_type": "stream",
     "text": [
      "PAT_615_1168_968.png\n"
     ]
    },
    {
     "data": {
      "image/png": "[encoded data removed]",
      "text/plain": [
       "<Figure size 432x288 with 1 Axes>"
      ]
     },
     "metadata": {
      "needs_background": "light"
     },
     "output_type": "display_data"
    }
   ],
   "source": [
    "print(file_test)\n",
    "plt.imshow(img_test)\n",
    "plt.show()"
   ]
  },
  {
   "cell_type": "markdown",
   "metadata": {},
   "source": [
    "### Split train, validation and test"
   ]
  },
  {
   "cell_type": "code",
   "execution_count": 29,
   "metadata": {},
   "outputs": [],
   "source": [
    "features = full_dataframe[\"image_array\"]\n",
    "target = full_dataframe[\"diagnostic\"]"
   ]
  },
  {
   "cell_type": "code",
   "execution_count": 30,
   "metadata": {},
   "outputs": [
    {
     "name": "stdout",
     "output_type": "stream",
     "text": [
      "Train examples: 69\n",
      "Validation examples: 15\n",
      "Test examples: 15\n"
     ]
    }
   ],
   "source": [
    "x_train, y_train, x_valid, y_valid, x_test, y_test = train_valid_test_split(\n",
    "    full_dataframe,\n",
    "    target = \"diagnostic\",\n",
    "    train_size=TRAIN_SIZE,\n",
    "    valid_size=VALIDATION_SIZE,\n",
    "    test_size=TEST_SIZE,\n",
    "    random_state=RANDOM_STATE)\n",
    "\n",
    "print(\"Train examples: {0}\".format(x_train.shape[0]))\n",
    "print(\"Validation examples: {0}\".format(x_valid.shape[0]))\n",
    "print(\"Test examples: {0}\".format(x_test.shape[0]))"
   ]
  },
  {
   "cell_type": "code",
   "execution_count": 31,
   "metadata": {},
   "outputs": [],
   "source": [
    "predictions_dictionary = get_classes_dictionary(y_train)"
   ]
  },
  {
   "cell_type": "code",
   "execution_count": 32,
   "metadata": {},
   "outputs": [
    {
     "data": {
      "text/plain": [
       "{'SCC': 0, 'BCC': 1, 'ACK': 2, 'NEV': 3, 'MEL': 4, 'SEK': 5}"
      ]
     },
     "execution_count": 32,
     "metadata": {},
     "output_type": "execute_result"
    }
   ],
   "source": [
    "predictions_dictionary"
   ]
  },
  {
   "cell_type": "code",
   "execution_count": 33,
   "metadata": {},
   "outputs": [],
   "source": [
    "x_train_to_array = np.asarray(x_train[\"image_array\"].tolist()).astype(np.float32)\n",
    "x_test_to_array = np.asarray(x_test[\"image_array\"].tolist()).astype(np.float32)\n",
    "x_valid_to_array = np.asarray(x_valid[\"image_array\"].tolist()).astype(np.float32)"
   ]
  },
  {
   "cell_type": "code",
   "execution_count": 34,
   "metadata": {},
   "outputs": [],
   "source": [
    "y_train_to_array = series_to_array(y_train, predictions_dictionary) \n",
    "y_test_to_array = series_to_array(y_test, predictions_dictionary) \n",
    "y_valid_to_array = series_to_array(y_valid, predictions_dictionary) "
   ]
  },
  {
   "cell_type": "markdown",
   "metadata": {},
   "source": [
    "### Data augmentation"
   ]
  },
  {
   "cell_type": "code",
   "execution_count": 35,
   "metadata": {},
   "outputs": [],
   "source": [
    "train_data_augmentation_generator = ImageDataGenerator(\n",
    "    rotation_range=20,\n",
    "    width_shift_range=0.2,\n",
    "    height_shift_range=0.2,\n",
    "    horizontal_flip=True,\n",
    ")"
   ]
  },
  {
   "cell_type": "markdown",
   "metadata": {},
   "source": [
    "### Model"
   ]
  },
  {
   "cell_type": "code",
   "execution_count": 36,
   "metadata": {},
   "outputs": [],
   "source": [
    "#initialize the pretrained model\n",
    "feature_extractor = keras.applications.ResNet50(\n",
    "    weights='imagenet', \n",
    "    input_shape=IMAGE_SHAPE,\n",
    "    include_top=False #whether to include the fully-connected layer at the top of the network.\n",
    ")"
   ]
  },
  {
   "cell_type": "code",
   "execution_count": 37,
   "metadata": {},
   "outputs": [],
   "source": [
    "feature_extractor.trainable = False #to make sure it's not being trained\n",
    "input_layer = Input(shape=IMAGE_SHAPE)\n",
    "pre_treined_model = feature_extractor(input_layer, training=False) #add input layer\n",
    "pre_treined_model_with_polling = GlobalAveragePooling2D()(pre_treined_model) #add pooling layer\n",
    "model = Model(input_layer, pre_treined_model_with_polling)"
   ]
  },
  {
   "cell_type": "code",
   "execution_count": 38,
   "metadata": {},
   "outputs": [],
   "source": [
    "model.compile()"
   ]
  },
  {
   "cell_type": "code",
   "execution_count": 40,
   "metadata": {},
   "outputs": [
    {
     "name": "stderr",
     "output_type": "stream",
     "text": [
      "2022-09-08 11:47:46.823169: I tensorflow/stream_executor/cuda/cuda_dnn.cc:384] Loaded cuDNN version 8101\n"
     ]
    }
   ],
   "source": [
    "features = model(x_train_to_array)"
   ]
  },
  {
   "cell_type": "code",
   "execution_count": 69,
   "metadata": {},
   "outputs": [],
   "source": [
    "import pickle\n",
    "\n",
    "with open('features.pkl', 'wb') as file:\n",
    "    pickle.dump(features.numpy(), file)"
   ]
  },
  {
   "cell_type": "code",
   "execution_count": 70,
   "metadata": {},
   "outputs": [],
   "source": [
    "with open('features.pkl', 'rb') as file:\n",
    "    features = pickle.load(file)"
   ]
  },
  {
   "cell_type": "code",
   "execution_count": 71,
   "metadata": {},
   "outputs": [
    {
     "data": {
      "text/plain": [
       "(69, 2048)"
      ]
     },
     "execution_count": 71,
     "metadata": {},
     "output_type": "execute_result"
    }
   ],
   "source": [
    "features.shape"
   ]
  },
  {
   "cell_type": "code",
   "execution_count": 58,
   "metadata": {},
   "outputs": [],
   "source": [
    "input_layer = Input(shape=(2048,))\n",
    "output_layer = Dense(6, activation='softmax')(input_layer)\n",
    "model = Model(input_layer, output_layer)"
   ]
  },
  {
   "cell_type": "code",
   "execution_count": null,
   "metadata": {},
   "outputs": [],
   "source": [
    "# feature_extractor.trainable = False #to make sure it's not being trained\n",
    "# input_layer = Input(shape=IMAGE_SHAPE)\n",
    "# pre_treined_model = feature_extractor(input_layer, training=False) #add input layer\n",
    "# pre_treined_model_with_polling = GlobalAveragePooling2D()(pre_treined_model) #add pooling layer\n",
    "# output_layer = Dense(6, activation='softmax')(pre_treined_model_with_polling)\n",
    "# model = Model(input_layer, output_layer)"
   ]
  },
  {
   "cell_type": "code",
   "execution_count": 59,
   "metadata": {},
   "outputs": [],
   "source": [
    "model.compile( optimizer='adam', loss='categorical_crossentropy', metrics=['accuracy'])"
   ]
  },
  {
   "cell_type": "code",
   "execution_count": 60,
   "metadata": {},
   "outputs": [
    {
     "name": "stdout",
     "output_type": "stream",
     "text": [
      "Model: \"model_5\"\n",
      "_________________________________________________________________\n",
      " Layer (type)                Output Shape              Param #   \n",
      "=================================================================\n",
      " input_8 (InputLayer)        [(None, 2048)]            0         \n",
      "                                                                 \n",
      " dense_3 (Dense)             (None, 6)                 12294     \n",
      "                                                                 \n",
      "=================================================================\n",
      "Total params: 12,294\n",
      "Trainable params: 12,294\n",
      "Non-trainable params: 0\n",
      "_________________________________________________________________\n"
     ]
    }
   ],
   "source": [
    "model.summary()"
   ]
  },
  {
   "cell_type": "markdown",
   "metadata": {},
   "source": [
    "### Train"
   ]
  },
  {
   "cell_type": "code",
   "execution_count": 61,
   "metadata": {},
   "outputs": [],
   "source": [
    "best_model_checkpoint_early_stopping = EarlyStopping(\n",
    "    monitor='val_accuracy',\n",
    "    mode='max',\n",
    "    verbose=1,\n",
    "    patience=100,\n",
    "    restore_best_weights=True\n",
    ")\n",
    "\n",
    "best_model_checkpoint = ModelCheckpoint(\n",
    "    filepath= \"/home/fernandofincatti/Documents/insper/pfe/ComputerAidedSkinCancerIdentificationAndDiagnosis/experiments/fernando/transfer-learning/test02/model\",\n",
    "    monitor='val_accuracy',\n",
    "    save_best_only= True,\n",
    "    save_weights_only = True\n",
    ")"
   ]
  },
  {
   "cell_type": "code",
   "execution_count": 62,
   "metadata": {},
   "outputs": [],
   "source": [
    "# training_history = model.fit(\n",
    "#     x = train_data_augmentation_generator.flow(\n",
    "#         x_train_to_array,\n",
    "#         y_train_to_array),\n",
    "#     epochs = EPOCHS,\n",
    "#     validation_data = (x_valid_to_array, y_valid_to_array),\n",
    "#     batch_size=8,\n",
    "#     callbacks=[best_model_checkpoint, best_model_checkpoint_early_stopping]\n",
    "# )"
   ]
  },
  {
   "cell_type": "code",
   "execution_count": 64,
   "metadata": {},
   "outputs": [
    {
     "name": "stdout",
     "output_type": "stream",
     "text": [
      "Epoch 1/250\n",
      "1/1 [==============================] - 0s 114ms/step - loss: 1.3115 - accuracy: 0.5091 - val_loss: 1.6574 - val_accuracy: 0.3571\n",
      "Epoch 2/250\n",
      "1/1 [==============================] - 0s 44ms/step - loss: 1.3115 - accuracy: 0.5091 - val_loss: 1.6556 - val_accuracy: 0.3571\n",
      "Epoch 3/250\n",
      "1/1 [==============================] - 0s 66ms/step - loss: 1.3115 - accuracy: 0.5091 - val_loss: 1.6540 - val_accuracy: 0.3571\n",
      "Epoch 4/250\n",
      "1/1 [==============================] - 0s 52ms/step - loss: 1.3115 - accuracy: 0.5091 - val_loss: 1.6526 - val_accuracy: 0.3571\n",
      "Epoch 5/250\n",
      "1/1 [==============================] - 0s 49ms/step - loss: 1.3115 - accuracy: 0.4909 - val_loss: 1.6513 - val_accuracy: 0.3571\n",
      "Epoch 6/250\n",
      "1/1 [==============================] - 0s 62ms/step - loss: 1.3115 - accuracy: 0.4909 - val_loss: 1.6502 - val_accuracy: 0.3571\n",
      "Epoch 7/250\n",
      "1/1 [==============================] - 0s 62ms/step - loss: 1.3115 - accuracy: 0.4909 - val_loss: 1.6492 - val_accuracy: 0.3571\n",
      "Epoch 8/250\n",
      "1/1 [==============================] - 0s 60ms/step - loss: 1.3115 - accuracy: 0.4727 - val_loss: 1.6484 - val_accuracy: 0.3571\n",
      "Epoch 9/250\n",
      "1/1 [==============================] - 0s 58ms/step - loss: 1.3114 - accuracy: 0.4727 - val_loss: 1.6477 - val_accuracy: 0.3571\n",
      "Epoch 10/250\n",
      "1/1 [==============================] - 0s 55ms/step - loss: 1.3114 - accuracy: 0.4727 - val_loss: 1.6471 - val_accuracy: 0.3571\n",
      "Epoch 11/250\n",
      "1/1 [==============================] - 0s 60ms/step - loss: 1.3114 - accuracy: 0.4727 - val_loss: 1.6466 - val_accuracy: 0.3571\n",
      "Epoch 12/250\n",
      "1/1 [==============================] - 0s 65ms/step - loss: 1.3114 - accuracy: 0.4727 - val_loss: 1.6462 - val_accuracy: 0.3571\n",
      "Epoch 13/250\n",
      "1/1 [==============================] - 0s 63ms/step - loss: 1.3113 - accuracy: 0.4909 - val_loss: 1.6458 - val_accuracy: 0.3571\n",
      "Epoch 14/250\n",
      "1/1 [==============================] - 0s 54ms/step - loss: 1.3113 - accuracy: 0.4909 - val_loss: 1.6456 - val_accuracy: 0.3571\n",
      "Epoch 15/250\n",
      "1/1 [==============================] - 0s 55ms/step - loss: 1.3113 - accuracy: 0.4909 - val_loss: 1.6454 - val_accuracy: 0.3571\n",
      "Epoch 16/250\n",
      "1/1 [==============================] - 0s 61ms/step - loss: 1.3112 - accuracy: 0.4909 - val_loss: 1.6453 - val_accuracy: 0.3571\n",
      "Epoch 17/250\n",
      "1/1 [==============================] - 0s 58ms/step - loss: 1.3112 - accuracy: 0.4909 - val_loss: 1.6453 - val_accuracy: 0.3571\n",
      "Epoch 18/250\n",
      "1/1 [==============================] - 0s 55ms/step - loss: 1.3111 - accuracy: 0.5091 - val_loss: 1.6453 - val_accuracy: 0.3571\n",
      "Epoch 19/250\n",
      "1/1 [==============================] - 0s 51ms/step - loss: 1.3111 - accuracy: 0.5091 - val_loss: 1.6454 - val_accuracy: 0.3571\n",
      "Epoch 20/250\n",
      "1/1 [==============================] - 0s 52ms/step - loss: 1.3111 - accuracy: 0.5091 - val_loss: 1.6455 - val_accuracy: 0.3571\n",
      "Epoch 21/250\n",
      "1/1 [==============================] - 0s 58ms/step - loss: 1.3110 - accuracy: 0.5091 - val_loss: 1.6456 - val_accuracy: 0.3571\n",
      "Epoch 22/250\n",
      "1/1 [==============================] - 0s 57ms/step - loss: 1.3110 - accuracy: 0.5091 - val_loss: 1.6457 - val_accuracy: 0.3571\n",
      "Epoch 23/250\n",
      "1/1 [==============================] - 0s 59ms/step - loss: 1.3110 - accuracy: 0.5091 - val_loss: 1.6459 - val_accuracy: 0.3571\n",
      "Epoch 24/250\n",
      "1/1 [==============================] - 0s 64ms/step - loss: 1.3109 - accuracy: 0.5091 - val_loss: 1.6461 - val_accuracy: 0.3571\n",
      "Epoch 25/250\n",
      "1/1 [==============================] - 0s 50ms/step - loss: 1.3109 - accuracy: 0.5091 - val_loss: 1.6464 - val_accuracy: 0.3571\n",
      "Epoch 26/250\n",
      "1/1 [==============================] - 0s 57ms/step - loss: 1.3109 - accuracy: 0.5091 - val_loss: 1.6466 - val_accuracy: 0.3571\n",
      "Epoch 27/250\n",
      "1/1 [==============================] - 0s 57ms/step - loss: 1.3108 - accuracy: 0.5091 - val_loss: 1.6469 - val_accuracy: 0.3571\n",
      "Epoch 28/250\n",
      "1/1 [==============================] - 0s 59ms/step - loss: 1.3108 - accuracy: 0.5091 - val_loss: 1.6471 - val_accuracy: 0.3571\n",
      "Epoch 29/250\n",
      "1/1 [==============================] - 0s 66ms/step - loss: 1.3108 - accuracy: 0.5091 - val_loss: 1.6474 - val_accuracy: 0.3571\n",
      "Epoch 30/250\n",
      "1/1 [==============================] - 0s 56ms/step - loss: 1.3107 - accuracy: 0.5091 - val_loss: 1.6476 - val_accuracy: 0.3571\n",
      "Epoch 31/250\n",
      "1/1 [==============================] - 0s 52ms/step - loss: 1.3107 - accuracy: 0.5091 - val_loss: 1.6479 - val_accuracy: 0.3571\n",
      "Epoch 32/250\n",
      "1/1 [==============================] - 0s 57ms/step - loss: 1.3107 - accuracy: 0.5091 - val_loss: 1.6482 - val_accuracy: 0.3571\n",
      "Epoch 33/250\n",
      "1/1 [==============================] - 0s 67ms/step - loss: 1.3106 - accuracy: 0.5091 - val_loss: 1.6484 - val_accuracy: 0.3571\n",
      "Epoch 34/250\n",
      "1/1 [==============================] - 0s 67ms/step - loss: 1.3106 - accuracy: 0.5091 - val_loss: 1.6487 - val_accuracy: 0.3571\n",
      "Epoch 35/250\n",
      "1/1 [==============================] - 0s 67ms/step - loss: 1.3106 - accuracy: 0.5091 - val_loss: 1.6489 - val_accuracy: 0.3571\n",
      "Epoch 36/250\n",
      "1/1 [==============================] - 0s 72ms/step - loss: 1.3106 - accuracy: 0.5091 - val_loss: 1.6491 - val_accuracy: 0.3571\n",
      "Epoch 37/250\n",
      "1/1 [==============================] - 0s 58ms/step - loss: 1.3105 - accuracy: 0.5091 - val_loss: 1.6494 - val_accuracy: 0.3571\n",
      "Epoch 38/250\n",
      "1/1 [==============================] - 0s 63ms/step - loss: 1.3105 - accuracy: 0.5091 - val_loss: 1.6496 - val_accuracy: 0.3571\n",
      "Epoch 39/250\n",
      "1/1 [==============================] - 0s 60ms/step - loss: 1.3105 - accuracy: 0.5091 - val_loss: 1.6498 - val_accuracy: 0.3571\n",
      "Epoch 40/250\n",
      "1/1 [==============================] - 0s 69ms/step - loss: 1.3104 - accuracy: 0.5091 - val_loss: 1.6500 - val_accuracy: 0.3571\n",
      "Epoch 41/250\n",
      "1/1 [==============================] - 0s 60ms/step - loss: 1.3104 - accuracy: 0.5091 - val_loss: 1.6502 - val_accuracy: 0.3571\n",
      "Epoch 42/250\n",
      "1/1 [==============================] - 0s 64ms/step - loss: 1.3104 - accuracy: 0.5091 - val_loss: 1.6504 - val_accuracy: 0.3571\n",
      "Epoch 43/250\n",
      "1/1 [==============================] - 0s 59ms/step - loss: 1.3103 - accuracy: 0.5091 - val_loss: 1.6506 - val_accuracy: 0.3571\n",
      "Epoch 44/250\n",
      "1/1 [==============================] - 0s 66ms/step - loss: 1.3103 - accuracy: 0.5091 - val_loss: 1.6508 - val_accuracy: 0.3571\n",
      "Epoch 45/250\n",
      "1/1 [==============================] - 0s 66ms/step - loss: 1.3103 - accuracy: 0.5091 - val_loss: 1.6510 - val_accuracy: 0.3571\n",
      "Epoch 46/250\n",
      "1/1 [==============================] - 0s 67ms/step - loss: 1.3103 - accuracy: 0.5091 - val_loss: 1.6511 - val_accuracy: 0.3571\n",
      "Epoch 47/250\n",
      "1/1 [==============================] - 0s 58ms/step - loss: 1.3102 - accuracy: 0.5091 - val_loss: 1.6513 - val_accuracy: 0.3571\n",
      "Epoch 48/250\n",
      "1/1 [==============================] - 0s 59ms/step - loss: 1.3102 - accuracy: 0.5091 - val_loss: 1.6514 - val_accuracy: 0.3571\n",
      "Epoch 49/250\n",
      "1/1 [==============================] - 0s 61ms/step - loss: 1.3102 - accuracy: 0.5091 - val_loss: 1.6516 - val_accuracy: 0.3571\n",
      "Epoch 50/250\n",
      "1/1 [==============================] - 0s 50ms/step - loss: 1.3101 - accuracy: 0.5091 - val_loss: 1.6517 - val_accuracy: 0.3571\n",
      "Epoch 51/250\n",
      "1/1 [==============================] - 0s 66ms/step - loss: 1.3101 - accuracy: 0.5091 - val_loss: 1.6518 - val_accuracy: 0.3571\n",
      "Epoch 52/250\n",
      "1/1 [==============================] - 0s 56ms/step - loss: 1.3101 - accuracy: 0.5091 - val_loss: 1.6520 - val_accuracy: 0.3571\n",
      "Epoch 53/250\n",
      "1/1 [==============================] - 0s 53ms/step - loss: 1.3101 - accuracy: 0.5091 - val_loss: 1.6521 - val_accuracy: 0.3571\n",
      "Epoch 54/250\n",
      "1/1 [==============================] - 0s 55ms/step - loss: 1.3100 - accuracy: 0.5091 - val_loss: 1.6522 - val_accuracy: 0.3571\n",
      "Epoch 55/250\n",
      "1/1 [==============================] - 0s 52ms/step - loss: 1.3100 - accuracy: 0.5091 - val_loss: 1.6523 - val_accuracy: 0.3571\n",
      "Epoch 56/250\n",
      "1/1 [==============================] - 0s 49ms/step - loss: 1.3100 - accuracy: 0.5091 - val_loss: 1.6524 - val_accuracy: 0.3571\n",
      "Epoch 57/250\n",
      "1/1 [==============================] - 0s 58ms/step - loss: 1.3099 - accuracy: 0.5091 - val_loss: 1.6525 - val_accuracy: 0.3571\n",
      "Epoch 58/250\n",
      "1/1 [==============================] - 0s 53ms/step - loss: 1.3099 - accuracy: 0.5091 - val_loss: 1.6526 - val_accuracy: 0.3571\n",
      "Epoch 59/250\n",
      "1/1 [==============================] - 0s 62ms/step - loss: 1.3099 - accuracy: 0.5091 - val_loss: 1.6527 - val_accuracy: 0.3571\n",
      "Epoch 60/250\n",
      "1/1 [==============================] - 0s 54ms/step - loss: 1.3098 - accuracy: 0.5091 - val_loss: 1.6528 - val_accuracy: 0.3571\n",
      "Epoch 61/250\n",
      "1/1 [==============================] - 0s 48ms/step - loss: 1.3098 - accuracy: 0.5091 - val_loss: 1.6529 - val_accuracy: 0.3571\n",
      "Epoch 62/250\n",
      "1/1 [==============================] - 0s 62ms/step - loss: 1.3098 - accuracy: 0.5091 - val_loss: 1.6529 - val_accuracy: 0.3571\n",
      "Epoch 63/250\n",
      "1/1 [==============================] - 0s 66ms/step - loss: 1.3098 - accuracy: 0.5091 - val_loss: 1.6530 - val_accuracy: 0.3571\n",
      "Epoch 64/250\n",
      "1/1 [==============================] - 0s 58ms/step - loss: 1.3097 - accuracy: 0.5091 - val_loss: 1.6531 - val_accuracy: 0.3571\n",
      "Epoch 65/250\n",
      "1/1 [==============================] - 0s 73ms/step - loss: 1.3097 - accuracy: 0.5091 - val_loss: 1.6531 - val_accuracy: 0.3571\n",
      "Epoch 66/250\n",
      "1/1 [==============================] - 0s 48ms/step - loss: 1.3097 - accuracy: 0.5091 - val_loss: 1.6532 - val_accuracy: 0.3571\n",
      "Epoch 67/250\n",
      "1/1 [==============================] - 0s 47ms/step - loss: 1.3096 - accuracy: 0.5091 - val_loss: 1.6533 - val_accuracy: 0.3571\n",
      "Epoch 68/250\n",
      "1/1 [==============================] - 0s 56ms/step - loss: 1.3096 - accuracy: 0.5091 - val_loss: 1.6533 - val_accuracy: 0.3571\n",
      "Epoch 69/250\n",
      "1/1 [==============================] - 0s 56ms/step - loss: 1.3096 - accuracy: 0.5091 - val_loss: 1.6534 - val_accuracy: 0.3571\n",
      "Epoch 70/250\n",
      "1/1 [==============================] - 0s 50ms/step - loss: 1.3096 - accuracy: 0.5091 - val_loss: 1.6534 - val_accuracy: 0.3571\n",
      "Epoch 71/250\n",
      "1/1 [==============================] - 0s 50ms/step - loss: 1.3095 - accuracy: 0.5091 - val_loss: 1.6535 - val_accuracy: 0.3571\n",
      "Epoch 72/250\n",
      "1/1 [==============================] - 0s 46ms/step - loss: 1.3095 - accuracy: 0.5091 - val_loss: 1.6535 - val_accuracy: 0.3571\n",
      "Epoch 73/250\n",
      "1/1 [==============================] - 0s 56ms/step - loss: 1.3095 - accuracy: 0.5091 - val_loss: 1.6535 - val_accuracy: 0.3571\n",
      "Epoch 74/250\n",
      "1/1 [==============================] - 0s 57ms/step - loss: 1.3094 - accuracy: 0.5091 - val_loss: 1.6536 - val_accuracy: 0.3571\n",
      "Epoch 75/250\n",
      "1/1 [==============================] - 0s 50ms/step - loss: 1.3094 - accuracy: 0.5091 - val_loss: 1.6536 - val_accuracy: 0.3571\n",
      "Epoch 76/250\n",
      "1/1 [==============================] - 0s 50ms/step - loss: 1.3094 - accuracy: 0.5091 - val_loss: 1.6537 - val_accuracy: 0.3571\n",
      "Epoch 77/250\n",
      "1/1 [==============================] - 0s 56ms/step - loss: 1.3094 - accuracy: 0.5091 - val_loss: 1.6537 - val_accuracy: 0.3571\n",
      "Epoch 78/250\n",
      "1/1 [==============================] - 0s 53ms/step - loss: 1.3093 - accuracy: 0.5091 - val_loss: 1.6537 - val_accuracy: 0.3571\n",
      "Epoch 79/250\n",
      "1/1 [==============================] - 0s 54ms/step - loss: 1.3093 - accuracy: 0.5091 - val_loss: 1.6537 - val_accuracy: 0.3571\n",
      "Epoch 80/250\n",
      "1/1 [==============================] - 0s 49ms/step - loss: 1.3093 - accuracy: 0.5091 - val_loss: 1.6538 - val_accuracy: 0.3571\n",
      "Epoch 81/250\n",
      "1/1 [==============================] - 0s 54ms/step - loss: 1.3092 - accuracy: 0.5091 - val_loss: 1.6538 - val_accuracy: 0.3571\n",
      "Epoch 82/250\n",
      "1/1 [==============================] - 0s 51ms/step - loss: 1.3092 - accuracy: 0.5091 - val_loss: 1.6538 - val_accuracy: 0.3571\n",
      "Epoch 83/250\n",
      "1/1 [==============================] - 0s 52ms/step - loss: 1.3092 - accuracy: 0.5091 - val_loss: 1.6538 - val_accuracy: 0.3571\n",
      "Epoch 84/250\n",
      "1/1 [==============================] - 0s 55ms/step - loss: 1.3092 - accuracy: 0.5091 - val_loss: 1.6538 - val_accuracy: 0.3571\n",
      "Epoch 85/250\n",
      "1/1 [==============================] - 0s 54ms/step - loss: 1.3091 - accuracy: 0.5091 - val_loss: 1.6538 - val_accuracy: 0.3571\n",
      "Epoch 86/250\n",
      "1/1 [==============================] - 0s 62ms/step - loss: 1.3091 - accuracy: 0.5091 - val_loss: 1.6539 - val_accuracy: 0.3571\n",
      "Epoch 87/250\n",
      "1/1 [==============================] - 0s 66ms/step - loss: 1.3091 - accuracy: 0.5091 - val_loss: 1.6539 - val_accuracy: 0.3571\n",
      "Epoch 88/250\n",
      "1/1 [==============================] - 0s 68ms/step - loss: 1.3090 - accuracy: 0.5091 - val_loss: 1.6539 - val_accuracy: 0.3571\n",
      "Epoch 89/250\n",
      "1/1 [==============================] - 0s 70ms/step - loss: 1.3090 - accuracy: 0.5091 - val_loss: 1.6539 - val_accuracy: 0.3571\n",
      "Epoch 90/250\n",
      "1/1 [==============================] - 0s 55ms/step - loss: 1.3090 - accuracy: 0.5091 - val_loss: 1.6539 - val_accuracy: 0.3571\n",
      "Epoch 91/250\n",
      "1/1 [==============================] - 0s 53ms/step - loss: 1.3090 - accuracy: 0.5091 - val_loss: 1.6539 - val_accuracy: 0.3571\n",
      "Epoch 92/250\n",
      "1/1 [==============================] - 0s 53ms/step - loss: 1.3089 - accuracy: 0.5091 - val_loss: 1.6539 - val_accuracy: 0.3571\n",
      "Epoch 93/250\n",
      "1/1 [==============================] - 0s 57ms/step - loss: 1.3089 - accuracy: 0.5091 - val_loss: 1.6539 - val_accuracy: 0.3571\n",
      "Epoch 94/250\n",
      "1/1 [==============================] - 0s 69ms/step - loss: 1.3089 - accuracy: 0.5091 - val_loss: 1.6539 - val_accuracy: 0.3571\n",
      "Epoch 95/250\n",
      "1/1 [==============================] - 0s 65ms/step - loss: 1.3088 - accuracy: 0.5091 - val_loss: 1.6539 - val_accuracy: 0.3571\n",
      "Epoch 96/250\n",
      "1/1 [==============================] - 0s 64ms/step - loss: 1.3088 - accuracy: 0.5091 - val_loss: 1.6539 - val_accuracy: 0.3571\n",
      "Epoch 97/250\n",
      "1/1 [==============================] - 0s 76ms/step - loss: 1.3088 - accuracy: 0.5091 - val_loss: 1.6539 - val_accuracy: 0.3571\n",
      "Epoch 98/250\n",
      "1/1 [==============================] - 0s 70ms/step - loss: 1.3088 - accuracy: 0.5091 - val_loss: 1.6539 - val_accuracy: 0.3571\n",
      "Epoch 99/250\n",
      "1/1 [==============================] - 0s 57ms/step - loss: 1.3087 - accuracy: 0.5091 - val_loss: 1.6539 - val_accuracy: 0.3571\n",
      "Epoch 100/250\n",
      "1/1 [==============================] - 0s 52ms/step - loss: 1.3087 - accuracy: 0.5091 - val_loss: 1.6539 - val_accuracy: 0.3571\n",
      "Epoch 101/250\n",
      "1/1 [==============================] - 0s 59ms/step - loss: 1.3087 - accuracy: 0.5091 - val_loss: 1.6539 - val_accuracy: 0.3571\n",
      "Epoch 102/250\n",
      "1/1 [==============================] - 0s 54ms/step - loss: 1.3086 - accuracy: 0.5091 - val_loss: 1.6539 - val_accuracy: 0.3571\n",
      "Epoch 103/250\n",
      "1/1 [==============================] - 0s 58ms/step - loss: 1.3086 - accuracy: 0.5091 - val_loss: 1.6539 - val_accuracy: 0.3571\n",
      "Epoch 104/250\n",
      "1/1 [==============================] - 0s 60ms/step - loss: 1.3086 - accuracy: 0.5091 - val_loss: 1.6539 - val_accuracy: 0.3571\n",
      "Epoch 105/250\n",
      "1/1 [==============================] - 0s 72ms/step - loss: 1.3086 - accuracy: 0.5091 - val_loss: 1.6539 - val_accuracy: 0.3571\n",
      "Epoch 106/250\n",
      "1/1 [==============================] - 0s 68ms/step - loss: 1.3085 - accuracy: 0.5091 - val_loss: 1.6539 - val_accuracy: 0.3571\n",
      "Epoch 107/250\n",
      "1/1 [==============================] - 0s 59ms/step - loss: 1.3085 - accuracy: 0.5091 - val_loss: 1.6539 - val_accuracy: 0.3571\n",
      "Epoch 108/250\n",
      "1/1 [==============================] - 0s 60ms/step - loss: 1.3085 - accuracy: 0.5091 - val_loss: 1.6539 - val_accuracy: 0.3571\n",
      "Epoch 109/250\n",
      "1/1 [==============================] - 0s 64ms/step - loss: 1.3084 - accuracy: 0.5091 - val_loss: 1.6539 - val_accuracy: 0.3571\n",
      "Epoch 110/250\n",
      "1/1 [==============================] - 0s 59ms/step - loss: 1.3084 - accuracy: 0.5091 - val_loss: 1.6538 - val_accuracy: 0.3571\n",
      "Epoch 111/250\n",
      "1/1 [==============================] - 0s 61ms/step - loss: 1.3084 - accuracy: 0.5091 - val_loss: 1.6538 - val_accuracy: 0.3571\n",
      "Epoch 112/250\n",
      "1/1 [==============================] - 0s 61ms/step - loss: 1.3083 - accuracy: 0.5091 - val_loss: 1.6538 - val_accuracy: 0.3571\n",
      "Epoch 113/250\n",
      "1/1 [==============================] - 0s 56ms/step - loss: 1.3083 - accuracy: 0.5091 - val_loss: 1.6538 - val_accuracy: 0.3571\n",
      "Epoch 114/250\n",
      "1/1 [==============================] - 0s 60ms/step - loss: 1.3083 - accuracy: 0.5091 - val_loss: 1.6538 - val_accuracy: 0.3571\n",
      "Epoch 115/250\n",
      "1/1 [==============================] - 0s 62ms/step - loss: 1.3083 - accuracy: 0.5091 - val_loss: 1.6538 - val_accuracy: 0.3571\n",
      "Epoch 116/250\n",
      "1/1 [==============================] - 0s 54ms/step - loss: 1.3082 - accuracy: 0.5091 - val_loss: 1.6538 - val_accuracy: 0.3571\n",
      "Epoch 117/250\n",
      "1/1 [==============================] - 0s 58ms/step - loss: 1.3082 - accuracy: 0.5091 - val_loss: 1.6538 - val_accuracy: 0.3571\n",
      "Epoch 118/250\n",
      "1/1 [==============================] - 0s 59ms/step - loss: 1.3082 - accuracy: 0.5091 - val_loss: 1.6538 - val_accuracy: 0.3571\n",
      "Epoch 119/250\n",
      "1/1 [==============================] - 0s 56ms/step - loss: 1.3081 - accuracy: 0.5091 - val_loss: 1.6538 - val_accuracy: 0.3571\n",
      "Epoch 120/250\n",
      "1/1 [==============================] - 0s 57ms/step - loss: 1.3081 - accuracy: 0.5091 - val_loss: 1.6538 - val_accuracy: 0.3571\n",
      "Epoch 121/250\n",
      "1/1 [==============================] - 0s 57ms/step - loss: 1.3081 - accuracy: 0.5091 - val_loss: 1.6538 - val_accuracy: 0.3571\n",
      "Epoch 122/250\n",
      "1/1 [==============================] - 0s 55ms/step - loss: 1.3081 - accuracy: 0.5091 - val_loss: 1.6538 - val_accuracy: 0.3571\n",
      "Epoch 123/250\n",
      "1/1 [==============================] - 0s 55ms/step - loss: 1.3080 - accuracy: 0.5091 - val_loss: 1.6538 - val_accuracy: 0.3571\n",
      "Epoch 124/250\n",
      "1/1 [==============================] - 0s 59ms/step - loss: 1.3080 - accuracy: 0.5091 - val_loss: 1.6538 - val_accuracy: 0.3571\n",
      "Epoch 125/250\n",
      "1/1 [==============================] - 0s 51ms/step - loss: 1.3080 - accuracy: 0.5091 - val_loss: 1.6538 - val_accuracy: 0.3571\n",
      "Epoch 126/250\n",
      "1/1 [==============================] - 0s 58ms/step - loss: 1.3079 - accuracy: 0.5091 - val_loss: 1.6538 - val_accuracy: 0.3571\n",
      "Epoch 127/250\n",
      "1/1 [==============================] - 0s 59ms/step - loss: 1.3079 - accuracy: 0.5091 - val_loss: 1.6538 - val_accuracy: 0.3571\n",
      "Epoch 128/250\n",
      "1/1 [==============================] - 0s 55ms/step - loss: 1.3079 - accuracy: 0.5091 - val_loss: 1.6537 - val_accuracy: 0.3571\n",
      "Epoch 129/250\n",
      "1/1 [==============================] - 0s 50ms/step - loss: 1.3078 - accuracy: 0.5091 - val_loss: 1.6537 - val_accuracy: 0.3571\n",
      "Epoch 130/250\n",
      "1/1 [==============================] - 0s 55ms/step - loss: 1.3078 - accuracy: 0.5091 - val_loss: 1.6537 - val_accuracy: 0.3571\n",
      "Epoch 131/250\n",
      "1/1 [==============================] - 0s 55ms/step - loss: 1.3078 - accuracy: 0.5091 - val_loss: 1.6537 - val_accuracy: 0.3571\n",
      "Epoch 132/250\n",
      "1/1 [==============================] - 0s 51ms/step - loss: 1.3078 - accuracy: 0.5091 - val_loss: 1.6537 - val_accuracy: 0.3571\n",
      "Epoch 133/250\n",
      "1/1 [==============================] - 0s 49ms/step - loss: 1.3077 - accuracy: 0.5091 - val_loss: 1.6537 - val_accuracy: 0.3571\n",
      "Epoch 134/250\n",
      "1/1 [==============================] - 0s 66ms/step - loss: 1.3077 - accuracy: 0.5091 - val_loss: 1.6537 - val_accuracy: 0.3571\n",
      "Epoch 135/250\n",
      "1/1 [==============================] - 0s 60ms/step - loss: 1.3077 - accuracy: 0.5091 - val_loss: 1.6537 - val_accuracy: 0.3571\n",
      "Epoch 136/250\n",
      "1/1 [==============================] - 0s 54ms/step - loss: 1.3076 - accuracy: 0.5091 - val_loss: 1.6537 - val_accuracy: 0.3571\n",
      "Epoch 137/250\n",
      "1/1 [==============================] - 0s 56ms/step - loss: 1.3076 - accuracy: 0.5091 - val_loss: 1.6537 - val_accuracy: 0.3571\n",
      "Epoch 138/250\n",
      "1/1 [==============================] - 0s 52ms/step - loss: 1.3076 - accuracy: 0.5091 - val_loss: 1.6537 - val_accuracy: 0.3571\n",
      "Epoch 139/250\n",
      "1/1 [==============================] - 0s 56ms/step - loss: 1.3076 - accuracy: 0.5091 - val_loss: 1.6537 - val_accuracy: 0.3571\n",
      "Epoch 140/250\n",
      "1/1 [==============================] - 0s 53ms/step - loss: 1.3075 - accuracy: 0.5091 - val_loss: 1.6537 - val_accuracy: 0.3571\n",
      "Epoch 141/250\n",
      "1/1 [==============================] - 0s 72ms/step - loss: 1.3075 - accuracy: 0.5091 - val_loss: 1.6537 - val_accuracy: 0.3571\n",
      "Epoch 142/250\n",
      "1/1 [==============================] - 0s 76ms/step - loss: 1.3075 - accuracy: 0.5091 - val_loss: 1.6537 - val_accuracy: 0.3571\n",
      "Epoch 143/250\n",
      "1/1 [==============================] - 0s 77ms/step - loss: 1.3074 - accuracy: 0.5091 - val_loss: 1.6537 - val_accuracy: 0.3571\n",
      "Epoch 144/250\n",
      "1/1 [==============================] - 0s 59ms/step - loss: 1.3074 - accuracy: 0.5091 - val_loss: 1.6536 - val_accuracy: 0.3571\n",
      "Epoch 145/250\n",
      "1/1 [==============================] - 0s 72ms/step - loss: 1.3074 - accuracy: 0.5091 - val_loss: 1.6536 - val_accuracy: 0.3571\n",
      "Epoch 146/250\n",
      "1/1 [==============================] - 0s 51ms/step - loss: 1.3073 - accuracy: 0.5091 - val_loss: 1.6536 - val_accuracy: 0.3571\n",
      "Epoch 147/250\n",
      "1/1 [==============================] - 0s 54ms/step - loss: 1.3073 - accuracy: 0.5091 - val_loss: 1.6536 - val_accuracy: 0.3571\n",
      "Epoch 148/250\n",
      "1/1 [==============================] - 0s 55ms/step - loss: 1.3073 - accuracy: 0.5091 - val_loss: 1.6536 - val_accuracy: 0.3571\n",
      "Epoch 149/250\n",
      "1/1 [==============================] - 0s 47ms/step - loss: 1.3073 - accuracy: 0.5091 - val_loss: 1.6536 - val_accuracy: 0.3571\n",
      "Epoch 150/250\n",
      "1/1 [==============================] - 0s 50ms/step - loss: 1.3072 - accuracy: 0.5091 - val_loss: 1.6536 - val_accuracy: 0.3571\n",
      "Epoch 151/250\n",
      "1/1 [==============================] - 0s 52ms/step - loss: 1.3072 - accuracy: 0.5091 - val_loss: 1.6536 - val_accuracy: 0.3571\n",
      "Epoch 152/250\n",
      "1/1 [==============================] - 0s 50ms/step - loss: 1.3072 - accuracy: 0.5091 - val_loss: 1.6536 - val_accuracy: 0.3571\n",
      "Epoch 153/250\n",
      "1/1 [==============================] - 0s 46ms/step - loss: 1.3071 - accuracy: 0.5091 - val_loss: 1.6536 - val_accuracy: 0.3571\n",
      "Epoch 154/250\n",
      "1/1 [==============================] - 0s 48ms/step - loss: 1.3071 - accuracy: 0.5091 - val_loss: 1.6536 - val_accuracy: 0.3571\n",
      "Epoch 155/250\n",
      "1/1 [==============================] - 0s 48ms/step - loss: 1.3071 - accuracy: 0.5091 - val_loss: 1.6536 - val_accuracy: 0.3571\n",
      "Epoch 156/250\n",
      "1/1 [==============================] - 0s 51ms/step - loss: 1.3071 - accuracy: 0.5091 - val_loss: 1.6536 - val_accuracy: 0.3571\n",
      "Epoch 157/250\n",
      "1/1 [==============================] - 0s 43ms/step - loss: 1.3070 - accuracy: 0.5091 - val_loss: 1.6536 - val_accuracy: 0.3571\n",
      "Epoch 158/250\n",
      "1/1 [==============================] - 0s 49ms/step - loss: 1.3070 - accuracy: 0.5091 - val_loss: 1.6536 - val_accuracy: 0.3571\n",
      "Epoch 159/250\n",
      "1/1 [==============================] - 0s 44ms/step - loss: 1.3070 - accuracy: 0.5091 - val_loss: 1.6536 - val_accuracy: 0.3571\n",
      "Epoch 160/250\n",
      "1/1 [==============================] - 0s 43ms/step - loss: 1.3069 - accuracy: 0.5091 - val_loss: 1.6536 - val_accuracy: 0.3571\n",
      "Epoch 161/250\n",
      "1/1 [==============================] - 0s 41ms/step - loss: 1.3069 - accuracy: 0.5091 - val_loss: 1.6536 - val_accuracy: 0.3571\n",
      "Epoch 162/250\n",
      "1/1 [==============================] - 0s 60ms/step - loss: 1.3069 - accuracy: 0.5091 - val_loss: 1.6535 - val_accuracy: 0.3571\n",
      "Epoch 163/250\n",
      "1/1 [==============================] - 0s 43ms/step - loss: 1.3068 - accuracy: 0.5091 - val_loss: 1.6535 - val_accuracy: 0.3571\n",
      "Epoch 164/250\n",
      "1/1 [==============================] - 0s 45ms/step - loss: 1.3068 - accuracy: 0.5091 - val_loss: 1.6535 - val_accuracy: 0.3571\n",
      "Epoch 165/250\n",
      "1/1 [==============================] - 0s 43ms/step - loss: 1.3068 - accuracy: 0.5091 - val_loss: 1.6535 - val_accuracy: 0.3571\n",
      "Epoch 166/250\n",
      "1/1 [==============================] - 0s 43ms/step - loss: 1.3068 - accuracy: 0.5091 - val_loss: 1.6535 - val_accuracy: 0.3571\n",
      "Epoch 167/250\n",
      "1/1 [==============================] - 0s 44ms/step - loss: 1.3067 - accuracy: 0.5091 - val_loss: 1.6535 - val_accuracy: 0.3571\n",
      "Epoch 168/250\n",
      "1/1 [==============================] - 0s 42ms/step - loss: 1.3067 - accuracy: 0.5091 - val_loss: 1.6535 - val_accuracy: 0.3571\n",
      "Epoch 169/250\n",
      "1/1 [==============================] - 0s 44ms/step - loss: 1.3067 - accuracy: 0.5091 - val_loss: 1.6535 - val_accuracy: 0.3571\n",
      "Epoch 170/250\n",
      "1/1 [==============================] - 0s 42ms/step - loss: 1.3066 - accuracy: 0.5091 - val_loss: 1.6535 - val_accuracy: 0.3571\n",
      "Epoch 171/250\n",
      "1/1 [==============================] - 0s 42ms/step - loss: 1.3066 - accuracy: 0.5091 - val_loss: 1.6535 - val_accuracy: 0.3571\n",
      "Epoch 172/250\n",
      "1/1 [==============================] - 0s 50ms/step - loss: 1.3066 - accuracy: 0.5091 - val_loss: 1.6535 - val_accuracy: 0.3571\n",
      "Epoch 173/250\n",
      "1/1 [==============================] - 0s 43ms/step - loss: 1.3065 - accuracy: 0.5091 - val_loss: 1.6535 - val_accuracy: 0.3571\n",
      "Epoch 174/250\n",
      "1/1 [==============================] - 0s 46ms/step - loss: 1.3065 - accuracy: 0.5091 - val_loss: 1.6535 - val_accuracy: 0.3571\n",
      "Epoch 175/250\n",
      "1/1 [==============================] - 0s 44ms/step - loss: 1.3065 - accuracy: 0.5091 - val_loss: 1.6535 - val_accuracy: 0.3571\n",
      "Epoch 176/250\n",
      "1/1 [==============================] - 0s 41ms/step - loss: 1.3065 - accuracy: 0.5091 - val_loss: 1.6535 - val_accuracy: 0.3571\n",
      "Epoch 177/250\n",
      "1/1 [==============================] - 0s 42ms/step - loss: 1.3064 - accuracy: 0.5091 - val_loss: 1.6535 - val_accuracy: 0.3571\n",
      "Epoch 178/250\n",
      "1/1 [==============================] - 0s 43ms/step - loss: 1.3064 - accuracy: 0.5091 - val_loss: 1.6535 - val_accuracy: 0.3571\n",
      "Epoch 179/250\n",
      "1/1 [==============================] - 0s 40ms/step - loss: 1.3064 - accuracy: 0.5091 - val_loss: 1.6535 - val_accuracy: 0.3571\n",
      "Epoch 180/250\n",
      "1/1 [==============================] - 0s 40ms/step - loss: 1.3063 - accuracy: 0.5091 - val_loss: 1.6535 - val_accuracy: 0.3571\n",
      "Epoch 181/250\n",
      "1/1 [==============================] - 0s 49ms/step - loss: 1.3063 - accuracy: 0.5091 - val_loss: 1.6535 - val_accuracy: 0.3571\n",
      "Epoch 182/250\n",
      "1/1 [==============================] - 0s 44ms/step - loss: 1.3063 - accuracy: 0.5091 - val_loss: 1.6534 - val_accuracy: 0.3571\n",
      "Epoch 183/250\n",
      "1/1 [==============================] - 0s 46ms/step - loss: 1.3062 - accuracy: 0.5091 - val_loss: 1.6534 - val_accuracy: 0.3571\n",
      "Epoch 184/250\n",
      "1/1 [==============================] - 0s 43ms/step - loss: 1.3062 - accuracy: 0.5091 - val_loss: 1.6534 - val_accuracy: 0.3571\n",
      "Epoch 185/250\n",
      "1/1 [==============================] - 0s 41ms/step - loss: 1.3062 - accuracy: 0.5091 - val_loss: 1.6534 - val_accuracy: 0.3571\n",
      "Epoch 186/250\n",
      "1/1 [==============================] - 0s 46ms/step - loss: 1.3062 - accuracy: 0.5091 - val_loss: 1.6534 - val_accuracy: 0.3571\n",
      "Epoch 187/250\n",
      "1/1 [==============================] - 0s 62ms/step - loss: 1.3061 - accuracy: 0.5091 - val_loss: 1.6534 - val_accuracy: 0.3571\n",
      "Epoch 188/250\n",
      "1/1 [==============================] - 0s 72ms/step - loss: 1.3061 - accuracy: 0.5091 - val_loss: 1.6534 - val_accuracy: 0.3571\n",
      "Epoch 189/250\n",
      "1/1 [==============================] - 0s 60ms/step - loss: 1.3061 - accuracy: 0.5091 - val_loss: 1.6534 - val_accuracy: 0.3571\n",
      "Epoch 190/250\n",
      "1/1 [==============================] - 0s 46ms/step - loss: 1.3060 - accuracy: 0.5091 - val_loss: 1.6534 - val_accuracy: 0.3571\n",
      "Epoch 191/250\n",
      "1/1 [==============================] - 0s 50ms/step - loss: 1.3060 - accuracy: 0.5091 - val_loss: 1.6534 - val_accuracy: 0.3571\n",
      "Epoch 192/250\n",
      "1/1 [==============================] - 0s 59ms/step - loss: 1.3060 - accuracy: 0.5091 - val_loss: 1.6534 - val_accuracy: 0.3571\n",
      "Epoch 193/250\n",
      "1/1 [==============================] - 0s 55ms/step - loss: 1.3059 - accuracy: 0.5091 - val_loss: 1.6534 - val_accuracy: 0.3571\n",
      "Epoch 194/250\n",
      "1/1 [==============================] - 0s 61ms/step - loss: 1.3059 - accuracy: 0.5091 - val_loss: 1.6534 - val_accuracy: 0.3571\n",
      "Epoch 195/250\n",
      "1/1 [==============================] - 0s 59ms/step - loss: 1.3059 - accuracy: 0.5091 - val_loss: 1.6534 - val_accuracy: 0.3571\n",
      "Epoch 196/250\n",
      "1/1 [==============================] - 0s 66ms/step - loss: 1.3059 - accuracy: 0.5091 - val_loss: 1.6534 - val_accuracy: 0.3571\n",
      "Epoch 197/250\n",
      "1/1 [==============================] - 0s 61ms/step - loss: 1.3058 - accuracy: 0.5091 - val_loss: 1.6534 - val_accuracy: 0.3571\n",
      "Epoch 198/250\n",
      "1/1 [==============================] - 0s 58ms/step - loss: 1.3058 - accuracy: 0.5091 - val_loss: 1.6534 - val_accuracy: 0.3571\n",
      "Epoch 199/250\n",
      "1/1 [==============================] - 0s 66ms/step - loss: 1.3058 - accuracy: 0.5091 - val_loss: 1.6534 - val_accuracy: 0.3571\n",
      "Epoch 200/250\n",
      "1/1 [==============================] - 0s 60ms/step - loss: 1.3057 - accuracy: 0.5091 - val_loss: 1.6534 - val_accuracy: 0.3571\n",
      "Epoch 201/250\n",
      "1/1 [==============================] - 0s 56ms/step - loss: 1.3057 - accuracy: 0.5091 - val_loss: 1.6534 - val_accuracy: 0.3571\n",
      "Epoch 202/250\n",
      "1/1 [==============================] - 0s 74ms/step - loss: 1.3057 - accuracy: 0.5091 - val_loss: 1.6533 - val_accuracy: 0.3571\n",
      "Epoch 203/250\n",
      "1/1 [==============================] - 0s 63ms/step - loss: 1.3056 - accuracy: 0.5091 - val_loss: 1.6533 - val_accuracy: 0.3571\n",
      "Epoch 204/250\n",
      "1/1 [==============================] - 0s 60ms/step - loss: 1.3056 - accuracy: 0.5091 - val_loss: 1.6533 - val_accuracy: 0.3571\n",
      "Epoch 205/250\n",
      "1/1 [==============================] - 0s 68ms/step - loss: 1.3056 - accuracy: 0.5091 - val_loss: 1.6533 - val_accuracy: 0.3571\n",
      "Epoch 206/250\n",
      "1/1 [==============================] - 0s 62ms/step - loss: 1.3056 - accuracy: 0.5091 - val_loss: 1.6533 - val_accuracy: 0.3571\n",
      "Epoch 207/250\n",
      "1/1 [==============================] - 0s 64ms/step - loss: 1.3055 - accuracy: 0.5091 - val_loss: 1.6533 - val_accuracy: 0.3571\n",
      "Epoch 208/250\n",
      "1/1 [==============================] - 0s 56ms/step - loss: 1.3055 - accuracy: 0.5091 - val_loss: 1.6533 - val_accuracy: 0.3571\n",
      "Epoch 209/250\n",
      "1/1 [==============================] - 0s 55ms/step - loss: 1.3055 - accuracy: 0.5091 - val_loss: 1.6533 - val_accuracy: 0.3571\n",
      "Epoch 210/250\n",
      "1/1 [==============================] - 0s 53ms/step - loss: 1.3054 - accuracy: 0.5091 - val_loss: 1.6533 - val_accuracy: 0.3571\n",
      "Epoch 211/250\n",
      "1/1 [==============================] - 0s 56ms/step - loss: 1.3054 - accuracy: 0.5091 - val_loss: 1.6533 - val_accuracy: 0.3571\n",
      "Epoch 212/250\n",
      "1/1 [==============================] - 0s 60ms/step - loss: 1.3054 - accuracy: 0.5091 - val_loss: 1.6533 - val_accuracy: 0.3571\n",
      "Epoch 213/250\n",
      "1/1 [==============================] - 0s 56ms/step - loss: 1.3053 - accuracy: 0.5091 - val_loss: 1.6533 - val_accuracy: 0.3571\n",
      "Epoch 214/250\n",
      "1/1 [==============================] - 0s 58ms/step - loss: 1.3053 - accuracy: 0.5091 - val_loss: 1.6533 - val_accuracy: 0.3571\n",
      "Epoch 215/250\n",
      "1/1 [==============================] - 0s 60ms/step - loss: 1.3053 - accuracy: 0.5091 - val_loss: 1.6533 - val_accuracy: 0.3571\n",
      "Epoch 216/250\n",
      "1/1 [==============================] - 0s 54ms/step - loss: 1.3053 - accuracy: 0.5091 - val_loss: 1.6533 - val_accuracy: 0.3571\n",
      "Epoch 217/250\n",
      "1/1 [==============================] - 0s 66ms/step - loss: 1.3052 - accuracy: 0.5091 - val_loss: 1.6533 - val_accuracy: 0.3571\n",
      "Epoch 218/250\n",
      "1/1 [==============================] - 0s 80ms/step - loss: 1.3052 - accuracy: 0.5091 - val_loss: 1.6533 - val_accuracy: 0.3571\n",
      "Epoch 219/250\n",
      "1/1 [==============================] - 0s 69ms/step - loss: 1.3052 - accuracy: 0.5091 - val_loss: 1.6533 - val_accuracy: 0.3571\n",
      "Epoch 220/250\n",
      "1/1 [==============================] - 0s 66ms/step - loss: 1.3051 - accuracy: 0.5091 - val_loss: 1.6533 - val_accuracy: 0.3571\n",
      "Epoch 221/250\n",
      "1/1 [==============================] - 0s 76ms/step - loss: 1.3051 - accuracy: 0.5091 - val_loss: 1.6532 - val_accuracy: 0.3571\n",
      "Epoch 222/250\n",
      "1/1 [==============================] - 0s 59ms/step - loss: 1.3051 - accuracy: 0.5091 - val_loss: 1.6532 - val_accuracy: 0.3571\n",
      "Epoch 223/250\n",
      "1/1 [==============================] - 0s 59ms/step - loss: 1.3050 - accuracy: 0.5091 - val_loss: 1.6532 - val_accuracy: 0.3571\n",
      "Epoch 224/250\n",
      "1/1 [==============================] - 0s 70ms/step - loss: 1.3050 - accuracy: 0.5091 - val_loss: 1.6532 - val_accuracy: 0.3571\n",
      "Epoch 225/250\n",
      "1/1 [==============================] - 0s 55ms/step - loss: 1.3050 - accuracy: 0.5091 - val_loss: 1.6532 - val_accuracy: 0.3571\n",
      "Epoch 226/250\n",
      "1/1 [==============================] - 0s 50ms/step - loss: 1.3049 - accuracy: 0.5091 - val_loss: 1.6532 - val_accuracy: 0.3571\n",
      "Epoch 227/250\n",
      "1/1 [==============================] - 0s 51ms/step - loss: 1.3049 - accuracy: 0.5091 - val_loss: 1.6532 - val_accuracy: 0.3571\n",
      "Epoch 228/250\n",
      "1/1 [==============================] - 0s 56ms/step - loss: 1.3049 - accuracy: 0.5091 - val_loss: 1.6532 - val_accuracy: 0.3571\n",
      "Epoch 229/250\n",
      "1/1 [==============================] - 0s 57ms/step - loss: 1.3049 - accuracy: 0.5091 - val_loss: 1.6532 - val_accuracy: 0.3571\n",
      "Epoch 230/250\n",
      "1/1 [==============================] - 0s 52ms/step - loss: 1.3048 - accuracy: 0.5091 - val_loss: 1.6532 - val_accuracy: 0.3571\n",
      "Epoch 231/250\n",
      "1/1 [==============================] - 0s 61ms/step - loss: 1.3048 - accuracy: 0.5091 - val_loss: 1.6532 - val_accuracy: 0.3571\n",
      "Epoch 232/250\n",
      "1/1 [==============================] - 0s 59ms/step - loss: 1.3048 - accuracy: 0.5091 - val_loss: 1.6532 - val_accuracy: 0.3571\n",
      "Epoch 233/250\n",
      "1/1 [==============================] - 0s 58ms/step - loss: 1.3047 - accuracy: 0.5091 - val_loss: 1.6532 - val_accuracy: 0.3571\n",
      "Epoch 234/250\n",
      "1/1 [==============================] - 0s 52ms/step - loss: 1.3047 - accuracy: 0.5091 - val_loss: 1.6532 - val_accuracy: 0.3571\n",
      "Epoch 235/250\n",
      "1/1 [==============================] - 0s 51ms/step - loss: 1.3047 - accuracy: 0.5091 - val_loss: 1.6532 - val_accuracy: 0.3571\n",
      "Epoch 236/250\n",
      "1/1 [==============================] - 0s 75ms/step - loss: 1.3046 - accuracy: 0.5091 - val_loss: 1.6532 - val_accuracy: 0.3571\n",
      "Epoch 237/250\n",
      "1/1 [==============================] - 0s 67ms/step - loss: 1.3046 - accuracy: 0.5091 - val_loss: 1.6532 - val_accuracy: 0.3571\n",
      "Epoch 238/250\n",
      "1/1 [==============================] - 0s 67ms/step - loss: 1.3046 - accuracy: 0.5091 - val_loss: 1.6532 - val_accuracy: 0.3571\n",
      "Epoch 239/250\n",
      "1/1 [==============================] - 0s 65ms/step - loss: 1.3046 - accuracy: 0.5091 - val_loss: 1.6532 - val_accuracy: 0.3571\n",
      "Epoch 240/250\n",
      "1/1 [==============================] - 0s 58ms/step - loss: 1.3045 - accuracy: 0.5091 - val_loss: 1.6532 - val_accuracy: 0.3571\n",
      "Epoch 241/250\n",
      "1/1 [==============================] - 0s 93ms/step - loss: 1.3045 - accuracy: 0.5091 - val_loss: 1.6531 - val_accuracy: 0.3571\n",
      "Epoch 242/250\n",
      "1/1 [==============================] - 0s 85ms/step - loss: 1.3045 - accuracy: 0.5091 - val_loss: 1.6531 - val_accuracy: 0.3571\n",
      "Epoch 243/250\n",
      "1/1 [==============================] - 0s 65ms/step - loss: 1.3044 - accuracy: 0.5091 - val_loss: 1.6531 - val_accuracy: 0.3571\n",
      "Epoch 244/250\n",
      "1/1 [==============================] - 0s 62ms/step - loss: 1.3044 - accuracy: 0.5091 - val_loss: 1.6531 - val_accuracy: 0.3571\n",
      "Epoch 245/250\n",
      "1/1 [==============================] - 0s 59ms/step - loss: 1.3044 - accuracy: 0.5091 - val_loss: 1.6531 - val_accuracy: 0.3571\n",
      "Epoch 246/250\n",
      "1/1 [==============================] - 0s 56ms/step - loss: 1.3043 - accuracy: 0.5091 - val_loss: 1.6531 - val_accuracy: 0.3571\n",
      "Epoch 247/250\n",
      "1/1 [==============================] - 0s 57ms/step - loss: 1.3043 - accuracy: 0.5091 - val_loss: 1.6531 - val_accuracy: 0.3571\n",
      "Epoch 248/250\n",
      "1/1 [==============================] - 0s 58ms/step - loss: 1.3043 - accuracy: 0.5091 - val_loss: 1.6531 - val_accuracy: 0.3571\n",
      "Epoch 249/250\n",
      "1/1 [==============================] - 0s 71ms/step - loss: 1.3042 - accuracy: 0.5091 - val_loss: 1.6531 - val_accuracy: 0.3571\n",
      "Epoch 250/250\n",
      "1/1 [==============================] - 0s 51ms/step - loss: 1.3042 - accuracy: 0.5091 - val_loss: 1.6531 - val_accuracy: 0.3571\n"
     ]
    }
   ],
   "source": [
    "training_history = model.fit(\n",
    "    features,\n",
    "    y_train_to_array,\n",
    "    epochs = EPOCHS,\n",
    "    validation_split=0.2,\n",
    "    batch_size=256,\n",
    "    #callbacks=[best_model_checkpoint, best_model_checkpoint_early_stopping]\n",
    ")"
   ]
  },
  {
   "cell_type": "code",
   "execution_count": 65,
   "metadata": {},
   "outputs": [
    {
     "data": {
      "application/vnd.plotly.v1+json": {
       "config": {
        "plotlyServerURL": "https://plot.ly"
       },
       "data": [
        {
         "mode": "lines",
         "name": "Acc - Validation",
         "type": "scatter",
         "y": [
          0.3571428656578064,
          0.3571428656578064,
          0.3571428656578064,
          0.3571428656578064,
          0.3571428656578064,
          0.3571428656578064,
          0.3571428656578064,
          0.3571428656578064,
          0.3571428656578064,
          0.3571428656578064,
          0.3571428656578064,
          0.3571428656578064,
          0.3571428656578064,
          0.3571428656578064,
          0.3571428656578064,
          0.3571428656578064,
          0.3571428656578064,
          0.3571428656578064,
          0.3571428656578064,
          0.3571428656578064,
          0.3571428656578064,
          0.3571428656578064,
          0.3571428656578064,
          0.3571428656578064,
          0.3571428656578064,
          0.3571428656578064,
          0.3571428656578064,
          0.3571428656578064,
          0.3571428656578064,
          0.3571428656578064,
          0.3571428656578064,
          0.3571428656578064,
          0.3571428656578064,
          0.3571428656578064,
          0.3571428656578064,
          0.3571428656578064,
          0.3571428656578064,
          0.3571428656578064,
          0.3571428656578064,
          0.3571428656578064,
          0.3571428656578064,
          0.3571428656578064,
          0.3571428656578064,
          0.3571428656578064,
          0.3571428656578064,
          0.3571428656578064,
          0.3571428656578064,
          0.3571428656578064,
          0.3571428656578064,
          0.3571428656578064,
          0.3571428656578064,
          0.3571428656578064,
          0.3571428656578064,
          0.3571428656578064,
          0.3571428656578064,
          0.3571428656578064,
          0.3571428656578064,
          0.3571428656578064,
          0.3571428656578064,
          0.3571428656578064,
          0.3571428656578064,
          0.3571428656578064,
          0.3571428656578064,
          0.3571428656578064,
          0.3571428656578064,
          0.3571428656578064,
          0.3571428656578064,
          0.3571428656578064,
          0.3571428656578064,
          0.3571428656578064,
          0.3571428656578064,
          0.3571428656578064,
          0.3571428656578064,
          0.3571428656578064,
          0.3571428656578064,
          0.3571428656578064,
          0.3571428656578064,
          0.3571428656578064,
          0.3571428656578064,
          0.3571428656578064,
          0.3571428656578064,
          0.3571428656578064,
          0.3571428656578064,
          0.3571428656578064,
          0.3571428656578064,
          0.3571428656578064,
          0.3571428656578064,
          0.3571428656578064,
          0.3571428656578064,
          0.3571428656578064,
          0.3571428656578064,
          0.3571428656578064,
          0.3571428656578064,
          0.3571428656578064,
          0.3571428656578064,
          0.3571428656578064,
          0.3571428656578064,
          0.3571428656578064,
          0.3571428656578064,
          0.3571428656578064,
          0.3571428656578064,
          0.3571428656578064,
          0.3571428656578064,
          0.3571428656578064,
          0.3571428656578064,
          0.3571428656578064,
          0.3571428656578064,
          0.3571428656578064,
          0.3571428656578064,
          0.3571428656578064,
          0.3571428656578064,
          0.3571428656578064,
          0.3571428656578064,
          0.3571428656578064,
          0.3571428656578064,
          0.3571428656578064,
          0.3571428656578064,
          0.3571428656578064,
          0.3571428656578064,
          0.3571428656578064,
          0.3571428656578064,
          0.3571428656578064,
          0.3571428656578064,
          0.3571428656578064,
          0.3571428656578064,
          0.3571428656578064,
          0.3571428656578064,
          0.3571428656578064,
          0.3571428656578064,
          0.3571428656578064,
          0.3571428656578064,
          0.3571428656578064,
          0.3571428656578064,
          0.3571428656578064,
          0.3571428656578064,
          0.3571428656578064,
          0.3571428656578064,
          0.3571428656578064,
          0.3571428656578064,
          0.3571428656578064,
          0.3571428656578064,
          0.3571428656578064,
          0.3571428656578064,
          0.3571428656578064,
          0.3571428656578064,
          0.3571428656578064,
          0.3571428656578064,
          0.3571428656578064,
          0.3571428656578064,
          0.3571428656578064,
          0.3571428656578064,
          0.3571428656578064,
          0.3571428656578064,
          0.3571428656578064,
          0.3571428656578064,
          0.3571428656578064,
          0.3571428656578064,
          0.3571428656578064,
          0.3571428656578064,
          0.3571428656578064,
          0.3571428656578064,
          0.3571428656578064,
          0.3571428656578064,
          0.3571428656578064,
          0.3571428656578064,
          0.3571428656578064,
          0.3571428656578064,
          0.3571428656578064,
          0.3571428656578064,
          0.3571428656578064,
          0.3571428656578064,
          0.3571428656578064,
          0.3571428656578064,
          0.3571428656578064,
          0.3571428656578064,
          0.3571428656578064,
          0.3571428656578064,
          0.3571428656578064,
          0.3571428656578064,
          0.3571428656578064,
          0.3571428656578064,
          0.3571428656578064,
          0.3571428656578064,
          0.3571428656578064,
          0.3571428656578064,
          0.3571428656578064,
          0.3571428656578064,
          0.3571428656578064,
          0.3571428656578064,
          0.3571428656578064,
          0.3571428656578064,
          0.3571428656578064,
          0.3571428656578064,
          0.3571428656578064,
          0.3571428656578064,
          0.3571428656578064,
          0.3571428656578064,
          0.3571428656578064,
          0.3571428656578064,
          0.3571428656578064,
          0.3571428656578064,
          0.3571428656578064,
          0.3571428656578064,
          0.3571428656578064,
          0.3571428656578064,
          0.3571428656578064,
          0.3571428656578064,
          0.3571428656578064,
          0.3571428656578064,
          0.3571428656578064,
          0.3571428656578064,
          0.3571428656578064,
          0.3571428656578064,
          0.3571428656578064,
          0.3571428656578064,
          0.3571428656578064,
          0.3571428656578064,
          0.3571428656578064,
          0.3571428656578064,
          0.3571428656578064,
          0.3571428656578064,
          0.3571428656578064,
          0.3571428656578064,
          0.3571428656578064,
          0.3571428656578064,
          0.3571428656578064,
          0.3571428656578064,
          0.3571428656578064,
          0.3571428656578064,
          0.3571428656578064,
          0.3571428656578064,
          0.3571428656578064,
          0.3571428656578064,
          0.3571428656578064,
          0.3571428656578064,
          0.3571428656578064,
          0.3571428656578064,
          0.3571428656578064,
          0.3571428656578064,
          0.3571428656578064,
          0.3571428656578064,
          0.3571428656578064,
          0.3571428656578064,
          0.3571428656578064,
          0.3571428656578064,
          0.3571428656578064,
          0.3571428656578064,
          0.3571428656578064,
          0.3571428656578064,
          0.3571428656578064
         ]
        },
        {
         "mode": "lines",
         "name": "Acc - Training",
         "type": "scatter",
         "y": [
          0.5090909004211426,
          0.5090909004211426,
          0.5090909004211426,
          0.5090909004211426,
          0.4909090995788574,
          0.4909090995788574,
          0.4909090995788574,
          0.4727272689342499,
          0.4727272689342499,
          0.4727272689342499,
          0.4727272689342499,
          0.4727272689342499,
          0.4909090995788574,
          0.4909090995788574,
          0.4909090995788574,
          0.4909090995788574,
          0.4909090995788574,
          0.5090909004211426,
          0.5090909004211426,
          0.5090909004211426,
          0.5090909004211426,
          0.5090909004211426,
          0.5090909004211426,
          0.5090909004211426,
          0.5090909004211426,
          0.5090909004211426,
          0.5090909004211426,
          0.5090909004211426,
          0.5090909004211426,
          0.5090909004211426,
          0.5090909004211426,
          0.5090909004211426,
          0.5090909004211426,
          0.5090909004211426,
          0.5090909004211426,
          0.5090909004211426,
          0.5090909004211426,
          0.5090909004211426,
          0.5090909004211426,
          0.5090909004211426,
          0.5090909004211426,
          0.5090909004211426,
          0.5090909004211426,
          0.5090909004211426,
          0.5090909004211426,
          0.5090909004211426,
          0.5090909004211426,
          0.5090909004211426,
          0.5090909004211426,
          0.5090909004211426,
          0.5090909004211426,
          0.5090909004211426,
          0.5090909004211426,
          0.5090909004211426,
          0.5090909004211426,
          0.5090909004211426,
          0.5090909004211426,
          0.5090909004211426,
          0.5090909004211426,
          0.5090909004211426,
          0.5090909004211426,
          0.5090909004211426,
          0.5090909004211426,
          0.5090909004211426,
          0.5090909004211426,
          0.5090909004211426,
          0.5090909004211426,
          0.5090909004211426,
          0.5090909004211426,
          0.5090909004211426,
          0.5090909004211426,
          0.5090909004211426,
          0.5090909004211426,
          0.5090909004211426,
          0.5090909004211426,
          0.5090909004211426,
          0.5090909004211426,
          0.5090909004211426,
          0.5090909004211426,
          0.5090909004211426,
          0.5090909004211426,
          0.5090909004211426,
          0.5090909004211426,
          0.5090909004211426,
          0.5090909004211426,
          0.5090909004211426,
          0.5090909004211426,
          0.5090909004211426,
          0.5090909004211426,
          0.5090909004211426,
          0.5090909004211426,
          0.5090909004211426,
          0.5090909004211426,
          0.5090909004211426,
          0.5090909004211426,
          0.5090909004211426,
          0.5090909004211426,
          0.5090909004211426,
          0.5090909004211426,
          0.5090909004211426,
          0.5090909004211426,
          0.5090909004211426,
          0.5090909004211426,
          0.5090909004211426,
          0.5090909004211426,
          0.5090909004211426,
          0.5090909004211426,
          0.5090909004211426,
          0.5090909004211426,
          0.5090909004211426,
          0.5090909004211426,
          0.5090909004211426,
          0.5090909004211426,
          0.5090909004211426,
          0.5090909004211426,
          0.5090909004211426,
          0.5090909004211426,
          0.5090909004211426,
          0.5090909004211426,
          0.5090909004211426,
          0.5090909004211426,
          0.5090909004211426,
          0.5090909004211426,
          0.5090909004211426,
          0.5090909004211426,
          0.5090909004211426,
          0.5090909004211426,
          0.5090909004211426,
          0.5090909004211426,
          0.5090909004211426,
          0.5090909004211426,
          0.5090909004211426,
          0.5090909004211426,
          0.5090909004211426,
          0.5090909004211426,
          0.5090909004211426,
          0.5090909004211426,
          0.5090909004211426,
          0.5090909004211426,
          0.5090909004211426,
          0.5090909004211426,
          0.5090909004211426,
          0.5090909004211426,
          0.5090909004211426,
          0.5090909004211426,
          0.5090909004211426,
          0.5090909004211426,
          0.5090909004211426,
          0.5090909004211426,
          0.5090909004211426,
          0.5090909004211426,
          0.5090909004211426,
          0.5090909004211426,
          0.5090909004211426,
          0.5090909004211426,
          0.5090909004211426,
          0.5090909004211426,
          0.5090909004211426,
          0.5090909004211426,
          0.5090909004211426,
          0.5090909004211426,
          0.5090909004211426,
          0.5090909004211426,
          0.5090909004211426,
          0.5090909004211426,
          0.5090909004211426,
          0.5090909004211426,
          0.5090909004211426,
          0.5090909004211426,
          0.5090909004211426,
          0.5090909004211426,
          0.5090909004211426,
          0.5090909004211426,
          0.5090909004211426,
          0.5090909004211426,
          0.5090909004211426,
          0.5090909004211426,
          0.5090909004211426,
          0.5090909004211426,
          0.5090909004211426,
          0.5090909004211426,
          0.5090909004211426,
          0.5090909004211426,
          0.5090909004211426,
          0.5090909004211426,
          0.5090909004211426,
          0.5090909004211426,
          0.5090909004211426,
          0.5090909004211426,
          0.5090909004211426,
          0.5090909004211426,
          0.5090909004211426,
          0.5090909004211426,
          0.5090909004211426,
          0.5090909004211426,
          0.5090909004211426,
          0.5090909004211426,
          0.5090909004211426,
          0.5090909004211426,
          0.5090909004211426,
          0.5090909004211426,
          0.5090909004211426,
          0.5090909004211426,
          0.5090909004211426,
          0.5090909004211426,
          0.5090909004211426,
          0.5090909004211426,
          0.5090909004211426,
          0.5090909004211426,
          0.5090909004211426,
          0.5090909004211426,
          0.5090909004211426,
          0.5090909004211426,
          0.5090909004211426,
          0.5090909004211426,
          0.5090909004211426,
          0.5090909004211426,
          0.5090909004211426,
          0.5090909004211426,
          0.5090909004211426,
          0.5090909004211426,
          0.5090909004211426,
          0.5090909004211426,
          0.5090909004211426,
          0.5090909004211426,
          0.5090909004211426,
          0.5090909004211426,
          0.5090909004211426,
          0.5090909004211426,
          0.5090909004211426,
          0.5090909004211426,
          0.5090909004211426,
          0.5090909004211426,
          0.5090909004211426,
          0.5090909004211426,
          0.5090909004211426,
          0.5090909004211426,
          0.5090909004211426,
          0.5090909004211426,
          0.5090909004211426,
          0.5090909004211426,
          0.5090909004211426,
          0.5090909004211426,
          0.5090909004211426,
          0.5090909004211426,
          0.5090909004211426,
          0.5090909004211426,
          0.5090909004211426,
          0.5090909004211426,
          0.5090909004211426
         ]
        }
       ],
       "layout": {
        "template": {
         "data": {
          "bar": [
           {
            "error_x": {
             "color": "#2a3f5f"
            },
            "error_y": {
             "color": "#2a3f5f"
            },
            "marker": {
             "line": {
              "color": "#E5ECF6",
              "width": 0.5
             },
             "pattern": {
              "fillmode": "overlay",
              "size": 10,
              "solidity": 0.2
             }
            },
            "type": "bar"
           }
          ],
          "barpolar": [
           {
            "marker": {
             "line": {
              "color": "#E5ECF6",
              "width": 0.5
             },
             "pattern": {
              "fillmode": "overlay",
              "size": 10,
              "solidity": 0.2
             }
            },
            "type": "barpolar"
           }
          ],
          "carpet": [
           {
            "aaxis": {
             "endlinecolor": "#2a3f5f",
             "gridcolor": "white",
             "linecolor": "white",
             "minorgridcolor": "white",
             "startlinecolor": "#2a3f5f"
            },
            "baxis": {
             "endlinecolor": "#2a3f5f",
             "gridcolor": "white",
             "linecolor": "white",
             "minorgridcolor": "white",
             "startlinecolor": "#2a3f5f"
            },
            "type": "carpet"
           }
          ],
          "choropleth": [
           {
            "colorbar": {
             "outlinewidth": 0,
             "ticks": ""
            },
            "type": "choropleth"
           }
          ],
          "contour": [
           {
            "colorbar": {
             "outlinewidth": 0,
             "ticks": ""
            },
            "colorscale": [
             [
              0,
              "#0d0887"
             ],
             [
              0.1111111111111111,
              "#46039f"
             ],
             [
              0.2222222222222222,
              "#7201a8"
             ],
             [
              0.3333333333333333,
              "#9c179e"
             ],
             [
              0.4444444444444444,
              "#bd3786"
             ],
             [
              0.5555555555555556,
              "#d8576b"
             ],
             [
              0.6666666666666666,
              "#ed7953"
             ],
             [
              0.7777777777777778,
              "#fb9f3a"
             ],
             [
              0.8888888888888888,
              "#fdca26"
             ],
             [
              1,
              "#f0f921"
             ]
            ],
            "type": "contour"
           }
          ],
          "contourcarpet": [
           {
            "colorbar": {
             "outlinewidth": 0,
             "ticks": ""
            },
            "type": "contourcarpet"
           }
          ],
          "heatmap": [
           {
            "colorbar": {
             "outlinewidth": 0,
             "ticks": ""
            },
            "colorscale": [
             [
              0,
              "#0d0887"
             ],
             [
              0.1111111111111111,
              "#46039f"
             ],
             [
              0.2222222222222222,
              "#7201a8"
             ],
             [
              0.3333333333333333,
              "#9c179e"
             ],
             [
              0.4444444444444444,
              "#bd3786"
             ],
             [
              0.5555555555555556,
              "#d8576b"
             ],
             [
              0.6666666666666666,
              "#ed7953"
             ],
             [
              0.7777777777777778,
              "#fb9f3a"
             ],
             [
              0.8888888888888888,
              "#fdca26"
             ],
             [
              1,
              "#f0f921"
             ]
            ],
            "type": "heatmap"
           }
          ],
          "heatmapgl": [
           {
            "colorbar": {
             "outlinewidth": 0,
             "ticks": ""
            },
            "colorscale": [
             [
              0,
              "#0d0887"
             ],
             [
              0.1111111111111111,
              "#46039f"
             ],
             [
              0.2222222222222222,
              "#7201a8"
             ],
             [
              0.3333333333333333,
              "#9c179e"
             ],
             [
              0.4444444444444444,
              "#bd3786"
             ],
             [
              0.5555555555555556,
              "#d8576b"
             ],
             [
              0.6666666666666666,
              "#ed7953"
             ],
             [
              0.7777777777777778,
              "#fb9f3a"
             ],
             [
              0.8888888888888888,
              "#fdca26"
             ],
             [
              1,
              "#f0f921"
             ]
            ],
            "type": "heatmapgl"
           }
          ],
          "histogram": [
           {
            "marker": {
             "pattern": {
              "fillmode": "overlay",
              "size": 10,
              "solidity": 0.2
             }
            },
            "type": "histogram"
           }
          ],
          "histogram2d": [
           {
            "colorbar": {
             "outlinewidth": 0,
             "ticks": ""
            },
            "colorscale": [
             [
              0,
              "#0d0887"
             ],
             [
              0.1111111111111111,
              "#46039f"
             ],
             [
              0.2222222222222222,
              "#7201a8"
             ],
             [
              0.3333333333333333,
              "#9c179e"
             ],
             [
              0.4444444444444444,
              "#bd3786"
             ],
             [
              0.5555555555555556,
              "#d8576b"
             ],
             [
              0.6666666666666666,
              "#ed7953"
             ],
             [
              0.7777777777777778,
              "#fb9f3a"
             ],
             [
              0.8888888888888888,
              "#fdca26"
             ],
             [
              1,
              "#f0f921"
             ]
            ],
            "type": "histogram2d"
           }
          ],
          "histogram2dcontour": [
           {
            "colorbar": {
             "outlinewidth": 0,
             "ticks": ""
            },
            "colorscale": [
             [
              0,
              "#0d0887"
             ],
             [
              0.1111111111111111,
              "#46039f"
             ],
             [
              0.2222222222222222,
              "#7201a8"
             ],
             [
              0.3333333333333333,
              "#9c179e"
             ],
             [
              0.4444444444444444,
              "#bd3786"
             ],
             [
              0.5555555555555556,
              "#d8576b"
             ],
             [
              0.6666666666666666,
              "#ed7953"
             ],
             [
              0.7777777777777778,
              "#fb9f3a"
             ],
             [
              0.8888888888888888,
              "#fdca26"
             ],
             [
              1,
              "#f0f921"
             ]
            ],
            "type": "histogram2dcontour"
           }
          ],
          "mesh3d": [
           {
            "colorbar": {
             "outlinewidth": 0,
             "ticks": ""
            },
            "type": "mesh3d"
           }
          ],
          "parcoords": [
           {
            "line": {
             "colorbar": {
              "outlinewidth": 0,
              "ticks": ""
             }
            },
            "type": "parcoords"
           }
          ],
          "pie": [
           {
            "automargin": true,
            "type": "pie"
           }
          ],
          "scatter": [
           {
            "fillpattern": {
             "fillmode": "overlay",
             "size": 10,
             "solidity": 0.2
            },
            "type": "scatter"
           }
          ],
          "scatter3d": [
           {
            "line": {
             "colorbar": {
              "outlinewidth": 0,
              "ticks": ""
             }
            },
            "marker": {
             "colorbar": {
              "outlinewidth": 0,
              "ticks": ""
             }
            },
            "type": "scatter3d"
           }
          ],
          "scattercarpet": [
           {
            "marker": {
             "colorbar": {
              "outlinewidth": 0,
              "ticks": ""
             }
            },
            "type": "scattercarpet"
           }
          ],
          "scattergeo": [
           {
            "marker": {
             "colorbar": {
              "outlinewidth": 0,
              "ticks": ""
             }
            },
            "type": "scattergeo"
           }
          ],
          "scattergl": [
           {
            "marker": {
             "colorbar": {
              "outlinewidth": 0,
              "ticks": ""
             }
            },
            "type": "scattergl"
           }
          ],
          "scattermapbox": [
           {
            "marker": {
             "colorbar": {
              "outlinewidth": 0,
              "ticks": ""
             }
            },
            "type": "scattermapbox"
           }
          ],
          "scatterpolar": [
           {
            "marker": {
             "colorbar": {
              "outlinewidth": 0,
              "ticks": ""
             }
            },
            "type": "scatterpolar"
           }
          ],
          "scatterpolargl": [
           {
            "marker": {
             "colorbar": {
              "outlinewidth": 0,
              "ticks": ""
             }
            },
            "type": "scatterpolargl"
           }
          ],
          "scatterternary": [
           {
            "marker": {
             "colorbar": {
              "outlinewidth": 0,
              "ticks": ""
             }
            },
            "type": "scatterternary"
           }
          ],
          "surface": [
           {
            "colorbar": {
             "outlinewidth": 0,
             "ticks": ""
            },
            "colorscale": [
             [
              0,
              "#0d0887"
             ],
             [
              0.1111111111111111,
              "#46039f"
             ],
             [
              0.2222222222222222,
              "#7201a8"
             ],
             [
              0.3333333333333333,
              "#9c179e"
             ],
             [
              0.4444444444444444,
              "#bd3786"
             ],
             [
              0.5555555555555556,
              "#d8576b"
             ],
             [
              0.6666666666666666,
              "#ed7953"
             ],
             [
              0.7777777777777778,
              "#fb9f3a"
             ],
             [
              0.8888888888888888,
              "#fdca26"
             ],
             [
              1,
              "#f0f921"
             ]
            ],
            "type": "surface"
           }
          ],
          "table": [
           {
            "cells": {
             "fill": {
              "color": "#EBF0F8"
             },
             "line": {
              "color": "white"
             }
            },
            "header": {
             "fill": {
              "color": "#C8D4E3"
             },
             "line": {
              "color": "white"
             }
            },
            "type": "table"
           }
          ]
         },
         "layout": {
          "annotationdefaults": {
           "arrowcolor": "#2a3f5f",
           "arrowhead": 0,
           "arrowwidth": 1
          },
          "autotypenumbers": "strict",
          "coloraxis": {
           "colorbar": {
            "outlinewidth": 0,
            "ticks": ""
           }
          },
          "colorscale": {
           "diverging": [
            [
             0,
             "#8e0152"
            ],
            [
             0.1,
             "#c51b7d"
            ],
            [
             0.2,
             "#de77ae"
            ],
            [
             0.3,
             "#f1b6da"
            ],
            [
             0.4,
             "#fde0ef"
            ],
            [
             0.5,
             "#f7f7f7"
            ],
            [
             0.6,
             "#e6f5d0"
            ],
            [
             0.7,
             "#b8e186"
            ],
            [
             0.8,
             "#7fbc41"
            ],
            [
             0.9,
             "#4d9221"
            ],
            [
             1,
             "#276419"
            ]
           ],
           "sequential": [
            [
             0,
             "#0d0887"
            ],
            [
             0.1111111111111111,
             "#46039f"
            ],
            [
             0.2222222222222222,
             "#7201a8"
            ],
            [
             0.3333333333333333,
             "#9c179e"
            ],
            [
             0.4444444444444444,
             "#bd3786"
            ],
            [
             0.5555555555555556,
             "#d8576b"
            ],
            [
             0.6666666666666666,
             "#ed7953"
            ],
            [
             0.7777777777777778,
             "#fb9f3a"
            ],
            [
             0.8888888888888888,
             "#fdca26"
            ],
            [
             1,
             "#f0f921"
            ]
           ],
           "sequentialminus": [
            [
             0,
             "#0d0887"
            ],
            [
             0.1111111111111111,
             "#46039f"
            ],
            [
             0.2222222222222222,
             "#7201a8"
            ],
            [
             0.3333333333333333,
             "#9c179e"
            ],
            [
             0.4444444444444444,
             "#bd3786"
            ],
            [
             0.5555555555555556,
             "#d8576b"
            ],
            [
             0.6666666666666666,
             "#ed7953"
            ],
            [
             0.7777777777777778,
             "#fb9f3a"
            ],
            [
             0.8888888888888888,
             "#fdca26"
            ],
            [
             1,
             "#f0f921"
            ]
           ]
          },
          "colorway": [
           "#636efa",
           "#EF553B",
           "#00cc96",
           "#ab63fa",
           "#FFA15A",
           "#19d3f3",
           "#FF6692",
           "#B6E880",
           "#FF97FF",
           "#FECB52"
          ],
          "font": {
           "color": "#2a3f5f"
          },
          "geo": {
           "bgcolor": "white",
           "lakecolor": "white",
           "landcolor": "#E5ECF6",
           "showlakes": true,
           "showland": true,
           "subunitcolor": "white"
          },
          "hoverlabel": {
           "align": "left"
          },
          "hovermode": "closest",
          "mapbox": {
           "style": "light"
          },
          "paper_bgcolor": "white",
          "plot_bgcolor": "#E5ECF6",
          "polar": {
           "angularaxis": {
            "gridcolor": "white",
            "linecolor": "white",
            "ticks": ""
           },
           "bgcolor": "#E5ECF6",
           "radialaxis": {
            "gridcolor": "white",
            "linecolor": "white",
            "ticks": ""
           }
          },
          "scene": {
           "xaxis": {
            "backgroundcolor": "#E5ECF6",
            "gridcolor": "white",
            "gridwidth": 2,
            "linecolor": "white",
            "showbackground": true,
            "ticks": "",
            "zerolinecolor": "white"
           },
           "yaxis": {
            "backgroundcolor": "#E5ECF6",
            "gridcolor": "white",
            "gridwidth": 2,
            "linecolor": "white",
            "showbackground": true,
            "ticks": "",
            "zerolinecolor": "white"
           },
           "zaxis": {
            "backgroundcolor": "#E5ECF6",
            "gridcolor": "white",
            "gridwidth": 2,
            "linecolor": "white",
            "showbackground": true,
            "ticks": "",
            "zerolinecolor": "white"
           }
          },
          "shapedefaults": {
           "line": {
            "color": "#2a3f5f"
           }
          },
          "ternary": {
           "aaxis": {
            "gridcolor": "white",
            "linecolor": "white",
            "ticks": ""
           },
           "baxis": {
            "gridcolor": "white",
            "linecolor": "white",
            "ticks": ""
           },
           "bgcolor": "#E5ECF6",
           "caxis": {
            "gridcolor": "white",
            "linecolor": "white",
            "ticks": ""
           }
          },
          "title": {
           "x": 0.05
          },
          "xaxis": {
           "automargin": true,
           "gridcolor": "white",
           "linecolor": "white",
           "ticks": "",
           "title": {
            "standoff": 15
           },
           "zerolinecolor": "white",
           "zerolinewidth": 2
          },
          "yaxis": {
           "automargin": true,
           "gridcolor": "white",
           "linecolor": "white",
           "ticks": "",
           "title": {
            "standoff": 15
           },
           "zerolinecolor": "white",
           "zerolinewidth": 2
          }
         }
        }
       }
      }
     },
     "metadata": {},
     "output_type": "display_data"
    }
   ],
   "source": [
    "fig = go.Figure()\n",
    "fig.add_trace(go.Scatter(y=training_history.history['val_accuracy'],mode='lines', name='Acc - Validation'))\n",
    "fig.add_trace(go.Scatter(y=training_history.history['accuracy'],mode='lines', name='Acc - Training'))"
   ]
  },
  {
   "cell_type": "code",
   "execution_count": 66,
   "metadata": {},
   "outputs": [
    {
     "data": {
      "application/vnd.plotly.v1+json": {
       "config": {
        "plotlyServerURL": "https://plot.ly"
       },
       "data": [
        {
         "mode": "lines",
         "name": "Validation loss",
         "type": "scatter",
         "y": [
          1.6574121713638306,
          1.6556161642074585,
          1.6540089845657349,
          1.6525779962539673,
          1.6513111591339111,
          1.650197148323059,
          1.6492254734039307,
          1.6483854055404663,
          1.6476675271987915,
          1.647062063217163,
          1.646560788154602,
          1.646154761314392,
          1.6458361148834229,
          1.6455974578857422,
          1.6454308032989502,
          1.6453298330307007,
          1.6452876329421997,
          1.6452977657318115,
          1.645354151725769,
          1.6454511880874634,
          1.6455832719802856,
          1.6457453966140747,
          1.645932912826538,
          1.6461416482925415,
          1.6463669538497925,
          1.6466056108474731,
          1.6468541622161865,
          1.6471096277236938,
          1.6473692655563354,
          1.6476305723190308,
          1.6478919982910156,
          1.6481512784957886,
          1.648407220840454,
          1.6486587524414062,
          1.64890456199646,
          1.6491438150405884,
          1.6493761539459229,
          1.6496012210845947,
          1.6498184204101562,
          1.6500279903411865,
          1.6502293348312378,
          1.6504228115081787,
          1.6506084203720093,
          1.6507865190505981,
          1.6509568691253662,
          1.6511199474334717,
          1.651275873184204,
          1.6514252424240112,
          1.6515676975250244,
          1.651703953742981,
          1.6518343687057495,
          1.651958703994751,
          1.652077555656433,
          1.652190923690796,
          1.652299165725708,
          1.652402639389038,
          1.6525013446807861,
          1.6525955200195312,
          1.6526851654052734,
          1.652770757675171,
          1.652851939201355,
          1.6529293060302734,
          1.6530029773712158,
          1.653072714805603,
          1.6531388759613037,
          1.653201699256897,
          1.6532609462738037,
          1.6533167362213135,
          1.6533693075180054,
          1.6534188985824585,
          1.6534652709960938,
          1.6535090208053589,
          1.6535491943359375,
          1.653586983680725,
          1.6536219120025635,
          1.6536540985107422,
          1.6536839008331299,
          1.653711199760437,
          1.6537361145019531,
          1.6537587642669678,
          1.6537792682647705,
          1.6537975072860718,
          1.6538140773773193,
          1.653828501701355,
          1.6538413763046265,
          1.6538527011871338,
          1.6538619995117188,
          1.6538702249526978,
          1.6538771390914917,
          1.653882384300232,
          1.6538869142532349,
          1.6538902521133423,
          1.6538925170898438,
          1.6538938283920288,
          1.6538944244384766,
          1.6538941860198975,
          1.6538933515548706,
          1.653891682624817,
          1.653889775276184,
          1.6538875102996826,
          1.6538846492767334,
          1.6538810729980469,
          1.6538774967193604,
          1.6538734436035156,
          1.653869390487671,
          1.6538649797439575,
          1.653860330581665,
          1.6538554430007935,
          1.6538506746292114,
          1.6538455486297607,
          1.65384042263031,
          1.6538351774215698,
          1.65382981300354,
          1.6538246870040894,
          1.6538190841674805,
          1.6538136005401611,
          1.6538079977035522,
          1.653802514076233,
          1.653796911239624,
          1.6537911891937256,
          1.6537854671478271,
          1.6537797451019287,
          1.6537740230560303,
          1.6537681818008423,
          1.6537622213363647,
          1.6537563800811768,
          1.6537505388259888,
          1.6537448167800903,
          1.6537388563156128,
          1.6537328958511353,
          1.6537268161773682,
          1.6537208557128906,
          1.653714895248413,
          1.6537091732025146,
          1.653702974319458,
          1.6536970138549805,
          1.6536911725997925,
          1.653685212135315,
          1.6536791324615479,
          1.6536731719970703,
          1.6536673307418823,
          1.6536614894866943,
          1.6536554098129272,
          1.6536495685577393,
          1.6536437273025513,
          1.6536378860473633,
          1.6536321640014648,
          1.6536263227462769,
          1.6536206007003784,
          1.65361487865448,
          1.6536091566085815,
          1.653603434562683,
          1.6535979509353638,
          1.6535923480987549,
          1.653586983680725,
          1.6535813808441162,
          1.6535758972167969,
          1.6535704135894775,
          1.6535650491714478,
          1.653559684753418,
          1.6535543203353882,
          1.653549075126648,
          1.6535437107086182,
          1.653538465499878,
          1.6535332202911377,
          1.6535279750823975,
          1.6535227298736572,
          1.6535178422927856,
          1.6535123586654663,
          1.6535073518753052,
          1.653502345085144,
          1.6534970998764038,
          1.6534919738769531,
          1.653486967086792,
          1.6534817218780518,
          1.6534767150878906,
          1.653471827507019,
          1.6534665822982788,
          1.6534616947174072,
          1.6534565687179565,
          1.6534513235092163,
          1.6534464359283447,
          1.653441309928894,
          1.6534364223480225,
          1.6534311771392822,
          1.6534262895584106,
          1.65342116355896,
          1.6534162759780884,
          1.6534110307693481,
          1.6534059047698975,
          1.6534010171890259,
          1.6533957719802856,
          1.653390884399414,
          1.6533857583999634,
          1.6533807516098022,
          1.6533757448196411,
          1.6533706188201904,
          1.6533654928207397,
          1.653360366821289,
          1.6533554792404175,
          1.6533502340316772,
          1.6533453464508057,
          1.653340220451355,
          1.6533349752426147,
          1.6533299684524536,
          1.653324842453003,
          1.6533197164535522,
          1.6533147096633911,
          1.6533098220825195,
          1.6533046960830688,
          1.6532995700836182,
          1.653294563293457,
          1.653289556503296,
          1.6532843112945557,
          1.653279423713684,
          1.6532742977142334,
          1.6532690525054932,
          1.6532641649246216,
          1.653259038925171,
          1.6532539129257202,
          1.653248906135559,
          1.6532440185546875,
          1.6532386541366577,
          1.6532336473464966,
          1.6532286405563354,
          1.6532236337661743,
          1.6532185077667236,
          1.6532135009765625,
          1.6532083749771118,
          1.6532033681869507,
          1.6531982421875,
          1.6531931161880493,
          1.6531879901885986,
          1.653183102607727,
          1.6531779766082764,
          1.6531728506088257,
          1.653167724609375,
          1.6531628370285034,
          1.6531575918197632,
          1.6531527042388916,
          1.653147578239441,
          1.6531423330307007,
          1.653137445449829,
          1.653132438659668,
          1.6531274318695068,
          1.6531223058700562,
          1.653117299079895,
          1.6531122922897339,
          1.6531070470809937,
          1.6531020402908325
         ]
        },
        {
         "mode": "lines",
         "name": "Training loss",
         "type": "scatter",
         "y": [
          1.3115379810333252,
          1.3115167617797852,
          1.3115029335021973,
          1.311492919921875,
          1.311484456062317,
          1.3114752769470215,
          1.3114641904830933,
          1.3114500045776367,
          1.311432123184204,
          1.3114104270935059,
          1.311384677886963,
          1.3113555908203125,
          1.3113234043121338,
          1.3112887144088745,
          1.3112521171569824,
          1.3112140893936157,
          1.3111753463745117,
          1.3111363649368286,
          1.3110978603363037,
          1.311059594154358,
          1.3110222816467285,
          1.310985803604126,
          1.3109502792358398,
          1.3109158277511597,
          1.310882568359375,
          1.3108500242233276,
          1.3108183145523071,
          1.3107874393463135,
          1.310757040977478,
          1.3107271194458008,
          1.3106975555419922,
          1.3106679916381836,
          1.310638666152954,
          1.3106093406677246,
          1.3105801343917847,
          1.310550570487976,
          1.3105213642120361,
          1.3104918003082275,
          1.310462236404419,
          1.3104326725006104,
          1.3104031085968018,
          1.3103734254837036,
          1.3103439807891846,
          1.310314416885376,
          1.3102848529815674,
          1.3102552890777588,
          1.3102260828018188,
          1.3101967573165894,
          1.310167670249939,
          1.3101383447647095,
          1.3101093769073486,
          1.3100802898406982,
          1.3100513219833374,
          1.3100224733352661,
          1.3099936246871948,
          1.3099647760391235,
          1.3099359273910522,
          1.3099071979522705,
          1.3098783493041992,
          1.309849739074707,
          1.3098208904266357,
          1.309791922569275,
          1.3097634315490723,
          1.309734582901001,
          1.3097057342529297,
          1.309677004814148,
          1.3096482753753662,
          1.309619426727295,
          1.3095905780792236,
          1.3095617294311523,
          1.309532880783081,
          1.3095042705535889,
          1.3094754219055176,
          1.3094465732574463,
          1.309417724609375,
          1.3093888759613037,
          1.3093602657318115,
          1.3093312978744507,
          1.309302568435669,
          1.3092737197875977,
          1.309244990348816,
          1.3092161417007446,
          1.3091871738433838,
          1.309158444404602,
          1.3091295957565308,
          1.3091007471084595,
          1.3090718984603882,
          1.3090429306030273,
          1.309014081954956,
          1.3089852333068848,
          1.308956265449524,
          1.3089274168014526,
          1.3088983297348022,
          1.3088693618774414,
          1.3088403940200806,
          1.3088115453720093,
          1.3087825775146484,
          1.3087533712387085,
          1.3087244033813477,
          1.3086954355239868,
          1.308666467666626,
          1.308637261390686,
          1.3086081743240356,
          1.3085793256759644,
          1.308550238609314,
          1.308521032333374,
          1.3084919452667236,
          1.3084628582000732,
          1.3084337711334229,
          1.308404564857483,
          1.308375358581543,
          1.3083462715148926,
          1.3083171844482422,
          1.3082879781723022,
          1.3082587718963623,
          1.3082295656204224,
          1.3082003593444824,
          1.308171033859253,
          1.308141827583313,
          1.3081125020980835,
          1.308083415031433,
          1.3080540895462036,
          1.3080248832702637,
          1.3079955577850342,
          1.3079662322998047,
          1.3079367876052856,
          1.3079077005386353,
          1.3078782558441162,
          1.3078488111495972,
          1.3078194856643677,
          1.3077901601791382,
          1.3077607154846191,
          1.3077315092086792,
          1.3077020645141602,
          1.3076725006103516,
          1.307643175125122,
          1.307613730430603,
          1.307584285736084,
          1.3075547218322754,
          1.307525396347046,
          1.3074959516525269,
          1.3074662685394287,
          1.3074368238449097,
          1.307407259941101,
          1.307377815246582,
          1.3073482513427734,
          1.3073186874389648,
          1.3072891235351562,
          1.3072595596313477,
          1.307229995727539,
          1.3072004318237305,
          1.3071707487106323,
          1.3071410655975342,
          1.307111382484436,
          1.307081937789917,
          1.3070522546768188,
          1.3070224523544312,
          1.306992769241333,
          1.3069630861282349,
          1.3069336414337158,
          1.3069037199020386,
          1.3068739175796509,
          1.3068442344665527,
          1.3068145513534546,
          1.306784749031067,
          1.3067550659179688,
          1.306725263595581,
          1.3066954612731934,
          1.3066657781600952,
          1.306635856628418,
          1.3066059350967407,
          1.306576132774353,
          1.3065463304519653,
          1.3065165281295776,
          1.3064866065979004,
          1.3064566850662231,
          1.306426763534546,
          1.3063970804214478,
          1.3063669204711914,
          1.3063371181488037,
          1.3063071966171265,
          1.3062771558761597,
          1.3062472343444824,
          1.3062173128128052,
          1.3061872720718384,
          1.3061573505401611,
          1.3061274290084839,
          1.3060972690582275,
          1.3060672283172607,
          1.306037187576294,
          1.3060071468353271,
          1.3059769868850708,
          1.3059470653533936,
          1.3059169054031372,
          1.3058868646621704,
          1.3058568239212036,
          1.3058266639709473,
          1.305796504020691,
          1.3057664632797241,
          1.3057361841201782,
          1.3057061433792114,
          1.3056758642196655,
          1.3056457042694092,
          1.3056156635284424,
          1.305585265159607,
          1.305554986000061,
          1.3055248260498047,
          1.3054945468902588,
          1.305464506149292,
          1.3054341077804565,
          1.3054038286209106,
          1.3053735494613647,
          1.3053432703018188,
          1.305312991142273,
          1.3052825927734375,
          1.3052523136138916,
          1.3052217960357666,
          1.3051916360855103,
          1.3051612377166748,
          1.3051308393478394,
          1.305100440979004,
          1.3050700426101685,
          1.3050395250320435,
          1.305009365081787,
          1.304978847503662,
          1.3049484491348267,
          1.3049180507659912,
          1.3048874139785767,
          1.3048570156097412,
          1.3048264980316162,
          1.3047959804534912,
          1.3047654628753662,
          1.3047349452972412,
          1.3047044277191162,
          1.3046739101409912,
          1.3046433925628662,
          1.3046128749847412,
          1.3045822381973267,
          1.304551601409912,
          1.304521083831787,
          1.304490327835083,
          1.3044596910476685,
          1.304429054260254,
          1.304398536682129,
          1.3043678998947144,
          1.3043371438980103,
          1.3043066263198853,
          1.3042757511138916,
          1.304245114326477,
          1.3042144775390625
         ]
        }
       ],
       "layout": {
        "template": {
         "data": {
          "bar": [
           {
            "error_x": {
             "color": "#2a3f5f"
            },
            "error_y": {
             "color": "#2a3f5f"
            },
            "marker": {
             "line": {
              "color": "#E5ECF6",
              "width": 0.5
             },
             "pattern": {
              "fillmode": "overlay",
              "size": 10,
              "solidity": 0.2
             }
            },
            "type": "bar"
           }
          ],
          "barpolar": [
           {
            "marker": {
             "line": {
              "color": "#E5ECF6",
              "width": 0.5
             },
             "pattern": {
              "fillmode": "overlay",
              "size": 10,
              "solidity": 0.2
             }
            },
            "type": "barpolar"
           }
          ],
          "carpet": [
           {
            "aaxis": {
             "endlinecolor": "#2a3f5f",
             "gridcolor": "white",
             "linecolor": "white",
             "minorgridcolor": "white",
             "startlinecolor": "#2a3f5f"
            },
            "baxis": {
             "endlinecolor": "#2a3f5f",
             "gridcolor": "white",
             "linecolor": "white",
             "minorgridcolor": "white",
             "startlinecolor": "#2a3f5f"
            },
            "type": "carpet"
           }
          ],
          "choropleth": [
           {
            "colorbar": {
             "outlinewidth": 0,
             "ticks": ""
            },
            "type": "choropleth"
           }
          ],
          "contour": [
           {
            "colorbar": {
             "outlinewidth": 0,
             "ticks": ""
            },
            "colorscale": [
             [
              0,
              "#0d0887"
             ],
             [
              0.1111111111111111,
              "#46039f"
             ],
             [
              0.2222222222222222,
              "#7201a8"
             ],
             [
              0.3333333333333333,
              "#9c179e"
             ],
             [
              0.4444444444444444,
              "#bd3786"
             ],
             [
              0.5555555555555556,
              "#d8576b"
             ],
             [
              0.6666666666666666,
              "#ed7953"
             ],
             [
              0.7777777777777778,
              "#fb9f3a"
             ],
             [
              0.8888888888888888,
              "#fdca26"
             ],
             [
              1,
              "#f0f921"
             ]
            ],
            "type": "contour"
           }
          ],
          "contourcarpet": [
           {
            "colorbar": {
             "outlinewidth": 0,
             "ticks": ""
            },
            "type": "contourcarpet"
           }
          ],
          "heatmap": [
           {
            "colorbar": {
             "outlinewidth": 0,
             "ticks": ""
            },
            "colorscale": [
             [
              0,
              "#0d0887"
             ],
             [
              0.1111111111111111,
              "#46039f"
             ],
             [
              0.2222222222222222,
              "#7201a8"
             ],
             [
              0.3333333333333333,
              "#9c179e"
             ],
             [
              0.4444444444444444,
              "#bd3786"
             ],
             [
              0.5555555555555556,
              "#d8576b"
             ],
             [
              0.6666666666666666,
              "#ed7953"
             ],
             [
              0.7777777777777778,
              "#fb9f3a"
             ],
             [
              0.8888888888888888,
              "#fdca26"
             ],
             [
              1,
              "#f0f921"
             ]
            ],
            "type": "heatmap"
           }
          ],
          "heatmapgl": [
           {
            "colorbar": {
             "outlinewidth": 0,
             "ticks": ""
            },
            "colorscale": [
             [
              0,
              "#0d0887"
             ],
             [
              0.1111111111111111,
              "#46039f"
             ],
             [
              0.2222222222222222,
              "#7201a8"
             ],
             [
              0.3333333333333333,
              "#9c179e"
             ],
             [
              0.4444444444444444,
              "#bd3786"
             ],
             [
              0.5555555555555556,
              "#d8576b"
             ],
             [
              0.6666666666666666,
              "#ed7953"
             ],
             [
              0.7777777777777778,
              "#fb9f3a"
             ],
             [
              0.8888888888888888,
              "#fdca26"
             ],
             [
              1,
              "#f0f921"
             ]
            ],
            "type": "heatmapgl"
           }
          ],
          "histogram": [
           {
            "marker": {
             "pattern": {
              "fillmode": "overlay",
              "size": 10,
              "solidity": 0.2
             }
            },
            "type": "histogram"
           }
          ],
          "histogram2d": [
           {
            "colorbar": {
             "outlinewidth": 0,
             "ticks": ""
            },
            "colorscale": [
             [
              0,
              "#0d0887"
             ],
             [
              0.1111111111111111,
              "#46039f"
             ],
             [
              0.2222222222222222,
              "#7201a8"
             ],
             [
              0.3333333333333333,
              "#9c179e"
             ],
             [
              0.4444444444444444,
              "#bd3786"
             ],
             [
              0.5555555555555556,
              "#d8576b"
             ],
             [
              0.6666666666666666,
              "#ed7953"
             ],
             [
              0.7777777777777778,
              "#fb9f3a"
             ],
             [
              0.8888888888888888,
              "#fdca26"
             ],
             [
              1,
              "#f0f921"
             ]
            ],
            "type": "histogram2d"
           }
          ],
          "histogram2dcontour": [
           {
            "colorbar": {
             "outlinewidth": 0,
             "ticks": ""
            },
            "colorscale": [
             [
              0,
              "#0d0887"
             ],
             [
              0.1111111111111111,
              "#46039f"
             ],
             [
              0.2222222222222222,
              "#7201a8"
             ],
             [
              0.3333333333333333,
              "#9c179e"
             ],
             [
              0.4444444444444444,
              "#bd3786"
             ],
             [
              0.5555555555555556,
              "#d8576b"
             ],
             [
              0.6666666666666666,
              "#ed7953"
             ],
             [
              0.7777777777777778,
              "#fb9f3a"
             ],
             [
              0.8888888888888888,
              "#fdca26"
             ],
             [
              1,
              "#f0f921"
             ]
            ],
            "type": "histogram2dcontour"
           }
          ],
          "mesh3d": [
           {
            "colorbar": {
             "outlinewidth": 0,
             "ticks": ""
            },
            "type": "mesh3d"
           }
          ],
          "parcoords": [
           {
            "line": {
             "colorbar": {
              "outlinewidth": 0,
              "ticks": ""
             }
            },
            "type": "parcoords"
           }
          ],
          "pie": [
           {
            "automargin": true,
            "type": "pie"
           }
          ],
          "scatter": [
           {
            "fillpattern": {
             "fillmode": "overlay",
             "size": 10,
             "solidity": 0.2
            },
            "type": "scatter"
           }
          ],
          "scatter3d": [
           {
            "line": {
             "colorbar": {
              "outlinewidth": 0,
              "ticks": ""
             }
            },
            "marker": {
             "colorbar": {
              "outlinewidth": 0,
              "ticks": ""
             }
            },
            "type": "scatter3d"
           }
          ],
          "scattercarpet": [
           {
            "marker": {
             "colorbar": {
              "outlinewidth": 0,
              "ticks": ""
             }
            },
            "type": "scattercarpet"
           }
          ],
          "scattergeo": [
           {
            "marker": {
             "colorbar": {
              "outlinewidth": 0,
              "ticks": ""
             }
            },
            "type": "scattergeo"
           }
          ],
          "scattergl": [
           {
            "marker": {
             "colorbar": {
              "outlinewidth": 0,
              "ticks": ""
             }
            },
            "type": "scattergl"
           }
          ],
          "scattermapbox": [
           {
            "marker": {
             "colorbar": {
              "outlinewidth": 0,
              "ticks": ""
             }
            },
            "type": "scattermapbox"
           }
          ],
          "scatterpolar": [
           {
            "marker": {
             "colorbar": {
              "outlinewidth": 0,
              "ticks": ""
             }
            },
            "type": "scatterpolar"
           }
          ],
          "scatterpolargl": [
           {
            "marker": {
             "colorbar": {
              "outlinewidth": 0,
              "ticks": ""
             }
            },
            "type": "scatterpolargl"
           }
          ],
          "scatterternary": [
           {
            "marker": {
             "colorbar": {
              "outlinewidth": 0,
              "ticks": ""
             }
            },
            "type": "scatterternary"
           }
          ],
          "surface": [
           {
            "colorbar": {
             "outlinewidth": 0,
             "ticks": ""
            },
            "colorscale": [
             [
              0,
              "#0d0887"
             ],
             [
              0.1111111111111111,
              "#46039f"
             ],
             [
              0.2222222222222222,
              "#7201a8"
             ],
             [
              0.3333333333333333,
              "#9c179e"
             ],
             [
              0.4444444444444444,
              "#bd3786"
             ],
             [
              0.5555555555555556,
              "#d8576b"
             ],
             [
              0.6666666666666666,
              "#ed7953"
             ],
             [
              0.7777777777777778,
              "#fb9f3a"
             ],
             [
              0.8888888888888888,
              "#fdca26"
             ],
             [
              1,
              "#f0f921"
             ]
            ],
            "type": "surface"
           }
          ],
          "table": [
           {
            "cells": {
             "fill": {
              "color": "#EBF0F8"
             },
             "line": {
              "color": "white"
             }
            },
            "header": {
             "fill": {
              "color": "#C8D4E3"
             },
             "line": {
              "color": "white"
             }
            },
            "type": "table"
           }
          ]
         },
         "layout": {
          "annotationdefaults": {
           "arrowcolor": "#2a3f5f",
           "arrowhead": 0,
           "arrowwidth": 1
          },
          "autotypenumbers": "strict",
          "coloraxis": {
           "colorbar": {
            "outlinewidth": 0,
            "ticks": ""
           }
          },
          "colorscale": {
           "diverging": [
            [
             0,
             "#8e0152"
            ],
            [
             0.1,
             "#c51b7d"
            ],
            [
             0.2,
             "#de77ae"
            ],
            [
             0.3,
             "#f1b6da"
            ],
            [
             0.4,
             "#fde0ef"
            ],
            [
             0.5,
             "#f7f7f7"
            ],
            [
             0.6,
             "#e6f5d0"
            ],
            [
             0.7,
             "#b8e186"
            ],
            [
             0.8,
             "#7fbc41"
            ],
            [
             0.9,
             "#4d9221"
            ],
            [
             1,
             "#276419"
            ]
           ],
           "sequential": [
            [
             0,
             "#0d0887"
            ],
            [
             0.1111111111111111,
             "#46039f"
            ],
            [
             0.2222222222222222,
             "#7201a8"
            ],
            [
             0.3333333333333333,
             "#9c179e"
            ],
            [
             0.4444444444444444,
             "#bd3786"
            ],
            [
             0.5555555555555556,
             "#d8576b"
            ],
            [
             0.6666666666666666,
             "#ed7953"
            ],
            [
             0.7777777777777778,
             "#fb9f3a"
            ],
            [
             0.8888888888888888,
             "#fdca26"
            ],
            [
             1,
             "#f0f921"
            ]
           ],
           "sequentialminus": [
            [
             0,
             "#0d0887"
            ],
            [
             0.1111111111111111,
             "#46039f"
            ],
            [
             0.2222222222222222,
             "#7201a8"
            ],
            [
             0.3333333333333333,
             "#9c179e"
            ],
            [
             0.4444444444444444,
             "#bd3786"
            ],
            [
             0.5555555555555556,
             "#d8576b"
            ],
            [
             0.6666666666666666,
             "#ed7953"
            ],
            [
             0.7777777777777778,
             "#fb9f3a"
            ],
            [
             0.8888888888888888,
             "#fdca26"
            ],
            [
             1,
             "#f0f921"
            ]
           ]
          },
          "colorway": [
           "#636efa",
           "#EF553B",
           "#00cc96",
           "#ab63fa",
           "#FFA15A",
           "#19d3f3",
           "#FF6692",
           "#B6E880",
           "#FF97FF",
           "#FECB52"
          ],
          "font": {
           "color": "#2a3f5f"
          },
          "geo": {
           "bgcolor": "white",
           "lakecolor": "white",
           "landcolor": "#E5ECF6",
           "showlakes": true,
           "showland": true,
           "subunitcolor": "white"
          },
          "hoverlabel": {
           "align": "left"
          },
          "hovermode": "closest",
          "mapbox": {
           "style": "light"
          },
          "paper_bgcolor": "white",
          "plot_bgcolor": "#E5ECF6",
          "polar": {
           "angularaxis": {
            "gridcolor": "white",
            "linecolor": "white",
            "ticks": ""
           },
           "bgcolor": "#E5ECF6",
           "radialaxis": {
            "gridcolor": "white",
            "linecolor": "white",
            "ticks": ""
           }
          },
          "scene": {
           "xaxis": {
            "backgroundcolor": "#E5ECF6",
            "gridcolor": "white",
            "gridwidth": 2,
            "linecolor": "white",
            "showbackground": true,
            "ticks": "",
            "zerolinecolor": "white"
           },
           "yaxis": {
            "backgroundcolor": "#E5ECF6",
            "gridcolor": "white",
            "gridwidth": 2,
            "linecolor": "white",
            "showbackground": true,
            "ticks": "",
            "zerolinecolor": "white"
           },
           "zaxis": {
            "backgroundcolor": "#E5ECF6",
            "gridcolor": "white",
            "gridwidth": 2,
            "linecolor": "white",
            "showbackground": true,
            "ticks": "",
            "zerolinecolor": "white"
           }
          },
          "shapedefaults": {
           "line": {
            "color": "#2a3f5f"
           }
          },
          "ternary": {
           "aaxis": {
            "gridcolor": "white",
            "linecolor": "white",
            "ticks": ""
           },
           "baxis": {
            "gridcolor": "white",
            "linecolor": "white",
            "ticks": ""
           },
           "bgcolor": "#E5ECF6",
           "caxis": {
            "gridcolor": "white",
            "linecolor": "white",
            "ticks": ""
           }
          },
          "title": {
           "x": 0.05
          },
          "xaxis": {
           "automargin": true,
           "gridcolor": "white",
           "linecolor": "white",
           "ticks": "",
           "title": {
            "standoff": 15
           },
           "zerolinecolor": "white",
           "zerolinewidth": 2
          },
          "yaxis": {
           "automargin": true,
           "gridcolor": "white",
           "linecolor": "white",
           "ticks": "",
           "title": {
            "standoff": 15
           },
           "zerolinecolor": "white",
           "zerolinewidth": 2
          }
         }
        }
       }
      }
     },
     "metadata": {},
     "output_type": "display_data"
    }
   ],
   "source": [
    "fig = go.Figure()\n",
    "fig.add_trace(go.Scatter(y=training_history.history['val_loss'],mode='lines', name='Validation loss'))\n",
    "fig.add_trace(go.Scatter(y=training_history.history['loss'],mode='lines', name='Training loss'))"
   ]
  },
  {
   "cell_type": "markdown",
   "metadata": {},
   "source": [
    "### Evaluating the model"
   ]
  },
  {
   "cell_type": "code",
   "execution_count": null,
   "metadata": {},
   "outputs": [],
   "source": [
    "loss, acc = model.evaluate(\n",
    "    x=x_test_to_array,\n",
    "    y=y_test_to_array\n",
    ")\n",
    "print(\"model loss: {0}\".format(loss))\n",
    "print(\"model accuracy: {0}\".format(acc))"
   ]
  },
  {
   "cell_type": "code",
   "execution_count": null,
   "metadata": {},
   "outputs": [],
   "source": [
    "predictions = model.predict(x_test_to_array)"
   ]
  },
  {
   "cell_type": "code",
   "execution_count": null,
   "metadata": {},
   "outputs": [],
   "source": [
    "classe_names= y_train.unique().tolist()\n",
    "classe_names"
   ]
  },
  {
   "cell_type": "code",
   "execution_count": null,
   "metadata": {},
   "outputs": [],
   "source": [
    "predictions_categorical = list()\n",
    "for list_ar in predictions:\n",
    "    predictions_categorical.append(classe_names[np.argmax(list_ar)])"
   ]
  },
  {
   "cell_type": "code",
   "execution_count": null,
   "metadata": {},
   "outputs": [],
   "source": [
    "y_test.value_counts(True)"
   ]
  },
  {
   "cell_type": "code",
   "execution_count": null,
   "metadata": {},
   "outputs": [],
   "source": [
    "pd.Series(predictions_categorical).value_counts(True)"
   ]
  },
  {
   "cell_type": "code",
   "execution_count": null,
   "metadata": {},
   "outputs": [],
   "source": []
  }
 ],
 "metadata": {
  "kernelspec": {
   "display_name": "Python 3.10.4 ('cascid')",
   "language": "python",
   "name": "python3"
  },
  "language_info": {
   "codemirror_mode": {
    "name": "ipython",
    "version": 3
   },
   "file_extension": ".py",
   "mimetype": "text/x-python",
   "name": "python",
   "nbconvert_exporter": "python",
   "pygments_lexer": "ipython3",
   "version": "3.10.4"
  },
  "orig_nbformat": 4,
  "vscode": {
   "interpreter": {
    "hash": "e39c35aa707ef01daa0b1d38fed0390deea50eaaddf20190ced99680316cbbc7"
   }
  }
 },
 "nbformat": 4,
 "nbformat_minor": 2
}
