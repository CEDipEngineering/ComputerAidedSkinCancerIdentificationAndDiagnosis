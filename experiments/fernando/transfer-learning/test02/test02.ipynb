{
 "cells": [
  {
   "cell_type": "markdown",
   "metadata": {},
   "source": [
    "## TRANSFER LEARNING: IMPROVING ALGORITHM\n",
    "---"
   ]
  },
  {
   "cell_type": "markdown",
   "metadata": {},
   "source": [
    "### Libraries"
   ]
  },
  {
   "cell_type": "code",
   "execution_count": null,
   "metadata": {},
   "outputs": [],
   "source": [
    "import pickle\n",
    "from os import listdir\n",
    "\n",
    "#basic\n",
    "import pandas as pd\n",
    "import numpy as np\n",
    "from PIL import Image\n",
    "import matplotlib.pyplot as plt\n",
    "import plotly.graph_objects as go\n",
    "\n",
    "#tensorflow and keras\n",
    "from tensorflow import keras\n",
    "from keras.preprocessing.image import ImageDataGenerator\n",
    "from keras.layers import Input, Dense, GlobalAveragePooling2D, Flatten, MaxPooling2D, Dropout\n",
    "from keras.callbacks import ModelCheckpoint, EarlyStopping\n",
    "from keras import Model\n",
    "\n",
    "#sklearn\n",
    "from sklearn.model_selection import train_test_split\n",
    "from fast_ml.model_development import train_valid_test_split\n",
    "\n",
    "#open cv\n",
    "import cv2 as cv\n",
    "\n",
    "#functions\n",
    "from utils.images import load_images, read_image_file\n",
    "from utils.train import series_to_array, get_classes_dictionary\n",
    "\n",
    "from cascid import config"
   ]
  },
  {
   "cell_type": "markdown",
   "metadata": {},
   "source": [
    "### Constants"
   ]
  },
  {
   "cell_type": "code",
   "execution_count": null,
   "metadata": {},
   "outputs": [],
   "source": [
    "# PATH = \"/home/fernandofincatti/Documents/insper/pfe/ComputerAidedSkinCancerIdentificationAndDiagnosis/data/\"\n",
    "RANDOM_STATE = 42\n",
    "TRAIN_SIZE = 0.7\n",
    "VALIDATION_SIZE = 0.15\n",
    "TEST_SIZE = 0.15\n",
    "EPOCHS = 250\n",
    "IMAGE_SHAPE = (128, 128, 3)\n",
    "\n",
    "FERNANDO_PATH = config.DATA_DIR / 'experiments' / 'fernando'\n",
    "FERNANDO_PATH.mkdir(exist_ok=True, parents=True)\n",
    "\n",
    "FULL_DATAFRAME_FILE = FERNANDO_PATH / 'full_dataframe.pkl'\n",
    "FEATURES_FILE = FERNANDO_PATH / 'features.pkl'\n",
    "\n",
    "READ_FULL_DATAFRAME = False\n",
    "COMPUTE_FEATURES = False\n"
   ]
  },
  {
   "cell_type": "markdown",
   "metadata": {},
   "source": [
    "### Loading data"
   ]
  },
  {
   "cell_type": "code",
   "execution_count": null,
   "metadata": {},
   "outputs": [],
   "source": [
    "def read_images():\n",
    "    images = []\n",
    "    file_names = []\n",
    "    for path in config.IMAGE_DIR.glob('*.png'):\n",
    "        images.append(read_image_file(str(path), IMAGE_SHAPE))\n",
    "        file_names.append(path.name)\n",
    "    images_dataframe = pd.DataFrame({\n",
    "        \"image_array\": images,\n",
    "        \"img_id\": file_names\n",
    "    })\n",
    "    return images_dataframe\n",
    "\n",
    "\n",
    "def read_metadata():\n",
    "    return pd.read_csv(config.DATA_FILE)\n",
    "\n",
    "\n",
    "def read_data():\n",
    "    metadata = read_metadata()\n",
    "    images_dataframe = read_images()\n",
    "    full_dataframe = metadata.merge(images_dataframe, how=\"right\", on=\"img_id\")\n",
    "    return full_dataframe"
   ]
  },
  {
   "cell_type": "code",
   "execution_count": null,
   "metadata": {},
   "outputs": [],
   "source": [
    "if READ_FULL_DATAFRAME:\n",
    "    full_dataframe = read_data()\n",
    "\n",
    "    with open(FULL_DATAFRAME_FILE, 'wb') as file:\n",
    "        pickle.dump(full_dataframe, file)\n",
    "else:\n",
    "    with open(FULL_DATAFRAME_FILE, 'rb') as file:\n",
    "        full_dataframe = pickle.load(file)\n"
   ]
  },
  {
   "cell_type": "code",
   "execution_count": null,
   "metadata": {},
   "outputs": [],
   "source": [
    "full_dataframe.head()"
   ]
  },
  {
   "cell_type": "markdown",
   "metadata": {},
   "source": [
    "### Test image"
   ]
  },
  {
   "cell_type": "code",
   "execution_count": null,
   "metadata": {},
   "outputs": [],
   "source": [
    "img_test = full_dataframe[\"image_array\"][0]\n",
    "file_test = full_dataframe[\"img_id\"][0]"
   ]
  },
  {
   "cell_type": "code",
   "execution_count": null,
   "metadata": {},
   "outputs": [],
   "source": [
    "print(file_test)\n",
    "plt.imshow(img_test)\n",
    "plt.show()"
   ]
  },
  {
   "cell_type": "markdown",
   "metadata": {},
   "source": [
    "### Split train, validation and test"
   ]
  },
  {
   "cell_type": "code",
   "execution_count": null,
   "metadata": {},
   "outputs": [],
   "source": [
    "features = full_dataframe[\"image_array\"]\n",
    "target = full_dataframe[\"diagnostic\"]"
   ]
  },
  {
   "cell_type": "code",
   "execution_count": null,
   "metadata": {},
   "outputs": [],
   "source": [
    "x_train, y_train, x_valid, y_valid, x_test, y_test = train_valid_test_split(\n",
    "    full_dataframe,\n",
    "    target=\"diagnostic\",\n",
    "    train_size=TRAIN_SIZE,\n",
    "    valid_size=VALIDATION_SIZE,\n",
    "    test_size=TEST_SIZE,\n",
    "    random_state=RANDOM_STATE,\n",
    ")\n",
    "\n",
    "print(\"Train examples: {0}\".format(x_train.shape[0]))\n",
    "print(\"Validation examples: {0}\".format(x_valid.shape[0]))\n",
    "print(\"Test examples: {0}\".format(x_test.shape[0]))"
   ]
  },
  {
   "cell_type": "code",
   "execution_count": null,
   "metadata": {},
   "outputs": [],
   "source": [
    "predictions_dictionary = get_classes_dictionary(y_train)"
   ]
  },
  {
   "cell_type": "code",
   "execution_count": null,
   "metadata": {},
   "outputs": [],
   "source": [
    "predictions_dictionary"
   ]
  },
  {
   "cell_type": "code",
   "execution_count": null,
   "metadata": {},
   "outputs": [],
   "source": [
    "x_train_to_array = np.asarray(x_train[\"image_array\"].tolist()).astype(\n",
    "    np.float32)\n",
    "x_test_to_array = np.asarray(x_test[\"image_array\"].tolist()).astype(np.float32)\n",
    "x_valid_to_array = np.asarray(x_valid[\"image_array\"].tolist()).astype(\n",
    "    np.float32)\n"
   ]
  },
  {
   "cell_type": "code",
   "execution_count": null,
   "metadata": {},
   "outputs": [],
   "source": [
    "y_train_to_array = series_to_array(y_train, predictions_dictionary)\n",
    "y_test_to_array = series_to_array(y_test, predictions_dictionary)\n",
    "y_valid_to_array = series_to_array(y_valid, predictions_dictionary)\n"
   ]
  },
  {
   "cell_type": "markdown",
   "metadata": {},
   "source": [
    "### Data augmentation"
   ]
  },
  {
   "cell_type": "code",
   "execution_count": null,
   "metadata": {},
   "outputs": [],
   "source": [
    "# train_data_augmentation_generator = ImageDataGenerator(\n",
    "#     rotation_range=20,\n",
    "#     width_shift_range=0.2,\n",
    "#     height_shift_range=0.2,\n",
    "#     horizontal_flip=True,\n",
    "# )"
   ]
  },
  {
   "cell_type": "markdown",
   "metadata": {},
   "source": [
    "### Model"
   ]
  },
  {
   "cell_type": "code",
   "execution_count": null,
   "metadata": {},
   "outputs": [],
   "source": [
    "if COMPUTE_FEATURES:\n",
    "    feature_extractor = keras.applications.ResNet50(\n",
    "        weights='imagenet',\n",
    "        input_shape=IMAGE_SHAPE,\n",
    "        pooling='avg',\n",
    "        include_top=False,\n",
    "    )\n",
    "    feature_extractor.trainable = False  #to make sure it's not being trained\n",
    "    features = feature_extractor(x_train_to_array)\n",
    "\n",
    "    with open(FEATURES_FILE, 'wb') as file:\n",
    "        pickle.dump(features.numpy(), file)\n",
    "else:\n",
    "    with open(FEATURES_FILE, 'rb') as file:\n",
    "        features = pickle.load(file)"
   ]
  },
  {
   "cell_type": "code",
   "execution_count": null,
   "metadata": {},
   "outputs": [],
   "source": [
    "features.shape"
   ]
  },
  {
   "cell_type": "code",
   "execution_count": null,
   "metadata": {},
   "outputs": [],
   "source": [
    "input_layer = Input(shape=(2048, ))\n",
    "output_layer = Dense(6, activation='softmax')(input_layer)\n",
    "model = Model(input_layer, output_layer)"
   ]
  },
  {
   "cell_type": "code",
   "execution_count": null,
   "metadata": {},
   "outputs": [],
   "source": [
    "# feature_extractor.trainable = False #to make sure it's not being trained\n",
    "# input_layer = Input(shape=IMAGE_SHAPE)\n",
    "# pre_treined_model = feature_extractor(input_layer, training=False) #add input layer\n",
    "# pre_treined_model_with_polling = GlobalAveragePooling2D()(pre_treined_model) #add pooling layer\n",
    "# output_layer = Dense(6, activation='softmax')(pre_treined_model_with_polling)\n",
    "# model = Model(input_layer, output_layer)"
   ]
  },
  {
   "cell_type": "code",
   "execution_count": null,
   "metadata": {},
   "outputs": [],
   "source": [
    "model.compile(optimizer='adam',\n",
    "              loss='categorical_crossentropy',\n",
    "              metrics=['accuracy'])\n"
   ]
  },
  {
   "cell_type": "code",
   "execution_count": null,
   "metadata": {},
   "outputs": [],
   "source": [
    "model.summary()"
   ]
  },
  {
   "cell_type": "markdown",
   "metadata": {},
   "source": [
    "### Train"
   ]
  },
  {
   "cell_type": "code",
   "execution_count": null,
   "metadata": {},
   "outputs": [],
   "source": [
    "best_model_checkpoint_early_stopping = EarlyStopping(monitor='val_accuracy',\n",
    "                                                     mode='max',\n",
    "                                                     verbose=1,\n",
    "                                                     patience=100,\n",
    "                                                     restore_best_weights=True)\n",
    "\n",
    "best_model_checkpoint = ModelCheckpoint(\n",
    "    filepath=\n",
    "    \"/home/fernandofincatti/Documents/insper/pfe/ComputerAidedSkinCancerIdentificationAndDiagnosis/experiments/fernando/transfer-learning/test02/model\",\n",
    "    monitor='val_accuracy',\n",
    "    save_best_only=True,\n",
    "    save_weights_only=True)\n"
   ]
  },
  {
   "cell_type": "code",
   "execution_count": null,
   "metadata": {},
   "outputs": [],
   "source": [
    "# training_history = model.fit(\n",
    "#     x = train_data_augmentation_generator.flow(\n",
    "#         x_train_to_array,\n",
    "#         y_train_to_array),\n",
    "#     epochs = EPOCHS,\n",
    "#     validation_data = (x_valid_to_array, y_valid_to_array),\n",
    "#     batch_size=8,\n",
    "#     callbacks=[best_model_checkpoint, best_model_checkpoint_early_stopping]\n",
    "# )"
   ]
  },
  {
   "cell_type": "code",
   "execution_count": null,
   "metadata": {},
   "outputs": [],
   "source": [
    "training_history = model.fit(\n",
    "    features,\n",
    "    y_train_to_array,\n",
    "    epochs=EPOCHS,\n",
    "    validation_split=0.2,\n",
    "    batch_size=256,\n",
    "    #callbacks=[best_model_checkpoint, best_model_checkpoint_early_stopping]\n",
    ")"
   ]
  },
  {
   "cell_type": "code",
   "execution_count": null,
   "metadata": {},
   "outputs": [],
   "source": [
    "fig = go.Figure()\n",
    "fig.add_trace(\n",
    "    go.Scatter(y=training_history.history['val_accuracy'],\n",
    "               mode='lines',\n",
    "               name='Acc - Validation'))\n",
    "fig.add_trace(\n",
    "    go.Scatter(y=training_history.history['accuracy'],\n",
    "               mode='lines',\n",
    "               name='Acc - Training'))\n"
   ]
  },
  {
   "cell_type": "code",
   "execution_count": null,
   "metadata": {},
   "outputs": [],
   "source": [
    "fig = go.Figure()\n",
    "fig.add_trace(\n",
    "    go.Scatter(y=training_history.history['val_loss'],\n",
    "               mode='lines',\n",
    "               name='Validation loss'))\n",
    "fig.add_trace(\n",
    "    go.Scatter(y=training_history.history['loss'],\n",
    "               mode='lines',\n",
    "               name='Training loss'))\n"
   ]
  },
  {
   "cell_type": "markdown",
   "metadata": {},
   "source": [
    "### Evaluating the model"
   ]
  },
  {
   "cell_type": "code",
   "execution_count": null,
   "metadata": {},
   "outputs": [],
   "source": [
    "loss, acc = model.evaluate(x=x_test_to_array, y=y_test_to_array)\n",
    "print(\"model loss: {0}\".format(loss))\n",
    "print(\"model accuracy: {0}\".format(acc))"
   ]
  },
  {
   "cell_type": "code",
   "execution_count": null,
   "metadata": {},
   "outputs": [],
   "source": [
    "predictions = model.predict(x_test_to_array)"
   ]
  },
  {
   "cell_type": "code",
   "execution_count": null,
   "metadata": {},
   "outputs": [],
   "source": [
    "classe_names = y_train.unique().tolist()\n",
    "classe_names"
   ]
  },
  {
   "cell_type": "code",
   "execution_count": null,
   "metadata": {},
   "outputs": [],
   "source": [
    "predictions_categorical = list()\n",
    "for list_ar in predictions:\n",
    "    predictions_categorical.append(classe_names[np.argmax(list_ar)])"
   ]
  },
  {
   "cell_type": "code",
   "execution_count": null,
   "metadata": {},
   "outputs": [],
   "source": [
    "y_test.value_counts(True)"
   ]
  },
  {
   "cell_type": "code",
   "execution_count": null,
   "metadata": {},
   "outputs": [],
   "source": [
    "pd.Series(predictions_categorical).value_counts(True)"
   ]
  },
  {
   "cell_type": "code",
   "execution_count": null,
   "metadata": {},
   "outputs": [],
   "source": []
  }
 ],
 "metadata": {
  "kernelspec": {
   "display_name": "Python 3.10.4 ('cascid')",
   "language": "python",
   "name": "python3"
  },
  "language_info": {
   "codemirror_mode": {
    "name": "ipython",
    "version": 3
   },
   "file_extension": ".py",
   "mimetype": "text/x-python",
   "name": "python",
   "nbconvert_exporter": "python",
   "pygments_lexer": "ipython3",
   "version": "3.10.4"
  },
  "orig_nbformat": 4,
  "vscode": {
   "interpreter": {
    "hash": "e39c35aa707ef01daa0b1d38fed0390deea50eaaddf20190ced99680316cbbc7"
   }
  }
 },
 "nbformat": 4,
 "nbformat_minor": 2
}
