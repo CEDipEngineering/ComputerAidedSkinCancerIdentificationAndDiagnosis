{
 "cells": [
  {
   "cell_type": "markdown",
   "metadata": {},
   "source": [
    "## TRANSFER LEARNING: IMPROVING ALGORITHM\n",
    "---"
   ]
  },
  {
   "cell_type": "markdown",
   "metadata": {},
   "source": [
    "### Libraries"
   ]
  },
  {
   "cell_type": "code",
   "execution_count": 15,
   "metadata": {},
   "outputs": [],
   "source": [
    "import pickle\n",
    "from os import listdir\n",
    "\n",
    "#basic\n",
    "import pandas as pd\n",
    "import numpy as np\n",
    "from PIL import Image\n",
    "import matplotlib.pyplot as plt\n",
    "import plotly.graph_objects as go\n",
    "\n",
    "#tensorflow and keras\n",
    "from tensorflow import keras\n",
    "from keras.preprocessing.image import ImageDataGenerator\n",
    "from keras.layers import Input, Dense, GlobalAveragePooling2D, Flatten, MaxPooling2D, Dropout\n",
    "from keras.callbacks import ModelCheckpoint, EarlyStopping\n",
    "from keras import Model\n",
    "\n",
    "#sklearn\n",
    "from sklearn.model_selection import train_test_split\n",
    "from fast_ml.model_development import train_valid_test_split\n",
    "\n",
    "#open cv\n",
    "import cv2 as cv\n",
    "\n",
    "#functions\n",
    "from utils.images import load_images, read_image_file\n",
    "from utils.train import series_to_array, get_classes_dictionary\n",
    "\n",
    "from cascid.configs import config, pad_ufes\n",
    "from cascid import database"
   ]
  },
  {
   "cell_type": "markdown",
   "metadata": {},
   "source": [
    "### Constants"
   ]
  },
  {
   "cell_type": "code",
   "execution_count": 12,
   "metadata": {},
   "outputs": [],
   "source": [
    "# PATH = \"/home/fernandofincatti/Documents/insper/pfe/ComputerAidedSkinCancerIdentificationAndDiagnosis/data/\"\n",
    "RANDOM_STATE = 42\n",
    "TRAIN_SIZE = 0.7\n",
    "VALIDATION_SIZE = 0.15\n",
    "TEST_SIZE = 0.15\n",
    "EPOCHS = 250\n",
    "IMAGE_SHAPE = (128, 128, 3)\n",
    "\n",
    "FERNANDO_PATH = config.DATA_DIR / 'experiments' / 'fernando'\n",
    "FERNANDO_PATH.mkdir(exist_ok=True, parents=True)\n",
    "\n",
    "FULL_DATAFRAME_FILE = FERNANDO_PATH / 'full_dataframe.pkl'\n",
    "FEATURES_FILE = FERNANDO_PATH / 'features.pkl'\n",
    "\n",
    "READ_FULL_DATAFRAME = True\n",
    "COMPUTE_FEATURES = True\n"
   ]
  },
  {
   "cell_type": "markdown",
   "metadata": {},
   "source": [
    "### Loading data"
   ]
  },
  {
   "cell_type": "code",
   "execution_count": 18,
   "metadata": {},
   "outputs": [],
   "source": [
    "def read_images():\n",
    "    images = []\n",
    "    file_names = []\n",
    "    for path in pad_ufes.IMAGES_DIR.glob('*.png'):\n",
    "        images.append(read_image_file(str(path), IMAGE_SHAPE))\n",
    "        file_names.append(path.name)\n",
    "    images_dataframe = pd.DataFrame({\n",
    "        \"image_array\": images,\n",
    "        \"img_id\": file_names\n",
    "    })\n",
    "    return images_dataframe\n",
    "\n",
    "\n",
    "def read_metadata():\n",
    "    return database.get_db()\n",
    "\n",
    "\n",
    "def read_data():\n",
    "    metadata = read_metadata()\n",
    "    images_dataframe = read_images()\n",
    "    full_dataframe = metadata.merge(images_dataframe, how=\"right\", on=\"img_id\")\n",
    "    return full_dataframe"
   ]
  },
  {
   "cell_type": "code",
   "execution_count": 19,
   "metadata": {},
   "outputs": [],
   "source": [
    "if READ_FULL_DATAFRAME:\n",
    "    full_dataframe = read_data()\n",
    "\n",
    "    with open(FULL_DATAFRAME_FILE, 'wb') as file:\n",
    "        pickle.dump(full_dataframe, file)\n",
    "else:\n",
    "    with open(FULL_DATAFRAME_FILE, 'rb') as file:\n",
    "        full_dataframe = pickle.load(file)\n"
   ]
  },
  {
   "cell_type": "code",
   "execution_count": 20,
   "metadata": {},
   "outputs": [
    {
     "data": {
      "text/html": [
       "<div>\n",
       "<style scoped>\n",
       "    .dataframe tbody tr th:only-of-type {\n",
       "        vertical-align: middle;\n",
       "    }\n",
       "\n",
       "    .dataframe tbody tr th {\n",
       "        vertical-align: top;\n",
       "    }\n",
       "\n",
       "    .dataframe thead th {\n",
       "        text-align: right;\n",
       "    }\n",
       "</style>\n",
       "<table border=\"1\" class=\"dataframe\">\n",
       "  <thead>\n",
       "    <tr style=\"text-align: right;\">\n",
       "      <th></th>\n",
       "      <th>0</th>\n",
       "      <th>1</th>\n",
       "      <th>2</th>\n",
       "      <th>3</th>\n",
       "      <th>4</th>\n",
       "    </tr>\n",
       "  </thead>\n",
       "  <tbody>\n",
       "    <tr>\n",
       "      <th>patient_id</th>\n",
       "      <td>PAT_207</td>\n",
       "      <td>PAT_793</td>\n",
       "      <td>PAT_2088</td>\n",
       "      <td>PAT_1892</td>\n",
       "      <td>PAT_1286</td>\n",
       "    </tr>\n",
       "    <tr>\n",
       "      <th>lesion_id</th>\n",
       "      <td>313</td>\n",
       "      <td>1512</td>\n",
       "      <td>4525</td>\n",
       "      <td>3760</td>\n",
       "      <td>999</td>\n",
       "    </tr>\n",
       "    <tr>\n",
       "      <th>smoke</th>\n",
       "      <td>True</td>\n",
       "      <td>False</td>\n",
       "      <td>NaN</td>\n",
       "      <td>NaN</td>\n",
       "      <td>NaN</td>\n",
       "    </tr>\n",
       "    <tr>\n",
       "      <th>drink</th>\n",
       "      <td>False</td>\n",
       "      <td>False</td>\n",
       "      <td>NaN</td>\n",
       "      <td>NaN</td>\n",
       "      <td>NaN</td>\n",
       "    </tr>\n",
       "    <tr>\n",
       "      <th>background_father</th>\n",
       "      <td>PORTUGAL</td>\n",
       "      <td>ITALY</td>\n",
       "      <td>NaN</td>\n",
       "      <td>NaN</td>\n",
       "      <td>NaN</td>\n",
       "    </tr>\n",
       "    <tr>\n",
       "      <th>background_mother</th>\n",
       "      <td>PORTUGAL</td>\n",
       "      <td>ITALY</td>\n",
       "      <td>NaN</td>\n",
       "      <td>NaN</td>\n",
       "      <td>NaN</td>\n",
       "    </tr>\n",
       "    <tr>\n",
       "      <th>age</th>\n",
       "      <td>79</td>\n",
       "      <td>36</td>\n",
       "      <td>9</td>\n",
       "      <td>39</td>\n",
       "      <td>73</td>\n",
       "    </tr>\n",
       "    <tr>\n",
       "      <th>pesticide</th>\n",
       "      <td>True</td>\n",
       "      <td>False</td>\n",
       "      <td>NaN</td>\n",
       "      <td>NaN</td>\n",
       "      <td>NaN</td>\n",
       "    </tr>\n",
       "    <tr>\n",
       "      <th>gender</th>\n",
       "      <td>MALE</td>\n",
       "      <td>MALE</td>\n",
       "      <td>NaN</td>\n",
       "      <td>NaN</td>\n",
       "      <td>NaN</td>\n",
       "    </tr>\n",
       "    <tr>\n",
       "      <th>skin_cancer_history</th>\n",
       "      <td>False</td>\n",
       "      <td>False</td>\n",
       "      <td>NaN</td>\n",
       "      <td>NaN</td>\n",
       "      <td>NaN</td>\n",
       "    </tr>\n",
       "    <tr>\n",
       "      <th>cancer_history</th>\n",
       "      <td>False</td>\n",
       "      <td>True</td>\n",
       "      <td>NaN</td>\n",
       "      <td>NaN</td>\n",
       "      <td>NaN</td>\n",
       "    </tr>\n",
       "    <tr>\n",
       "      <th>has_piped_water</th>\n",
       "      <td>True</td>\n",
       "      <td>True</td>\n",
       "      <td>NaN</td>\n",
       "      <td>NaN</td>\n",
       "      <td>NaN</td>\n",
       "    </tr>\n",
       "    <tr>\n",
       "      <th>has_sewage_system</th>\n",
       "      <td>True</td>\n",
       "      <td>False</td>\n",
       "      <td>NaN</td>\n",
       "      <td>NaN</td>\n",
       "      <td>NaN</td>\n",
       "    </tr>\n",
       "    <tr>\n",
       "      <th>fitspatrick</th>\n",
       "      <td>3.0</td>\n",
       "      <td>4.0</td>\n",
       "      <td>NaN</td>\n",
       "      <td>NaN</td>\n",
       "      <td>NaN</td>\n",
       "    </tr>\n",
       "    <tr>\n",
       "      <th>region</th>\n",
       "      <td>CHEST</td>\n",
       "      <td>BACK</td>\n",
       "      <td>BACK</td>\n",
       "      <td>FACE</td>\n",
       "      <td>FACE</td>\n",
       "    </tr>\n",
       "    <tr>\n",
       "      <th>diameter_1</th>\n",
       "      <td>25.0</td>\n",
       "      <td>7.0</td>\n",
       "      <td>NaN</td>\n",
       "      <td>NaN</td>\n",
       "      <td>NaN</td>\n",
       "    </tr>\n",
       "    <tr>\n",
       "      <th>diameter_2</th>\n",
       "      <td>13.0</td>\n",
       "      <td>4.0</td>\n",
       "      <td>NaN</td>\n",
       "      <td>NaN</td>\n",
       "      <td>NaN</td>\n",
       "    </tr>\n",
       "    <tr>\n",
       "      <th>diagnostic</th>\n",
       "      <td>BCC</td>\n",
       "      <td>NEV</td>\n",
       "      <td>NEV</td>\n",
       "      <td>ACK</td>\n",
       "      <td>SEK</td>\n",
       "    </tr>\n",
       "    <tr>\n",
       "      <th>itch</th>\n",
       "      <td>True</td>\n",
       "      <td>True</td>\n",
       "      <td>False</td>\n",
       "      <td>False</td>\n",
       "      <td>False</td>\n",
       "    </tr>\n",
       "    <tr>\n",
       "      <th>grew</th>\n",
       "      <td>True</td>\n",
       "      <td>False</td>\n",
       "      <td>False</td>\n",
       "      <td>False</td>\n",
       "      <td>False</td>\n",
       "    </tr>\n",
       "    <tr>\n",
       "      <th>hurt</th>\n",
       "      <td>False</td>\n",
       "      <td>False</td>\n",
       "      <td>False</td>\n",
       "      <td>False</td>\n",
       "      <td>False</td>\n",
       "    </tr>\n",
       "    <tr>\n",
       "      <th>changed</th>\n",
       "      <td>False</td>\n",
       "      <td>False</td>\n",
       "      <td>False</td>\n",
       "      <td>True</td>\n",
       "      <td>False</td>\n",
       "    </tr>\n",
       "    <tr>\n",
       "      <th>bleed</th>\n",
       "      <td>False</td>\n",
       "      <td>False</td>\n",
       "      <td>False</td>\n",
       "      <td>False</td>\n",
       "      <td>False</td>\n",
       "    </tr>\n",
       "    <tr>\n",
       "      <th>elevation</th>\n",
       "      <td>True</td>\n",
       "      <td>False</td>\n",
       "      <td>False</td>\n",
       "      <td>False</td>\n",
       "      <td>True</td>\n",
       "    </tr>\n",
       "    <tr>\n",
       "      <th>img_id</th>\n",
       "      <td>PAT_207_313_1.png</td>\n",
       "      <td>PAT_793_1512_513.png</td>\n",
       "      <td>PAT_2088_4525_507.png</td>\n",
       "      <td>PAT_1892_3760_713.png</td>\n",
       "      <td>PAT_1286_999_846.png</td>\n",
       "    </tr>\n",
       "    <tr>\n",
       "      <th>biopsed</th>\n",
       "      <td>True</td>\n",
       "      <td>True</td>\n",
       "      <td>False</td>\n",
       "      <td>False</td>\n",
       "      <td>False</td>\n",
       "    </tr>\n",
       "    <tr>\n",
       "      <th>image_array</th>\n",
       "      <td>[[[0.5254901960784314, 0.4980392156862745, 0.5...</td>\n",
       "      <td>[[[0.8941176470588236, 0.8117647058823529, 0.6...</td>\n",
       "      <td>[[[0.6509803921568628, 0.4666666666666667, 0.2...</td>\n",
       "      <td>[[[0.615686274509804, 0.38823529411764707, 0.3...</td>\n",
       "      <td>[[[0.7725490196078432, 0.6745098039215687, 0.5...</td>\n",
       "    </tr>\n",
       "  </tbody>\n",
       "</table>\n",
       "</div>"
      ],
      "text/plain": [
       "                                                                     0  \\\n",
       "patient_id                                                     PAT_207   \n",
       "lesion_id                                                          313   \n",
       "smoke                                                             True   \n",
       "drink                                                            False   \n",
       "background_father                                             PORTUGAL   \n",
       "background_mother                                             PORTUGAL   \n",
       "age                                                                 79   \n",
       "pesticide                                                         True   \n",
       "gender                                                            MALE   \n",
       "skin_cancer_history                                              False   \n",
       "cancer_history                                                   False   \n",
       "has_piped_water                                                   True   \n",
       "has_sewage_system                                                 True   \n",
       "fitspatrick                                                        3.0   \n",
       "region                                                           CHEST   \n",
       "diameter_1                                                        25.0   \n",
       "diameter_2                                                        13.0   \n",
       "diagnostic                                                         BCC   \n",
       "itch                                                              True   \n",
       "grew                                                              True   \n",
       "hurt                                                             False   \n",
       "changed                                                          False   \n",
       "bleed                                                            False   \n",
       "elevation                                                         True   \n",
       "img_id                                               PAT_207_313_1.png   \n",
       "biopsed                                                           True   \n",
       "image_array          [[[0.5254901960784314, 0.4980392156862745, 0.5...   \n",
       "\n",
       "                                                                     1  \\\n",
       "patient_id                                                     PAT_793   \n",
       "lesion_id                                                         1512   \n",
       "smoke                                                            False   \n",
       "drink                                                            False   \n",
       "background_father                                                ITALY   \n",
       "background_mother                                                ITALY   \n",
       "age                                                                 36   \n",
       "pesticide                                                        False   \n",
       "gender                                                            MALE   \n",
       "skin_cancer_history                                              False   \n",
       "cancer_history                                                    True   \n",
       "has_piped_water                                                   True   \n",
       "has_sewage_system                                                False   \n",
       "fitspatrick                                                        4.0   \n",
       "region                                                            BACK   \n",
       "diameter_1                                                         7.0   \n",
       "diameter_2                                                         4.0   \n",
       "diagnostic                                                         NEV   \n",
       "itch                                                              True   \n",
       "grew                                                             False   \n",
       "hurt                                                             False   \n",
       "changed                                                          False   \n",
       "bleed                                                            False   \n",
       "elevation                                                        False   \n",
       "img_id                                            PAT_793_1512_513.png   \n",
       "biopsed                                                           True   \n",
       "image_array          [[[0.8941176470588236, 0.8117647058823529, 0.6...   \n",
       "\n",
       "                                                                     2  \\\n",
       "patient_id                                                    PAT_2088   \n",
       "lesion_id                                                         4525   \n",
       "smoke                                                              NaN   \n",
       "drink                                                              NaN   \n",
       "background_father                                                  NaN   \n",
       "background_mother                                                  NaN   \n",
       "age                                                                  9   \n",
       "pesticide                                                          NaN   \n",
       "gender                                                             NaN   \n",
       "skin_cancer_history                                                NaN   \n",
       "cancer_history                                                     NaN   \n",
       "has_piped_water                                                    NaN   \n",
       "has_sewage_system                                                  NaN   \n",
       "fitspatrick                                                        NaN   \n",
       "region                                                            BACK   \n",
       "diameter_1                                                         NaN   \n",
       "diameter_2                                                         NaN   \n",
       "diagnostic                                                         NEV   \n",
       "itch                                                             False   \n",
       "grew                                                             False   \n",
       "hurt                                                             False   \n",
       "changed                                                          False   \n",
       "bleed                                                            False   \n",
       "elevation                                                        False   \n",
       "img_id                                           PAT_2088_4525_507.png   \n",
       "biopsed                                                          False   \n",
       "image_array          [[[0.6509803921568628, 0.4666666666666667, 0.2...   \n",
       "\n",
       "                                                                     3  \\\n",
       "patient_id                                                    PAT_1892   \n",
       "lesion_id                                                         3760   \n",
       "smoke                                                              NaN   \n",
       "drink                                                              NaN   \n",
       "background_father                                                  NaN   \n",
       "background_mother                                                  NaN   \n",
       "age                                                                 39   \n",
       "pesticide                                                          NaN   \n",
       "gender                                                             NaN   \n",
       "skin_cancer_history                                                NaN   \n",
       "cancer_history                                                     NaN   \n",
       "has_piped_water                                                    NaN   \n",
       "has_sewage_system                                                  NaN   \n",
       "fitspatrick                                                        NaN   \n",
       "region                                                            FACE   \n",
       "diameter_1                                                         NaN   \n",
       "diameter_2                                                         NaN   \n",
       "diagnostic                                                         ACK   \n",
       "itch                                                             False   \n",
       "grew                                                             False   \n",
       "hurt                                                             False   \n",
       "changed                                                           True   \n",
       "bleed                                                            False   \n",
       "elevation                                                        False   \n",
       "img_id                                           PAT_1892_3760_713.png   \n",
       "biopsed                                                          False   \n",
       "image_array          [[[0.615686274509804, 0.38823529411764707, 0.3...   \n",
       "\n",
       "                                                                     4  \n",
       "patient_id                                                    PAT_1286  \n",
       "lesion_id                                                          999  \n",
       "smoke                                                              NaN  \n",
       "drink                                                              NaN  \n",
       "background_father                                                  NaN  \n",
       "background_mother                                                  NaN  \n",
       "age                                                                 73  \n",
       "pesticide                                                          NaN  \n",
       "gender                                                             NaN  \n",
       "skin_cancer_history                                                NaN  \n",
       "cancer_history                                                     NaN  \n",
       "has_piped_water                                                    NaN  \n",
       "has_sewage_system                                                  NaN  \n",
       "fitspatrick                                                        NaN  \n",
       "region                                                            FACE  \n",
       "diameter_1                                                         NaN  \n",
       "diameter_2                                                         NaN  \n",
       "diagnostic                                                         SEK  \n",
       "itch                                                             False  \n",
       "grew                                                             False  \n",
       "hurt                                                             False  \n",
       "changed                                                          False  \n",
       "bleed                                                            False  \n",
       "elevation                                                         True  \n",
       "img_id                                            PAT_1286_999_846.png  \n",
       "biopsed                                                          False  \n",
       "image_array          [[[0.7725490196078432, 0.6745098039215687, 0.5...  "
      ]
     },
     "execution_count": 20,
     "metadata": {},
     "output_type": "execute_result"
    }
   ],
   "source": [
    "full_dataframe.head(5).transpose()"
   ]
  },
  {
   "cell_type": "markdown",
   "metadata": {},
   "source": [
    "### Test image"
   ]
  },
  {
   "cell_type": "code",
   "execution_count": 21,
   "metadata": {},
   "outputs": [],
   "source": [
    "img_test = full_dataframe[\"image_array\"][0]\n",
    "file_test = full_dataframe[\"img_id\"][0]"
   ]
  },
  {
   "cell_type": "code",
   "execution_count": 22,
   "metadata": {},
   "outputs": [
    {
     "name": "stdout",
     "output_type": "stream",
     "text": [
      "PAT_207_313_1.png\n"
     ]
    },
    {
     "data": {
      "image/png": "[encoded data removed]",
      "text/plain": [
       "<Figure size 432x288 with 1 Axes>"
      ]
     },
     "metadata": {
      "needs_background": "light"
     },
     "output_type": "display_data"
    }
   ],
   "source": [
    "print(file_test)\n",
    "plt.imshow(img_test)\n",
    "plt.show()"
   ]
  },
  {
   "cell_type": "markdown",
   "metadata": {},
   "source": [
    "### Split train, validation and test"
   ]
  },
  {
   "cell_type": "code",
   "execution_count": 23,
   "metadata": {},
   "outputs": [],
   "source": [
    "features = full_dataframe[\"image_array\"]\n",
    "target = full_dataframe[\"diagnostic\"]"
   ]
  },
  {
   "cell_type": "code",
   "execution_count": 24,
   "metadata": {},
   "outputs": [
    {
     "name": "stdout",
     "output_type": "stream",
     "text": [
      "Train examples: 1608\n",
      "Validation examples: 345\n",
      "Test examples: 345\n"
     ]
    }
   ],
   "source": [
    "x_train, y_train, x_valid, y_valid, x_test, y_test = train_valid_test_split(\n",
    "    full_dataframe,\n",
    "    target=\"diagnostic\",\n",
    "    train_size=TRAIN_SIZE,\n",
    "    valid_size=VALIDATION_SIZE,\n",
    "    test_size=TEST_SIZE,\n",
    "    random_state=RANDOM_STATE,\n",
    ")\n",
    "\n",
    "print(\"Train examples: {0}\".format(x_train.shape[0]))\n",
    "print(\"Validation examples: {0}\".format(x_valid.shape[0]))\n",
    "print(\"Test examples: {0}\".format(x_test.shape[0]))"
   ]
  },
  {
   "cell_type": "code",
   "execution_count": 25,
   "metadata": {},
   "outputs": [],
   "source": [
    "predictions_dictionary = get_classes_dictionary(y_train)"
   ]
  },
  {
   "cell_type": "code",
   "execution_count": 26,
   "metadata": {},
   "outputs": [
    {
     "data": {
      "text/plain": [
       "{'BCC': 0, 'SEK': 1, 'NEV': 2, 'ACK': 3, 'SCC': 4, 'MEL': 5}"
      ]
     },
     "execution_count": 26,
     "metadata": {},
     "output_type": "execute_result"
    }
   ],
   "source": [
    "predictions_dictionary"
   ]
  },
  {
   "cell_type": "code",
   "execution_count": 27,
   "metadata": {},
   "outputs": [],
   "source": [
    "x_train_to_array = np.asarray(x_train[\"image_array\"].tolist()).astype(\n",
    "    np.float32)\n",
    "x_test_to_array = np.asarray(x_test[\"image_array\"].tolist()).astype(np.float32)\n",
    "x_valid_to_array = np.asarray(x_valid[\"image_array\"].tolist()).astype(\n",
    "    np.float32)\n"
   ]
  },
  {
   "cell_type": "code",
   "execution_count": 28,
   "metadata": {},
   "outputs": [],
   "source": [
    "y_train_to_array = series_to_array(y_train, predictions_dictionary)\n",
    "y_test_to_array = series_to_array(y_test, predictions_dictionary)\n",
    "y_valid_to_array = series_to_array(y_valid, predictions_dictionary)\n"
   ]
  },
  {
   "cell_type": "markdown",
   "metadata": {},
   "source": [
    "### Data augmentation"
   ]
  },
  {
   "cell_type": "code",
   "execution_count": null,
   "metadata": {},
   "outputs": [],
   "source": [
    "# train_data_augmentation_generator = ImageDataGenerator(\n",
    "#     rotation_range=20,\n",
    "#     width_shift_range=0.2,\n",
    "#     height_shift_range=0.2,\n",
    "#     horizontal_flip=True,\n",
    "# )"
   ]
  },
  {
   "cell_type": "markdown",
   "metadata": {},
   "source": [
    "### Model"
   ]
  },
  {
   "cell_type": "code",
   "execution_count": 29,
   "metadata": {},
   "outputs": [
    {
     "name": "stderr",
     "output_type": "stream",
     "text": [
      "2022-10-03 12:42:44.452819: E tensorflow/stream_executor/cuda/cuda_driver.cc:271] failed call to cuInit: CUDA_ERROR_COMPAT_NOT_SUPPORTED_ON_DEVICE: forward compatibility was attempted on non supported HW\n",
      "2022-10-03 12:42:44.452862: I tensorflow/stream_executor/cuda/cuda_diagnostics.cc:169] retrieving CUDA diagnostic information for host: cedip\n",
      "2022-10-03 12:42:44.452870: I tensorflow/stream_executor/cuda/cuda_diagnostics.cc:176] hostname: cedip\n",
      "2022-10-03 12:42:44.452997: I tensorflow/stream_executor/cuda/cuda_diagnostics.cc:200] libcuda reported version is: 515.76.0\n",
      "2022-10-03 12:42:44.453029: I tensorflow/stream_executor/cuda/cuda_diagnostics.cc:204] kernel reported version is: 515.65.1\n",
      "2022-10-03 12:42:44.453036: E tensorflow/stream_executor/cuda/cuda_diagnostics.cc:313] kernel version 515.65.1 does not match DSO version 515.76.0 -- cannot find working devices in this configuration\n",
      "2022-10-03 12:42:44.453259: I tensorflow/core/platform/cpu_feature_guard.cc:193] This TensorFlow binary is optimized with oneAPI Deep Neural Network Library (oneDNN) to use the following CPU instructions in performance-critical operations:  AVX2 FMA\n",
      "To enable them in other operations, rebuild TensorFlow with the appropriate compiler flags.\n",
      "2022-10-03 12:42:46.553797: W tensorflow/core/framework/cpu_allocator_impl.cc:82] Allocation of 316145664 exceeds 10% of free system memory.\n",
      "2022-10-03 12:42:46.734844: W tensorflow/core/framework/cpu_allocator_impl.cc:82] Allocation of 346478976 exceeds 10% of free system memory.\n",
      "2022-10-03 12:42:46.816744: W tensorflow/core/framework/cpu_allocator_impl.cc:82] Allocation of 1686110208 exceeds 10% of free system memory.\n",
      "2022-10-03 12:42:47.722065: W tensorflow/core/framework/cpu_allocator_impl.cc:82] Allocation of 1686110208 exceeds 10% of free system memory.\n",
      "2022-10-03 12:42:48.353271: W tensorflow/core/framework/cpu_allocator_impl.cc:82] Allocation of 1686110208 exceeds 10% of free system memory.\n"
     ]
    }
   ],
   "source": [
    "if COMPUTE_FEATURES:\n",
    "    feature_extractor = keras.applications.ResNet50(\n",
    "        weights='imagenet',\n",
    "        input_shape=IMAGE_SHAPE,\n",
    "        pooling='avg',\n",
    "        include_top=False,\n",
    "    )\n",
    "    feature_extractor.trainable = False  #to make sure it's not being trained\n",
    "    features = feature_extractor(x_train_to_array)\n",
    "\n",
    "    with open(FEATURES_FILE, 'wb') as file:\n",
    "        pickle.dump(features.numpy(), file)\n",
    "else:\n",
    "    with open(FEATURES_FILE, 'rb') as file:\n",
    "        features = pickle.load(file)"
   ]
  },
  {
   "cell_type": "code",
   "execution_count": 30,
   "metadata": {},
   "outputs": [
    {
     "data": {
      "text/plain": [
       "TensorShape([1608, 2048])"
      ]
     },
     "execution_count": 30,
     "metadata": {},
     "output_type": "execute_result"
    }
   ],
   "source": [
    "features.shape"
   ]
  },
  {
   "cell_type": "code",
   "execution_count": 31,
   "metadata": {},
   "outputs": [],
   "source": [
    "input_layer = Input(shape=(2048, ))\n",
    "output_layer = Dense(6, activation='softmax')(input_layer)\n",
    "model = Model(input_layer, output_layer)"
   ]
  },
  {
   "cell_type": "code",
   "execution_count": null,
   "metadata": {},
   "outputs": [],
   "source": [
    "# feature_extractor.trainable = False #to make sure it's not being trained\n",
    "# input_layer = Input(shape=IMAGE_SHAPE)\n",
    "# pre_treined_model = feature_extractor(input_layer, training=False) #add input layer\n",
    "# pre_treined_model_with_polling = GlobalAveragePooling2D()(pre_treined_model) #add pooling layer\n",
    "# output_layer = Dense(6, activation='softmax')(pre_treined_model_with_polling)\n",
    "# model = Model(input_layer, output_layer)"
   ]
  },
  {
   "cell_type": "code",
   "execution_count": 32,
   "metadata": {},
   "outputs": [],
   "source": [
    "model.compile(optimizer='adam',\n",
    "              loss='categorical_crossentropy',\n",
    "              metrics=['accuracy'])\n"
   ]
  },
  {
   "cell_type": "code",
   "execution_count": 33,
   "metadata": {},
   "outputs": [
    {
     "name": "stdout",
     "output_type": "stream",
     "text": [
      "Model: \"model\"\n",
      "_________________________________________________________________\n",
      " Layer (type)                Output Shape              Param #   \n",
      "=================================================================\n",
      " input_2 (InputLayer)        [(None, 2048)]            0         \n",
      "                                                                 \n",
      " dense (Dense)               (None, 6)                 12294     \n",
      "                                                                 \n",
      "=================================================================\n",
      "Total params: 12,294\n",
      "Trainable params: 12,294\n",
      "Non-trainable params: 0\n",
      "_________________________________________________________________\n"
     ]
    }
   ],
   "source": [
    "model.summary()"
   ]
  },
  {
   "cell_type": "markdown",
   "metadata": {},
   "source": [
    "### Train"
   ]
  },
  {
   "cell_type": "code",
   "execution_count": 34,
   "metadata": {},
   "outputs": [],
   "source": [
    "best_model_checkpoint_early_stopping = EarlyStopping(monitor='val_accuracy',\n",
    "                                                     mode='max',\n",
    "                                                     verbose=1,\n",
    "                                                     patience=100,\n",
    "                                                     restore_best_weights=True)\n",
    "\n",
    "best_model_checkpoint = ModelCheckpoint(\n",
    "    filepath=\n",
    "    \"/home/fernandofincatti/Documents/insper/pfe/ComputerAidedSkinCancerIdentificationAndDiagnosis/experiments/fernando/transfer-learning/test02/model\",\n",
    "    monitor='val_accuracy',\n",
    "    save_best_only=True,\n",
    "    save_weights_only=True)\n"
   ]
  },
  {
   "cell_type": "code",
   "execution_count": null,
   "metadata": {},
   "outputs": [],
   "source": [
    "# training_history = model.fit(\n",
    "#     x = train_data_augmentation_generator.flow(\n",
    "#         x_train_to_array,\n",
    "#         y_train_to_array),\n",
    "#     epochs = EPOCHS,\n",
    "#     validation_data = (x_valid_to_array, y_valid_to_array),\n",
    "#     batch_size=8,\n",
    "#     callbacks=[best_model_checkpoint, best_model_checkpoint_early_stopping]\n",
    "# )"
   ]
  },
  {
   "cell_type": "code",
   "execution_count": 35,
   "metadata": {},
   "outputs": [
    {
     "name": "stdout",
     "output_type": "stream",
     "text": [
      "Epoch 1/250\n",
      "6/6 [==============================] - 1s 34ms/step - loss: 1.9450 - accuracy: 0.0964 - val_loss: 1.7422 - val_accuracy: 0.3758\n",
      "Epoch 2/250\n",
      "6/6 [==============================] - 0s 7ms/step - loss: 1.6892 - accuracy: 0.3670 - val_loss: 1.5860 - val_accuracy: 0.3758\n",
      "Epoch 3/250\n",
      "6/6 [==============================] - 0s 8ms/step - loss: 1.5670 - accuracy: 0.3670 - val_loss: 1.5305 - val_accuracy: 0.3758\n",
      "Epoch 4/250\n",
      "6/6 [==============================] - 0s 7ms/step - loss: 1.5260 - accuracy: 0.3670 - val_loss: 1.5203 - val_accuracy: 0.3758\n",
      "Epoch 5/250\n",
      "6/6 [==============================] - 0s 7ms/step - loss: 1.5137 - accuracy: 0.3670 - val_loss: 1.5162 - val_accuracy: 0.3758\n",
      "Epoch 6/250\n",
      "6/6 [==============================] - 0s 7ms/step - loss: 1.5065 - accuracy: 0.3670 - val_loss: 1.5123 - val_accuracy: 0.3758\n",
      "Epoch 7/250\n",
      "6/6 [==============================] - 0s 7ms/step - loss: 1.5031 - accuracy: 0.3670 - val_loss: 1.5102 - val_accuracy: 0.3758\n",
      "Epoch 8/250\n",
      "6/6 [==============================] - 0s 6ms/step - loss: 1.5021 - accuracy: 0.3670 - val_loss: 1.5079 - val_accuracy: 0.3758\n",
      "Epoch 9/250\n",
      "6/6 [==============================] - 0s 7ms/step - loss: 1.4992 - accuracy: 0.3670 - val_loss: 1.5013 - val_accuracy: 0.3758\n",
      "Epoch 10/250\n",
      "6/6 [==============================] - 0s 7ms/step - loss: 1.4974 - accuracy: 0.3670 - val_loss: 1.4991 - val_accuracy: 0.3758\n",
      "Epoch 11/250\n",
      "6/6 [==============================] - 0s 6ms/step - loss: 1.5007 - accuracy: 0.3670 - val_loss: 1.5013 - val_accuracy: 0.3758\n",
      "Epoch 12/250\n",
      "6/6 [==============================] - 0s 6ms/step - loss: 1.5025 - accuracy: 0.3670 - val_loss: 1.4991 - val_accuracy: 0.3758\n",
      "Epoch 13/250\n",
      "6/6 [==============================] - 0s 7ms/step - loss: 1.5031 - accuracy: 0.3670 - val_loss: 1.4964 - val_accuracy: 0.3758\n",
      "Epoch 14/250\n",
      "6/6 [==============================] - 0s 6ms/step - loss: 1.5002 - accuracy: 0.3670 - val_loss: 1.4964 - val_accuracy: 0.3758\n",
      "Epoch 15/250\n",
      "6/6 [==============================] - 0s 7ms/step - loss: 1.5005 - accuracy: 0.3670 - val_loss: 1.4968 - val_accuracy: 0.3758\n",
      "Epoch 16/250\n",
      "6/6 [==============================] - 0s 13ms/step - loss: 1.4994 - accuracy: 0.3670 - val_loss: 1.4954 - val_accuracy: 0.3758\n",
      "Epoch 17/250\n",
      "6/6 [==============================] - 0s 8ms/step - loss: 1.4975 - accuracy: 0.3670 - val_loss: 1.4935 - val_accuracy: 0.3758\n",
      "Epoch 18/250\n",
      "6/6 [==============================] - 0s 7ms/step - loss: 1.4993 - accuracy: 0.3670 - val_loss: 1.4939 - val_accuracy: 0.3758\n",
      "Epoch 19/250\n",
      "6/6 [==============================] - 0s 6ms/step - loss: 1.4985 - accuracy: 0.3686 - val_loss: 1.4948 - val_accuracy: 0.3758\n",
      "Epoch 20/250\n",
      "6/6 [==============================] - 0s 7ms/step - loss: 1.4975 - accuracy: 0.3670 - val_loss: 1.4932 - val_accuracy: 0.3758\n",
      "Epoch 21/250\n",
      "6/6 [==============================] - 0s 6ms/step - loss: 1.4968 - accuracy: 0.3670 - val_loss: 1.4975 - val_accuracy: 0.3758\n",
      "Epoch 22/250\n",
      "6/6 [==============================] - 0s 7ms/step - loss: 1.4989 - accuracy: 0.3670 - val_loss: 1.5026 - val_accuracy: 0.3758\n",
      "Epoch 23/250\n",
      "6/6 [==============================] - 0s 7ms/step - loss: 1.4974 - accuracy: 0.3670 - val_loss: 1.5066 - val_accuracy: 0.3758\n",
      "Epoch 24/250\n",
      "6/6 [==============================] - 0s 7ms/step - loss: 1.4971 - accuracy: 0.3670 - val_loss: 1.5147 - val_accuracy: 0.3758\n",
      "Epoch 25/250\n",
      "6/6 [==============================] - 0s 9ms/step - loss: 1.4989 - accuracy: 0.4098 - val_loss: 1.5153 - val_accuracy: 0.3416\n",
      "Epoch 26/250\n",
      "6/6 [==============================] - 0s 8ms/step - loss: 1.5004 - accuracy: 0.3484 - val_loss: 1.5195 - val_accuracy: 0.3075\n",
      "Epoch 27/250\n",
      "6/6 [==============================] - 0s 8ms/step - loss: 1.5026 - accuracy: 0.3219 - val_loss: 1.5178 - val_accuracy: 0.3075\n",
      "Epoch 28/250\n",
      "6/6 [==============================] - 0s 8ms/step - loss: 1.4987 - accuracy: 0.3569 - val_loss: 1.5076 - val_accuracy: 0.3758\n",
      "Epoch 29/250\n",
      "6/6 [==============================] - 0s 8ms/step - loss: 1.4960 - accuracy: 0.3670 - val_loss: 1.5039 - val_accuracy: 0.3758\n",
      "Epoch 30/250\n",
      "6/6 [==============================] - 0s 7ms/step - loss: 1.5001 - accuracy: 0.3670 - val_loss: 1.5068 - val_accuracy: 0.3758\n",
      "Epoch 31/250\n",
      "6/6 [==============================] - 0s 7ms/step - loss: 1.5009 - accuracy: 0.3670 - val_loss: 1.5027 - val_accuracy: 0.3758\n",
      "Epoch 32/250\n",
      "6/6 [==============================] - 0s 7ms/step - loss: 1.4970 - accuracy: 0.3670 - val_loss: 1.5040 - val_accuracy: 0.3758\n",
      "Epoch 33/250\n",
      "6/6 [==============================] - 0s 7ms/step - loss: 1.4951 - accuracy: 0.3670 - val_loss: 1.5088 - val_accuracy: 0.3758\n",
      "Epoch 34/250\n",
      "6/6 [==============================] - 0s 8ms/step - loss: 1.4952 - accuracy: 0.3670 - val_loss: 1.5100 - val_accuracy: 0.3758\n",
      "Epoch 35/250\n",
      "6/6 [==============================] - 0s 7ms/step - loss: 1.4942 - accuracy: 0.3670 - val_loss: 1.5077 - val_accuracy: 0.3758\n",
      "Epoch 36/250\n",
      "6/6 [==============================] - 0s 7ms/step - loss: 1.4945 - accuracy: 0.3670 - val_loss: 1.5089 - val_accuracy: 0.3758\n",
      "Epoch 37/250\n",
      "6/6 [==============================] - 0s 7ms/step - loss: 1.4962 - accuracy: 0.3670 - val_loss: 1.5077 - val_accuracy: 0.3758\n",
      "Epoch 38/250\n",
      "6/6 [==============================] - 0s 7ms/step - loss: 1.4967 - accuracy: 0.3670 - val_loss: 1.5089 - val_accuracy: 0.3758\n",
      "Epoch 39/250\n",
      "6/6 [==============================] - 0s 6ms/step - loss: 1.4949 - accuracy: 0.3670 - val_loss: 1.5080 - val_accuracy: 0.3758\n",
      "Epoch 40/250\n",
      "6/6 [==============================] - 0s 7ms/step - loss: 1.4961 - accuracy: 0.3670 - val_loss: 1.5156 - val_accuracy: 0.3758\n",
      "Epoch 41/250\n",
      "6/6 [==============================] - 0s 8ms/step - loss: 1.5028 - accuracy: 0.3670 - val_loss: 1.5152 - val_accuracy: 0.3758\n",
      "Epoch 42/250\n",
      "6/6 [==============================] - 0s 7ms/step - loss: 1.5044 - accuracy: 0.3670 - val_loss: 1.5070 - val_accuracy: 0.3758\n",
      "Epoch 43/250\n",
      "6/6 [==============================] - 0s 7ms/step - loss: 1.4996 - accuracy: 0.3670 - val_loss: 1.4969 - val_accuracy: 0.3758\n",
      "Epoch 44/250\n",
      "6/6 [==============================] - 0s 7ms/step - loss: 1.4966 - accuracy: 0.3670 - val_loss: 1.4929 - val_accuracy: 0.3758\n",
      "Epoch 45/250\n",
      "6/6 [==============================] - 0s 7ms/step - loss: 1.4954 - accuracy: 0.3670 - val_loss: 1.4955 - val_accuracy: 0.3758\n",
      "Epoch 46/250\n",
      "6/6 [==============================] - 0s 10ms/step - loss: 1.4951 - accuracy: 0.3787 - val_loss: 1.4935 - val_accuracy: 0.3758\n",
      "Epoch 47/250\n",
      "6/6 [==============================] - 0s 9ms/step - loss: 1.4936 - accuracy: 0.3670 - val_loss: 1.4921 - val_accuracy: 0.3758\n",
      "Epoch 48/250\n",
      "6/6 [==============================] - 0s 7ms/step - loss: 1.4926 - accuracy: 0.3701 - val_loss: 1.5008 - val_accuracy: 0.3665\n",
      "Epoch 49/250\n",
      "6/6 [==============================] - 0s 8ms/step - loss: 1.4966 - accuracy: 0.3499 - val_loss: 1.5123 - val_accuracy: 0.3075\n",
      "Epoch 50/250\n",
      "6/6 [==============================] - 0s 7ms/step - loss: 1.4962 - accuracy: 0.3600 - val_loss: 1.5070 - val_accuracy: 0.3758\n",
      "Epoch 51/250\n",
      "6/6 [==============================] - 0s 9ms/step - loss: 1.4928 - accuracy: 0.3670 - val_loss: 1.5079 - val_accuracy: 0.3758\n",
      "Epoch 52/250\n",
      "6/6 [==============================] - 0s 8ms/step - loss: 1.4975 - accuracy: 0.3670 - val_loss: 1.5100 - val_accuracy: 0.3758\n",
      "Epoch 53/250\n",
      "6/6 [==============================] - 0s 8ms/step - loss: 1.4940 - accuracy: 0.3670 - val_loss: 1.5107 - val_accuracy: 0.3913\n",
      "Epoch 54/250\n",
      "6/6 [==============================] - 0s 9ms/step - loss: 1.4939 - accuracy: 0.4292 - val_loss: 1.5073 - val_accuracy: 0.3913\n",
      "Epoch 55/250\n",
      "6/6 [==============================] - 0s 7ms/step - loss: 1.4944 - accuracy: 0.4067 - val_loss: 1.5006 - val_accuracy: 0.3540\n",
      "Epoch 56/250\n",
      "6/6 [==============================] - 0s 7ms/step - loss: 1.4953 - accuracy: 0.3701 - val_loss: 1.4996 - val_accuracy: 0.3727\n",
      "Epoch 57/250\n",
      "6/6 [==============================] - 0s 7ms/step - loss: 1.4922 - accuracy: 0.4028 - val_loss: 1.4970 - val_accuracy: 0.3758\n",
      "Epoch 58/250\n",
      "6/6 [==============================] - 0s 7ms/step - loss: 1.4923 - accuracy: 0.3670 - val_loss: 1.5016 - val_accuracy: 0.3758\n",
      "Epoch 59/250\n",
      "6/6 [==============================] - 0s 7ms/step - loss: 1.4961 - accuracy: 0.3670 - val_loss: 1.4973 - val_accuracy: 0.3758\n",
      "Epoch 60/250\n",
      "6/6 [==============================] - 0s 7ms/step - loss: 1.4951 - accuracy: 0.3670 - val_loss: 1.4915 - val_accuracy: 0.3758\n",
      "Epoch 61/250\n",
      "6/6 [==============================] - 0s 7ms/step - loss: 1.4920 - accuracy: 0.3670 - val_loss: 1.4951 - val_accuracy: 0.3758\n",
      "Epoch 62/250\n",
      "6/6 [==============================] - 0s 8ms/step - loss: 1.4924 - accuracy: 0.3670 - val_loss: 1.4982 - val_accuracy: 0.3758\n",
      "Epoch 63/250\n",
      "6/6 [==============================] - 0s 8ms/step - loss: 1.4922 - accuracy: 0.3670 - val_loss: 1.5044 - val_accuracy: 0.3758\n",
      "Epoch 64/250\n",
      "6/6 [==============================] - 0s 9ms/step - loss: 1.4950 - accuracy: 0.3701 - val_loss: 1.5101 - val_accuracy: 0.3820\n",
      "Epoch 65/250\n",
      "6/6 [==============================] - 0s 8ms/step - loss: 1.4953 - accuracy: 0.3865 - val_loss: 1.5109 - val_accuracy: 0.3789\n",
      "Epoch 66/250\n",
      "6/6 [==============================] - 0s 10ms/step - loss: 1.4926 - accuracy: 0.3733 - val_loss: 1.5097 - val_accuracy: 0.3758\n",
      "Epoch 67/250\n",
      "6/6 [==============================] - 0s 6ms/step - loss: 1.4928 - accuracy: 0.3678 - val_loss: 1.5096 - val_accuracy: 0.3758\n",
      "Epoch 68/250\n",
      "6/6 [==============================] - 0s 7ms/step - loss: 1.4920 - accuracy: 0.3670 - val_loss: 1.5014 - val_accuracy: 0.3758\n",
      "Epoch 69/250\n",
      "6/6 [==============================] - 0s 6ms/step - loss: 1.4912 - accuracy: 0.3670 - val_loss: 1.4971 - val_accuracy: 0.3758\n",
      "Epoch 70/250\n",
      "6/6 [==============================] - 0s 7ms/step - loss: 1.4926 - accuracy: 0.3670 - val_loss: 1.4980 - val_accuracy: 0.3758\n",
      "Epoch 71/250\n",
      "6/6 [==============================] - 0s 7ms/step - loss: 1.4918 - accuracy: 0.3670 - val_loss: 1.4995 - val_accuracy: 0.4410\n",
      "Epoch 72/250\n",
      "6/6 [==============================] - 0s 7ms/step - loss: 1.4954 - accuracy: 0.3686 - val_loss: 1.5093 - val_accuracy: 0.3168\n",
      "Epoch 73/250\n",
      "6/6 [==============================] - 0s 7ms/step - loss: 1.4933 - accuracy: 0.3818 - val_loss: 1.5016 - val_accuracy: 0.3758\n",
      "Epoch 74/250\n",
      "6/6 [==============================] - 0s 7ms/step - loss: 1.4942 - accuracy: 0.3670 - val_loss: 1.5013 - val_accuracy: 0.3758\n",
      "Epoch 75/250\n",
      "6/6 [==============================] - 0s 7ms/step - loss: 1.4968 - accuracy: 0.3670 - val_loss: 1.4969 - val_accuracy: 0.3758\n",
      "Epoch 76/250\n",
      "6/6 [==============================] - 0s 7ms/step - loss: 1.4957 - accuracy: 0.3826 - val_loss: 1.5094 - val_accuracy: 0.3199\n",
      "Epoch 77/250\n",
      "6/6 [==============================] - 0s 8ms/step - loss: 1.5045 - accuracy: 0.3235 - val_loss: 1.5150 - val_accuracy: 0.3043\n",
      "Epoch 78/250\n",
      "6/6 [==============================] - 0s 7ms/step - loss: 1.5011 - accuracy: 0.3569 - val_loss: 1.4962 - val_accuracy: 0.3758\n",
      "Epoch 79/250\n",
      "6/6 [==============================] - 0s 7ms/step - loss: 1.4954 - accuracy: 0.3670 - val_loss: 1.4960 - val_accuracy: 0.3758\n",
      "Epoch 80/250\n",
      "6/6 [==============================] - 0s 7ms/step - loss: 1.4966 - accuracy: 0.3670 - val_loss: 1.4950 - val_accuracy: 0.3758\n",
      "Epoch 81/250\n",
      "6/6 [==============================] - 0s 8ms/step - loss: 1.4940 - accuracy: 0.3670 - val_loss: 1.4931 - val_accuracy: 0.3758\n",
      "Epoch 82/250\n",
      "6/6 [==============================] - 0s 7ms/step - loss: 1.4892 - accuracy: 0.3670 - val_loss: 1.5005 - val_accuracy: 0.3913\n",
      "Epoch 83/250\n",
      "6/6 [==============================] - 0s 8ms/step - loss: 1.4961 - accuracy: 0.3530 - val_loss: 1.5226 - val_accuracy: 0.3043\n",
      "Epoch 84/250\n",
      "6/6 [==============================] - 0s 7ms/step - loss: 1.5025 - accuracy: 0.3235 - val_loss: 1.5245 - val_accuracy: 0.3168\n",
      "Epoch 85/250\n",
      "6/6 [==============================] - 0s 7ms/step - loss: 1.4955 - accuracy: 0.3904 - val_loss: 1.5146 - val_accuracy: 0.3758\n",
      "Epoch 86/250\n",
      "6/6 [==============================] - 0s 7ms/step - loss: 1.4924 - accuracy: 0.3670 - val_loss: 1.5101 - val_accuracy: 0.3758\n",
      "Epoch 87/250\n",
      "6/6 [==============================] - 0s 7ms/step - loss: 1.4958 - accuracy: 0.3670 - val_loss: 1.5162 - val_accuracy: 0.3758\n",
      "Epoch 88/250\n",
      "6/6 [==============================] - 0s 7ms/step - loss: 1.4985 - accuracy: 0.3670 - val_loss: 1.5096 - val_accuracy: 0.3758\n",
      "Epoch 89/250\n",
      "6/6 [==============================] - 0s 6ms/step - loss: 1.4974 - accuracy: 0.3670 - val_loss: 1.5001 - val_accuracy: 0.3758\n",
      "Epoch 90/250\n",
      "6/6 [==============================] - 0s 7ms/step - loss: 1.4991 - accuracy: 0.3919 - val_loss: 1.4915 - val_accuracy: 0.4472\n",
      "Epoch 91/250\n",
      "6/6 [==============================] - 0s 7ms/step - loss: 1.4953 - accuracy: 0.4098 - val_loss: 1.4857 - val_accuracy: 0.3758\n",
      "Epoch 92/250\n",
      "6/6 [==============================] - 0s 6ms/step - loss: 1.4921 - accuracy: 0.3896 - val_loss: 1.4918 - val_accuracy: 0.3851\n",
      "Epoch 93/250\n",
      "6/6 [==============================] - 0s 7ms/step - loss: 1.4902 - accuracy: 0.3795 - val_loss: 1.4956 - val_accuracy: 0.3758\n",
      "Epoch 94/250\n",
      "6/6 [==============================] - 0s 8ms/step - loss: 1.4914 - accuracy: 0.3670 - val_loss: 1.4992 - val_accuracy: 0.3758\n",
      "Epoch 95/250\n",
      "6/6 [==============================] - 0s 7ms/step - loss: 1.4908 - accuracy: 0.3740 - val_loss: 1.4958 - val_accuracy: 0.3789\n",
      "Epoch 96/250\n",
      "6/6 [==============================] - 0s 8ms/step - loss: 1.4889 - accuracy: 0.3725 - val_loss: 1.4924 - val_accuracy: 0.3758\n",
      "Epoch 97/250\n",
      "6/6 [==============================] - 0s 7ms/step - loss: 1.4898 - accuracy: 0.3670 - val_loss: 1.4892 - val_accuracy: 0.3758\n",
      "Epoch 98/250\n",
      "6/6 [==============================] - 0s 7ms/step - loss: 1.4954 - accuracy: 0.3670 - val_loss: 1.4887 - val_accuracy: 0.3758\n",
      "Epoch 99/250\n",
      "6/6 [==============================] - 0s 7ms/step - loss: 1.4984 - accuracy: 0.3670 - val_loss: 1.4953 - val_accuracy: 0.3758\n",
      "Epoch 100/250\n",
      "6/6 [==============================] - 0s 7ms/step - loss: 1.4988 - accuracy: 0.3670 - val_loss: 1.4952 - val_accuracy: 0.3758\n",
      "Epoch 101/250\n",
      "6/6 [==============================] - 0s 7ms/step - loss: 1.4894 - accuracy: 0.3733 - val_loss: 1.5068 - val_accuracy: 0.3634\n",
      "Epoch 102/250\n",
      "6/6 [==============================] - 0s 7ms/step - loss: 1.4939 - accuracy: 0.3585 - val_loss: 1.5188 - val_accuracy: 0.3199\n",
      "Epoch 103/250\n",
      "6/6 [==============================] - 0s 7ms/step - loss: 1.4957 - accuracy: 0.3476 - val_loss: 1.5211 - val_accuracy: 0.3478\n",
      "Epoch 104/250\n",
      "6/6 [==============================] - 0s 10ms/step - loss: 1.4930 - accuracy: 0.4121 - val_loss: 1.5215 - val_accuracy: 0.3789\n",
      "Epoch 105/250\n",
      "6/6 [==============================] - 0s 6ms/step - loss: 1.4936 - accuracy: 0.3974 - val_loss: 1.5201 - val_accuracy: 0.4472\n",
      "Epoch 106/250\n",
      "6/6 [==============================] - 0s 7ms/step - loss: 1.4941 - accuracy: 0.4440 - val_loss: 1.5086 - val_accuracy: 0.4441\n",
      "Epoch 107/250\n",
      "6/6 [==============================] - 0s 6ms/step - loss: 1.4939 - accuracy: 0.4075 - val_loss: 1.5034 - val_accuracy: 0.3820\n",
      "Epoch 108/250\n",
      "6/6 [==============================] - 0s 7ms/step - loss: 1.4910 - accuracy: 0.4191 - val_loss: 1.5035 - val_accuracy: 0.4068\n",
      "Epoch 109/250\n",
      "6/6 [==============================] - 0s 7ms/step - loss: 1.4893 - accuracy: 0.4331 - val_loss: 1.5062 - val_accuracy: 0.3820\n",
      "Epoch 110/250\n",
      "6/6 [==============================] - 0s 8ms/step - loss: 1.4914 - accuracy: 0.3958 - val_loss: 1.5034 - val_accuracy: 0.3696\n",
      "Epoch 111/250\n",
      "6/6 [==============================] - 0s 11ms/step - loss: 1.4900 - accuracy: 0.4215 - val_loss: 1.4983 - val_accuracy: 0.3789\n",
      "Epoch 112/250\n",
      "6/6 [==============================] - 0s 7ms/step - loss: 1.4885 - accuracy: 0.3701 - val_loss: 1.4983 - val_accuracy: 0.3758\n",
      "Epoch 113/250\n",
      "6/6 [==============================] - 0s 7ms/step - loss: 1.4911 - accuracy: 0.3670 - val_loss: 1.4988 - val_accuracy: 0.3758\n",
      "Epoch 114/250\n",
      "6/6 [==============================] - 0s 7ms/step - loss: 1.4894 - accuracy: 0.3670 - val_loss: 1.4992 - val_accuracy: 0.3758\n",
      "Epoch 115/250\n",
      "6/6 [==============================] - 0s 6ms/step - loss: 1.4899 - accuracy: 0.3670 - val_loss: 1.4986 - val_accuracy: 0.3758\n",
      "Epoch 116/250\n",
      "6/6 [==============================] - 0s 8ms/step - loss: 1.4892 - accuracy: 0.4098 - val_loss: 1.5021 - val_accuracy: 0.4037\n",
      "Epoch 117/250\n",
      "6/6 [==============================] - 0s 7ms/step - loss: 1.4891 - accuracy: 0.4184 - val_loss: 1.4971 - val_accuracy: 0.3820\n",
      "Epoch 118/250\n",
      "6/6 [==============================] - 0s 7ms/step - loss: 1.4889 - accuracy: 0.3989 - val_loss: 1.4871 - val_accuracy: 0.3758\n",
      "Epoch 119/250\n",
      "6/6 [==============================] - 0s 7ms/step - loss: 1.4926 - accuracy: 0.3670 - val_loss: 1.4883 - val_accuracy: 0.3758\n",
      "Epoch 120/250\n",
      "6/6 [==============================] - 0s 6ms/step - loss: 1.4935 - accuracy: 0.3670 - val_loss: 1.4882 - val_accuracy: 0.3758\n",
      "Epoch 121/250\n",
      "6/6 [==============================] - 0s 7ms/step - loss: 1.4876 - accuracy: 0.3896 - val_loss: 1.4960 - val_accuracy: 0.4068\n",
      "Epoch 122/250\n",
      "6/6 [==============================] - 0s 6ms/step - loss: 1.4879 - accuracy: 0.4362 - val_loss: 1.4993 - val_accuracy: 0.3851\n",
      "Epoch 123/250\n",
      "6/6 [==============================] - 0s 8ms/step - loss: 1.4889 - accuracy: 0.3694 - val_loss: 1.5045 - val_accuracy: 0.3758\n",
      "Epoch 124/250\n",
      "6/6 [==============================] - 0s 7ms/step - loss: 1.4907 - accuracy: 0.3670 - val_loss: 1.5022 - val_accuracy: 0.3758\n",
      "Epoch 125/250\n",
      "6/6 [==============================] - 0s 7ms/step - loss: 1.4910 - accuracy: 0.3670 - val_loss: 1.5004 - val_accuracy: 0.3758\n",
      "Epoch 126/250\n",
      "6/6 [==============================] - 0s 7ms/step - loss: 1.4885 - accuracy: 0.3670 - val_loss: 1.4975 - val_accuracy: 0.3820\n",
      "Epoch 127/250\n",
      "6/6 [==============================] - 0s 6ms/step - loss: 1.4906 - accuracy: 0.4160 - val_loss: 1.4989 - val_accuracy: 0.4037\n",
      "Epoch 128/250\n",
      "6/6 [==============================] - 0s 7ms/step - loss: 1.4950 - accuracy: 0.4036 - val_loss: 1.5019 - val_accuracy: 0.3634\n",
      "Epoch 129/250\n",
      "6/6 [==============================] - 0s 7ms/step - loss: 1.4987 - accuracy: 0.4106 - val_loss: 1.4946 - val_accuracy: 0.4286\n",
      "Epoch 130/250\n",
      "6/6 [==============================] - 0s 7ms/step - loss: 1.4935 - accuracy: 0.4176 - val_loss: 1.4891 - val_accuracy: 0.3758\n",
      "Epoch 131/250\n",
      "6/6 [==============================] - 0s 8ms/step - loss: 1.4884 - accuracy: 0.3670 - val_loss: 1.4876 - val_accuracy: 0.3758\n",
      "Epoch 132/250\n",
      "6/6 [==============================] - 0s 7ms/step - loss: 1.4864 - accuracy: 0.3670 - val_loss: 1.4934 - val_accuracy: 0.3758\n",
      "Epoch 133/250\n",
      "6/6 [==============================] - 0s 7ms/step - loss: 1.4883 - accuracy: 0.3795 - val_loss: 1.4982 - val_accuracy: 0.3789\n",
      "Epoch 134/250\n",
      "6/6 [==============================] - 0s 7ms/step - loss: 1.4897 - accuracy: 0.3694 - val_loss: 1.4958 - val_accuracy: 0.3758\n",
      "Epoch 135/250\n",
      "6/6 [==============================] - 0s 7ms/step - loss: 1.4910 - accuracy: 0.3670 - val_loss: 1.4886 - val_accuracy: 0.3758\n",
      "Epoch 136/250\n",
      "6/6 [==============================] - 0s 7ms/step - loss: 1.4970 - accuracy: 0.3670 - val_loss: 1.4841 - val_accuracy: 0.3758\n",
      "Epoch 137/250\n",
      "6/6 [==============================] - 0s 6ms/step - loss: 1.4948 - accuracy: 0.3670 - val_loss: 1.4822 - val_accuracy: 0.3758\n",
      "Epoch 138/250\n",
      "6/6 [==============================] - 0s 7ms/step - loss: 1.4913 - accuracy: 0.4082 - val_loss: 1.4857 - val_accuracy: 0.4410\n",
      "Epoch 139/250\n",
      "6/6 [==============================] - 0s 7ms/step - loss: 1.4873 - accuracy: 0.3950 - val_loss: 1.4865 - val_accuracy: 0.3758\n",
      "Epoch 140/250\n",
      "6/6 [==============================] - 0s 7ms/step - loss: 1.4872 - accuracy: 0.3670 - val_loss: 1.4975 - val_accuracy: 0.3758\n",
      "Epoch 141/250\n",
      "6/6 [==============================] - 0s 7ms/step - loss: 1.4856 - accuracy: 0.4005 - val_loss: 1.5039 - val_accuracy: 0.4441\n",
      "Epoch 142/250\n",
      "6/6 [==============================] - 0s 7ms/step - loss: 1.4867 - accuracy: 0.4347 - val_loss: 1.5053 - val_accuracy: 0.4193\n",
      "Epoch 143/250\n",
      "6/6 [==============================] - 0s 7ms/step - loss: 1.4854 - accuracy: 0.4238 - val_loss: 1.4985 - val_accuracy: 0.3758\n",
      "Epoch 144/250\n",
      "6/6 [==============================] - 0s 7ms/step - loss: 1.4838 - accuracy: 0.3678 - val_loss: 1.4938 - val_accuracy: 0.3758\n",
      "Epoch 145/250\n",
      "6/6 [==============================] - 0s 7ms/step - loss: 1.4838 - accuracy: 0.3670 - val_loss: 1.4917 - val_accuracy: 0.3758\n",
      "Epoch 146/250\n",
      "6/6 [==============================] - 0s 8ms/step - loss: 1.4849 - accuracy: 0.3670 - val_loss: 1.4995 - val_accuracy: 0.3758\n",
      "Epoch 147/250\n",
      "6/6 [==============================] - 0s 6ms/step - loss: 1.4887 - accuracy: 0.3740 - val_loss: 1.5146 - val_accuracy: 0.4193\n",
      "Epoch 148/250\n",
      "6/6 [==============================] - 0s 7ms/step - loss: 1.4909 - accuracy: 0.3950 - val_loss: 1.5204 - val_accuracy: 0.3292\n",
      "Epoch 149/250\n",
      "6/6 [==============================] - 0s 7ms/step - loss: 1.4915 - accuracy: 0.3616 - val_loss: 1.5087 - val_accuracy: 0.3571\n",
      "Epoch 150/250\n",
      "6/6 [==============================] - 0s 6ms/step - loss: 1.4858 - accuracy: 0.4121 - val_loss: 1.4976 - val_accuracy: 0.3975\n",
      "Epoch 151/250\n",
      "6/6 [==============================] - 0s 6ms/step - loss: 1.4878 - accuracy: 0.3849 - val_loss: 1.4953 - val_accuracy: 0.3758\n",
      "Epoch 152/250\n",
      "6/6 [==============================] - 0s 6ms/step - loss: 1.4937 - accuracy: 0.3733 - val_loss: 1.5019 - val_accuracy: 0.4348\n",
      "Epoch 153/250\n",
      "6/6 [==============================] - 0s 12ms/step - loss: 1.4960 - accuracy: 0.4152 - val_loss: 1.5109 - val_accuracy: 0.3540\n",
      "Epoch 154/250\n",
      "6/6 [==============================] - 0s 7ms/step - loss: 1.4957 - accuracy: 0.3779 - val_loss: 1.5109 - val_accuracy: 0.3571\n",
      "Epoch 155/250\n",
      "6/6 [==============================] - 0s 7ms/step - loss: 1.4893 - accuracy: 0.4059 - val_loss: 1.5070 - val_accuracy: 0.3882\n",
      "Epoch 156/250\n",
      "6/6 [==============================] - 0s 7ms/step - loss: 1.4852 - accuracy: 0.3764 - val_loss: 1.4995 - val_accuracy: 0.3758\n",
      "Epoch 157/250\n",
      "6/6 [==============================] - 0s 7ms/step - loss: 1.4869 - accuracy: 0.3670 - val_loss: 1.4931 - val_accuracy: 0.3758\n",
      "Epoch 158/250\n",
      "6/6 [==============================] - 0s 7ms/step - loss: 1.4870 - accuracy: 0.3670 - val_loss: 1.4843 - val_accuracy: 0.3758\n",
      "Epoch 159/250\n",
      "6/6 [==============================] - 0s 7ms/step - loss: 1.4857 - accuracy: 0.3670 - val_loss: 1.4829 - val_accuracy: 0.3758\n",
      "Epoch 160/250\n",
      "6/6 [==============================] - 0s 7ms/step - loss: 1.4865 - accuracy: 0.3670 - val_loss: 1.4843 - val_accuracy: 0.3758\n",
      "Epoch 161/250\n",
      "6/6 [==============================] - 0s 7ms/step - loss: 1.4876 - accuracy: 0.4152 - val_loss: 1.4916 - val_accuracy: 0.4006\n",
      "Epoch 162/250\n",
      "6/6 [==============================] - 0s 7ms/step - loss: 1.4896 - accuracy: 0.4238 - val_loss: 1.4952 - val_accuracy: 0.4317\n",
      "Epoch 163/250\n",
      "6/6 [==============================] - 0s 9ms/step - loss: 1.4870 - accuracy: 0.4121 - val_loss: 1.4993 - val_accuracy: 0.3789\n",
      "Epoch 164/250\n",
      "6/6 [==============================] - 0s 7ms/step - loss: 1.4826 - accuracy: 0.3841 - val_loss: 1.4995 - val_accuracy: 0.4099\n",
      "Epoch 165/250\n",
      "6/6 [==============================] - 0s 7ms/step - loss: 1.4828 - accuracy: 0.4246 - val_loss: 1.5026 - val_accuracy: 0.4006\n",
      "Epoch 166/250\n",
      "6/6 [==============================] - 0s 7ms/step - loss: 1.4842 - accuracy: 0.4285 - val_loss: 1.5013 - val_accuracy: 0.4379\n",
      "Epoch 167/250\n",
      "6/6 [==============================] - 0s 8ms/step - loss: 1.4836 - accuracy: 0.4098 - val_loss: 1.4879 - val_accuracy: 0.3758\n",
      "Epoch 168/250\n",
      "6/6 [==============================] - 0s 7ms/step - loss: 1.4842 - accuracy: 0.3857 - val_loss: 1.4856 - val_accuracy: 0.4348\n",
      "Epoch 169/250\n",
      "6/6 [==============================] - 0s 8ms/step - loss: 1.4850 - accuracy: 0.4393 - val_loss: 1.4871 - val_accuracy: 0.4348\n",
      "Epoch 170/250\n",
      "6/6 [==============================] - 0s 6ms/step - loss: 1.4843 - accuracy: 0.3779 - val_loss: 1.4925 - val_accuracy: 0.3758\n",
      "Epoch 171/250\n",
      "6/6 [==============================] - 0s 6ms/step - loss: 1.4847 - accuracy: 0.3725 - val_loss: 1.5036 - val_accuracy: 0.3882\n",
      "Epoch 172/250\n",
      "6/6 [==============================] - 0s 7ms/step - loss: 1.4849 - accuracy: 0.4191 - val_loss: 1.5004 - val_accuracy: 0.4472\n",
      "Epoch 173/250\n",
      "6/6 [==============================] - 0s 7ms/step - loss: 1.4824 - accuracy: 0.4440 - val_loss: 1.4931 - val_accuracy: 0.4348\n",
      "Epoch 174/250\n",
      "6/6 [==============================] - 0s 7ms/step - loss: 1.4845 - accuracy: 0.4323 - val_loss: 1.4883 - val_accuracy: 0.4224\n",
      "Epoch 175/250\n",
      "6/6 [==============================] - 0s 7ms/step - loss: 1.4838 - accuracy: 0.3958 - val_loss: 1.4842 - val_accuracy: 0.3758\n",
      "Epoch 176/250\n",
      "6/6 [==============================] - 0s 8ms/step - loss: 1.4822 - accuracy: 0.3670 - val_loss: 1.4873 - val_accuracy: 0.3758\n",
      "Epoch 177/250\n",
      "6/6 [==============================] - 0s 7ms/step - loss: 1.4832 - accuracy: 0.4059 - val_loss: 1.4989 - val_accuracy: 0.3571\n",
      "Epoch 178/250\n",
      "6/6 [==============================] - 0s 7ms/step - loss: 1.4857 - accuracy: 0.4098 - val_loss: 1.4983 - val_accuracy: 0.4099\n",
      "Epoch 179/250\n",
      "6/6 [==============================] - 0s 8ms/step - loss: 1.4834 - accuracy: 0.4425 - val_loss: 1.4989 - val_accuracy: 0.3882\n",
      "Epoch 180/250\n",
      "6/6 [==============================] - 0s 7ms/step - loss: 1.4824 - accuracy: 0.3756 - val_loss: 1.5043 - val_accuracy: 0.3758\n",
      "Epoch 181/250\n",
      "6/6 [==============================] - 0s 7ms/step - loss: 1.4846 - accuracy: 0.3670 - val_loss: 1.5054 - val_accuracy: 0.3758\n",
      "Epoch 182/250\n",
      "6/6 [==============================] - 0s 7ms/step - loss: 1.4843 - accuracy: 0.3670 - val_loss: 1.5056 - val_accuracy: 0.3758\n",
      "Epoch 183/250\n",
      "6/6 [==============================] - 0s 7ms/step - loss: 1.4842 - accuracy: 0.4184 - val_loss: 1.5098 - val_accuracy: 0.3665\n",
      "Epoch 184/250\n",
      "6/6 [==============================] - 0s 11ms/step - loss: 1.4882 - accuracy: 0.4246 - val_loss: 1.5089 - val_accuracy: 0.4255\n",
      "Epoch 185/250\n",
      "6/6 [==============================] - 0s 7ms/step - loss: 1.4866 - accuracy: 0.4207 - val_loss: 1.4990 - val_accuracy: 0.3758\n",
      "Epoch 186/250\n",
      "6/6 [==============================] - 0s 8ms/step - loss: 1.4834 - accuracy: 0.3670 - val_loss: 1.4894 - val_accuracy: 0.3758\n",
      "Epoch 187/250\n",
      "6/6 [==============================] - 0s 7ms/step - loss: 1.4808 - accuracy: 0.3880 - val_loss: 1.4901 - val_accuracy: 0.4441\n",
      "Epoch 188/250\n",
      "6/6 [==============================] - 0s 7ms/step - loss: 1.4818 - accuracy: 0.4137 - val_loss: 1.4924 - val_accuracy: 0.3975\n",
      "Epoch 189/250\n",
      "6/6 [==============================] - 0s 7ms/step - loss: 1.4854 - accuracy: 0.4176 - val_loss: 1.4973 - val_accuracy: 0.4441\n",
      "Epoch 190/250\n",
      "6/6 [==============================] - 0s 6ms/step - loss: 1.4856 - accuracy: 0.4184 - val_loss: 1.4915 - val_accuracy: 0.3789\n",
      "Epoch 191/250\n",
      "6/6 [==============================] - 0s 7ms/step - loss: 1.4828 - accuracy: 0.3694 - val_loss: 1.4922 - val_accuracy: 0.3758\n",
      "Epoch 192/250\n",
      "6/6 [==============================] - 0s 7ms/step - loss: 1.4833 - accuracy: 0.3709 - val_loss: 1.4954 - val_accuracy: 0.3820\n",
      "Epoch 193/250\n",
      "6/6 [==============================] - 0s 8ms/step - loss: 1.4844 - accuracy: 0.3865 - val_loss: 1.4916 - val_accuracy: 0.4099\n",
      "Epoch 194/250\n",
      "6/6 [==============================] - 0s 7ms/step - loss: 1.4836 - accuracy: 0.4238 - val_loss: 1.4902 - val_accuracy: 0.4317\n",
      "Epoch 195/250\n",
      "6/6 [==============================] - 0s 8ms/step - loss: 1.4809 - accuracy: 0.4277 - val_loss: 1.4874 - val_accuracy: 0.4255\n",
      "Epoch 196/250\n",
      "6/6 [==============================] - 0s 7ms/step - loss: 1.4795 - accuracy: 0.4168 - val_loss: 1.4893 - val_accuracy: 0.4317\n",
      "Epoch 197/250\n",
      "6/6 [==============================] - 0s 7ms/step - loss: 1.4796 - accuracy: 0.4300 - val_loss: 1.4927 - val_accuracy: 0.4379\n",
      "Epoch 198/250\n",
      "6/6 [==============================] - 0s 6ms/step - loss: 1.4802 - accuracy: 0.4199 - val_loss: 1.4948 - val_accuracy: 0.3789\n",
      "Epoch 199/250\n",
      "6/6 [==============================] - 0s 7ms/step - loss: 1.4801 - accuracy: 0.3701 - val_loss: 1.4933 - val_accuracy: 0.3758\n",
      "Epoch 200/250\n",
      "6/6 [==============================] - 0s 9ms/step - loss: 1.4851 - accuracy: 0.3670 - val_loss: 1.4962 - val_accuracy: 0.3758\n",
      "Epoch 201/250\n",
      "6/6 [==============================] - 0s 6ms/step - loss: 1.4855 - accuracy: 0.3670 - val_loss: 1.4933 - val_accuracy: 0.3758\n",
      "Epoch 202/250\n",
      "6/6 [==============================] - 0s 7ms/step - loss: 1.4812 - accuracy: 0.3678 - val_loss: 1.4971 - val_accuracy: 0.3758\n",
      "Epoch 203/250\n",
      "6/6 [==============================] - 0s 7ms/step - loss: 1.4803 - accuracy: 0.3740 - val_loss: 1.4966 - val_accuracy: 0.3758\n",
      "Epoch 204/250\n",
      "6/6 [==============================] - 0s 8ms/step - loss: 1.4793 - accuracy: 0.3849 - val_loss: 1.4954 - val_accuracy: 0.4379\n",
      "Epoch 205/250\n",
      "6/6 [==============================] - 0s 7ms/step - loss: 1.4810 - accuracy: 0.4355 - val_loss: 1.4951 - val_accuracy: 0.3975\n",
      "Epoch 206/250\n",
      "6/6 [==============================] - 0s 8ms/step - loss: 1.4811 - accuracy: 0.4331 - val_loss: 1.4898 - val_accuracy: 0.3789\n",
      "Epoch 207/250\n",
      "6/6 [==============================] - 0s 7ms/step - loss: 1.4843 - accuracy: 0.3694 - val_loss: 1.4900 - val_accuracy: 0.3758\n",
      "Epoch 208/250\n",
      "6/6 [==============================] - 0s 7ms/step - loss: 1.4854 - accuracy: 0.3670 - val_loss: 1.4910 - val_accuracy: 0.3758\n",
      "Epoch 209/250\n",
      "6/6 [==============================] - 0s 8ms/step - loss: 1.4847 - accuracy: 0.3678 - val_loss: 1.4936 - val_accuracy: 0.3851\n",
      "Epoch 210/250\n",
      "6/6 [==============================] - 0s 7ms/step - loss: 1.4824 - accuracy: 0.4044 - val_loss: 1.4919 - val_accuracy: 0.4441\n",
      "Epoch 211/250\n",
      "6/6 [==============================] - 0s 8ms/step - loss: 1.4813 - accuracy: 0.4393 - val_loss: 1.4955 - val_accuracy: 0.4099\n",
      "Epoch 212/250\n",
      "6/6 [==============================] - 0s 8ms/step - loss: 1.4822 - accuracy: 0.4323 - val_loss: 1.4986 - val_accuracy: 0.4068\n",
      "Epoch 213/250\n",
      "6/6 [==============================] - 0s 8ms/step - loss: 1.4805 - accuracy: 0.4316 - val_loss: 1.4918 - val_accuracy: 0.4224\n",
      "Epoch 214/250\n",
      "6/6 [==============================] - 0s 7ms/step - loss: 1.4810 - accuracy: 0.4191 - val_loss: 1.4887 - val_accuracy: 0.3602\n",
      "Epoch 215/250\n",
      "6/6 [==============================] - 0s 7ms/step - loss: 1.4818 - accuracy: 0.4160 - val_loss: 1.4832 - val_accuracy: 0.4410\n",
      "Epoch 216/250\n",
      "6/6 [==============================] - 0s 7ms/step - loss: 1.4804 - accuracy: 0.4316 - val_loss: 1.4803 - val_accuracy: 0.3758\n",
      "Epoch 217/250\n",
      "6/6 [==============================] - 0s 6ms/step - loss: 1.4807 - accuracy: 0.3686 - val_loss: 1.4786 - val_accuracy: 0.3758\n",
      "Epoch 218/250\n",
      "6/6 [==============================] - 0s 7ms/step - loss: 1.4815 - accuracy: 0.3670 - val_loss: 1.4786 - val_accuracy: 0.3758\n",
      "Epoch 219/250\n",
      "6/6 [==============================] - 0s 7ms/step - loss: 1.4796 - accuracy: 0.4036 - val_loss: 1.4873 - val_accuracy: 0.4130\n",
      "Epoch 220/250\n",
      "6/6 [==============================] - 0s 7ms/step - loss: 1.4848 - accuracy: 0.4323 - val_loss: 1.5010 - val_accuracy: 0.4255\n",
      "Epoch 221/250\n",
      "6/6 [==============================] - 0s 9ms/step - loss: 1.4847 - accuracy: 0.4378 - val_loss: 1.4962 - val_accuracy: 0.3882\n",
      "Epoch 222/250\n",
      "6/6 [==============================] - 0s 7ms/step - loss: 1.4792 - accuracy: 0.3779 - val_loss: 1.4890 - val_accuracy: 0.3758\n",
      "Epoch 223/250\n",
      "6/6 [==============================] - 0s 7ms/step - loss: 1.4780 - accuracy: 0.3686 - val_loss: 1.4903 - val_accuracy: 0.4255\n",
      "Epoch 224/250\n",
      "6/6 [==============================] - 0s 7ms/step - loss: 1.4784 - accuracy: 0.4440 - val_loss: 1.4939 - val_accuracy: 0.4068\n",
      "Epoch 225/250\n",
      "6/6 [==============================] - 0s 7ms/step - loss: 1.4803 - accuracy: 0.4285 - val_loss: 1.4918 - val_accuracy: 0.3789\n",
      "Epoch 226/250\n",
      "6/6 [==============================] - 0s 8ms/step - loss: 1.4806 - accuracy: 0.4277 - val_loss: 1.4893 - val_accuracy: 0.4161\n",
      "Epoch 227/250\n",
      "6/6 [==============================] - 0s 7ms/step - loss: 1.4795 - accuracy: 0.4355 - val_loss: 1.4846 - val_accuracy: 0.4224\n",
      "Epoch 228/250\n",
      "6/6 [==============================] - 0s 8ms/step - loss: 1.4784 - accuracy: 0.4471 - val_loss: 1.4791 - val_accuracy: 0.4161\n",
      "Epoch 229/250\n",
      "6/6 [==============================] - 0s 7ms/step - loss: 1.4791 - accuracy: 0.3888 - val_loss: 1.4769 - val_accuracy: 0.3758\n",
      "Epoch 230/250\n",
      "6/6 [==============================] - 0s 7ms/step - loss: 1.4791 - accuracy: 0.3748 - val_loss: 1.4779 - val_accuracy: 0.3789\n",
      "Epoch 231/250\n",
      "6/6 [==============================] - 0s 7ms/step - loss: 1.4779 - accuracy: 0.3872 - val_loss: 1.4854 - val_accuracy: 0.4379\n",
      "Epoch 232/250\n",
      "6/6 [==============================] - 0s 7ms/step - loss: 1.4779 - accuracy: 0.4269 - val_loss: 1.4991 - val_accuracy: 0.3665\n",
      "Epoch 233/250\n",
      "6/6 [==============================] - 0s 7ms/step - loss: 1.4838 - accuracy: 0.4207 - val_loss: 1.5094 - val_accuracy: 0.3758\n",
      "Epoch 234/250\n",
      "6/6 [==============================] - 0s 7ms/step - loss: 1.4895 - accuracy: 0.4215 - val_loss: 1.5131 - val_accuracy: 0.4068\n",
      "Epoch 235/250\n",
      "6/6 [==============================] - 0s 12ms/step - loss: 1.4906 - accuracy: 0.4386 - val_loss: 1.5026 - val_accuracy: 0.4224\n",
      "Epoch 236/250\n",
      "6/6 [==============================] - 0s 8ms/step - loss: 1.4850 - accuracy: 0.4448 - val_loss: 1.4899 - val_accuracy: 0.4224\n",
      "Epoch 237/250\n",
      "6/6 [==============================] - 0s 7ms/step - loss: 1.4780 - accuracy: 0.3857 - val_loss: 1.4788 - val_accuracy: 0.3758\n",
      "Epoch 238/250\n",
      "6/6 [==============================] - 0s 7ms/step - loss: 1.4785 - accuracy: 0.3670 - val_loss: 1.4756 - val_accuracy: 0.3758\n",
      "Epoch 239/250\n",
      "6/6 [==============================] - 0s 7ms/step - loss: 1.4796 - accuracy: 0.3670 - val_loss: 1.4779 - val_accuracy: 0.3758\n",
      "Epoch 240/250\n",
      "6/6 [==============================] - 0s 7ms/step - loss: 1.4803 - accuracy: 0.3911 - val_loss: 1.4853 - val_accuracy: 0.4410\n",
      "Epoch 241/250\n",
      "6/6 [==============================] - 0s 7ms/step - loss: 1.4802 - accuracy: 0.4471 - val_loss: 1.4903 - val_accuracy: 0.4472\n",
      "Epoch 242/250\n",
      "6/6 [==============================] - 0s 8ms/step - loss: 1.4795 - accuracy: 0.3950 - val_loss: 1.4894 - val_accuracy: 0.3758\n",
      "Epoch 243/250\n",
      "6/6 [==============================] - 0s 7ms/step - loss: 1.4779 - accuracy: 0.3670 - val_loss: 1.4957 - val_accuracy: 0.3758\n",
      "Epoch 244/250\n",
      "6/6 [==============================] - 0s 7ms/step - loss: 1.4786 - accuracy: 0.4114 - val_loss: 1.5029 - val_accuracy: 0.3571\n",
      "Epoch 245/250\n",
      "6/6 [==============================] - 0s 8ms/step - loss: 1.4806 - accuracy: 0.3911 - val_loss: 1.4935 - val_accuracy: 0.3571\n",
      "Epoch 246/250\n",
      "6/6 [==============================] - 0s 7ms/step - loss: 1.4786 - accuracy: 0.4207 - val_loss: 1.4819 - val_accuracy: 0.4379\n",
      "Epoch 247/250\n",
      "6/6 [==============================] - 0s 8ms/step - loss: 1.4777 - accuracy: 0.4269 - val_loss: 1.4782 - val_accuracy: 0.3758\n",
      "Epoch 248/250\n",
      "6/6 [==============================] - 0s 7ms/step - loss: 1.4783 - accuracy: 0.3756 - val_loss: 1.4783 - val_accuracy: 0.3758\n",
      "Epoch 249/250\n",
      "6/6 [==============================] - 0s 7ms/step - loss: 1.4790 - accuracy: 0.3670 - val_loss: 1.4807 - val_accuracy: 0.3758\n",
      "Epoch 250/250\n",
      "6/6 [==============================] - 0s 8ms/step - loss: 1.4791 - accuracy: 0.3670 - val_loss: 1.4867 - val_accuracy: 0.3758\n"
     ]
    }
   ],
   "source": [
    "training_history = model.fit(\n",
    "    features,\n",
    "    y_train_to_array,\n",
    "    epochs=EPOCHS,\n",
    "    validation_split=0.2,\n",
    "    batch_size=256,\n",
    "    #callbacks=[best_model_checkpoint, best_model_checkpoint_early_stopping]\n",
    ")"
   ]
  },
  {
   "cell_type": "code",
   "execution_count": 36,
   "metadata": {},
   "outputs": [
    {
     "data": {
      "application/vnd.plotly.v1+json": {
       "config": {
        "plotlyServerURL": "https://plot.ly"
       },
       "data": [
        {
         "mode": "lines",
         "name": "Acc - Validation",
         "type": "scatter",
         "y": [
          0.37577641010284424,
          0.37577641010284424,
          0.37577641010284424,
          0.37577641010284424,
          0.37577641010284424,
          0.37577641010284424,
          0.37577641010284424,
          0.37577641010284424,
          0.37577641010284424,
          0.37577641010284424,
          0.37577641010284424,
          0.37577641010284424,
          0.37577641010284424,
          0.37577641010284424,
          0.37577641010284424,
          0.37577641010284424,
          0.37577641010284424,
          0.37577641010284424,
          0.37577641010284424,
          0.37577641010284424,
          0.37577641010284424,
          0.37577641010284424,
          0.37577641010284424,
          0.37577641010284424,
          0.34161490201950073,
          0.3074534237384796,
          0.3074534237384796,
          0.37577641010284424,
          0.37577641010284424,
          0.37577641010284424,
          0.37577641010284424,
          0.37577641010284424,
          0.37577641010284424,
          0.37577641010284424,
          0.37577641010284424,
          0.37577641010284424,
          0.37577641010284424,
          0.37577641010284424,
          0.37577641010284424,
          0.37577641010284424,
          0.37577641010284424,
          0.37577641010284424,
          0.37577641010284424,
          0.37577641010284424,
          0.37577641010284424,
          0.37577641010284424,
          0.37577641010284424,
          0.3664596378803253,
          0.3074534237384796,
          0.37577641010284424,
          0.37577641010284424,
          0.37577641010284424,
          0.3913043439388275,
          0.3913043439388275,
          0.35403725504875183,
          0.3726707994937897,
          0.37577641010284424,
          0.37577641010284424,
          0.37577641010284424,
          0.37577641010284424,
          0.37577641010284424,
          0.37577641010284424,
          0.37577641010284424,
          0.3819875717163086,
          0.3788819909095764,
          0.37577641010284424,
          0.37577641010284424,
          0.37577641010284424,
          0.37577641010284424,
          0.37577641010284424,
          0.4409937858581543,
          0.31677019596099854,
          0.37577641010284424,
          0.37577641010284424,
          0.37577641010284424,
          0.3198757767677307,
          0.30434781312942505,
          0.37577641010284424,
          0.37577641010284424,
          0.37577641010284424,
          0.37577641010284424,
          0.3913043439388275,
          0.30434781312942505,
          0.31677019596099854,
          0.37577641010284424,
          0.37577641010284424,
          0.37577641010284424,
          0.37577641010284424,
          0.37577641010284424,
          0.44720497727394104,
          0.37577641010284424,
          0.38509318232536316,
          0.37577641010284424,
          0.37577641010284424,
          0.3788819909095764,
          0.37577641010284424,
          0.37577641010284424,
          0.37577641010284424,
          0.37577641010284424,
          0.37577641010284424,
          0.36335402727127075,
          0.3198757767677307,
          0.3478260934352875,
          0.3788819909095764,
          0.44720497727394104,
          0.4440993666648865,
          0.3819875717163086,
          0.4068323075771332,
          0.3819875717163086,
          0.3695652186870575,
          0.3788819909095764,
          0.37577641010284424,
          0.37577641010284424,
          0.37577641010284424,
          0.37577641010284424,
          0.4037266969680786,
          0.3819875717163086,
          0.37577641010284424,
          0.37577641010284424,
          0.37577641010284424,
          0.4068323075771332,
          0.38509318232536316,
          0.37577641010284424,
          0.37577641010284424,
          0.37577641010284424,
          0.3819875717163086,
          0.4037266969680786,
          0.36335402727127075,
          0.4285714328289032,
          0.37577641010284424,
          0.37577641010284424,
          0.37577641010284424,
          0.3788819909095764,
          0.37577641010284424,
          0.37577641010284424,
          0.37577641010284424,
          0.37577641010284424,
          0.4409937858581543,
          0.37577641010284424,
          0.37577641010284424,
          0.4440993666648865,
          0.4192546606063843,
          0.37577641010284424,
          0.37577641010284424,
          0.37577641010284424,
          0.37577641010284424,
          0.4192546606063843,
          0.32919254899024963,
          0.3571428656578064,
          0.39751553535461426,
          0.37577641010284424,
          0.43478259444236755,
          0.35403725504875183,
          0.3571428656578064,
          0.38819876313209534,
          0.37577641010284424,
          0.37577641010284424,
          0.37577641010284424,
          0.37577641010284424,
          0.37577641010284424,
          0.40062111616134644,
          0.4316770136356354,
          0.3788819909095764,
          0.40993788838386536,
          0.40062111616134644,
          0.4378882050514221,
          0.37577641010284424,
          0.43478259444236755,
          0.43478259444236755,
          0.37577641010284424,
          0.38819876313209534,
          0.44720497727394104,
          0.43478259444236755,
          0.42236024141311646,
          0.37577641010284424,
          0.37577641010284424,
          0.3571428656578064,
          0.40993788838386536,
          0.38819876313209534,
          0.37577641010284424,
          0.37577641010284424,
          0.37577641010284424,
          0.3664596378803253,
          0.425465852022171,
          0.37577641010284424,
          0.37577641010284424,
          0.4440993666648865,
          0.39751553535461426,
          0.4440993666648865,
          0.3788819909095764,
          0.37577641010284424,
          0.3819875717163086,
          0.40993788838386536,
          0.4316770136356354,
          0.425465852022171,
          0.4316770136356354,
          0.4378882050514221,
          0.3788819909095764,
          0.37577641010284424,
          0.37577641010284424,
          0.37577641010284424,
          0.37577641010284424,
          0.37577641010284424,
          0.4378882050514221,
          0.39751553535461426,
          0.3788819909095764,
          0.37577641010284424,
          0.37577641010284424,
          0.38509318232536316,
          0.4440993666648865,
          0.40993788838386536,
          0.4068323075771332,
          0.42236024141311646,
          0.3602484464645386,
          0.4409937858581543,
          0.37577641010284424,
          0.37577641010284424,
          0.37577641010284424,
          0.41304346919059753,
          0.425465852022171,
          0.38819876313209534,
          0.37577641010284424,
          0.425465852022171,
          0.4068323075771332,
          0.3788819909095764,
          0.4161490797996521,
          0.42236024141311646,
          0.4161490797996521,
          0.37577641010284424,
          0.3788819909095764,
          0.4378882050514221,
          0.3664596378803253,
          0.37577641010284424,
          0.4068323075771332,
          0.42236024141311646,
          0.42236024141311646,
          0.37577641010284424,
          0.37577641010284424,
          0.37577641010284424,
          0.4409937858581543,
          0.44720497727394104,
          0.37577641010284424,
          0.37577641010284424,
          0.3571428656578064,
          0.3571428656578064,
          0.4378882050514221,
          0.37577641010284424,
          0.37577641010284424,
          0.37577641010284424,
          0.37577641010284424
         ]
        },
        {
         "mode": "lines",
         "name": "Acc - Training",
         "type": "scatter",
         "y": [
          0.09642301499843597,
          0.3670295476913452,
          0.3670295476913452,
          0.3670295476913452,
          0.3670295476913452,
          0.3670295476913452,
          0.3670295476913452,
          0.3670295476913452,
          0.3670295476913452,
          0.3670295476913452,
          0.3670295476913452,
          0.3670295476913452,
          0.3670295476913452,
          0.3670295476913452,
          0.3670295476913452,
          0.3670295476913452,
          0.3670295476913452,
          0.3670295476913452,
          0.3685847520828247,
          0.3670295476913452,
          0.3670295476913452,
          0.3670295476913452,
          0.3670295476913452,
          0.3670295476913452,
          0.4097978174686432,
          0.34836703538894653,
          0.321928471326828,
          0.35692068934440613,
          0.3670295476913452,
          0.3670295476913452,
          0.3670295476913452,
          0.3670295476913452,
          0.3670295476913452,
          0.3670295476913452,
          0.3670295476913452,
          0.3670295476913452,
          0.3670295476913452,
          0.3670295476913452,
          0.3670295476913452,
          0.3670295476913452,
          0.3670295476913452,
          0.3670295476913452,
          0.3670295476913452,
          0.3670295476913452,
          0.3670295476913452,
          0.3786936104297638,
          0.3670295476913452,
          0.3701399564743042,
          0.349922239780426,
          0.3600310981273651,
          0.3670295476913452,
          0.3670295476913452,
          0.3670295476913452,
          0.429237961769104,
          0.4066874086856842,
          0.3701399564743042,
          0.4027993679046631,
          0.3670295476913452,
          0.3670295476913452,
          0.3670295476913452,
          0.3670295476913452,
          0.3670295476913452,
          0.3670295476913452,
          0.3701399564743042,
          0.38646966218948364,
          0.37325039505958557,
          0.36780714988708496,
          0.3670295476913452,
          0.3670295476913452,
          0.3670295476913452,
          0.3670295476913452,
          0.3685847520828247,
          0.38180404901504517,
          0.3670295476913452,
          0.3670295476913452,
          0.3825816512107849,
          0.3234836757183075,
          0.35692068934440613,
          0.3670295476913452,
          0.3670295476913452,
          0.3670295476913452,
          0.3670295476913452,
          0.353032648563385,
          0.3234836757183075,
          0.39035770297050476,
          0.3670295476913452,
          0.3670295476913452,
          0.3670295476913452,
          0.3670295476913452,
          0.39191290736198425,
          0.4097978174686432,
          0.389580100774765,
          0.3794712424278259,
          0.3670295476913452,
          0.3740279972553253,
          0.3724727928638458,
          0.3670295476913452,
          0.3670295476913452,
          0.3670295476913452,
          0.3670295476913452,
          0.37325039505958557,
          0.3584758937358856,
          0.3475894331932068,
          0.4121306240558624,
          0.39735615253448486,
          0.44401243329048157,
          0.40746501088142395,
          0.41912907361984253,
          0.43312597274780273,
          0.395800918340683,
          0.42146191000938416,
          0.3701399564743042,
          0.3670295476913452,
          0.3670295476913452,
          0.3670295476913452,
          0.4097978174686432,
          0.4183514714241028,
          0.39891135692596436,
          0.3670295476913452,
          0.3670295476913452,
          0.389580100774765,
          0.4362363815307617,
          0.36936235427856445,
          0.3670295476913452,
          0.3670295476913452,
          0.3670295476913452,
          0.41601866483688354,
          0.40357697010040283,
          0.41057541966438293,
          0.41757386922836304,
          0.3670295476913452,
          0.3670295476913452,
          0.3794712424278259,
          0.36936235427856445,
          0.3670295476913452,
          0.3670295476913452,
          0.3670295476913452,
          0.4082426130771637,
          0.39502331614494324,
          0.3670295476913452,
          0.40046656131744385,
          0.4346811771392822,
          0.4237947165966034,
          0.36780714988708496,
          0.3670295476913452,
          0.3670295476913452,
          0.3740279972553253,
          0.39502331614494324,
          0.3615863025188446,
          0.4121306240558624,
          0.38491445779800415,
          0.37325039505958557,
          0.4152410626411438,
          0.37791600823402405,
          0.40590980648994446,
          0.37636080384254456,
          0.3670295476913452,
          0.3670295476913452,
          0.3670295476913452,
          0.3670295476913452,
          0.4152410626411438,
          0.4237947165966034,
          0.4121306240558624,
          0.3841368556022644,
          0.42457231879234314,
          0.42846032977104187,
          0.4097978174686432,
          0.3856920599937439,
          0.4393468201160431,
          0.37791600823402405,
          0.3724727928638458,
          0.41912907361984253,
          0.44401243329048157,
          0.432348370552063,
          0.395800918340683,
          0.3670295476913452,
          0.40590980648994446,
          0.4097978174686432,
          0.4424572288990021,
          0.3755832016468048,
          0.3670295476913452,
          0.3670295476913452,
          0.4183514714241028,
          0.42457231879234314,
          0.420684278011322,
          0.3670295476913452,
          0.3880248963832855,
          0.4136858582496643,
          0.41757386922836304,
          0.4183514714241028,
          0.36936235427856445,
          0.37091758847236633,
          0.38646966218948364,
          0.4237947165966034,
          0.4276827275753021,
          0.4167962670326233,
          0.43001556396484375,
          0.4199066758155823,
          0.3701399564743042,
          0.3670295476913452,
          0.3670295476913452,
          0.36780714988708496,
          0.3740279972553253,
          0.38491445779800415,
          0.435458779335022,
          0.43312597274780273,
          0.36936235427856445,
          0.3670295476913452,
          0.36780714988708496,
          0.40435460209846497,
          0.4393468201160431,
          0.432348370552063,
          0.43157076835632324,
          0.41912907361984253,
          0.41601866483688354,
          0.43157076835632324,
          0.3685847520828247,
          0.3670295476913452,
          0.40357697010040283,
          0.432348370552063,
          0.4377916157245636,
          0.37791600823402405,
          0.3685847520828247,
          0.44401243329048157,
          0.42846032977104187,
          0.4276827275753021,
          0.435458779335022,
          0.44712287187576294,
          0.38880249857902527,
          0.37480559945106506,
          0.3872472643852234,
          0.4269051253795624,
          0.420684278011322,
          0.42146191000938416,
          0.43856921792030334,
          0.4447900354862213,
          0.3856920599937439,
          0.3670295476913452,
          0.3670295476913452,
          0.3911353051662445,
          0.44712287187576294,
          0.39502331614494324,
          0.3670295476913452,
          0.4113530218601227,
          0.3911353051662445,
          0.420684278011322,
          0.4269051253795624,
          0.3755832016468048,
          0.3670295476913452,
          0.3670295476913452
         ]
        }
       ],
       "layout": {
        "template": {
         "data": {
          "bar": [
           {
            "error_x": {
             "color": "#2a3f5f"
            },
            "error_y": {
             "color": "#2a3f5f"
            },
            "marker": {
             "line": {
              "color": "#E5ECF6",
              "width": 0.5
             },
             "pattern": {
              "fillmode": "overlay",
              "size": 10,
              "solidity": 0.2
             }
            },
            "type": "bar"
           }
          ],
          "barpolar": [
           {
            "marker": {
             "line": {
              "color": "#E5ECF6",
              "width": 0.5
             },
             "pattern": {
              "fillmode": "overlay",
              "size": 10,
              "solidity": 0.2
             }
            },
            "type": "barpolar"
           }
          ],
          "carpet": [
           {
            "aaxis": {
             "endlinecolor": "#2a3f5f",
             "gridcolor": "white",
             "linecolor": "white",
             "minorgridcolor": "white",
             "startlinecolor": "#2a3f5f"
            },
            "baxis": {
             "endlinecolor": "#2a3f5f",
             "gridcolor": "white",
             "linecolor": "white",
             "minorgridcolor": "white",
             "startlinecolor": "#2a3f5f"
            },
            "type": "carpet"
           }
          ],
          "choropleth": [
           {
            "colorbar": {
             "outlinewidth": 0,
             "ticks": ""
            },
            "type": "choropleth"
           }
          ],
          "contour": [
           {
            "colorbar": {
             "outlinewidth": 0,
             "ticks": ""
            },
            "colorscale": [
             [
              0,
              "#0d0887"
             ],
             [
              0.1111111111111111,
              "#46039f"
             ],
             [
              0.2222222222222222,
              "#7201a8"
             ],
             [
              0.3333333333333333,
              "#9c179e"
             ],
             [
              0.4444444444444444,
              "#bd3786"
             ],
             [
              0.5555555555555556,
              "#d8576b"
             ],
             [
              0.6666666666666666,
              "#ed7953"
             ],
             [
              0.7777777777777778,
              "#fb9f3a"
             ],
             [
              0.8888888888888888,
              "#fdca26"
             ],
             [
              1,
              "#f0f921"
             ]
            ],
            "type": "contour"
           }
          ],
          "contourcarpet": [
           {
            "colorbar": {
             "outlinewidth": 0,
             "ticks": ""
            },
            "type": "contourcarpet"
           }
          ],
          "heatmap": [
           {
            "colorbar": {
             "outlinewidth": 0,
             "ticks": ""
            },
            "colorscale": [
             [
              0,
              "#0d0887"
             ],
             [
              0.1111111111111111,
              "#46039f"
             ],
             [
              0.2222222222222222,
              "#7201a8"
             ],
             [
              0.3333333333333333,
              "#9c179e"
             ],
             [
              0.4444444444444444,
              "#bd3786"
             ],
             [
              0.5555555555555556,
              "#d8576b"
             ],
             [
              0.6666666666666666,
              "#ed7953"
             ],
             [
              0.7777777777777778,
              "#fb9f3a"
             ],
             [
              0.8888888888888888,
              "#fdca26"
             ],
             [
              1,
              "#f0f921"
             ]
            ],
            "type": "heatmap"
           }
          ],
          "heatmapgl": [
           {
            "colorbar": {
             "outlinewidth": 0,
             "ticks": ""
            },
            "colorscale": [
             [
              0,
              "#0d0887"
             ],
             [
              0.1111111111111111,
              "#46039f"
             ],
             [
              0.2222222222222222,
              "#7201a8"
             ],
             [
              0.3333333333333333,
              "#9c179e"
             ],
             [
              0.4444444444444444,
              "#bd3786"
             ],
             [
              0.5555555555555556,
              "#d8576b"
             ],
             [
              0.6666666666666666,
              "#ed7953"
             ],
             [
              0.7777777777777778,
              "#fb9f3a"
             ],
             [
              0.8888888888888888,
              "#fdca26"
             ],
             [
              1,
              "#f0f921"
             ]
            ],
            "type": "heatmapgl"
           }
          ],
          "histogram": [
           {
            "marker": {
             "pattern": {
              "fillmode": "overlay",
              "size": 10,
              "solidity": 0.2
             }
            },
            "type": "histogram"
           }
          ],
          "histogram2d": [
           {
            "colorbar": {
             "outlinewidth": 0,
             "ticks": ""
            },
            "colorscale": [
             [
              0,
              "#0d0887"
             ],
             [
              0.1111111111111111,
              "#46039f"
             ],
             [
              0.2222222222222222,
              "#7201a8"
             ],
             [
              0.3333333333333333,
              "#9c179e"
             ],
             [
              0.4444444444444444,
              "#bd3786"
             ],
             [
              0.5555555555555556,
              "#d8576b"
             ],
             [
              0.6666666666666666,
              "#ed7953"
             ],
             [
              0.7777777777777778,
              "#fb9f3a"
             ],
             [
              0.8888888888888888,
              "#fdca26"
             ],
             [
              1,
              "#f0f921"
             ]
            ],
            "type": "histogram2d"
           }
          ],
          "histogram2dcontour": [
           {
            "colorbar": {
             "outlinewidth": 0,
             "ticks": ""
            },
            "colorscale": [
             [
              0,
              "#0d0887"
             ],
             [
              0.1111111111111111,
              "#46039f"
             ],
             [
              0.2222222222222222,
              "#7201a8"
             ],
             [
              0.3333333333333333,
              "#9c179e"
             ],
             [
              0.4444444444444444,
              "#bd3786"
             ],
             [
              0.5555555555555556,
              "#d8576b"
             ],
             [
              0.6666666666666666,
              "#ed7953"
             ],
             [
              0.7777777777777778,
              "#fb9f3a"
             ],
             [
              0.8888888888888888,
              "#fdca26"
             ],
             [
              1,
              "#f0f921"
             ]
            ],
            "type": "histogram2dcontour"
           }
          ],
          "mesh3d": [
           {
            "colorbar": {
             "outlinewidth": 0,
             "ticks": ""
            },
            "type": "mesh3d"
           }
          ],
          "parcoords": [
           {
            "line": {
             "colorbar": {
              "outlinewidth": 0,
              "ticks": ""
             }
            },
            "type": "parcoords"
           }
          ],
          "pie": [
           {
            "automargin": true,
            "type": "pie"
           }
          ],
          "scatter": [
           {
            "fillpattern": {
             "fillmode": "overlay",
             "size": 10,
             "solidity": 0.2
            },
            "type": "scatter"
           }
          ],
          "scatter3d": [
           {
            "line": {
             "colorbar": {
              "outlinewidth": 0,
              "ticks": ""
             }
            },
            "marker": {
             "colorbar": {
              "outlinewidth": 0,
              "ticks": ""
             }
            },
            "type": "scatter3d"
           }
          ],
          "scattercarpet": [
           {
            "marker": {
             "colorbar": {
              "outlinewidth": 0,
              "ticks": ""
             }
            },
            "type": "scattercarpet"
           }
          ],
          "scattergeo": [
           {
            "marker": {
             "colorbar": {
              "outlinewidth": 0,
              "ticks": ""
             }
            },
            "type": "scattergeo"
           }
          ],
          "scattergl": [
           {
            "marker": {
             "colorbar": {
              "outlinewidth": 0,
              "ticks": ""
             }
            },
            "type": "scattergl"
           }
          ],
          "scattermapbox": [
           {
            "marker": {
             "colorbar": {
              "outlinewidth": 0,
              "ticks": ""
             }
            },
            "type": "scattermapbox"
           }
          ],
          "scatterpolar": [
           {
            "marker": {
             "colorbar": {
              "outlinewidth": 0,
              "ticks": ""
             }
            },
            "type": "scatterpolar"
           }
          ],
          "scatterpolargl": [
           {
            "marker": {
             "colorbar": {
              "outlinewidth": 0,
              "ticks": ""
             }
            },
            "type": "scatterpolargl"
           }
          ],
          "scatterternary": [
           {
            "marker": {
             "colorbar": {
              "outlinewidth": 0,
              "ticks": ""
             }
            },
            "type": "scatterternary"
           }
          ],
          "surface": [
           {
            "colorbar": {
             "outlinewidth": 0,
             "ticks": ""
            },
            "colorscale": [
             [
              0,
              "#0d0887"
             ],
             [
              0.1111111111111111,
              "#46039f"
             ],
             [
              0.2222222222222222,
              "#7201a8"
             ],
             [
              0.3333333333333333,
              "#9c179e"
             ],
             [
              0.4444444444444444,
              "#bd3786"
             ],
             [
              0.5555555555555556,
              "#d8576b"
             ],
             [
              0.6666666666666666,
              "#ed7953"
             ],
             [
              0.7777777777777778,
              "#fb9f3a"
             ],
             [
              0.8888888888888888,
              "#fdca26"
             ],
             [
              1,
              "#f0f921"
             ]
            ],
            "type": "surface"
           }
          ],
          "table": [
           {
            "cells": {
             "fill": {
              "color": "#EBF0F8"
             },
             "line": {
              "color": "white"
             }
            },
            "header": {
             "fill": {
              "color": "#C8D4E3"
             },
             "line": {
              "color": "white"
             }
            },
            "type": "table"
           }
          ]
         },
         "layout": {
          "annotationdefaults": {
           "arrowcolor": "#2a3f5f",
           "arrowhead": 0,
           "arrowwidth": 1
          },
          "autotypenumbers": "strict",
          "coloraxis": {
           "colorbar": {
            "outlinewidth": 0,
            "ticks": ""
           }
          },
          "colorscale": {
           "diverging": [
            [
             0,
             "#8e0152"
            ],
            [
             0.1,
             "#c51b7d"
            ],
            [
             0.2,
             "#de77ae"
            ],
            [
             0.3,
             "#f1b6da"
            ],
            [
             0.4,
             "#fde0ef"
            ],
            [
             0.5,
             "#f7f7f7"
            ],
            [
             0.6,
             "#e6f5d0"
            ],
            [
             0.7,
             "#b8e186"
            ],
            [
             0.8,
             "#7fbc41"
            ],
            [
             0.9,
             "#4d9221"
            ],
            [
             1,
             "#276419"
            ]
           ],
           "sequential": [
            [
             0,
             "#0d0887"
            ],
            [
             0.1111111111111111,
             "#46039f"
            ],
            [
             0.2222222222222222,
             "#7201a8"
            ],
            [
             0.3333333333333333,
             "#9c179e"
            ],
            [
             0.4444444444444444,
             "#bd3786"
            ],
            [
             0.5555555555555556,
             "#d8576b"
            ],
            [
             0.6666666666666666,
             "#ed7953"
            ],
            [
             0.7777777777777778,
             "#fb9f3a"
            ],
            [
             0.8888888888888888,
             "#fdca26"
            ],
            [
             1,
             "#f0f921"
            ]
           ],
           "sequentialminus": [
            [
             0,
             "#0d0887"
            ],
            [
             0.1111111111111111,
             "#46039f"
            ],
            [
             0.2222222222222222,
             "#7201a8"
            ],
            [
             0.3333333333333333,
             "#9c179e"
            ],
            [
             0.4444444444444444,
             "#bd3786"
            ],
            [
             0.5555555555555556,
             "#d8576b"
            ],
            [
             0.6666666666666666,
             "#ed7953"
            ],
            [
             0.7777777777777778,
             "#fb9f3a"
            ],
            [
             0.8888888888888888,
             "#fdca26"
            ],
            [
             1,
             "#f0f921"
            ]
           ]
          },
          "colorway": [
           "#636efa",
           "#EF553B",
           "#00cc96",
           "#ab63fa",
           "#FFA15A",
           "#19d3f3",
           "#FF6692",
           "#B6E880",
           "#FF97FF",
           "#FECB52"
          ],
          "font": {
           "color": "#2a3f5f"
          },
          "geo": {
           "bgcolor": "white",
           "lakecolor": "white",
           "landcolor": "#E5ECF6",
           "showlakes": true,
           "showland": true,
           "subunitcolor": "white"
          },
          "hoverlabel": {
           "align": "left"
          },
          "hovermode": "closest",
          "mapbox": {
           "style": "light"
          },
          "paper_bgcolor": "white",
          "plot_bgcolor": "#E5ECF6",
          "polar": {
           "angularaxis": {
            "gridcolor": "white",
            "linecolor": "white",
            "ticks": ""
           },
           "bgcolor": "#E5ECF6",
           "radialaxis": {
            "gridcolor": "white",
            "linecolor": "white",
            "ticks": ""
           }
          },
          "scene": {
           "xaxis": {
            "backgroundcolor": "#E5ECF6",
            "gridcolor": "white",
            "gridwidth": 2,
            "linecolor": "white",
            "showbackground": true,
            "ticks": "",
            "zerolinecolor": "white"
           },
           "yaxis": {
            "backgroundcolor": "#E5ECF6",
            "gridcolor": "white",
            "gridwidth": 2,
            "linecolor": "white",
            "showbackground": true,
            "ticks": "",
            "zerolinecolor": "white"
           },
           "zaxis": {
            "backgroundcolor": "#E5ECF6",
            "gridcolor": "white",
            "gridwidth": 2,
            "linecolor": "white",
            "showbackground": true,
            "ticks": "",
            "zerolinecolor": "white"
           }
          },
          "shapedefaults": {
           "line": {
            "color": "#2a3f5f"
           }
          },
          "ternary": {
           "aaxis": {
            "gridcolor": "white",
            "linecolor": "white",
            "ticks": ""
           },
           "baxis": {
            "gridcolor": "white",
            "linecolor": "white",
            "ticks": ""
           },
           "bgcolor": "#E5ECF6",
           "caxis": {
            "gridcolor": "white",
            "linecolor": "white",
            "ticks": ""
           }
          },
          "title": {
           "x": 0.05
          },
          "xaxis": {
           "automargin": true,
           "gridcolor": "white",
           "linecolor": "white",
           "ticks": "",
           "title": {
            "standoff": 15
           },
           "zerolinecolor": "white",
           "zerolinewidth": 2
          },
          "yaxis": {
           "automargin": true,
           "gridcolor": "white",
           "linecolor": "white",
           "ticks": "",
           "title": {
            "standoff": 15
           },
           "zerolinecolor": "white",
           "zerolinewidth": 2
          }
         }
        }
       }
      }
     },
     "metadata": {},
     "output_type": "display_data"
    }
   ],
   "source": [
    "fig = go.Figure()\n",
    "fig.add_trace(\n",
    "    go.Scatter(y=training_history.history['val_accuracy'],\n",
    "               mode='lines',\n",
    "               name='Acc - Validation'))\n",
    "fig.add_trace(\n",
    "    go.Scatter(y=training_history.history['accuracy'],\n",
    "               mode='lines',\n",
    "               name='Acc - Training'))\n"
   ]
  },
  {
   "cell_type": "code",
   "execution_count": 37,
   "metadata": {},
   "outputs": [
    {
     "data": {
      "application/vnd.plotly.v1+json": {
       "config": {
        "plotlyServerURL": "https://plot.ly"
       },
       "data": [
        {
         "mode": "lines",
         "name": "Validation loss",
         "type": "scatter",
         "y": [
          1.7421785593032837,
          1.5860286951065063,
          1.5305280685424805,
          1.5203046798706055,
          1.5161752700805664,
          1.5122772455215454,
          1.510162591934204,
          1.5078516006469727,
          1.5012563467025757,
          1.4990506172180176,
          1.5012767314910889,
          1.4991103410720825,
          1.4964090585708618,
          1.4963527917861938,
          1.4967503547668457,
          1.4954209327697754,
          1.4934927225112915,
          1.4938607215881348,
          1.4947928190231323,
          1.4932271242141724,
          1.4975231885910034,
          1.5026308298110962,
          1.506578803062439,
          1.5146827697753906,
          1.5153459310531616,
          1.5194671154022217,
          1.517816424369812,
          1.507629632949829,
          1.5039151906967163,
          1.5067983865737915,
          1.5027321577072144,
          1.5039970874786377,
          1.508750081062317,
          1.5099866390228271,
          1.5076888799667358,
          1.5089298486709595,
          1.5076795816421509,
          1.5089088678359985,
          1.508040189743042,
          1.5155575275421143,
          1.5151920318603516,
          1.5069727897644043,
          1.4968966245651245,
          1.4928776025772095,
          1.4955048561096191,
          1.4934768676757812,
          1.4920878410339355,
          1.50078547000885,
          1.5122873783111572,
          1.5069587230682373,
          1.5078927278518677,
          1.5099852085113525,
          1.5106569528579712,
          1.50734281539917,
          1.5006015300750732,
          1.4995713233947754,
          1.497049331665039,
          1.5015549659729004,
          1.4972503185272217,
          1.4914964437484741,
          1.495050311088562,
          1.4981930255889893,
          1.5043725967407227,
          1.5100836753845215,
          1.5109398365020752,
          1.5096964836120605,
          1.5095773935317993,
          1.5014466047286987,
          1.4971212148666382,
          1.4979840517044067,
          1.4994711875915527,
          1.5093061923980713,
          1.5015957355499268,
          1.5012845993041992,
          1.4968878030776978,
          1.5094282627105713,
          1.5149836540222168,
          1.496175765991211,
          1.4960014820098877,
          1.4949742555618286,
          1.493118166923523,
          1.5005121231079102,
          1.522623896598816,
          1.5244990587234497,
          1.5146257877349854,
          1.5101068019866943,
          1.5162276029586792,
          1.509568691253662,
          1.5001192092895508,
          1.4914747476577759,
          1.4857162237167358,
          1.4917808771133423,
          1.4956417083740234,
          1.4991713762283325,
          1.4958196878433228,
          1.4923582077026367,
          1.4892269372940063,
          1.488708257675171,
          1.4952889680862427,
          1.4952163696289062,
          1.5068455934524536,
          1.5187982320785522,
          1.5211466550827026,
          1.5215082168579102,
          1.5201044082641602,
          1.508594036102295,
          1.5033823251724243,
          1.503545880317688,
          1.506181240081787,
          1.5034254789352417,
          1.4982565641403198,
          1.4982640743255615,
          1.4987752437591553,
          1.4992225170135498,
          1.4985504150390625,
          1.5020924806594849,
          1.4970932006835938,
          1.4870848655700684,
          1.488341212272644,
          1.488174319267273,
          1.4960336685180664,
          1.4992733001708984,
          1.5044684410095215,
          1.5021530389785767,
          1.5004388093948364,
          1.4974513053894043,
          1.4989380836486816,
          1.50187087059021,
          1.4945603609085083,
          1.4891406297683716,
          1.4875895977020264,
          1.4933561086654663,
          1.4982163906097412,
          1.495768427848816,
          1.4885715246200562,
          1.4841234683990479,
          1.4822026491165161,
          1.4857360124588013,
          1.4864743947982788,
          1.4974583387374878,
          1.5039410591125488,
          1.5053218603134155,
          1.4984774589538574,
          1.4937965869903564,
          1.4917011260986328,
          1.4995030164718628,
          1.514609456062317,
          1.5204026699066162,
          1.5087332725524902,
          1.4975504875183105,
          1.4952741861343384,
          1.5019419193267822,
          1.5109056234359741,
          1.510937213897705,
          1.5070197582244873,
          1.499495506286621,
          1.4930570125579834,
          1.4843368530273438,
          1.4828569889068604,
          1.4843213558197021,
          1.4915519952774048,
          1.495151162147522,
          1.4992891550064087,
          1.4994755983352661,
          1.5026432275772095,
          1.5012871026992798,
          1.487946629524231,
          1.4856361150741577,
          1.4870680570602417,
          1.4925289154052734,
          1.5035502910614014,
          1.5004371404647827,
          1.49307382106781,
          1.4883487224578857,
          1.4841746091842651,
          1.4873182773590088,
          1.4988585710525513,
          1.4983247518539429,
          1.4988553524017334,
          1.5042848587036133,
          1.5054080486297607,
          1.5055514574050903,
          1.5097625255584717,
          1.5088768005371094,
          1.49895441532135,
          1.489404559135437,
          1.4901113510131836,
          1.492444396018982,
          1.4972984790802002,
          1.4914811849594116,
          1.4922480583190918,
          1.495362401008606,
          1.49156653881073,
          1.4901727437973022,
          1.48743736743927,
          1.489315390586853,
          1.4927102327346802,
          1.4948172569274902,
          1.493316650390625,
          1.4961506128311157,
          1.4933316707611084,
          1.4971283674240112,
          1.4966496229171753,
          1.4953765869140625,
          1.4950716495513916,
          1.4897875785827637,
          1.490019679069519,
          1.4910001754760742,
          1.4935591220855713,
          1.4918893575668335,
          1.4954746961593628,
          1.4985753297805786,
          1.4917858839035034,
          1.4886707067489624,
          1.4832091331481934,
          1.4803134202957153,
          1.4786373376846313,
          1.4786335229873657,
          1.4873020648956299,
          1.5009870529174805,
          1.496185541152954,
          1.4889777898788452,
          1.490289568901062,
          1.4939078092575073,
          1.4917782545089722,
          1.489262580871582,
          1.484580397605896,
          1.4791258573532104,
          1.4769223928451538,
          1.4779300689697266,
          1.4853520393371582,
          1.4991137981414795,
          1.5093791484832764,
          1.5130999088287354,
          1.5026028156280518,
          1.4898604154586792,
          1.4788262844085693,
          1.475569486618042,
          1.4778755903244019,
          1.485338568687439,
          1.490317702293396,
          1.489412784576416,
          1.4956992864608765,
          1.5029265880584717,
          1.4935026168823242,
          1.4818732738494873,
          1.4782061576843262,
          1.4783425331115723,
          1.4806880950927734,
          1.4867147207260132
         ]
        },
        {
         "mode": "lines",
         "name": "Training loss",
         "type": "scatter",
         "y": [
          1.94504714012146,
          1.6891708374023438,
          1.567006230354309,
          1.5259923934936523,
          1.5136921405792236,
          1.5064555406570435,
          1.5030704736709595,
          1.5021164417266846,
          1.4991967678070068,
          1.497416615486145,
          1.5006943941116333,
          1.5024797916412354,
          1.5031321048736572,
          1.500243902206421,
          1.5005220174789429,
          1.4994498491287231,
          1.4975218772888184,
          1.4992952346801758,
          1.4984714984893799,
          1.497546911239624,
          1.496829628944397,
          1.4989451169967651,
          1.4974117279052734,
          1.4971343278884888,
          1.4989384412765503,
          1.5003938674926758,
          1.502575397491455,
          1.4986774921417236,
          1.4959622621536255,
          1.5000646114349365,
          1.5009102821350098,
          1.4970378875732422,
          1.4950987100601196,
          1.4951889514923096,
          1.4941730499267578,
          1.4944937229156494,
          1.4962202310562134,
          1.4967069625854492,
          1.4949145317077637,
          1.4961439371109009,
          1.5028069019317627,
          1.5044324398040771,
          1.4996228218078613,
          1.4966421127319336,
          1.4954100847244263,
          1.495116949081421,
          1.4936177730560303,
          1.4925627708435059,
          1.4965828657150269,
          1.4962444305419922,
          1.492815613746643,
          1.4975311756134033,
          1.4939593076705933,
          1.4939438104629517,
          1.4943888187408447,
          1.495265007019043,
          1.4921778440475464,
          1.4923298358917236,
          1.4960672855377197,
          1.495056390762329,
          1.4919770956039429,
          1.4924322366714478,
          1.4922486543655396,
          1.4950330257415771,
          1.4953093528747559,
          1.4926289319992065,
          1.4927926063537598,
          1.4919984340667725,
          1.4912121295928955,
          1.4926302433013916,
          1.491806149482727,
          1.4954347610473633,
          1.493285059928894,
          1.4941716194152832,
          1.496762990951538,
          1.4957494735717773,
          1.5044910907745361,
          1.5010590553283691,
          1.4954298734664917,
          1.496577262878418,
          1.4940412044525146,
          1.4891594648361206,
          1.4961438179016113,
          1.5025155544281006,
          1.4955354928970337,
          1.492393136024475,
          1.4958491325378418,
          1.4984652996063232,
          1.4974054098129272,
          1.499100685119629,
          1.4953192472457886,
          1.4920505285263062,
          1.4901713132858276,
          1.4913592338562012,
          1.4907865524291992,
          1.4888534545898438,
          1.4897502660751343,
          1.4954025745391846,
          1.4984183311462402,
          1.4988410472869873,
          1.4893754720687866,
          1.4939388036727905,
          1.4956709146499634,
          1.4929941892623901,
          1.4936258792877197,
          1.4941368103027344,
          1.4939497709274292,
          1.4910364151000977,
          1.4892847537994385,
          1.4913504123687744,
          1.4899693727493286,
          1.4885098934173584,
          1.4911402463912964,
          1.489432454109192,
          1.4899470806121826,
          1.4891774654388428,
          1.4891104698181152,
          1.4889171123504639,
          1.4925711154937744,
          1.4934619665145874,
          1.487646460533142,
          1.4879051446914673,
          1.4889216423034668,
          1.490663766860962,
          1.4910320043563843,
          1.4884576797485352,
          1.4906450510025024,
          1.494977593421936,
          1.4986518621444702,
          1.4935095310211182,
          1.4883713722229004,
          1.4864485263824463,
          1.4883450269699097,
          1.489672303199768,
          1.4909828901290894,
          1.4969731569290161,
          1.4947795867919922,
          1.491302728652954,
          1.487332820892334,
          1.4872117042541504,
          1.4855637550354004,
          1.48674738407135,
          1.4854048490524292,
          1.483808159828186,
          1.483756184577942,
          1.484900951385498,
          1.4887073040008545,
          1.4908524751663208,
          1.4915311336517334,
          1.4857677221298218,
          1.4878122806549072,
          1.4937304258346558,
          1.496028184890747,
          1.4956567287445068,
          1.4893416166305542,
          1.485170602798462,
          1.4868834018707275,
          1.4870193004608154,
          1.485680103302002,
          1.4865124225616455,
          1.4876174926757812,
          1.4896271228790283,
          1.486980676651001,
          1.4826195240020752,
          1.4828150272369385,
          1.4841972589492798,
          1.4835752248764038,
          1.484158992767334,
          1.484956979751587,
          1.4843075275421143,
          1.4846800565719604,
          1.48488450050354,
          1.4824467897415161,
          1.4845030307769775,
          1.4837559461593628,
          1.482155680656433,
          1.483243703842163,
          1.4856572151184082,
          1.483446478843689,
          1.482399344444275,
          1.4846210479736328,
          1.4843189716339111,
          1.4842240810394287,
          1.488200306892395,
          1.4865717887878418,
          1.4834260940551758,
          1.4808231592178345,
          1.4818469285964966,
          1.485438585281372,
          1.48561692237854,
          1.4828418493270874,
          1.4833126068115234,
          1.4844188690185547,
          1.4835954904556274,
          1.480889916419983,
          1.4794961214065552,
          1.479604721069336,
          1.4802029132843018,
          1.4801186323165894,
          1.4850521087646484,
          1.485534429550171,
          1.4812092781066895,
          1.480326533317566,
          1.4793176651000977,
          1.4809504747390747,
          1.481055736541748,
          1.4842655658721924,
          1.48542058467865,
          1.4847097396850586,
          1.4823853969573975,
          1.481256365776062,
          1.4821667671203613,
          1.480453610420227,
          1.4810413122177124,
          1.4818270206451416,
          1.480432152748108,
          1.480741024017334,
          1.4814565181732178,
          1.4795646667480469,
          1.484758734703064,
          1.4846546649932861,
          1.4791691303253174,
          1.4779807329177856,
          1.4784431457519531,
          1.480337142944336,
          1.4805784225463867,
          1.4794975519180298,
          1.4784225225448608,
          1.4791252613067627,
          1.4791314601898193,
          1.4779114723205566,
          1.47793710231781,
          1.483809232711792,
          1.4894872903823853,
          1.4905997514724731,
          1.4849770069122314,
          1.4779719114303589,
          1.4784724712371826,
          1.4796340465545654,
          1.480329155921936,
          1.4802292585372925,
          1.4795329570770264,
          1.4779132604599,
          1.4785691499710083,
          1.4805593490600586,
          1.4786304235458374,
          1.4777209758758545,
          1.4782626628875732,
          1.479000449180603,
          1.4791210889816284
         ]
        }
       ],
       "layout": {
        "template": {
         "data": {
          "bar": [
           {
            "error_x": {
             "color": "#2a3f5f"
            },
            "error_y": {
             "color": "#2a3f5f"
            },
            "marker": {
             "line": {
              "color": "#E5ECF6",
              "width": 0.5
             },
             "pattern": {
              "fillmode": "overlay",
              "size": 10,
              "solidity": 0.2
             }
            },
            "type": "bar"
           }
          ],
          "barpolar": [
           {
            "marker": {
             "line": {
              "color": "#E5ECF6",
              "width": 0.5
             },
             "pattern": {
              "fillmode": "overlay",
              "size": 10,
              "solidity": 0.2
             }
            },
            "type": "barpolar"
           }
          ],
          "carpet": [
           {
            "aaxis": {
             "endlinecolor": "#2a3f5f",
             "gridcolor": "white",
             "linecolor": "white",
             "minorgridcolor": "white",
             "startlinecolor": "#2a3f5f"
            },
            "baxis": {
             "endlinecolor": "#2a3f5f",
             "gridcolor": "white",
             "linecolor": "white",
             "minorgridcolor": "white",
             "startlinecolor": "#2a3f5f"
            },
            "type": "carpet"
           }
          ],
          "choropleth": [
           {
            "colorbar": {
             "outlinewidth": 0,
             "ticks": ""
            },
            "type": "choropleth"
           }
          ],
          "contour": [
           {
            "colorbar": {
             "outlinewidth": 0,
             "ticks": ""
            },
            "colorscale": [
             [
              0,
              "#0d0887"
             ],
             [
              0.1111111111111111,
              "#46039f"
             ],
             [
              0.2222222222222222,
              "#7201a8"
             ],
             [
              0.3333333333333333,
              "#9c179e"
             ],
             [
              0.4444444444444444,
              "#bd3786"
             ],
             [
              0.5555555555555556,
              "#d8576b"
             ],
             [
              0.6666666666666666,
              "#ed7953"
             ],
             [
              0.7777777777777778,
              "#fb9f3a"
             ],
             [
              0.8888888888888888,
              "#fdca26"
             ],
             [
              1,
              "#f0f921"
             ]
            ],
            "type": "contour"
           }
          ],
          "contourcarpet": [
           {
            "colorbar": {
             "outlinewidth": 0,
             "ticks": ""
            },
            "type": "contourcarpet"
           }
          ],
          "heatmap": [
           {
            "colorbar": {
             "outlinewidth": 0,
             "ticks": ""
            },
            "colorscale": [
             [
              0,
              "#0d0887"
             ],
             [
              0.1111111111111111,
              "#46039f"
             ],
             [
              0.2222222222222222,
              "#7201a8"
             ],
             [
              0.3333333333333333,
              "#9c179e"
             ],
             [
              0.4444444444444444,
              "#bd3786"
             ],
             [
              0.5555555555555556,
              "#d8576b"
             ],
             [
              0.6666666666666666,
              "#ed7953"
             ],
             [
              0.7777777777777778,
              "#fb9f3a"
             ],
             [
              0.8888888888888888,
              "#fdca26"
             ],
             [
              1,
              "#f0f921"
             ]
            ],
            "type": "heatmap"
           }
          ],
          "heatmapgl": [
           {
            "colorbar": {
             "outlinewidth": 0,
             "ticks": ""
            },
            "colorscale": [
             [
              0,
              "#0d0887"
             ],
             [
              0.1111111111111111,
              "#46039f"
             ],
             [
              0.2222222222222222,
              "#7201a8"
             ],
             [
              0.3333333333333333,
              "#9c179e"
             ],
             [
              0.4444444444444444,
              "#bd3786"
             ],
             [
              0.5555555555555556,
              "#d8576b"
             ],
             [
              0.6666666666666666,
              "#ed7953"
             ],
             [
              0.7777777777777778,
              "#fb9f3a"
             ],
             [
              0.8888888888888888,
              "#fdca26"
             ],
             [
              1,
              "#f0f921"
             ]
            ],
            "type": "heatmapgl"
           }
          ],
          "histogram": [
           {
            "marker": {
             "pattern": {
              "fillmode": "overlay",
              "size": 10,
              "solidity": 0.2
             }
            },
            "type": "histogram"
           }
          ],
          "histogram2d": [
           {
            "colorbar": {
             "outlinewidth": 0,
             "ticks": ""
            },
            "colorscale": [
             [
              0,
              "#0d0887"
             ],
             [
              0.1111111111111111,
              "#46039f"
             ],
             [
              0.2222222222222222,
              "#7201a8"
             ],
             [
              0.3333333333333333,
              "#9c179e"
             ],
             [
              0.4444444444444444,
              "#bd3786"
             ],
             [
              0.5555555555555556,
              "#d8576b"
             ],
             [
              0.6666666666666666,
              "#ed7953"
             ],
             [
              0.7777777777777778,
              "#fb9f3a"
             ],
             [
              0.8888888888888888,
              "#fdca26"
             ],
             [
              1,
              "#f0f921"
             ]
            ],
            "type": "histogram2d"
           }
          ],
          "histogram2dcontour": [
           {
            "colorbar": {
             "outlinewidth": 0,
             "ticks": ""
            },
            "colorscale": [
             [
              0,
              "#0d0887"
             ],
             [
              0.1111111111111111,
              "#46039f"
             ],
             [
              0.2222222222222222,
              "#7201a8"
             ],
             [
              0.3333333333333333,
              "#9c179e"
             ],
             [
              0.4444444444444444,
              "#bd3786"
             ],
             [
              0.5555555555555556,
              "#d8576b"
             ],
             [
              0.6666666666666666,
              "#ed7953"
             ],
             [
              0.7777777777777778,
              "#fb9f3a"
             ],
             [
              0.8888888888888888,
              "#fdca26"
             ],
             [
              1,
              "#f0f921"
             ]
            ],
            "type": "histogram2dcontour"
           }
          ],
          "mesh3d": [
           {
            "colorbar": {
             "outlinewidth": 0,
             "ticks": ""
            },
            "type": "mesh3d"
           }
          ],
          "parcoords": [
           {
            "line": {
             "colorbar": {
              "outlinewidth": 0,
              "ticks": ""
             }
            },
            "type": "parcoords"
           }
          ],
          "pie": [
           {
            "automargin": true,
            "type": "pie"
           }
          ],
          "scatter": [
           {
            "fillpattern": {
             "fillmode": "overlay",
             "size": 10,
             "solidity": 0.2
            },
            "type": "scatter"
           }
          ],
          "scatter3d": [
           {
            "line": {
             "colorbar": {
              "outlinewidth": 0,
              "ticks": ""
             }
            },
            "marker": {
             "colorbar": {
              "outlinewidth": 0,
              "ticks": ""
             }
            },
            "type": "scatter3d"
           }
          ],
          "scattercarpet": [
           {
            "marker": {
             "colorbar": {
              "outlinewidth": 0,
              "ticks": ""
             }
            },
            "type": "scattercarpet"
           }
          ],
          "scattergeo": [
           {
            "marker": {
             "colorbar": {
              "outlinewidth": 0,
              "ticks": ""
             }
            },
            "type": "scattergeo"
           }
          ],
          "scattergl": [
           {
            "marker": {
             "colorbar": {
              "outlinewidth": 0,
              "ticks": ""
             }
            },
            "type": "scattergl"
           }
          ],
          "scattermapbox": [
           {
            "marker": {
             "colorbar": {
              "outlinewidth": 0,
              "ticks": ""
             }
            },
            "type": "scattermapbox"
           }
          ],
          "scatterpolar": [
           {
            "marker": {
             "colorbar": {
              "outlinewidth": 0,
              "ticks": ""
             }
            },
            "type": "scatterpolar"
           }
          ],
          "scatterpolargl": [
           {
            "marker": {
             "colorbar": {
              "outlinewidth": 0,
              "ticks": ""
             }
            },
            "type": "scatterpolargl"
           }
          ],
          "scatterternary": [
           {
            "marker": {
             "colorbar": {
              "outlinewidth": 0,
              "ticks": ""
             }
            },
            "type": "scatterternary"
           }
          ],
          "surface": [
           {
            "colorbar": {
             "outlinewidth": 0,
             "ticks": ""
            },
            "colorscale": [
             [
              0,
              "#0d0887"
             ],
             [
              0.1111111111111111,
              "#46039f"
             ],
             [
              0.2222222222222222,
              "#7201a8"
             ],
             [
              0.3333333333333333,
              "#9c179e"
             ],
             [
              0.4444444444444444,
              "#bd3786"
             ],
             [
              0.5555555555555556,
              "#d8576b"
             ],
             [
              0.6666666666666666,
              "#ed7953"
             ],
             [
              0.7777777777777778,
              "#fb9f3a"
             ],
             [
              0.8888888888888888,
              "#fdca26"
             ],
             [
              1,
              "#f0f921"
             ]
            ],
            "type": "surface"
           }
          ],
          "table": [
           {
            "cells": {
             "fill": {
              "color": "#EBF0F8"
             },
             "line": {
              "color": "white"
             }
            },
            "header": {
             "fill": {
              "color": "#C8D4E3"
             },
             "line": {
              "color": "white"
             }
            },
            "type": "table"
           }
          ]
         },
         "layout": {
          "annotationdefaults": {
           "arrowcolor": "#2a3f5f",
           "arrowhead": 0,
           "arrowwidth": 1
          },
          "autotypenumbers": "strict",
          "coloraxis": {
           "colorbar": {
            "outlinewidth": 0,
            "ticks": ""
           }
          },
          "colorscale": {
           "diverging": [
            [
             0,
             "#8e0152"
            ],
            [
             0.1,
             "#c51b7d"
            ],
            [
             0.2,
             "#de77ae"
            ],
            [
             0.3,
             "#f1b6da"
            ],
            [
             0.4,
             "#fde0ef"
            ],
            [
             0.5,
             "#f7f7f7"
            ],
            [
             0.6,
             "#e6f5d0"
            ],
            [
             0.7,
             "#b8e186"
            ],
            [
             0.8,
             "#7fbc41"
            ],
            [
             0.9,
             "#4d9221"
            ],
            [
             1,
             "#276419"
            ]
           ],
           "sequential": [
            [
             0,
             "#0d0887"
            ],
            [
             0.1111111111111111,
             "#46039f"
            ],
            [
             0.2222222222222222,
             "#7201a8"
            ],
            [
             0.3333333333333333,
             "#9c179e"
            ],
            [
             0.4444444444444444,
             "#bd3786"
            ],
            [
             0.5555555555555556,
             "#d8576b"
            ],
            [
             0.6666666666666666,
             "#ed7953"
            ],
            [
             0.7777777777777778,
             "#fb9f3a"
            ],
            [
             0.8888888888888888,
             "#fdca26"
            ],
            [
             1,
             "#f0f921"
            ]
           ],
           "sequentialminus": [
            [
             0,
             "#0d0887"
            ],
            [
             0.1111111111111111,
             "#46039f"
            ],
            [
             0.2222222222222222,
             "#7201a8"
            ],
            [
             0.3333333333333333,
             "#9c179e"
            ],
            [
             0.4444444444444444,
             "#bd3786"
            ],
            [
             0.5555555555555556,
             "#d8576b"
            ],
            [
             0.6666666666666666,
             "#ed7953"
            ],
            [
             0.7777777777777778,
             "#fb9f3a"
            ],
            [
             0.8888888888888888,
             "#fdca26"
            ],
            [
             1,
             "#f0f921"
            ]
           ]
          },
          "colorway": [
           "#636efa",
           "#EF553B",
           "#00cc96",
           "#ab63fa",
           "#FFA15A",
           "#19d3f3",
           "#FF6692",
           "#B6E880",
           "#FF97FF",
           "#FECB52"
          ],
          "font": {
           "color": "#2a3f5f"
          },
          "geo": {
           "bgcolor": "white",
           "lakecolor": "white",
           "landcolor": "#E5ECF6",
           "showlakes": true,
           "showland": true,
           "subunitcolor": "white"
          },
          "hoverlabel": {
           "align": "left"
          },
          "hovermode": "closest",
          "mapbox": {
           "style": "light"
          },
          "paper_bgcolor": "white",
          "plot_bgcolor": "#E5ECF6",
          "polar": {
           "angularaxis": {
            "gridcolor": "white",
            "linecolor": "white",
            "ticks": ""
           },
           "bgcolor": "#E5ECF6",
           "radialaxis": {
            "gridcolor": "white",
            "linecolor": "white",
            "ticks": ""
           }
          },
          "scene": {
           "xaxis": {
            "backgroundcolor": "#E5ECF6",
            "gridcolor": "white",
            "gridwidth": 2,
            "linecolor": "white",
            "showbackground": true,
            "ticks": "",
            "zerolinecolor": "white"
           },
           "yaxis": {
            "backgroundcolor": "#E5ECF6",
            "gridcolor": "white",
            "gridwidth": 2,
            "linecolor": "white",
            "showbackground": true,
            "ticks": "",
            "zerolinecolor": "white"
           },
           "zaxis": {
            "backgroundcolor": "#E5ECF6",
            "gridcolor": "white",
            "gridwidth": 2,
            "linecolor": "white",
            "showbackground": true,
            "ticks": "",
            "zerolinecolor": "white"
           }
          },
          "shapedefaults": {
           "line": {
            "color": "#2a3f5f"
           }
          },
          "ternary": {
           "aaxis": {
            "gridcolor": "white",
            "linecolor": "white",
            "ticks": ""
           },
           "baxis": {
            "gridcolor": "white",
            "linecolor": "white",
            "ticks": ""
           },
           "bgcolor": "#E5ECF6",
           "caxis": {
            "gridcolor": "white",
            "linecolor": "white",
            "ticks": ""
           }
          },
          "title": {
           "x": 0.05
          },
          "xaxis": {
           "automargin": true,
           "gridcolor": "white",
           "linecolor": "white",
           "ticks": "",
           "title": {
            "standoff": 15
           },
           "zerolinecolor": "white",
           "zerolinewidth": 2
          },
          "yaxis": {
           "automargin": true,
           "gridcolor": "white",
           "linecolor": "white",
           "ticks": "",
           "title": {
            "standoff": 15
           },
           "zerolinecolor": "white",
           "zerolinewidth": 2
          }
         }
        }
       }
      }
     },
     "metadata": {},
     "output_type": "display_data"
    }
   ],
   "source": [
    "fig = go.Figure()\n",
    "fig.add_trace(\n",
    "    go.Scatter(y=training_history.history['val_loss'],\n",
    "               mode='lines',\n",
    "               name='Validation loss'))\n",
    "fig.add_trace(\n",
    "    go.Scatter(y=training_history.history['loss'],\n",
    "               mode='lines',\n",
    "               name='Training loss'))\n"
   ]
  },
  {
   "cell_type": "markdown",
   "metadata": {},
   "source": [
    "### Evaluating the model"
   ]
  },
  {
   "cell_type": "code",
   "execution_count": 40,
   "metadata": {},
   "outputs": [
    {
     "name": "stdout",
     "output_type": "stream",
     "text": [
      "11/11 [==============================] - 0s 1ms/step - loss: 1.4371 - accuracy: 0.4116\n",
      "model loss: 1.4371325969696045\n",
      "model accuracy: 0.4115942120552063\n"
     ]
    }
   ],
   "source": [
    "loss, acc = model.evaluate(x=feature_extractor(x_test_to_array), y=y_test_to_array)\n",
    "print(\"model loss: {0}\".format(loss))\n",
    "print(\"model accuracy: {0}\".format(acc))"
   ]
  },
  {
   "cell_type": "code",
   "execution_count": 42,
   "metadata": {},
   "outputs": [
    {
     "name": "stdout",
     "output_type": "stream",
     "text": [
      "11/11 [==============================] - 0s 1ms/step\n"
     ]
    }
   ],
   "source": [
    "predictions = model.predict(feature_extractor(x_test_to_array))"
   ]
  },
  {
   "cell_type": "code",
   "execution_count": 43,
   "metadata": {},
   "outputs": [
    {
     "data": {
      "text/plain": [
       "['BCC', 'SEK', 'NEV', 'ACK', 'SCC', 'MEL']"
      ]
     },
     "execution_count": 43,
     "metadata": {},
     "output_type": "execute_result"
    }
   ],
   "source": [
    "classe_names = y_train.unique().tolist()\n",
    "classe_names"
   ]
  },
  {
   "cell_type": "code",
   "execution_count": 44,
   "metadata": {},
   "outputs": [],
   "source": [
    "predictions_categorical = list()\n",
    "for list_ar in predictions:\n",
    "    predictions_categorical.append(classe_names[np.argmax(list_ar)])"
   ]
  },
  {
   "cell_type": "code",
   "execution_count": 45,
   "metadata": {},
   "outputs": [
    {
     "data": {
      "text/plain": [
       "BCC    0.411594\n",
       "ACK    0.301449\n",
       "NEV    0.101449\n",
       "SEK    0.098551\n",
       "SCC    0.069565\n",
       "MEL    0.017391\n",
       "Name: diagnostic, dtype: float64"
      ]
     },
     "execution_count": 45,
     "metadata": {},
     "output_type": "execute_result"
    }
   ],
   "source": [
    "y_test.value_counts(True)"
   ]
  },
  {
   "cell_type": "code",
   "execution_count": 46,
   "metadata": {},
   "outputs": [
    {
     "data": {
      "text/plain": [
       "BCC    1.0\n",
       "dtype: float64"
      ]
     },
     "execution_count": 46,
     "metadata": {},
     "output_type": "execute_result"
    }
   ],
   "source": [
    "pd.Series(predictions_categorical).value_counts(True)"
   ]
  },
  {
   "cell_type": "code",
   "execution_count": null,
   "metadata": {},
   "outputs": [],
   "source": []
  }
 ],
 "metadata": {
  "kernelspec": {
   "display_name": "Python 3.10.4 64-bit",
   "language": "python",
   "name": "python3"
  },
  "language_info": {
   "codemirror_mode": {
    "name": "ipython",
    "version": 3
   },
   "file_extension": ".py",
   "mimetype": "text/x-python",
   "name": "python",
   "nbconvert_exporter": "python",
   "pygments_lexer": "ipython3",
   "version": "3.8.10"
  },
  "orig_nbformat": 4,
  "vscode": {
   "interpreter": {
    "hash": "916dbcbb3f70747c44a77c7bcd40155683ae19c65e1c03b4aa3499c5328201f1"
   }
  }
 },
 "nbformat": 4,
 "nbformat_minor": 2
}
