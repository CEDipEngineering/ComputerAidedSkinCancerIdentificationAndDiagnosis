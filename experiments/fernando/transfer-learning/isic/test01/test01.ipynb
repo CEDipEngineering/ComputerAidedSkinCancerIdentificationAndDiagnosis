{
 "cells": [
  {
   "cell_type": "markdown",
   "metadata": {},
   "source": [
    "### Libraries"
   ]
  },
  {
   "cell_type": "code",
   "execution_count": 1,
   "metadata": {},
   "outputs": [],
   "source": [
    "import pickle\n",
    "import os\n",
    "\n",
    "#basic\n",
    "import pandas as pd\n",
    "import numpy as np\n",
    "from PIL import Image\n",
    "import matplotlib.pyplot as plt\n",
    "\n",
    "#tensorflow and keras\n",
    "from tensorflow import keras\n",
    "from keras.preprocessing.image import ImageDataGenerator\n",
    "from tensorflow.keras.layers import Input, Dense, GlobalAveragePooling2D, Flatten, MaxPooling2D, Dropout, Resizing, Rescaling, RandomBrightness, RandomContrast, RandomCrop, RandomFlip, RandomRotation\n",
    "from keras.callbacks import ModelCheckpoint, EarlyStopping\n",
    "from keras import Model\n",
    "from keras.utils import load_img, img_to_array\n",
    "\n",
    "#sklearn\n",
    "from sklearn.model_selection import train_test_split\n",
    "from sklearn.preprocessing import OneHotEncoder\n",
    "\n",
    "#open cv\n",
    "import cv2 as cv\n",
    "\n",
    "\n",
    "from cascid.configs import config, pad_ufes\n",
    "from cascid import database\n",
    "\n",
    "# Local py script\n",
    "#from model import *"
   ]
  },
  {
   "cell_type": "markdown",
   "metadata": {},
   "source": [
    "### Globals"
   ]
  },
  {
   "cell_type": "code",
   "execution_count": 2,
   "metadata": {},
   "outputs": [],
   "source": [
    "FERNANDO_PATH = config.DATA_DIR / 'experiments' / 'fernando'\n",
    "FERNANDO_PATH.mkdir(exist_ok=True, parents=True)\n",
    "\n",
    "IMAGE_CACHE = FERNANDO_PATH / 'img_cache.pkl'\n",
    "FEATURES_FILE = FERNANDO_PATH / 'features.pkl'\n",
    "MODEL_PATH = FERNANDO_PATH / 'models' / 'deep_learning'\n",
    "IMDIR = pad_ufes.IMAGES_DIR # Can also be pad_ufes.IMAGES_DIR "
   ]
  },
  {
   "cell_type": "code",
   "execution_count": 3,
   "metadata": {},
   "outputs": [],
   "source": [
    "RANDOM_STATE = 42\n",
    "TRAIN_SIZE = 0.7\n",
    "VALIDATION_SIZE = 0.15\n",
    "TEST_SIZE = 0.15\n",
    "EPOCHS = 3000\n",
    "IMAGE_SHAPE = (64, 64, 3)\n",
    "BATCH_SIZE = 16"
   ]
  },
  {
   "cell_type": "markdown",
   "metadata": {},
   "source": [
    "### Load images"
   ]
  },
  {
   "cell_type": "code",
   "execution_count": 4,
   "metadata": {},
   "outputs": [],
   "source": [
    "def load_image(name: str):\n",
    "    pil_img = load_img(\n",
    "        str(IMDIR / name),\n",
    "        grayscale=False,\n",
    "        color_mode='rgb',\n",
    "        target_size=(IMAGE_SHAPE[0], IMAGE_SHAPE[1]),\n",
    "        interpolation='nearest',\n",
    "        keep_aspect_ratio=False\n",
    "    )\n",
    "\n",
    "    return img_to_array(pil_img, dtype=np.uint8)"
   ]
  },
  {
   "cell_type": "code",
   "execution_count": 5,
   "metadata": {},
   "outputs": [],
   "source": [
    "df = database.get_db()"
   ]
  },
  {
   "cell_type": "code",
   "execution_count": 6,
   "metadata": {},
   "outputs": [],
   "source": [
    "MulticlassEncoder = OneHotEncoder(sparse=False) # OHE for y encoding\n",
    "Y = MulticlassEncoder.fit_transform(df[[\"diagnostic\"]].to_numpy())\n",
    "x_train, x_test, y_train, y_test = train_test_split(df[\"img_id\"].to_numpy(), Y, test_size=0.2, random_state=RANDOM_STATE)\n",
    "x_train, x_valid, y_train, y_valid = train_test_split(x_train, y_train, test_size=0.2, random_state=RANDOM_STATE)"
   ]
  },
  {
   "cell_type": "code",
   "execution_count": 7,
   "metadata": {},
   "outputs": [],
   "source": [
    "reader = lambda img_path_list : np.array(list(map(load_image, img_path_list)))"
   ]
  },
  {
   "cell_type": "code",
   "execution_count": 8,
   "metadata": {},
   "outputs": [],
   "source": [
    "image_dict = {\n",
    "        \"train\": reader(x_train),\n",
    "        \"test\": reader(x_test),\n",
    "        \"valid\": reader(x_valid)\n",
    "    }"
   ]
  },
  {
   "cell_type": "code",
   "execution_count": 9,
   "metadata": {},
   "outputs": [
    {
     "name": "stdout",
     "output_type": "stream",
     "text": [
      "Read operations done, cache file available at /home/fernandofincatti/.cascid_data/experiments/fernando/img_cache.pkl\n"
     ]
    }
   ],
   "source": [
    "# Write image cache\n",
    "with open(IMAGE_CACHE, 'wb') as file:\n",
    "    pickle.dump(image_dict, file)\n",
    "print(\"Read operations done, cache file available at {}\".format(IMAGE_CACHE))"
   ]
  },
  {
   "cell_type": "code",
   "execution_count": 10,
   "metadata": {},
   "outputs": [],
   "source": [
    "# Return to original variables\n",
    "x_train = image_dict[\"train\"]\n",
    "x_test = image_dict[\"test\"]\n",
    "x_valid = image_dict[\"valid\"]"
   ]
  },
  {
   "cell_type": "markdown",
   "metadata": {},
   "source": [
    "### Model"
   ]
  },
  {
   "cell_type": "code",
   "execution_count": 11,
   "metadata": {},
   "outputs": [
    {
     "name": "stderr",
     "output_type": "stream",
     "text": [
      "2022-09-16 18:04:27.391785: I tensorflow/stream_executor/cuda/cuda_gpu_executor.cc:975] successful NUMA node read from SysFS had negative value (-1), but there must be at least one NUMA node, so returning NUMA node zero\n",
      "2022-09-16 18:04:27.396885: I tensorflow/stream_executor/cuda/cuda_gpu_executor.cc:975] successful NUMA node read from SysFS had negative value (-1), but there must be at least one NUMA node, so returning NUMA node zero\n",
      "2022-09-16 18:04:27.397036: I tensorflow/stream_executor/cuda/cuda_gpu_executor.cc:975] successful NUMA node read from SysFS had negative value (-1), but there must be at least one NUMA node, so returning NUMA node zero\n",
      "2022-09-16 18:04:27.398060: I tensorflow/core/platform/cpu_feature_guard.cc:193] This TensorFlow binary is optimized with oneAPI Deep Neural Network Library (oneDNN) to use the following CPU instructions in performance-critical operations:  AVX2 FMA\n",
      "To enable them in other operations, rebuild TensorFlow with the appropriate compiler flags.\n",
      "2022-09-16 18:04:27.398489: I tensorflow/stream_executor/cuda/cuda_gpu_executor.cc:975] successful NUMA node read from SysFS had negative value (-1), but there must be at least one NUMA node, so returning NUMA node zero\n",
      "2022-09-16 18:04:27.398632: I tensorflow/stream_executor/cuda/cuda_gpu_executor.cc:975] successful NUMA node read from SysFS had negative value (-1), but there must be at least one NUMA node, so returning NUMA node zero\n",
      "2022-09-16 18:04:27.398751: I tensorflow/stream_executor/cuda/cuda_gpu_executor.cc:975] successful NUMA node read from SysFS had negative value (-1), but there must be at least one NUMA node, so returning NUMA node zero\n",
      "2022-09-16 18:04:27.748253: I tensorflow/stream_executor/cuda/cuda_gpu_executor.cc:975] successful NUMA node read from SysFS had negative value (-1), but there must be at least one NUMA node, so returning NUMA node zero\n",
      "2022-09-16 18:04:27.748414: I tensorflow/stream_executor/cuda/cuda_gpu_executor.cc:975] successful NUMA node read from SysFS had negative value (-1), but there must be at least one NUMA node, so returning NUMA node zero\n",
      "2022-09-16 18:04:27.748525: I tensorflow/stream_executor/cuda/cuda_gpu_executor.cc:975] successful NUMA node read from SysFS had negative value (-1), but there must be at least one NUMA node, so returning NUMA node zero\n",
      "2022-09-16 18:04:27.748611: I tensorflow/core/common_runtime/gpu/gpu_device.cc:1532] Created device /job:localhost/replica:0/task:0/device:GPU:0 with 4092 MB memory:  -> device: 0, name: NVIDIA GeForce RTX 2060, pci bus id: 0000:01:00.0, compute capability: 7.5\n"
     ]
    }
   ],
   "source": [
    "input_layer = keras.Sequential([\n",
    "    Rescaling(1./255), # Rescale from 0 to 255 UINT8 to 0 to 1 float.\n",
    "])"
   ]
  },
  {
   "cell_type": "code",
   "execution_count": 12,
   "metadata": {},
   "outputs": [],
   "source": [
    "augmentor = keras.Sequential([\n",
    "    RandomBrightness(factor=(-0.3, 0.3), value_range=(0.0, 1.0), seed=RANDOM_STATE), # Randomly change brightness anywhere from -30% to +30%\n",
    "    RandomContrast(factor=0.5, seed=RANDOM_STATE), # Randomly change contrast anywhere from -30% to +30%\n",
    "    RandomFlip(mode=\"horizontal_and_vertical\", seed=RANDOM_STATE), # Randomly flip images either horizontally, vertically or both\n",
    "    RandomRotation(factor=(-0.3, 0.3), fill_mode=\"nearest\", interpolation=\"bilinear\", seed=RANDOM_STATE), # Randomly rotate anywhere from -30% * 2PI to +30% * 2PI, filling gaps by using 'nearest' strategy\n",
    "])"
   ]
  },
  {
   "cell_type": "code",
   "execution_count": 13,
   "metadata": {},
   "outputs": [],
   "source": [
    "resnet = keras.applications.ResNet50(\n",
    "    weights='imagenet',\n",
    "    input_shape=IMAGE_SHAPE,\n",
    "    pooling='avg',\n",
    "    include_top=False\n",
    ")"
   ]
  },
  {
   "cell_type": "code",
   "execution_count": 14,
   "metadata": {},
   "outputs": [],
   "source": [
    "resnet.trainable = False  #to make sure it's not being trained\n",
    "# Augmentation only on training\n",
    "feature_extractor_train = keras.Sequential([\n",
    "    input_layer,\n",
    "    augmentor,\n",
    "    resnet\n",
    "])"
   ]
  },
  {
   "cell_type": "code",
   "execution_count": 15,
   "metadata": {},
   "outputs": [],
   "source": [
    "# Test/Validation only get rescaled\n",
    "feature_extractor_test_valid = keras.Sequential([\n",
    "    input_layer,\n",
    "    resnet\n",
    "])"
   ]
  },
  {
   "cell_type": "code",
   "execution_count": 16,
   "metadata": {},
   "outputs": [
    {
     "name": "stderr",
     "output_type": "stream",
     "text": [
      "2022-09-16 18:04:30.808045: I tensorflow/stream_executor/cuda/cuda_dnn.cc:384] Loaded cuDNN version 8101\n"
     ]
    }
   ],
   "source": [
    "features_train = feature_extractor_train(x_train)\n",
    "features_valid = feature_extractor_test_valid(x_valid)\n",
    "features_test = feature_extractor_test_valid(x_test)"
   ]
  },
  {
   "cell_type": "code",
   "execution_count": 17,
   "metadata": {},
   "outputs": [],
   "source": [
    "features = {\n",
    "        \"train\": features_train.numpy(),\n",
    "        \"test\": features_test.numpy(),\n",
    "        \"valid\": features_valid.numpy(),\n",
    "        \"y_train\": y_train,\n",
    "        \"y_test\": y_test,\n",
    "        \"y_valid\": y_valid,\n",
    "    }"
   ]
  },
  {
   "cell_type": "code",
   "execution_count": 18,
   "metadata": {},
   "outputs": [],
   "source": [
    "with open(FEATURES_FILE, 'wb') as file:\n",
    "        pickle.dump(features, file)"
   ]
  },
  {
   "cell_type": "markdown",
   "metadata": {},
   "source": [
    "### Training"
   ]
  },
  {
   "cell_type": "code",
   "execution_count": 19,
   "metadata": {},
   "outputs": [],
   "source": [
    "with open(FEATURES_FILE, 'rb') as file:\n",
    "        features = pickle.load(file)"
   ]
  },
  {
   "cell_type": "code",
   "execution_count": 20,
   "metadata": {},
   "outputs": [],
   "source": [
    "x_train = features[\"train\"]\n",
    "x_test = features[\"test\"]\n",
    "x_valid = features[\"valid\"]\n",
    "y_train = features[\"y_train\"]\n",
    "y_test = features[\"y_test\"]\n",
    "y_valid = features[\"y_valid\"]"
   ]
  },
  {
   "cell_type": "code",
   "execution_count": 21,
   "metadata": {},
   "outputs": [],
   "source": [
    "model = keras.Sequential([\n",
    "    Input(shape = features[\"train\"].shape[1]),\n",
    "    Dense(128, activation='relu'),\n",
    "    Dropout(0.1),\n",
    "    Dense(128),\n",
    "    Dropout(0.1),\n",
    "    Dense(64),\n",
    "    Dropout(0.1),\n",
    "    Dense(y_train.shape[1], activation='softmax')\n",
    "])"
   ]
  },
  {
   "cell_type": "code",
   "execution_count": 22,
   "metadata": {},
   "outputs": [],
   "source": [
    "model.compile(optimizer='adam',\n",
    "    loss='categorical_crossentropy',\n",
    "    metrics=['accuracy'])"
   ]
  },
  {
   "cell_type": "code",
   "execution_count": 23,
   "metadata": {},
   "outputs": [],
   "source": [
    "early_stopping = EarlyStopping(\n",
    "    monitor='val_accuracy',\n",
    "    mode='max',\n",
    "    verbose=1,\n",
    "    patience=100,\n",
    "    restore_best_weights=True\n",
    ")"
   ]
  },
  {
   "cell_type": "code",
   "execution_count": 24,
   "metadata": {},
   "outputs": [
    {
     "name": "stdout",
     "output_type": "stream",
     "text": [
      "Epoch 1/3000\n",
      "74/74 [==============================] - 1s 3ms/step - loss: 1.5674 - accuracy: 0.3427 - val_loss: 1.4848 - val_accuracy: 0.3605\n",
      "Epoch 2/3000\n",
      "74/74 [==============================] - 0s 2ms/step - loss: 1.5168 - accuracy: 0.3520 - val_loss: 1.4825 - val_accuracy: 0.3605\n",
      "Epoch 3/3000\n",
      "74/74 [==============================] - 0s 2ms/step - loss: 1.5261 - accuracy: 0.3529 - val_loss: 1.4885 - val_accuracy: 0.3435\n",
      "Epoch 4/3000\n",
      "74/74 [==============================] - 0s 2ms/step - loss: 1.5138 - accuracy: 0.3622 - val_loss: 1.5681 - val_accuracy: 0.3435\n",
      "Epoch 5/3000\n",
      "74/74 [==============================] - 0s 2ms/step - loss: 1.5128 - accuracy: 0.3750 - val_loss: 1.4744 - val_accuracy: 0.3435\n",
      "Epoch 6/3000\n",
      "74/74 [==============================] - 0s 2ms/step - loss: 1.4921 - accuracy: 0.3605 - val_loss: 1.4736 - val_accuracy: 0.3435\n",
      "Epoch 7/3000\n",
      "74/74 [==============================] - 0s 2ms/step - loss: 1.4890 - accuracy: 0.3759 - val_loss: 1.4703 - val_accuracy: 0.3435\n",
      "Epoch 8/3000\n",
      "74/74 [==============================] - 0s 2ms/step - loss: 1.4940 - accuracy: 0.3673 - val_loss: 1.4699 - val_accuracy: 0.3435\n",
      "Epoch 9/3000\n",
      "74/74 [==============================] - 0s 2ms/step - loss: 1.4903 - accuracy: 0.3469 - val_loss: 1.4741 - val_accuracy: 0.3435\n",
      "Epoch 10/3000\n",
      "74/74 [==============================] - 0s 2ms/step - loss: 1.4922 - accuracy: 0.3776 - val_loss: 1.4720 - val_accuracy: 0.3435\n",
      "Epoch 11/3000\n",
      "74/74 [==============================] - 0s 2ms/step - loss: 1.4895 - accuracy: 0.3690 - val_loss: 1.4746 - val_accuracy: 0.3435\n",
      "Epoch 12/3000\n",
      "74/74 [==============================] - 0s 2ms/step - loss: 1.4925 - accuracy: 0.3682 - val_loss: 1.4757 - val_accuracy: 0.3435\n",
      "Epoch 13/3000\n",
      "74/74 [==============================] - 0s 2ms/step - loss: 1.4928 - accuracy: 0.3699 - val_loss: 1.4688 - val_accuracy: 0.3605\n",
      "Epoch 14/3000\n",
      "74/74 [==============================] - 0s 2ms/step - loss: 1.4892 - accuracy: 0.3665 - val_loss: 1.4799 - val_accuracy: 0.3435\n",
      "Epoch 15/3000\n",
      "74/74 [==============================] - 0s 2ms/step - loss: 1.4876 - accuracy: 0.3724 - val_loss: 1.4713 - val_accuracy: 0.3435\n",
      "Epoch 16/3000\n",
      "74/74 [==============================] - 0s 2ms/step - loss: 1.4919 - accuracy: 0.3724 - val_loss: 1.4706 - val_accuracy: 0.3435\n",
      "Epoch 17/3000\n",
      "74/74 [==============================] - 0s 2ms/step - loss: 1.4900 - accuracy: 0.3580 - val_loss: 1.4744 - val_accuracy: 0.3435\n",
      "Epoch 18/3000\n",
      "74/74 [==============================] - 0s 2ms/step - loss: 1.4896 - accuracy: 0.3707 - val_loss: 1.4760 - val_accuracy: 0.3435\n",
      "Epoch 19/3000\n",
      "74/74 [==============================] - 0s 2ms/step - loss: 1.4869 - accuracy: 0.3750 - val_loss: 1.4678 - val_accuracy: 0.3605\n",
      "Epoch 20/3000\n",
      "74/74 [==============================] - 0s 2ms/step - loss: 1.4915 - accuracy: 0.3690 - val_loss: 1.4729 - val_accuracy: 0.3435\n",
      "Epoch 21/3000\n",
      "74/74 [==============================] - 0s 2ms/step - loss: 1.4914 - accuracy: 0.3733 - val_loss: 1.4704 - val_accuracy: 0.3435\n",
      "Epoch 22/3000\n",
      "74/74 [==============================] - 0s 2ms/step - loss: 1.4894 - accuracy: 0.3801 - val_loss: 1.4731 - val_accuracy: 0.3435\n",
      "Epoch 23/3000\n",
      "74/74 [==============================] - 0s 2ms/step - loss: 1.4930 - accuracy: 0.3707 - val_loss: 1.4682 - val_accuracy: 0.3605\n",
      "Epoch 24/3000\n",
      "74/74 [==============================] - 0s 2ms/step - loss: 1.4929 - accuracy: 0.3614 - val_loss: 1.4701 - val_accuracy: 0.3435\n",
      "Epoch 25/3000\n",
      "74/74 [==============================] - 0s 2ms/step - loss: 1.4848 - accuracy: 0.3622 - val_loss: 1.4796 - val_accuracy: 0.3435\n",
      "Epoch 26/3000\n",
      "74/74 [==============================] - 0s 2ms/step - loss: 1.4908 - accuracy: 0.3741 - val_loss: 1.4760 - val_accuracy: 0.3435\n",
      "Epoch 27/3000\n",
      "74/74 [==============================] - 0s 2ms/step - loss: 1.4875 - accuracy: 0.3750 - val_loss: 1.4747 - val_accuracy: 0.3435\n",
      "Epoch 28/3000\n",
      "74/74 [==============================] - 0s 2ms/step - loss: 1.4885 - accuracy: 0.3716 - val_loss: 1.4727 - val_accuracy: 0.3435\n",
      "Epoch 29/3000\n",
      "74/74 [==============================] - 0s 2ms/step - loss: 1.4897 - accuracy: 0.3793 - val_loss: 1.4783 - val_accuracy: 0.3435\n",
      "Epoch 30/3000\n",
      "74/74 [==============================] - 0s 2ms/step - loss: 1.4877 - accuracy: 0.3656 - val_loss: 1.4711 - val_accuracy: 0.3435\n",
      "Epoch 31/3000\n",
      "74/74 [==============================] - 0s 2ms/step - loss: 1.4965 - accuracy: 0.3716 - val_loss: 1.4756 - val_accuracy: 0.3435\n",
      "Epoch 32/3000\n",
      "74/74 [==============================] - 0s 2ms/step - loss: 1.4887 - accuracy: 0.3699 - val_loss: 1.4749 - val_accuracy: 0.3435\n",
      "Epoch 33/3000\n",
      "74/74 [==============================] - 0s 2ms/step - loss: 1.4878 - accuracy: 0.3759 - val_loss: 1.4764 - val_accuracy: 0.3435\n",
      "Epoch 34/3000\n",
      "74/74 [==============================] - 0s 2ms/step - loss: 1.4906 - accuracy: 0.3614 - val_loss: 1.4690 - val_accuracy: 0.3605\n",
      "Epoch 35/3000\n",
      "74/74 [==============================] - 0s 2ms/step - loss: 1.4901 - accuracy: 0.3580 - val_loss: 1.4736 - val_accuracy: 0.3435\n",
      "Epoch 36/3000\n",
      "74/74 [==============================] - 0s 2ms/step - loss: 1.4916 - accuracy: 0.3733 - val_loss: 1.4722 - val_accuracy: 0.3435\n",
      "Epoch 37/3000\n",
      "74/74 [==============================] - 0s 2ms/step - loss: 1.4892 - accuracy: 0.3733 - val_loss: 1.4754 - val_accuracy: 0.3435\n",
      "Epoch 38/3000\n",
      "74/74 [==============================] - 0s 2ms/step - loss: 1.4913 - accuracy: 0.3750 - val_loss: 1.4737 - val_accuracy: 0.3435\n",
      "Epoch 39/3000\n",
      "74/74 [==============================] - 0s 2ms/step - loss: 1.4908 - accuracy: 0.3750 - val_loss: 1.4743 - val_accuracy: 0.3435\n",
      "Epoch 40/3000\n",
      "74/74 [==============================] - 0s 2ms/step - loss: 1.4877 - accuracy: 0.3750 - val_loss: 1.4737 - val_accuracy: 0.3435\n",
      "Epoch 41/3000\n",
      "74/74 [==============================] - 0s 3ms/step - loss: 1.4893 - accuracy: 0.3724 - val_loss: 1.4764 - val_accuracy: 0.3435\n",
      "Epoch 42/3000\n",
      "74/74 [==============================] - 0s 3ms/step - loss: 1.4890 - accuracy: 0.3741 - val_loss: 1.4704 - val_accuracy: 0.3435\n",
      "Epoch 43/3000\n",
      "74/74 [==============================] - 0s 2ms/step - loss: 1.4895 - accuracy: 0.3767 - val_loss: 1.4708 - val_accuracy: 0.3435\n",
      "Epoch 44/3000\n",
      "74/74 [==============================] - 0s 2ms/step - loss: 1.4907 - accuracy: 0.3750 - val_loss: 1.4715 - val_accuracy: 0.3435\n",
      "Epoch 45/3000\n",
      "74/74 [==============================] - 0s 2ms/step - loss: 1.4888 - accuracy: 0.3750 - val_loss: 1.4754 - val_accuracy: 0.3435\n",
      "Epoch 46/3000\n",
      "74/74 [==============================] - 0s 2ms/step - loss: 1.4911 - accuracy: 0.3750 - val_loss: 1.4727 - val_accuracy: 0.3435\n",
      "Epoch 47/3000\n",
      "74/74 [==============================] - 0s 2ms/step - loss: 1.4898 - accuracy: 0.3716 - val_loss: 1.4751 - val_accuracy: 0.3435\n",
      "Epoch 48/3000\n",
      "74/74 [==============================] - 0s 2ms/step - loss: 1.4881 - accuracy: 0.3707 - val_loss: 1.4807 - val_accuracy: 0.3435\n",
      "Epoch 49/3000\n",
      "74/74 [==============================] - 0s 2ms/step - loss: 1.4903 - accuracy: 0.3750 - val_loss: 1.4700 - val_accuracy: 0.3435\n",
      "Epoch 50/3000\n",
      "74/74 [==============================] - 0s 2ms/step - loss: 1.4883 - accuracy: 0.3724 - val_loss: 1.4728 - val_accuracy: 0.3435\n",
      "Epoch 51/3000\n",
      "74/74 [==============================] - 0s 2ms/step - loss: 1.4928 - accuracy: 0.3750 - val_loss: 1.4717 - val_accuracy: 0.3435\n",
      "Epoch 52/3000\n",
      "74/74 [==============================] - 0s 2ms/step - loss: 1.4915 - accuracy: 0.3759 - val_loss: 1.4722 - val_accuracy: 0.3435\n",
      "Epoch 53/3000\n",
      "74/74 [==============================] - 0s 2ms/step - loss: 1.4887 - accuracy: 0.3741 - val_loss: 1.4717 - val_accuracy: 0.3435\n",
      "Epoch 54/3000\n",
      "74/74 [==============================] - 0s 2ms/step - loss: 1.4868 - accuracy: 0.3750 - val_loss: 1.4757 - val_accuracy: 0.3435\n",
      "Epoch 55/3000\n",
      "74/74 [==============================] - 0s 2ms/step - loss: 1.4910 - accuracy: 0.3733 - val_loss: 1.4741 - val_accuracy: 0.3435\n",
      "Epoch 56/3000\n",
      "74/74 [==============================] - 0s 2ms/step - loss: 1.4887 - accuracy: 0.3759 - val_loss: 1.4700 - val_accuracy: 0.3435\n",
      "Epoch 57/3000\n",
      "74/74 [==============================] - 0s 2ms/step - loss: 1.4879 - accuracy: 0.3767 - val_loss: 1.4758 - val_accuracy: 0.3435\n",
      "Epoch 58/3000\n",
      "74/74 [==============================] - 0s 2ms/step - loss: 1.4900 - accuracy: 0.3741 - val_loss: 1.4742 - val_accuracy: 0.3435\n",
      "Epoch 59/3000\n",
      "74/74 [==============================] - 0s 2ms/step - loss: 1.4897 - accuracy: 0.3750 - val_loss: 1.4712 - val_accuracy: 0.3435\n",
      "Epoch 60/3000\n",
      "74/74 [==============================] - 0s 2ms/step - loss: 1.4856 - accuracy: 0.3699 - val_loss: 1.4763 - val_accuracy: 0.3435\n",
      "Epoch 61/3000\n",
      "74/74 [==============================] - 0s 2ms/step - loss: 1.4894 - accuracy: 0.3741 - val_loss: 1.4769 - val_accuracy: 0.3435\n",
      "Epoch 62/3000\n",
      "74/74 [==============================] - 0s 2ms/step - loss: 1.4879 - accuracy: 0.3741 - val_loss: 1.4716 - val_accuracy: 0.3435\n",
      "Epoch 63/3000\n",
      "74/74 [==============================] - 0s 2ms/step - loss: 1.4876 - accuracy: 0.3716 - val_loss: 1.4739 - val_accuracy: 0.3435\n",
      "Epoch 64/3000\n",
      "74/74 [==============================] - 0s 2ms/step - loss: 1.4886 - accuracy: 0.3741 - val_loss: 1.4761 - val_accuracy: 0.3435\n",
      "Epoch 65/3000\n",
      "74/74 [==============================] - 0s 2ms/step - loss: 1.4878 - accuracy: 0.3767 - val_loss: 1.4701 - val_accuracy: 0.3435\n",
      "Epoch 66/3000\n",
      "74/74 [==============================] - 0s 3ms/step - loss: 1.4861 - accuracy: 0.3733 - val_loss: 1.4730 - val_accuracy: 0.3435\n",
      "Epoch 67/3000\n",
      "74/74 [==============================] - 0s 3ms/step - loss: 1.4877 - accuracy: 0.3741 - val_loss: 1.4733 - val_accuracy: 0.3435\n",
      "Epoch 68/3000\n",
      "74/74 [==============================] - 0s 2ms/step - loss: 1.4911 - accuracy: 0.3776 - val_loss: 1.4713 - val_accuracy: 0.3435\n",
      "Epoch 69/3000\n",
      "74/74 [==============================] - 0s 2ms/step - loss: 1.4881 - accuracy: 0.3759 - val_loss: 1.4745 - val_accuracy: 0.3435\n",
      "Epoch 70/3000\n",
      "74/74 [==============================] - 0s 2ms/step - loss: 1.4897 - accuracy: 0.3741 - val_loss: 1.4725 - val_accuracy: 0.3435\n",
      "Epoch 71/3000\n",
      "74/74 [==============================] - 0s 2ms/step - loss: 1.4878 - accuracy: 0.3741 - val_loss: 1.4718 - val_accuracy: 0.3435\n",
      "Epoch 72/3000\n",
      "74/74 [==============================] - 0s 2ms/step - loss: 1.4867 - accuracy: 0.3759 - val_loss: 1.4763 - val_accuracy: 0.3435\n",
      "Epoch 73/3000\n",
      "74/74 [==============================] - 0s 2ms/step - loss: 1.4867 - accuracy: 0.3741 - val_loss: 1.4726 - val_accuracy: 0.3435\n",
      "Epoch 74/3000\n",
      "74/74 [==============================] - 0s 2ms/step - loss: 1.4875 - accuracy: 0.3741 - val_loss: 1.4715 - val_accuracy: 0.3435\n",
      "Epoch 75/3000\n",
      "74/74 [==============================] - 0s 2ms/step - loss: 1.4882 - accuracy: 0.3724 - val_loss: 1.4713 - val_accuracy: 0.3435\n",
      "Epoch 76/3000\n",
      "74/74 [==============================] - 0s 2ms/step - loss: 1.4883 - accuracy: 0.3741 - val_loss: 1.4721 - val_accuracy: 0.3435\n",
      "Epoch 77/3000\n",
      "74/74 [==============================] - 0s 2ms/step - loss: 1.4889 - accuracy: 0.3707 - val_loss: 1.4748 - val_accuracy: 0.3435\n",
      "Epoch 78/3000\n",
      "74/74 [==============================] - 0s 2ms/step - loss: 1.4905 - accuracy: 0.3741 - val_loss: 1.4734 - val_accuracy: 0.3435\n",
      "Epoch 79/3000\n",
      "74/74 [==============================] - 0s 2ms/step - loss: 1.4886 - accuracy: 0.3733 - val_loss: 1.4722 - val_accuracy: 0.3435\n",
      "Epoch 80/3000\n",
      "74/74 [==============================] - 0s 2ms/step - loss: 1.4879 - accuracy: 0.3741 - val_loss: 1.4740 - val_accuracy: 0.3435\n",
      "Epoch 81/3000\n",
      "74/74 [==============================] - 0s 2ms/step - loss: 1.4903 - accuracy: 0.3741 - val_loss: 1.4733 - val_accuracy: 0.3435\n",
      "Epoch 82/3000\n",
      "74/74 [==============================] - 0s 3ms/step - loss: 1.4883 - accuracy: 0.3733 - val_loss: 1.4732 - val_accuracy: 0.3435\n",
      "Epoch 83/3000\n",
      "74/74 [==============================] - 0s 2ms/step - loss: 1.4881 - accuracy: 0.3733 - val_loss: 1.4712 - val_accuracy: 0.3435\n",
      "Epoch 84/3000\n",
      "74/74 [==============================] - 0s 2ms/step - loss: 1.4858 - accuracy: 0.3724 - val_loss: 1.4723 - val_accuracy: 0.3435\n",
      "Epoch 85/3000\n",
      "74/74 [==============================] - 0s 2ms/step - loss: 1.4892 - accuracy: 0.3741 - val_loss: 1.4715 - val_accuracy: 0.3435\n",
      "Epoch 86/3000\n",
      "74/74 [==============================] - 0s 2ms/step - loss: 1.4886 - accuracy: 0.3724 - val_loss: 1.4729 - val_accuracy: 0.3435\n",
      "Epoch 87/3000\n",
      "74/74 [==============================] - 0s 2ms/step - loss: 1.4884 - accuracy: 0.3741 - val_loss: 1.4759 - val_accuracy: 0.3435\n",
      "Epoch 88/3000\n",
      "74/74 [==============================] - 0s 2ms/step - loss: 1.4876 - accuracy: 0.3741 - val_loss: 1.4720 - val_accuracy: 0.3435\n",
      "Epoch 89/3000\n",
      "74/74 [==============================] - 0s 2ms/step - loss: 1.4879 - accuracy: 0.3699 - val_loss: 1.4744 - val_accuracy: 0.3435\n",
      "Epoch 90/3000\n",
      "74/74 [==============================] - 0s 2ms/step - loss: 1.4891 - accuracy: 0.3741 - val_loss: 1.4735 - val_accuracy: 0.3435\n",
      "Epoch 91/3000\n",
      "74/74 [==============================] - 0s 2ms/step - loss: 1.4888 - accuracy: 0.3750 - val_loss: 1.4697 - val_accuracy: 0.3435\n",
      "Epoch 92/3000\n",
      "74/74 [==============================] - 0s 2ms/step - loss: 1.4902 - accuracy: 0.3750 - val_loss: 1.4719 - val_accuracy: 0.3435\n",
      "Epoch 93/3000\n",
      "74/74 [==============================] - 0s 2ms/step - loss: 1.4870 - accuracy: 0.3741 - val_loss: 1.4713 - val_accuracy: 0.3435\n",
      "Epoch 94/3000\n",
      "74/74 [==============================] - 0s 2ms/step - loss: 1.4855 - accuracy: 0.3741 - val_loss: 1.4724 - val_accuracy: 0.3435\n",
      "Epoch 95/3000\n",
      "74/74 [==============================] - 0s 2ms/step - loss: 1.4883 - accuracy: 0.3741 - val_loss: 1.4734 - val_accuracy: 0.3435\n",
      "Epoch 96/3000\n",
      "74/74 [==============================] - 0s 2ms/step - loss: 1.4888 - accuracy: 0.3741 - val_loss: 1.4715 - val_accuracy: 0.3435\n",
      "Epoch 97/3000\n",
      "74/74 [==============================] - 0s 2ms/step - loss: 1.4875 - accuracy: 0.3741 - val_loss: 1.4732 - val_accuracy: 0.3435\n",
      "Epoch 98/3000\n",
      "74/74 [==============================] - 0s 2ms/step - loss: 1.4858 - accuracy: 0.3750 - val_loss: 1.4752 - val_accuracy: 0.3435\n",
      "Epoch 99/3000\n",
      "74/74 [==============================] - 0s 2ms/step - loss: 1.4876 - accuracy: 0.3741 - val_loss: 1.4743 - val_accuracy: 0.3435\n",
      "Epoch 100/3000\n",
      "74/74 [==============================] - 0s 2ms/step - loss: 1.4879 - accuracy: 0.3741 - val_loss: 1.4742 - val_accuracy: 0.3435\n",
      "Epoch 101/3000\n",
      "59/74 [======================>.......] - ETA: 0s - loss: 1.5073 - accuracy: 0.3655Restoring model weights from the end of the best epoch: 1.\n",
      "74/74 [==============================] - 0s 2ms/step - loss: 1.4861 - accuracy: 0.3741 - val_loss: 1.4719 - val_accuracy: 0.3435\n",
      "Epoch 101: early stopping\n"
     ]
    }
   ],
   "source": [
    "training_history = model.fit(\n",
    "    features[\"train\"],\n",
    "    y_train,\n",
    "    epochs=EPOCHS,\n",
    "    validation_split=0.2,\n",
    "    batch_size=BATCH_SIZE,\n",
    "    callbacks=[early_stopping]\n",
    ")\n"
   ]
  },
  {
   "cell_type": "code",
   "execution_count": 25,
   "metadata": {},
   "outputs": [
    {
     "name": "stdout",
     "output_type": "stream",
     "text": [
      "INFO:tensorflow:Assets written to: /home/fernandofincatti/.cascid_data/experiments/fernando/models/deep_learning/assets\n"
     ]
    }
   ],
   "source": [
    "model.save(MODEL_PATH)"
   ]
  },
  {
   "cell_type": "code",
   "execution_count": 26,
   "metadata": {},
   "outputs": [],
   "source": [
    "with open(MODEL_PATH / 'history.pkl', 'wb') as fl:\n",
    "    pickle.dump(training_history.history, fl)\n",
    "training_history = training_history.history"
   ]
  },
  {
   "cell_type": "code",
   "execution_count": 27,
   "metadata": {},
   "outputs": [
    {
     "name": "stdout",
     "output_type": "stream",
     "text": [
      "15/15 [==============================] - 0s 1ms/step - loss: 1.5619 - accuracy: 0.2891\n"
     ]
    },
    {
     "data": {
      "text/plain": [
       "[1.5619410276412964, 0.28913044929504395]"
      ]
     },
     "execution_count": 27,
     "metadata": {},
     "output_type": "execute_result"
    }
   ],
   "source": [
    "model.evaluate(x=x_test, y=y_test)"
   ]
  },
  {
   "cell_type": "code",
   "execution_count": 36,
   "metadata": {},
   "outputs": [
    {
     "name": "stdout",
     "output_type": "stream",
     "text": [
      "15/15 [==============================] - 0s 785us/step\n"
     ]
    },
    {
     "data": {
      "text/plain": [
       "array([[0.39797878, 0.26922172, 0.0266172 , 0.09026791, 0.0829881 ,\n",
       "        0.13292632],\n",
       "       [0.39595297, 0.26885542, 0.02708264, 0.09102   , 0.08358371,\n",
       "        0.13350527],\n",
       "       [0.39716727, 0.26910025, 0.02678728, 0.09055118, 0.08323975,\n",
       "        0.13315426],\n",
       "       ...,\n",
       "       [0.39802122, 0.26923916, 0.02661093, 0.09024911, 0.08298463,\n",
       "        0.13289487],\n",
       "       [0.4035434 , 0.2702216 , 0.02540503, 0.08821656, 0.08140206,\n",
       "        0.13121133],\n",
       "       [0.39934292, 0.26944998, 0.02632866, 0.08977287, 0.08260016,\n",
       "        0.13250537]], dtype=float32)"
      ]
     },
     "execution_count": 36,
     "metadata": {},
     "output_type": "execute_result"
    }
   ],
   "source": []
  },
  {
   "cell_type": "code",
   "execution_count": 35,
   "metadata": {},
   "outputs": [
    {
     "data": {
      "text/plain": [
       "1    0.368027\n",
       "0    0.324490\n",
       "5    0.108844\n",
       "3    0.104762\n",
       "4    0.073469\n",
       "2    0.020408\n",
       "dtype: float64"
      ]
     },
     "execution_count": 35,
     "metadata": {},
     "output_type": "execute_result"
    }
   ],
   "source": [
    "pd.Series([np.argmax(l) for l in model.predict(x_test)]).value_counts(True)"
   ]
  },
  {
   "cell_type": "code",
   "execution_count": null,
   "metadata": {},
   "outputs": [],
   "source": []
  }
 ],
 "metadata": {
  "kernelspec": {
   "display_name": "Python 3.10.4 64-bit",
   "language": "python",
   "name": "python3"
  },
  "language_info": {
   "codemirror_mode": {
    "name": "ipython",
    "version": 3
   },
   "file_extension": ".py",
   "mimetype": "text/x-python",
   "name": "python",
   "nbconvert_exporter": "python",
   "pygments_lexer": "ipython3",
   "version": "3.10.4"
  },
  "orig_nbformat": 4,
  "vscode": {
   "interpreter": {
    "hash": "916dbcbb3f70747c44a77c7bcd40155683ae19c65e1c03b4aa3499c5328201f1"
   }
  }
 },
 "nbformat": 4,
 "nbformat_minor": 2
}
