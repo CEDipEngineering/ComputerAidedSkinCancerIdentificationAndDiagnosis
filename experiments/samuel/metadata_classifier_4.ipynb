{
 "cells": [
  {
   "cell_type": "code",
   "execution_count": 37,
   "metadata": {},
   "outputs": [],
   "source": [
    "%matplotlib inline\n",
    "\n",
    "import joblib\n",
    "import numpy as np\n",
    "import pandas as pd\n",
    "import seaborn as sns\n",
    "from sklearn import metrics\n",
    "import matplotlib.pyplot as plt\n",
    "from xgboost import XGBClassifier\n",
    "from sklearn.metrics import f1_score\n",
    "from sklearn.metrics import confusion_matrix\n",
    "from sklearn.preprocessing import OneHotEncoder\n",
    "from sklearn.preprocessing import OrdinalEncoder\n",
    "from sklearn.model_selection import GridSearchCV\n",
    "from sklearn.compose import make_column_transformer\n",
    "from sklearn.model_selection import cross_val_score\n",
    "from sklearn.ensemble import RandomForestClassifier\n",
    "from sklearn.linear_model import LogisticRegression\n",
    "from sklearn.model_selection import train_test_split\n",
    "from cascid.datasets.pad_ufes.database import get_train_test_metadata\n",
    "from cascid.configs.pad_ufes_cnf import PAD_UFES_DIR\n",
    "\n",
    "RANDOM_SEED = 42\n",
    "np.random.seed(RANDOM_SEED)\n"
   ]
  },
  {
   "cell_type": "markdown",
   "metadata": {},
   "source": [
    "# Functions"
   ]
  },
  {
   "cell_type": "code",
   "execution_count": 38,
   "metadata": {},
   "outputs": [],
   "source": [
    "def plot_confusion_matrix(y_true, y_pred, classes,\n",
    "                          normalize=True,\n",
    "                          title=None,\n",
    "                          cmap=plt.cm.Greens, save_to_file = False):\n",
    "    if not title:\n",
    "        if normalize:\n",
    "            title = 'Normalized confusion matrix'\n",
    "        else:\n",
    "            title = 'Confusion matrix, without normalization'\n",
    "\n",
    "    # Compute confusion matrix\n",
    "    cm = confusion_matrix(y_true, y_pred)\n",
    "    if normalize:\n",
    "        cm = cm.astype('float') / cm.sum(axis=1)[:, np.newaxis]\n",
    "        #print(\"Normalized confusion matrix\")\n",
    "    else:\n",
    "        print('Confusion matrix, without normalization')\n",
    "\n",
    "    #print(cm)\n",
    "\n",
    "    fig, ax = plt.subplots(figsize = (5,5))\n",
    "    im = ax.imshow(cm, interpolation='nearest', cmap=cmap)\n",
    "    # ax.figure.colorbar(im, ax=ax)\n",
    "    ax.set(xticks=np.arange(cm.shape[1]),\n",
    "           yticks=np.arange(cm.shape[0]),\n",
    "           xticklabels=sorted(classes), yticklabels=sorted(classes),\n",
    "           title=title,\n",
    "           ylabel='True label',\n",
    "           xlabel='Predicted label')\n",
    "\n",
    "    plt.setp(ax.get_xticklabels(), rotation=45, ha=\"right\",\n",
    "             rotation_mode=\"anchor\")\n",
    "\n",
    "    fmt = '.2f' if normalize else 'd'\n",
    "    thresh = cm.max() / 2.\n",
    "    for i in range(cm.shape[0]):\n",
    "        for j in range(cm.shape[1]):\n",
    "            ax.text(j, i, format(cm[i, j], fmt),\n",
    "                    ha=\"center\", va=\"center\",\n",
    "                    color=\"white\" if cm[i, j] > thresh else \"black\")\n",
    "    fig.tight_layout()\n",
    "    if save_to_file:\n",
    "        plt.savefig(title + '.png')\n",
    "    return ax"
   ]
  },
  {
   "cell_type": "markdown",
   "metadata": {},
   "source": [
    "# Data Exploration"
   ]
  },
  {
   "cell_type": "code",
   "execution_count": 39,
   "metadata": {},
   "outputs": [
    {
     "data": {
      "text/html": [
       "<div>\n",
       "<style scoped>\n",
       "    .dataframe tbody tr th:only-of-type {\n",
       "        vertical-align: middle;\n",
       "    }\n",
       "\n",
       "    .dataframe tbody tr th {\n",
       "        vertical-align: top;\n",
       "    }\n",
       "\n",
       "    .dataframe thead th {\n",
       "        text-align: right;\n",
       "    }\n",
       "</style>\n",
       "<table border=\"1\" class=\"dataframe\">\n",
       "  <thead>\n",
       "    <tr style=\"text-align: right;\">\n",
       "      <th></th>\n",
       "      <th>patient_id</th>\n",
       "      <th>smoke</th>\n",
       "      <th>drink</th>\n",
       "      <th>background_father</th>\n",
       "      <th>background_mother</th>\n",
       "      <th>age</th>\n",
       "      <th>pesticide</th>\n",
       "      <th>gender</th>\n",
       "      <th>skin_cancer_history</th>\n",
       "      <th>cancer_history</th>\n",
       "      <th>...</th>\n",
       "      <th>diameter_1</th>\n",
       "      <th>diameter_2</th>\n",
       "      <th>diagnostic</th>\n",
       "      <th>itch</th>\n",
       "      <th>grew</th>\n",
       "      <th>hurt</th>\n",
       "      <th>changed</th>\n",
       "      <th>bleed</th>\n",
       "      <th>elevation</th>\n",
       "      <th>biopsed</th>\n",
       "    </tr>\n",
       "  </thead>\n",
       "  <tbody>\n",
       "    <tr>\n",
       "      <th>0</th>\n",
       "      <td>PAT_1516</td>\n",
       "      <td>NaN</td>\n",
       "      <td>NaN</td>\n",
       "      <td>NaN</td>\n",
       "      <td>NaN</td>\n",
       "      <td>8</td>\n",
       "      <td>NaN</td>\n",
       "      <td>NaN</td>\n",
       "      <td>NaN</td>\n",
       "      <td>NaN</td>\n",
       "      <td>...</td>\n",
       "      <td>NaN</td>\n",
       "      <td>NaN</td>\n",
       "      <td>NEV</td>\n",
       "      <td>False</td>\n",
       "      <td>False</td>\n",
       "      <td>False</td>\n",
       "      <td>False</td>\n",
       "      <td>False</td>\n",
       "      <td>False</td>\n",
       "      <td>False</td>\n",
       "    </tr>\n",
       "    <tr>\n",
       "      <th>1</th>\n",
       "      <td>PAT_46</td>\n",
       "      <td>False</td>\n",
       "      <td>False</td>\n",
       "      <td>POMERANIA</td>\n",
       "      <td>POMERANIA</td>\n",
       "      <td>55</td>\n",
       "      <td>False</td>\n",
       "      <td>FEMALE</td>\n",
       "      <td>True</td>\n",
       "      <td>True</td>\n",
       "      <td>...</td>\n",
       "      <td>6.0</td>\n",
       "      <td>5.0</td>\n",
       "      <td>BCC</td>\n",
       "      <td>True</td>\n",
       "      <td>True</td>\n",
       "      <td>False</td>\n",
       "      <td>True</td>\n",
       "      <td>True</td>\n",
       "      <td>True</td>\n",
       "      <td>True</td>\n",
       "    </tr>\n",
       "    <tr>\n",
       "      <th>2</th>\n",
       "      <td>PAT_1545</td>\n",
       "      <td>NaN</td>\n",
       "      <td>NaN</td>\n",
       "      <td>NaN</td>\n",
       "      <td>NaN</td>\n",
       "      <td>77</td>\n",
       "      <td>NaN</td>\n",
       "      <td>NaN</td>\n",
       "      <td>NaN</td>\n",
       "      <td>NaN</td>\n",
       "      <td>...</td>\n",
       "      <td>NaN</td>\n",
       "      <td>NaN</td>\n",
       "      <td>ACK</td>\n",
       "      <td>True</td>\n",
       "      <td>False</td>\n",
       "      <td>False</td>\n",
       "      <td>False</td>\n",
       "      <td>False</td>\n",
       "      <td>False</td>\n",
       "      <td>False</td>\n",
       "    </tr>\n",
       "    <tr>\n",
       "      <th>3</th>\n",
       "      <td>PAT_1989</td>\n",
       "      <td>NaN</td>\n",
       "      <td>NaN</td>\n",
       "      <td>NaN</td>\n",
       "      <td>NaN</td>\n",
       "      <td>75</td>\n",
       "      <td>NaN</td>\n",
       "      <td>NaN</td>\n",
       "      <td>NaN</td>\n",
       "      <td>NaN</td>\n",
       "      <td>...</td>\n",
       "      <td>NaN</td>\n",
       "      <td>NaN</td>\n",
       "      <td>ACK</td>\n",
       "      <td>True</td>\n",
       "      <td>False</td>\n",
       "      <td>False</td>\n",
       "      <td>False</td>\n",
       "      <td>False</td>\n",
       "      <td>False</td>\n",
       "      <td>False</td>\n",
       "    </tr>\n",
       "    <tr>\n",
       "      <th>4</th>\n",
       "      <td>PAT_684</td>\n",
       "      <td>False</td>\n",
       "      <td>True</td>\n",
       "      <td>POMERANIA</td>\n",
       "      <td>POMERANIA</td>\n",
       "      <td>79</td>\n",
       "      <td>False</td>\n",
       "      <td>MALE</td>\n",
       "      <td>True</td>\n",
       "      <td>False</td>\n",
       "      <td>...</td>\n",
       "      <td>5.0</td>\n",
       "      <td>5.0</td>\n",
       "      <td>BCC</td>\n",
       "      <td>True</td>\n",
       "      <td>True</td>\n",
       "      <td>False</td>\n",
       "      <td>False</td>\n",
       "      <td>True</td>\n",
       "      <td>True</td>\n",
       "      <td>True</td>\n",
       "    </tr>\n",
       "  </tbody>\n",
       "</table>\n",
       "<p>5 rows × 24 columns</p>\n",
       "</div>"
      ],
      "text/plain": [
       "  patient_id  smoke  drink background_father background_mother  age pesticide  \\\n",
       "0   PAT_1516    NaN    NaN               NaN               NaN    8       NaN   \n",
       "1     PAT_46  False  False         POMERANIA         POMERANIA   55     False   \n",
       "2   PAT_1545    NaN    NaN               NaN               NaN   77       NaN   \n",
       "3   PAT_1989    NaN    NaN               NaN               NaN   75       NaN   \n",
       "4    PAT_684  False   True         POMERANIA         POMERANIA   79     False   \n",
       "\n",
       "   gender skin_cancer_history cancer_history  ... diameter_1 diameter_2  \\\n",
       "0     NaN                 NaN            NaN  ...        NaN        NaN   \n",
       "1  FEMALE                True           True  ...        6.0        5.0   \n",
       "2     NaN                 NaN            NaN  ...        NaN        NaN   \n",
       "3     NaN                 NaN            NaN  ...        NaN        NaN   \n",
       "4    MALE                True          False  ...        5.0        5.0   \n",
       "\n",
       "   diagnostic   itch   grew   hurt changed  bleed elevation biopsed  \n",
       "0         NEV  False  False  False   False  False     False   False  \n",
       "1         BCC   True   True  False    True   True      True    True  \n",
       "2         ACK   True  False  False   False  False     False   False  \n",
       "3         ACK   True  False  False   False  False     False   False  \n",
       "4         BCC   True   True  False   False   True      True    True  \n",
       "\n",
       "[5 rows x 24 columns]"
      ]
     },
     "execution_count": 39,
     "metadata": {},
     "output_type": "execute_result"
    }
   ],
   "source": [
    "database = pd.read_csv(r\"../../data/metadata.csv\")\n",
    "\n",
    "database = database.drop(['img_id','lesion_id'], axis=1)\n",
    "\n",
    "database.head()"
   ]
  },
  {
   "cell_type": "code",
   "execution_count": 40,
   "metadata": {},
   "outputs": [
    {
     "name": "stdout",
     "output_type": "stream",
     "text": [
      "<class 'pandas.core.frame.DataFrame'>\n",
      "RangeIndex: 2298 entries, 0 to 2297\n",
      "Data columns (total 24 columns):\n",
      " #   Column               Non-Null Count  Dtype  \n",
      "---  ------               --------------  -----  \n",
      " 0   patient_id           2298 non-null   object \n",
      " 1   smoke                2298 non-null   bool   \n",
      " 2   drink                2298 non-null   bool   \n",
      " 3   background_father    1480 non-null   object \n",
      " 4   background_mother    1476 non-null   object \n",
      " 5   age                  2298 non-null   int64  \n",
      " 6   pesticide            2298 non-null   bool   \n",
      " 7   gender               1494 non-null   object \n",
      " 8   skin_cancer_history  2298 non-null   bool   \n",
      " 9   cancer_history       2298 non-null   bool   \n",
      " 10  has_piped_water      2298 non-null   bool   \n",
      " 11  has_sewage_system    2298 non-null   bool   \n",
      " 12  fitspatrick          1494 non-null   float64\n",
      " 13  region               2298 non-null   object \n",
      " 14  diameter_1           1494 non-null   float64\n",
      " 15  diameter_2           1494 non-null   float64\n",
      " 16  diagnostic           2298 non-null   object \n",
      " 17  itch                 2298 non-null   bool   \n",
      " 18  grew                 2298 non-null   bool   \n",
      " 19  hurt                 2298 non-null   bool   \n",
      " 20  changed              2298 non-null   bool   \n",
      " 21  bleed                2298 non-null   bool   \n",
      " 22  elevation            2298 non-null   bool   \n",
      " 23  biopsed              2298 non-null   bool   \n",
      "dtypes: bool(14), float64(3), int64(1), object(6)\n",
      "memory usage: 211.1+ KB\n"
     ]
    }
   ],
   "source": [
    "database[['smoke','drink','pesticide','skin_cancer_history','cancer_history','has_piped_water','has_sewage_system','itch','grew','hurt','changed','bleed','elevation','biopsed']] = database[['smoke','drink','pesticide','skin_cancer_history','cancer_history','has_piped_water','has_sewage_system','itch','grew','hurt','changed','bleed','elevation','biopsed']].astype(\"bool\")\n",
    "\n",
    "database.info()"
   ]
  },
  {
   "cell_type": "code",
   "execution_count": 41,
   "metadata": {},
   "outputs": [
    {
     "name": "stdout",
     "output_type": "stream",
     "text": [
      "<class 'pandas.core.frame.DataFrame'>\n",
      "Int64Index: 1846 entries, 0 to 2297\n",
      "Data columns (total 24 columns):\n",
      " #   Column               Non-Null Count  Dtype  \n",
      "---  ------               --------------  -----  \n",
      " 0   patient_id           1846 non-null   object \n",
      " 1   smoke                1846 non-null   bool   \n",
      " 2   drink                1846 non-null   bool   \n",
      " 3   background_father    1159 non-null   object \n",
      " 4   background_mother    1155 non-null   object \n",
      " 5   age                  1846 non-null   int64  \n",
      " 6   pesticide            1846 non-null   bool   \n",
      " 7   gender               1169 non-null   object \n",
      " 8   skin_cancer_history  1846 non-null   bool   \n",
      " 9   cancer_history       1846 non-null   bool   \n",
      " 10  has_piped_water      1846 non-null   bool   \n",
      " 11  has_sewage_system    1846 non-null   bool   \n",
      " 12  fitspatrick          1169 non-null   float64\n",
      " 13  region               1846 non-null   object \n",
      " 14  diameter_1           1169 non-null   float64\n",
      " 15  diameter_2           1169 non-null   float64\n",
      " 16  diagnostic           1846 non-null   object \n",
      " 17  itch                 1846 non-null   bool   \n",
      " 18  grew                 1846 non-null   bool   \n",
      " 19  hurt                 1846 non-null   bool   \n",
      " 20  changed              1846 non-null   bool   \n",
      " 21  bleed                1846 non-null   bool   \n",
      " 22  elevation            1846 non-null   bool   \n",
      " 23  biopsed              1846 non-null   bool   \n",
      "dtypes: bool(14), float64(3), int64(1), object(6)\n",
      "memory usage: 183.9+ KB\n"
     ]
    }
   ],
   "source": [
    "database = database.drop_duplicates()\n",
    "\n",
    "database.info()"
   ]
  },
  {
   "cell_type": "code",
   "execution_count": 42,
   "metadata": {},
   "outputs": [
    {
     "data": {
      "text/html": [
       "<div>\n",
       "<style scoped>\n",
       "    .dataframe tbody tr th:only-of-type {\n",
       "        vertical-align: middle;\n",
       "    }\n",
       "\n",
       "    .dataframe tbody tr th {\n",
       "        vertical-align: top;\n",
       "    }\n",
       "\n",
       "    .dataframe thead th {\n",
       "        text-align: right;\n",
       "    }\n",
       "</style>\n",
       "<table border=\"1\" class=\"dataframe\">\n",
       "  <thead>\n",
       "    <tr style=\"text-align: right;\">\n",
       "      <th></th>\n",
       "      <th>patient_id</th>\n",
       "      <th>smoke</th>\n",
       "      <th>drink</th>\n",
       "      <th>background_father</th>\n",
       "      <th>background_mother</th>\n",
       "      <th>age</th>\n",
       "      <th>pesticide</th>\n",
       "      <th>gender</th>\n",
       "      <th>skin_cancer_history</th>\n",
       "      <th>cancer_history</th>\n",
       "      <th>...</th>\n",
       "      <th>diameter_1</th>\n",
       "      <th>diameter_2</th>\n",
       "      <th>diagnostic</th>\n",
       "      <th>itch</th>\n",
       "      <th>grew</th>\n",
       "      <th>hurt</th>\n",
       "      <th>changed</th>\n",
       "      <th>bleed</th>\n",
       "      <th>elevation</th>\n",
       "      <th>biopsed</th>\n",
       "    </tr>\n",
       "  </thead>\n",
       "  <tbody>\n",
       "    <tr>\n",
       "      <th>0</th>\n",
       "      <td>PAT_1516</td>\n",
       "      <td>True</td>\n",
       "      <td>True</td>\n",
       "      <td>n/a</td>\n",
       "      <td>n/a</td>\n",
       "      <td>8</td>\n",
       "      <td>True</td>\n",
       "      <td>n/a</td>\n",
       "      <td>True</td>\n",
       "      <td>True</td>\n",
       "      <td>...</td>\n",
       "      <td>n/a</td>\n",
       "      <td>n/a</td>\n",
       "      <td>NEV</td>\n",
       "      <td>True</td>\n",
       "      <td>True</td>\n",
       "      <td>True</td>\n",
       "      <td>True</td>\n",
       "      <td>True</td>\n",
       "      <td>True</td>\n",
       "      <td>False</td>\n",
       "    </tr>\n",
       "    <tr>\n",
       "      <th>1</th>\n",
       "      <td>PAT_46</td>\n",
       "      <td>False</td>\n",
       "      <td>False</td>\n",
       "      <td>POMERANIA</td>\n",
       "      <td>POMERANIA</td>\n",
       "      <td>55</td>\n",
       "      <td>False</td>\n",
       "      <td>FEMALE</td>\n",
       "      <td>True</td>\n",
       "      <td>True</td>\n",
       "      <td>...</td>\n",
       "      <td>6.0</td>\n",
       "      <td>5.0</td>\n",
       "      <td>BCC</td>\n",
       "      <td>True</td>\n",
       "      <td>True</td>\n",
       "      <td>True</td>\n",
       "      <td>True</td>\n",
       "      <td>True</td>\n",
       "      <td>True</td>\n",
       "      <td>True</td>\n",
       "    </tr>\n",
       "    <tr>\n",
       "      <th>2</th>\n",
       "      <td>PAT_1545</td>\n",
       "      <td>True</td>\n",
       "      <td>True</td>\n",
       "      <td>n/a</td>\n",
       "      <td>n/a</td>\n",
       "      <td>77</td>\n",
       "      <td>True</td>\n",
       "      <td>n/a</td>\n",
       "      <td>True</td>\n",
       "      <td>True</td>\n",
       "      <td>...</td>\n",
       "      <td>n/a</td>\n",
       "      <td>n/a</td>\n",
       "      <td>ACK</td>\n",
       "      <td>True</td>\n",
       "      <td>True</td>\n",
       "      <td>True</td>\n",
       "      <td>True</td>\n",
       "      <td>True</td>\n",
       "      <td>True</td>\n",
       "      <td>False</td>\n",
       "    </tr>\n",
       "    <tr>\n",
       "      <th>3</th>\n",
       "      <td>PAT_1989</td>\n",
       "      <td>True</td>\n",
       "      <td>True</td>\n",
       "      <td>n/a</td>\n",
       "      <td>n/a</td>\n",
       "      <td>75</td>\n",
       "      <td>True</td>\n",
       "      <td>n/a</td>\n",
       "      <td>True</td>\n",
       "      <td>True</td>\n",
       "      <td>...</td>\n",
       "      <td>n/a</td>\n",
       "      <td>n/a</td>\n",
       "      <td>ACK</td>\n",
       "      <td>True</td>\n",
       "      <td>True</td>\n",
       "      <td>True</td>\n",
       "      <td>True</td>\n",
       "      <td>True</td>\n",
       "      <td>True</td>\n",
       "      <td>False</td>\n",
       "    </tr>\n",
       "    <tr>\n",
       "      <th>4</th>\n",
       "      <td>PAT_684</td>\n",
       "      <td>False</td>\n",
       "      <td>True</td>\n",
       "      <td>POMERANIA</td>\n",
       "      <td>POMERANIA</td>\n",
       "      <td>79</td>\n",
       "      <td>False</td>\n",
       "      <td>MALE</td>\n",
       "      <td>True</td>\n",
       "      <td>False</td>\n",
       "      <td>...</td>\n",
       "      <td>5.0</td>\n",
       "      <td>5.0</td>\n",
       "      <td>BCC</td>\n",
       "      <td>True</td>\n",
       "      <td>True</td>\n",
       "      <td>True</td>\n",
       "      <td>True</td>\n",
       "      <td>True</td>\n",
       "      <td>True</td>\n",
       "      <td>True</td>\n",
       "    </tr>\n",
       "  </tbody>\n",
       "</table>\n",
       "<p>5 rows × 24 columns</p>\n",
       "</div>"
      ],
      "text/plain": [
       "  patient_id  smoke  drink background_father background_mother  age  \\\n",
       "0   PAT_1516   True   True               n/a               n/a    8   \n",
       "1     PAT_46  False  False         POMERANIA         POMERANIA   55   \n",
       "2   PAT_1545   True   True               n/a               n/a   77   \n",
       "3   PAT_1989   True   True               n/a               n/a   75   \n",
       "4    PAT_684  False   True         POMERANIA         POMERANIA   79   \n",
       "\n",
       "   pesticide  gender  skin_cancer_history  cancer_history  ...  diameter_1  \\\n",
       "0       True     n/a                 True            True  ...         n/a   \n",
       "1      False  FEMALE                 True            True  ...         6.0   \n",
       "2       True     n/a                 True            True  ...         n/a   \n",
       "3       True     n/a                 True            True  ...         n/a   \n",
       "4      False    MALE                 True           False  ...         5.0   \n",
       "\n",
       "   diameter_2 diagnostic  itch  grew  hurt changed  bleed  elevation  biopsed  \n",
       "0         n/a        NEV  True  True  True    True   True       True    False  \n",
       "1         5.0        BCC  True  True  True    True   True       True     True  \n",
       "2         n/a        ACK  True  True  True    True   True       True    False  \n",
       "3         n/a        ACK  True  True  True    True   True       True    False  \n",
       "4         5.0        BCC  True  True  True    True   True       True     True  \n",
       "\n",
       "[5 rows x 24 columns]"
      ]
     },
     "execution_count": 42,
     "metadata": {},
     "output_type": "execute_result"
    }
   ],
   "source": [
    "df_n = database.copy()\n",
    "df_n = df_n.fillna(\"n/a\")\n",
    "df_n.head()"
   ]
  },
  {
   "cell_type": "code",
   "execution_count": 43,
   "metadata": {},
   "outputs": [
    {
     "data": {
      "image/png": "[encoded data removed]",
      "text/plain": [
       "<Figure size 1800x1800 with 8 Axes>"
      ]
     },
     "metadata": {
      "needs_background": "light"
     },
     "output_type": "display_data"
    }
   ],
   "source": [
    "import pylab\n",
    "params = {'legend.fontsize': 20,\n",
    "          'legend.handlelength': 2,\n",
    "          'axes.labelsize': 20,}\n",
    "\n",
    "pylab.rcParams.update(params)\n",
    "\n",
    "columns = ['gender','fitspatrick', 'itch', 'grew', 'hurt', 'changed', 'bleed', 'elevation']\n",
    "\n",
    "fig, axes = plt.subplots(4, 2, figsize=(25,25))\n",
    "\n",
    "i=-1\n",
    "i2=0\n",
    "\n",
    "for e in columns:\n",
    "    i+=1\n",
    "    if int(i % 4) == 0 and i !=0:\n",
    "        i2+=1\n",
    "        i=0\n",
    "    ct = pd.crosstab(index = df_n['diagnostic'], columns = df_n[e])\n",
    "    \n",
    "    ct.plot(kind = \"bar\",ax=axes[i,i2])"
   ]
  },
  {
   "cell_type": "code",
   "execution_count": 44,
   "metadata": {},
   "outputs": [
    {
     "data": {
      "text/html": [
       "<div>\n",
       "<style scoped>\n",
       "    .dataframe tbody tr th:only-of-type {\n",
       "        vertical-align: middle;\n",
       "    }\n",
       "\n",
       "    .dataframe tbody tr th {\n",
       "        vertical-align: top;\n",
       "    }\n",
       "\n",
       "    .dataframe thead th {\n",
       "        text-align: right;\n",
       "    }\n",
       "</style>\n",
       "<table border=\"1\" class=\"dataframe\">\n",
       "  <thead>\n",
       "    <tr style=\"text-align: right;\">\n",
       "      <th></th>\n",
       "      <th>patient_id</th>\n",
       "      <th>smoke</th>\n",
       "      <th>drink</th>\n",
       "      <th>background_father</th>\n",
       "      <th>background_mother</th>\n",
       "      <th>age</th>\n",
       "      <th>pesticide</th>\n",
       "      <th>gender</th>\n",
       "      <th>skin_cancer_history</th>\n",
       "      <th>cancer_history</th>\n",
       "      <th>...</th>\n",
       "      <th>diameter_1</th>\n",
       "      <th>diameter_2</th>\n",
       "      <th>diagnostic</th>\n",
       "      <th>itch</th>\n",
       "      <th>grew</th>\n",
       "      <th>hurt</th>\n",
       "      <th>changed</th>\n",
       "      <th>bleed</th>\n",
       "      <th>elevation</th>\n",
       "      <th>biopsed</th>\n",
       "    </tr>\n",
       "  </thead>\n",
       "  <tbody>\n",
       "    <tr>\n",
       "      <th>0</th>\n",
       "      <td>PAT_10</td>\n",
       "      <td>True</td>\n",
       "      <td>False</td>\n",
       "      <td>GERMANY</td>\n",
       "      <td>GERMANY</td>\n",
       "      <td>69</td>\n",
       "      <td>False</td>\n",
       "      <td>MALE</td>\n",
       "      <td>False</td>\n",
       "      <td>False</td>\n",
       "      <td>...</td>\n",
       "      <td>13.0</td>\n",
       "      <td>9.0</td>\n",
       "      <td>SCC</td>\n",
       "      <td>True</td>\n",
       "      <td>True</td>\n",
       "      <td>True</td>\n",
       "      <td>True</td>\n",
       "      <td>True</td>\n",
       "      <td>True</td>\n",
       "      <td>True</td>\n",
       "    </tr>\n",
       "    <tr>\n",
       "      <th>1</th>\n",
       "      <td>PAT_100</td>\n",
       "      <td>False</td>\n",
       "      <td>False</td>\n",
       "      <td>POMERANIA</td>\n",
       "      <td>POMERANIA</td>\n",
       "      <td>14</td>\n",
       "      <td>False</td>\n",
       "      <td>MALE</td>\n",
       "      <td>False</td>\n",
       "      <td>True</td>\n",
       "      <td>...</td>\n",
       "      <td>7.0</td>\n",
       "      <td>3.0</td>\n",
       "      <td>NEV</td>\n",
       "      <td>True</td>\n",
       "      <td>True</td>\n",
       "      <td>True</td>\n",
       "      <td>True</td>\n",
       "      <td>True</td>\n",
       "      <td>True</td>\n",
       "      <td>True</td>\n",
       "    </tr>\n",
       "    <tr>\n",
       "      <th>2</th>\n",
       "      <td>PAT_1000</td>\n",
       "      <td>True</td>\n",
       "      <td>True</td>\n",
       "      <td>None</td>\n",
       "      <td>None</td>\n",
       "      <td>65</td>\n",
       "      <td>True</td>\n",
       "      <td>None</td>\n",
       "      <td>True</td>\n",
       "      <td>True</td>\n",
       "      <td>...</td>\n",
       "      <td>NaN</td>\n",
       "      <td>NaN</td>\n",
       "      <td>SEK</td>\n",
       "      <td>True</td>\n",
       "      <td>True</td>\n",
       "      <td>True</td>\n",
       "      <td>True</td>\n",
       "      <td>True</td>\n",
       "      <td>True</td>\n",
       "      <td>False</td>\n",
       "    </tr>\n",
       "    <tr>\n",
       "      <th>3</th>\n",
       "      <td>PAT_1006</td>\n",
       "      <td>True</td>\n",
       "      <td>True</td>\n",
       "      <td>None</td>\n",
       "      <td>None</td>\n",
       "      <td>63</td>\n",
       "      <td>True</td>\n",
       "      <td>None</td>\n",
       "      <td>True</td>\n",
       "      <td>True</td>\n",
       "      <td>...</td>\n",
       "      <td>NaN</td>\n",
       "      <td>NaN</td>\n",
       "      <td>ACK</td>\n",
       "      <td>True</td>\n",
       "      <td>True</td>\n",
       "      <td>True</td>\n",
       "      <td>True</td>\n",
       "      <td>True</td>\n",
       "      <td>True</td>\n",
       "      <td>False</td>\n",
       "    </tr>\n",
       "    <tr>\n",
       "      <th>4</th>\n",
       "      <td>PAT_1008</td>\n",
       "      <td>True</td>\n",
       "      <td>True</td>\n",
       "      <td>None</td>\n",
       "      <td>None</td>\n",
       "      <td>64</td>\n",
       "      <td>True</td>\n",
       "      <td>None</td>\n",
       "      <td>True</td>\n",
       "      <td>True</td>\n",
       "      <td>...</td>\n",
       "      <td>NaN</td>\n",
       "      <td>NaN</td>\n",
       "      <td>SEK</td>\n",
       "      <td>True</td>\n",
       "      <td>True</td>\n",
       "      <td>True</td>\n",
       "      <td>True</td>\n",
       "      <td>True</td>\n",
       "      <td>True</td>\n",
       "      <td>False</td>\n",
       "    </tr>\n",
       "  </tbody>\n",
       "</table>\n",
       "<p>5 rows × 24 columns</p>\n",
       "</div>"
      ],
      "text/plain": [
       "  patient_id  smoke  drink background_father background_mother  age  \\\n",
       "0     PAT_10   True  False           GERMANY           GERMANY   69   \n",
       "1    PAT_100  False  False         POMERANIA         POMERANIA   14   \n",
       "2   PAT_1000   True   True              None              None   65   \n",
       "3   PAT_1006   True   True              None              None   63   \n",
       "4   PAT_1008   True   True              None              None   64   \n",
       "\n",
       "   pesticide gender  skin_cancer_history  cancer_history  ...  diameter_1  \\\n",
       "0      False   MALE                False           False  ...        13.0   \n",
       "1      False   MALE                False            True  ...         7.0   \n",
       "2       True   None                 True            True  ...         NaN   \n",
       "3       True   None                 True            True  ...         NaN   \n",
       "4       True   None                 True            True  ...         NaN   \n",
       "\n",
       "   diameter_2  diagnostic  itch  grew  hurt changed  bleed  elevation  biopsed  \n",
       "0         9.0         SCC  True  True  True    True   True       True     True  \n",
       "1         3.0         NEV  True  True  True    True   True       True     True  \n",
       "2         NaN         SEK  True  True  True    True   True       True    False  \n",
       "3         NaN         ACK  True  True  True    True   True       True    False  \n",
       "4         NaN         SEK  True  True  True    True   True       True    False  \n",
       "\n",
       "[5 rows x 24 columns]"
      ]
     },
     "execution_count": 44,
     "metadata": {},
     "output_type": "execute_result"
    }
   ],
   "source": [
    "df = database.copy()\n",
    "\n",
    "df = df.sort_values('diameter_1', ascending=False).groupby('patient_id').first().reset_index()\n",
    "\n",
    "df.head()"
   ]
  },
  {
   "cell_type": "code",
   "execution_count": 45,
   "metadata": {},
   "outputs": [
    {
     "data": {
      "text/html": [
       "<div>\n",
       "<style scoped>\n",
       "    .dataframe tbody tr th:only-of-type {\n",
       "        vertical-align: middle;\n",
       "    }\n",
       "\n",
       "    .dataframe tbody tr th {\n",
       "        vertical-align: top;\n",
       "    }\n",
       "\n",
       "    .dataframe thead th {\n",
       "        text-align: right;\n",
       "    }\n",
       "</style>\n",
       "<table border=\"1\" class=\"dataframe\">\n",
       "  <thead>\n",
       "    <tr style=\"text-align: right;\">\n",
       "      <th></th>\n",
       "      <th>smoke</th>\n",
       "      <th>drink</th>\n",
       "      <th>skin_cancer_history</th>\n",
       "      <th>cancer_history</th>\n",
       "      <th>has_piped_water</th>\n",
       "      <th>has_sewage_system</th>\n",
       "      <th>age</th>\n",
       "      <th>region</th>\n",
       "      <th>pesticide</th>\n",
       "      <th>diagnostic</th>\n",
       "      <th>is_cancer</th>\n",
       "    </tr>\n",
       "  </thead>\n",
       "  <tbody>\n",
       "    <tr>\n",
       "      <th>0</th>\n",
       "      <td>True</td>\n",
       "      <td>False</td>\n",
       "      <td>False</td>\n",
       "      <td>False</td>\n",
       "      <td>True</td>\n",
       "      <td>False</td>\n",
       "      <td>69</td>\n",
       "      <td>ARM</td>\n",
       "      <td>False</td>\n",
       "      <td>SCC</td>\n",
       "      <td>1</td>\n",
       "    </tr>\n",
       "    <tr>\n",
       "      <th>1</th>\n",
       "      <td>False</td>\n",
       "      <td>False</td>\n",
       "      <td>False</td>\n",
       "      <td>True</td>\n",
       "      <td>False</td>\n",
       "      <td>False</td>\n",
       "      <td>14</td>\n",
       "      <td>FACE</td>\n",
       "      <td>False</td>\n",
       "      <td>NEV</td>\n",
       "      <td>0</td>\n",
       "    </tr>\n",
       "    <tr>\n",
       "      <th>2</th>\n",
       "      <td>True</td>\n",
       "      <td>True</td>\n",
       "      <td>True</td>\n",
       "      <td>True</td>\n",
       "      <td>True</td>\n",
       "      <td>True</td>\n",
       "      <td>65</td>\n",
       "      <td>EAR</td>\n",
       "      <td>True</td>\n",
       "      <td>SEK</td>\n",
       "      <td>0</td>\n",
       "    </tr>\n",
       "    <tr>\n",
       "      <th>3</th>\n",
       "      <td>True</td>\n",
       "      <td>True</td>\n",
       "      <td>True</td>\n",
       "      <td>True</td>\n",
       "      <td>True</td>\n",
       "      <td>True</td>\n",
       "      <td>63</td>\n",
       "      <td>FOREARM</td>\n",
       "      <td>True</td>\n",
       "      <td>ACK</td>\n",
       "      <td>0</td>\n",
       "    </tr>\n",
       "    <tr>\n",
       "      <th>4</th>\n",
       "      <td>True</td>\n",
       "      <td>True</td>\n",
       "      <td>True</td>\n",
       "      <td>True</td>\n",
       "      <td>True</td>\n",
       "      <td>True</td>\n",
       "      <td>64</td>\n",
       "      <td>FACE</td>\n",
       "      <td>True</td>\n",
       "      <td>SEK</td>\n",
       "      <td>0</td>\n",
       "    </tr>\n",
       "  </tbody>\n",
       "</table>\n",
       "</div>"
      ],
      "text/plain": [
       "   smoke  drink  skin_cancer_history  cancer_history  has_piped_water  \\\n",
       "0   True  False                False           False             True   \n",
       "1  False  False                False            True            False   \n",
       "2   True   True                 True            True             True   \n",
       "3   True   True                 True            True             True   \n",
       "4   True   True                 True            True             True   \n",
       "\n",
       "   has_sewage_system  age   region  pesticide diagnostic  is_cancer  \n",
       "0              False   69      ARM      False        SCC          1  \n",
       "1              False   14     FACE      False        NEV          0  \n",
       "2               True   65      EAR       True        SEK          0  \n",
       "3               True   63  FOREARM       True        ACK          0  \n",
       "4               True   64     FACE       True        SEK          0  "
      ]
     },
     "execution_count": 45,
     "metadata": {},
     "output_type": "execute_result"
    }
   ],
   "source": [
    "selected_columns = ['smoke', 'drink', 'skin_cancer_history', 'cancer_history', 'has_piped_water', 'has_sewage_system', 'age','region','pesticide','diagnostic']\n",
    "\n",
    "df = df[selected_columns].copy()\n",
    "\n",
    "df['region'] = df['region'].apply(lambda x: 'OUTROS' if x in ['THIGH','LIP','FOOT','ABDOMEN','SCALP'] else x)\n",
    "\n",
    "df['is_cancer'] = df['diagnostic'].apply(lambda x: 0 if x in ['ACK','NEV','SEK'] else 1)\n",
    "\n",
    "df.head()"
   ]
  },
  {
   "cell_type": "code",
   "execution_count": 46,
   "metadata": {},
   "outputs": [
    {
     "name": "stdout",
     "output_type": "stream",
     "text": [
      "<class 'pandas.core.frame.DataFrame'>\n",
      "RangeIndex: 1373 entries, 0 to 1372\n",
      "Data columns (total 11 columns):\n",
      " #   Column               Non-Null Count  Dtype \n",
      "---  ------               --------------  ----- \n",
      " 0   smoke                1373 non-null   bool  \n",
      " 1   drink                1373 non-null   bool  \n",
      " 2   skin_cancer_history  1373 non-null   bool  \n",
      " 3   cancer_history       1373 non-null   bool  \n",
      " 4   has_piped_water      1373 non-null   bool  \n",
      " 5   has_sewage_system    1373 non-null   bool  \n",
      " 6   age                  1373 non-null   int64 \n",
      " 7   region               1373 non-null   object\n",
      " 8   pesticide            1373 non-null   bool  \n",
      " 9   diagnostic           1373 non-null   object\n",
      " 10  is_cancer            1373 non-null   int64 \n",
      "dtypes: bool(7), int64(2), object(2)\n",
      "memory usage: 52.4+ KB\n"
     ]
    }
   ],
   "source": [
    "df.info()"
   ]
  },
  {
   "cell_type": "code",
   "execution_count": 47,
   "metadata": {},
   "outputs": [
    {
     "data": {
      "text/html": [
       "<div>\n",
       "<style scoped>\n",
       "    .dataframe tbody tr th:only-of-type {\n",
       "        vertical-align: middle;\n",
       "    }\n",
       "\n",
       "    .dataframe tbody tr th {\n",
       "        vertical-align: top;\n",
       "    }\n",
       "\n",
       "    .dataframe thead th {\n",
       "        text-align: right;\n",
       "    }\n",
       "</style>\n",
       "<table border=\"1\" class=\"dataframe\">\n",
       "  <thead>\n",
       "    <tr style=\"text-align: right;\">\n",
       "      <th></th>\n",
       "      <th>0</th>\n",
       "      <th>1</th>\n",
       "      <th>2</th>\n",
       "      <th>3</th>\n",
       "      <th>4</th>\n",
       "    </tr>\n",
       "  </thead>\n",
       "  <tbody>\n",
       "    <tr>\n",
       "      <th>onehotencoder__x0_ARM</th>\n",
       "      <td>1.0</td>\n",
       "      <td>0.0</td>\n",
       "      <td>0.0</td>\n",
       "      <td>0.0</td>\n",
       "      <td>0.0</td>\n",
       "    </tr>\n",
       "    <tr>\n",
       "      <th>onehotencoder__x0_BACK</th>\n",
       "      <td>0.0</td>\n",
       "      <td>0.0</td>\n",
       "      <td>0.0</td>\n",
       "      <td>0.0</td>\n",
       "      <td>0.0</td>\n",
       "    </tr>\n",
       "    <tr>\n",
       "      <th>onehotencoder__x0_CHEST</th>\n",
       "      <td>0.0</td>\n",
       "      <td>0.0</td>\n",
       "      <td>0.0</td>\n",
       "      <td>0.0</td>\n",
       "      <td>0.0</td>\n",
       "    </tr>\n",
       "    <tr>\n",
       "      <th>onehotencoder__x0_EAR</th>\n",
       "      <td>0.0</td>\n",
       "      <td>0.0</td>\n",
       "      <td>1.0</td>\n",
       "      <td>0.0</td>\n",
       "      <td>0.0</td>\n",
       "    </tr>\n",
       "    <tr>\n",
       "      <th>onehotencoder__x0_FACE</th>\n",
       "      <td>0.0</td>\n",
       "      <td>1.0</td>\n",
       "      <td>0.0</td>\n",
       "      <td>0.0</td>\n",
       "      <td>1.0</td>\n",
       "    </tr>\n",
       "    <tr>\n",
       "      <th>onehotencoder__x0_FOREARM</th>\n",
       "      <td>0.0</td>\n",
       "      <td>0.0</td>\n",
       "      <td>0.0</td>\n",
       "      <td>1.0</td>\n",
       "      <td>0.0</td>\n",
       "    </tr>\n",
       "    <tr>\n",
       "      <th>onehotencoder__x0_HAND</th>\n",
       "      <td>0.0</td>\n",
       "      <td>0.0</td>\n",
       "      <td>0.0</td>\n",
       "      <td>0.0</td>\n",
       "      <td>0.0</td>\n",
       "    </tr>\n",
       "    <tr>\n",
       "      <th>onehotencoder__x0_NECK</th>\n",
       "      <td>0.0</td>\n",
       "      <td>0.0</td>\n",
       "      <td>0.0</td>\n",
       "      <td>0.0</td>\n",
       "      <td>0.0</td>\n",
       "    </tr>\n",
       "    <tr>\n",
       "      <th>onehotencoder__x0_NOSE</th>\n",
       "      <td>0.0</td>\n",
       "      <td>0.0</td>\n",
       "      <td>0.0</td>\n",
       "      <td>0.0</td>\n",
       "      <td>0.0</td>\n",
       "    </tr>\n",
       "    <tr>\n",
       "      <th>onehotencoder__x0_OUTROS</th>\n",
       "      <td>0.0</td>\n",
       "      <td>0.0</td>\n",
       "      <td>0.0</td>\n",
       "      <td>0.0</td>\n",
       "      <td>0.0</td>\n",
       "    </tr>\n",
       "    <tr>\n",
       "      <th>smoke</th>\n",
       "      <td>True</td>\n",
       "      <td>False</td>\n",
       "      <td>True</td>\n",
       "      <td>True</td>\n",
       "      <td>True</td>\n",
       "    </tr>\n",
       "    <tr>\n",
       "      <th>drink</th>\n",
       "      <td>False</td>\n",
       "      <td>False</td>\n",
       "      <td>True</td>\n",
       "      <td>True</td>\n",
       "      <td>True</td>\n",
       "    </tr>\n",
       "    <tr>\n",
       "      <th>skin_cancer_history</th>\n",
       "      <td>False</td>\n",
       "      <td>False</td>\n",
       "      <td>True</td>\n",
       "      <td>True</td>\n",
       "      <td>True</td>\n",
       "    </tr>\n",
       "    <tr>\n",
       "      <th>cancer_history</th>\n",
       "      <td>False</td>\n",
       "      <td>True</td>\n",
       "      <td>True</td>\n",
       "      <td>True</td>\n",
       "      <td>True</td>\n",
       "    </tr>\n",
       "    <tr>\n",
       "      <th>has_piped_water</th>\n",
       "      <td>True</td>\n",
       "      <td>False</td>\n",
       "      <td>True</td>\n",
       "      <td>True</td>\n",
       "      <td>True</td>\n",
       "    </tr>\n",
       "    <tr>\n",
       "      <th>has_sewage_system</th>\n",
       "      <td>False</td>\n",
       "      <td>False</td>\n",
       "      <td>True</td>\n",
       "      <td>True</td>\n",
       "      <td>True</td>\n",
       "    </tr>\n",
       "    <tr>\n",
       "      <th>age</th>\n",
       "      <td>69</td>\n",
       "      <td>14</td>\n",
       "      <td>65</td>\n",
       "      <td>63</td>\n",
       "      <td>64</td>\n",
       "    </tr>\n",
       "    <tr>\n",
       "      <th>pesticide</th>\n",
       "      <td>False</td>\n",
       "      <td>False</td>\n",
       "      <td>True</td>\n",
       "      <td>True</td>\n",
       "      <td>True</td>\n",
       "    </tr>\n",
       "    <tr>\n",
       "      <th>diagnostic</th>\n",
       "      <td>SCC</td>\n",
       "      <td>NEV</td>\n",
       "      <td>SEK</td>\n",
       "      <td>ACK</td>\n",
       "      <td>SEK</td>\n",
       "    </tr>\n",
       "    <tr>\n",
       "      <th>is_cancer</th>\n",
       "      <td>1</td>\n",
       "      <td>0</td>\n",
       "      <td>0</td>\n",
       "      <td>0</td>\n",
       "      <td>0</td>\n",
       "    </tr>\n",
       "  </tbody>\n",
       "</table>\n",
       "</div>"
      ],
      "text/plain": [
       "                               0      1     2     3     4\n",
       "onehotencoder__x0_ARM        1.0    0.0   0.0   0.0   0.0\n",
       "onehotencoder__x0_BACK       0.0    0.0   0.0   0.0   0.0\n",
       "onehotencoder__x0_CHEST      0.0    0.0   0.0   0.0   0.0\n",
       "onehotencoder__x0_EAR        0.0    0.0   1.0   0.0   0.0\n",
       "onehotencoder__x0_FACE       0.0    1.0   0.0   0.0   1.0\n",
       "onehotencoder__x0_FOREARM    0.0    0.0   0.0   1.0   0.0\n",
       "onehotencoder__x0_HAND       0.0    0.0   0.0   0.0   0.0\n",
       "onehotencoder__x0_NECK       0.0    0.0   0.0   0.0   0.0\n",
       "onehotencoder__x0_NOSE       0.0    0.0   0.0   0.0   0.0\n",
       "onehotencoder__x0_OUTROS     0.0    0.0   0.0   0.0   0.0\n",
       "smoke                       True  False  True  True  True\n",
       "drink                      False  False  True  True  True\n",
       "skin_cancer_history        False  False  True  True  True\n",
       "cancer_history             False   True  True  True  True\n",
       "has_piped_water             True  False  True  True  True\n",
       "has_sewage_system          False  False  True  True  True\n",
       "age                           69     14    65    63    64\n",
       "pesticide                  False  False  True  True  True\n",
       "diagnostic                   SCC    NEV   SEK   ACK   SEK\n",
       "is_cancer                      1      0     0     0     0"
      ]
     },
     "execution_count": 47,
     "metadata": {},
     "output_type": "execute_result"
    }
   ],
   "source": [
    "transformer = make_column_transformer((OneHotEncoder(categories='auto'), ['region']), remainder='passthrough')\n",
    "\n",
    "transformed = transformer.fit_transform(df)\n",
    "\n",
    "transformed_df = pd.DataFrame(transformed, columns=transformer.get_feature_names())\n",
    "\n",
    "transformed_df.head().transpose()"
   ]
  },
  {
   "cell_type": "markdown",
   "metadata": {},
   "source": [
    "# Train Test Split"
   ]
  },
  {
   "cell_type": "code",
   "execution_count": 48,
   "metadata": {},
   "outputs": [
    {
     "name": "stdout",
     "output_type": "stream",
     "text": [
      "x_train.shape=(1098, 18)\n",
      "x_test.shape=(275, 18)\n",
      "y_train.shape=(1098,)\n",
      "y_test.shape=(275,)\n",
      "x_train_bin.shape=(1098, 18)\n",
      "x_test_bin.shape=(275, 18)\n",
      "y_train_bin.shape=(1098,)\n",
      "y_test_bin.shape=(275,)\n"
     ]
    }
   ],
   "source": [
    "x_train, x_test, y_train, y_test = train_test_split(\n",
    "    transformed_df.drop(['is_cancer', 'diagnostic'], axis=1),\n",
    "    transformed_df['diagnostic'],\n",
    "    test_size = 0.2,\n",
    "    random_state=RANDOM_SEED,\n",
    ")\n",
    "\n",
    "x_train_bin, x_test_bin, y_train_bin, y_test_bin = train_test_split(\n",
    "    transformed_df.drop(['is_cancer', 'diagnostic'], axis=1),\n",
    "    transformed_df['is_cancer'],\n",
    "    test_size = 0.2,\n",
    "    random_state=RANDOM_SEED,\n",
    ")\n",
    "y_train_bin = y_train_bin.astype(np.float64)\n",
    "y_test_bin = y_test_bin.astype(np.float64)\n",
    "\n",
    "print(f\"{x_train.shape=}\")\n",
    "print(f\"{x_test.shape=}\")\n",
    "print(f\"{y_train.shape=}\")\n",
    "print(f\"{y_test.shape=}\")\n",
    "print(f\"{x_train_bin.shape=}\")\n",
    "print(f\"{x_test_bin.shape=}\")\n",
    "print(f\"{y_train_bin.shape=}\")\n",
    "print(f\"{y_test_bin.shape=}\")"
   ]
  },
  {
   "cell_type": "markdown",
   "metadata": {},
   "source": [
    "# Predict"
   ]
  },
  {
   "cell_type": "code",
   "execution_count": 49,
   "metadata": {},
   "outputs": [],
   "source": [
    "def eval_model(model, x_test, y_test, title, *, classes=None):\n",
    "    y_pred = model.predict(x_test)\n",
    "    y_pred_proba = model.predict_proba(x_test)[:,1]\n",
    "    if classes:\n",
    "        classes_list = classes\n",
    "    else:\n",
    "        classes_list = list(set(y_test))\n",
    "    plot_confusion_matrix(y_test, y_pred, classes_list, normalize=True, title=title, save_to_file=True)"
   ]
  },
  {
   "cell_type": "code",
   "execution_count": 50,
   "metadata": {},
   "outputs": [
    {
     "data": {
      "text/plain": [
       "Text(0, 0.5, '')"
      ]
     },
     "execution_count": 50,
     "metadata": {},
     "output_type": "execute_result"
    },
    {
     "data": {
      "image/png": "[encoded data removed]",
      "text/plain": [
       "<Figure size 432x288 with 1 Axes>"
      ]
     },
     "metadata": {},
     "output_type": "display_data"
    }
   ],
   "source": [
    "def pct_format(pct, allvals):\n",
    "    absolute = int(np.round(pct/100.*np.sum(allvals)))\n",
    "    return \"{:.1f}%\".format(pct, absolute)\n",
    "\n",
    "cnts = (y_train.value_counts()+y_test.value_counts())\n",
    "ax = cnts.plot(kind=\"pie\",cmap=\"tab10\", autopct=lambda pct: pct_format(pct, cnts))\n",
    "ax.legend(title='Classe',title_fontsize=20,loc='center left', bbox_to_anchor=(1.15, 0.5))\n",
    "ax.set_ylabel(\"\")"
   ]
  },
  {
   "cell_type": "code",
   "execution_count": 51,
   "metadata": {},
   "outputs": [
    {
     "data": {
      "image/png": "[encoded data removed]",
      "text/plain": [
       "<Figure size 432x288 with 1 Axes>"
      ]
     },
     "metadata": {},
     "output_type": "display_data"
    }
   ],
   "source": [
    "cnts = (y_train_bin.value_counts()+y_test_bin.value_counts())\n",
    "cnts = cnts.set_axis([\"Not\", \"Cancer\"])\n",
    "ax = cnts.plot(kind=\"pie\",cmap=\"tab10\", autopct=lambda pct: pct_format(pct, cnts))\n",
    "ax.legend(title='Classe',title_fontsize=20,loc='center left', bbox_to_anchor=(1.15, 0.5))\n",
    "ax.set_ylabel(\"\");"
   ]
  },
  {
   "cell_type": "markdown",
   "metadata": {},
   "source": [
    "# Logistic Regression"
   ]
  },
  {
   "cell_type": "code",
   "execution_count": 52,
   "metadata": {},
   "outputs": [
    {
     "name": "stdout",
     "output_type": "stream",
     "text": [
      "Multinomial Log Reg\n",
      "Model accuracy on train: 0.6302367941712205\n",
      "Model accuracy on test: 0.6509794553272813\n",
      "\n",
      "Binary Log Reg\n",
      "Model accuracy on train: 0.7914389799635702\n",
      "Model accuracy on test: 0.8254100971492276\n"
     ]
    },
    {
     "data": {
      "image/png": "[encoded data removed]",
      "text/plain": [
       "<Figure size 360x360 with 1 Axes>"
      ]
     },
     "metadata": {
      "needs_background": "light"
     },
     "output_type": "display_data"
    },
    {
     "data": {
      "image/png": "[encoded data removed]",
      "text/plain": [
       "<Figure size 360x360 with 1 Axes>"
      ]
     },
     "metadata": {
      "needs_background": "light"
     },
     "output_type": "display_data"
    }
   ],
   "source": [
    "print(\"Multinomial Log Reg\")\n",
    "log_reg = LogisticRegression(random_state=RANDOM_SEED, max_iter=1e5)\n",
    "log_reg.fit(x_train, y_train)\n",
    "eval_model(log_reg, x_test, y_test, title=\"Multinomial Logistic Regression Confusion Matrix\")\n",
    "tr = cross_val_score(log_reg, x_train, y_train, cv=3, scoring='accuracy')\n",
    "tst = cross_val_score(log_reg, x_test, y_test, cv=3, scoring='accuracy')\n",
    "print(f\"Model accuracy on train: {tr.mean()}\\nModel accuracy on test: {tst.mean()}\")\n",
    "\n",
    "print(\"\\nBinary Log Reg\")\n",
    "log_reg_bin = LogisticRegression(random_state=RANDOM_SEED, max_iter=1e5)\n",
    "log_reg_bin.fit(x_train_bin, y_train_bin)\n",
    "eval_model(log_reg_bin, x_test_bin, y_test_bin, title=\"Binary Logistic Regression Confusion Matrix\", classes=[\"Not\", \"Cancer\"])\n",
    "tr = cross_val_score(log_reg_bin, x_train_bin, y_train_bin, cv=3, scoring='accuracy')\n",
    "tst = cross_val_score(log_reg_bin, x_test_bin, y_test_bin, cv=3, scoring='accuracy')\n",
    "print(f\"Model accuracy on train: {tr.mean()}\\nModel accuracy on test: {tst.mean()}\")"
   ]
  },
  {
   "cell_type": "markdown",
   "metadata": {},
   "source": [
    "# Random Forest Classifier"
   ]
  },
  {
   "cell_type": "code",
   "execution_count": 53,
   "metadata": {},
   "outputs": [
    {
     "name": "stdout",
     "output_type": "stream",
     "text": [
      "Multinomial RFC\n",
      "Model accuracy on train: 0.5728597449908926\n",
      "Model accuracy on test: 0.5926501035196687\n",
      "\n",
      "Binary RFC\n",
      "Model accuracy on train: 0.8242258652094718\n",
      "Model accuracy on test: 0.8471492275840102\n"
     ]
    },
    {
     "data": {
      "image/png": "[encoded data removed]",
      "text/plain": [
       "<Figure size 360x360 with 1 Axes>"
      ]
     },
     "metadata": {
      "needs_background": "light"
     },
     "output_type": "display_data"
    },
    {
     "data": {
      "image/png": "[encoded data removed]",
      "text/plain": [
       "<Figure size 360x360 with 1 Axes>"
      ]
     },
     "metadata": {
      "needs_background": "light"
     },
     "output_type": "display_data"
    }
   ],
   "source": [
    "print(\"Multinomial RFC\")\n",
    "rfc_clf = RandomForestClassifier(random_state=RANDOM_SEED, n_estimators=150)\n",
    "rfc_clf.fit(x_train, y_train)\n",
    "eval_model(rfc_clf, x_test, y_test, title=\"Multinomial Random Forest Classifier Confusion Matrix\")\n",
    "tr = cross_val_score(rfc_clf, x_train, y_train, cv=3, scoring='accuracy')\n",
    "tst = cross_val_score(rfc_clf, x_test, y_test, cv=3, scoring='accuracy')\n",
    "print(f\"Model accuracy on train: {tr.mean()}\\nModel accuracy on test: {tst.mean()}\")\n",
    "\n",
    "print(\"\\nBinary RFC\")\n",
    "rfc_clf_bin = RandomForestClassifier(random_state=RANDOM_SEED, n_estimators=150)\n",
    "rfc_clf_bin.fit(x_train_bin, y_train_bin)\n",
    "eval_model(rfc_clf_bin, x_test_bin, y_test_bin, title=\"Binary Random Forest Classifier Confusion Matrix\", classes=[\"Not Cancer\", \"Cancer\"])\n",
    "tr = cross_val_score(rfc_clf, x_train_bin, y_train_bin, cv=3, scoring='accuracy')\n",
    "tst = cross_val_score(rfc_clf, x_test_bin, y_test_bin, cv=3, scoring='accuracy')\n",
    "print(f\"Model accuracy on train: {tr.mean()}\\nModel accuracy on test: {tst.mean()}\")"
   ]
  },
  {
   "cell_type": "markdown",
   "metadata": {},
   "source": [
    "# XGBoost"
   ]
  },
  {
   "cell_type": "code",
   "execution_count": 54,
   "metadata": {},
   "outputs": [
    {
     "name": "stdout",
     "output_type": "stream",
     "text": [
      "Multinomial XGBoost\n",
      "Model accuracy on train: 0.5655737704918032\n",
      "Model accuracy on test: 0.567287784679089\n",
      "\n",
      "Binary XGBoost\n",
      "Model accuracy on train: 0.8005464480874317\n",
      "Model accuracy on test: 0.8218267240006369\n"
     ]
    },
    {
     "data": {
      "image/png": "[encoded data removed]",
      "text/plain": [
       "<Figure size 360x360 with 1 Axes>"
      ]
     },
     "metadata": {
      "needs_background": "light"
     },
     "output_type": "display_data"
    },
    {
     "data": {
      "image/png": "[encoded data removed]",
      "text/plain": [
       "<Figure size 360x360 with 1 Axes>"
      ]
     },
     "metadata": {
      "needs_background": "light"
     },
     "output_type": "display_data"
    }
   ],
   "source": [
    "xgb_encoder = OrdinalEncoder()\n",
    "x_train_xgb = x_train.astype(np.float64)\n",
    "y_train_xgb = xgb_encoder.fit_transform(y_train.to_numpy().reshape(-1,1))\n",
    "x_test_xgb = x_test.astype(np.float64)\n",
    "y_test_xgb = xgb_encoder.transform(y_test.to_numpy().reshape(-1,1))\n",
    "\n",
    "\n",
    "print(\"Multinomial XGBoost\")\n",
    "sgb_clf = XGBClassifier(random_state=RANDOM_SEED, n_estimators=110, eval_metric='auc')\n",
    "sgb_clf.fit(x_train_xgb, y_train_xgb)\n",
    "y_pred = sgb_clf.predict(x_test_xgb)\n",
    "y_pred_proba = sgb_clf.predict_proba(x_test_xgb)[:,1]\n",
    "plot_confusion_matrix(xgb_encoder.inverse_transform(y_test_xgb), xgb_encoder.inverse_transform(y_pred.reshape(-1,1)), sorted(list(set(y_test))), normalize=True, title=\"Multinomial XGBoost Confusion Matrix\", save_to_file=True);\n",
    "tr = cross_val_score(sgb_clf, x_train_xgb, y_train_xgb, cv=3, scoring='accuracy')\n",
    "tst = cross_val_score(sgb_clf, x_test_xgb, y_test_xgb, cv=3, scoring='accuracy')\n",
    "print(f\"Model accuracy on train: {tr.mean()}\\nModel accuracy on test: {tst.mean()}\")\n",
    "\n",
    "x_train_xgb_bin = x_train_bin.astype(np.float64)\n",
    "y_train_xgb_bin = xgb_encoder.fit_transform(y_train_bin.to_numpy().reshape(-1,1))\n",
    "x_test_xgb_bin = x_test_bin.astype(np.float64)\n",
    "y_test_xgb_bin = xgb_encoder.fit_transform(y_test_bin.to_numpy().reshape(-1,1))\n",
    "\n",
    "print(\"\\nBinary XGBoost\")\n",
    "sgb_clf_bin = XGBClassifier(random_state=RANDOM_SEED, n_estimators=110, eval_metric='auc')\n",
    "sgb_clf_bin.fit(x_train_xgb_bin, y_train_bin.to_numpy().reshape(-1,1)) \n",
    "y_pred = sgb_clf_bin.predict(x_test_xgb_bin)\n",
    "y_pred_proba = sgb_clf_bin.predict_proba(x_test_xgb_bin)[:,1]\n",
    "plot_confusion_matrix(y_test_xgb_bin, y_pred.reshape(-1,1), [\"Not\", \"Cancer\"], normalize=True, title=\"Binary XGBoost Confusion Matrix\", save_to_file=True);\n",
    "tr = cross_val_score(sgb_clf_bin, x_train_xgb_bin, y_train_xgb_bin, cv=3, scoring='accuracy')\n",
    "tst = cross_val_score(sgb_clf_bin, x_test_xgb_bin, y_test_xgb_bin, cv=3, scoring='accuracy')\n",
    "print(f\"Model accuracy on train: {tr.mean()}\\nModel accuracy on test: {tst.mean()}\")"
   ]
  },
  {
   "cell_type": "markdown",
   "metadata": {},
   "source": [
    "# Feature Importances"
   ]
  },
  {
   "cell_type": "code",
   "execution_count": 55,
   "metadata": {},
   "outputs": [
    {
     "data": {
      "text/plain": [
       "GridSearchCV(cv=4,\n",
       "             estimator=RandomForestClassifier(n_estimators=150,\n",
       "                                              random_state=42),\n",
       "             n_jobs=-1,\n",
       "             param_grid={'max_features': [1, 2, 3, 4, 5, 6, 7, 8, 9, 10],\n",
       "                         'n_estimators': [50, 75, 100, 125, 150, 175, 200,\n",
       "                                          225]},\n",
       "             return_train_score=True, scoring='accuracy')"
      ]
     },
     "execution_count": 55,
     "metadata": {},
     "output_type": "execute_result"
    }
   ],
   "source": [
    "params = {\n",
    "    'n_estimators': [h for h in np.arange(50,250,25)],\n",
    "    'max_features': [k for k in np.arange(1,df.shape[1])]\n",
    "}\n",
    "grid = GridSearchCV(rfc_clf_bin,\n",
    "                    params,\n",
    "                    cv = 4,\n",
    "                    scoring='accuracy',\n",
    "                    return_train_score=True,\n",
    "                    n_jobs=-1\n",
    ")\n",
    "\n",
    "grid.fit(x_train,y_train)"
   ]
  },
  {
   "cell_type": "code",
   "execution_count": 56,
   "metadata": {},
   "outputs": [
    {
     "data": {
      "text/plain": [
       "[(0.41340669173830036, 'age'),\n",
       " (0.10848588950384475, 'smoke'),\n",
       " (0.06307341505075953, 'drink'),\n",
       " (0.049269508091808134, 'skin_cancer_history'),\n",
       " (0.04833608712966853, 'cancer_history'),\n",
       " (0.04631346437019466, 'pesticide'),\n",
       " (0.035528990577407035, 'has_sewage_system'),\n",
       " (0.03449801828847836, 'onehotencoder__x0_OUTROS'),\n",
       " (0.033405957805392045, 'onehotencoder__x0_FOREARM'),\n",
       " (0.029262709832817174, 'onehotencoder__x0_BACK'),\n",
       " (0.027181551276403138, 'has_piped_water'),\n",
       " (0.02384854883255085, 'onehotencoder__x0_HAND'),\n",
       " (0.022392349544521534, 'onehotencoder__x0_FACE'),\n",
       " (0.018985002991006517, 'onehotencoder__x0_ARM'),\n",
       " (0.01672771576031111, 'onehotencoder__x0_CHEST'),\n",
       " (0.01078226029299768, 'onehotencoder__x0_EAR'),\n",
       " (0.010680012560533619, 'onehotencoder__x0_NOSE'),\n",
       " (0.007821826353005113, 'onehotencoder__x0_NECK')]"
      ]
     },
     "execution_count": 56,
     "metadata": {},
     "output_type": "execute_result"
    }
   ],
   "source": [
    "feature_importances = grid.best_estimator_.feature_importances_\n",
    "importance_list = sorted(zip(feature_importances, x_train.columns.values), reverse=True)\n",
    "importance_list"
   ]
  },
  {
   "cell_type": "code",
   "execution_count": 57,
   "metadata": {},
   "outputs": [
    {
     "data": {
      "text/plain": [
       "{'max_features': 8, 'n_estimators': 100}"
      ]
     },
     "execution_count": 57,
     "metadata": {},
     "output_type": "execute_result"
    }
   ],
   "source": [
    "grid.best_params_"
   ]
  },
  {
   "cell_type": "code",
   "execution_count": 58,
   "metadata": {},
   "outputs": [
    {
     "data": {
      "text/plain": [
       "RandomForestClassifier(max_features=8, random_state=42)"
      ]
     },
     "execution_count": 58,
     "metadata": {},
     "output_type": "execute_result"
    }
   ],
   "source": [
    "grid.best_estimator_"
   ]
  },
  {
   "cell_type": "markdown",
   "metadata": {},
   "source": [
    "# Final Model "
   ]
  },
  {
   "cell_type": "code",
   "execution_count": 59,
   "metadata": {},
   "outputs": [],
   "source": [
    "x_train_metadata, x_train_stacked, x_test, y_train_metadata, y_train_stacked, y_test = get_train_test_metadata()"
   ]
  },
  {
   "cell_type": "code",
   "execution_count": 60,
   "metadata": {},
   "outputs": [
    {
     "name": "stderr",
     "output_type": "stream",
     "text": [
      "c:\\Users\\samuel.nporto\\Anaconda3\\lib\\site-packages\\sklearn\\model_selection\\_search.py:922: UserWarning: One or more of the test scores are non-finite: [       nan 0.85549401 0.88643238 0.89040783 0.89371525 0.8936819\n",
      " 0.893667   0.89452578 0.89224396 0.89428429        nan 0.87941266\n",
      " 0.90216348 0.89930914 0.9017483  0.89846593 0.89786857 0.89898818\n",
      " 0.89822967 0.89680211        nan 0.87292367 0.88773814 0.88994005\n",
      " 0.89185485 0.89232762 0.89507868 0.8949492  0.89334395 0.89517976\n",
      "        nan 0.86161452 0.8784405  0.88461953 0.89039226 0.89087062\n",
      " 0.89029471 0.89060312 0.88982606 0.89176484        nan 0.87286905\n",
      " 0.88639586 0.89095239 0.89148183 0.89321117 0.8942999  0.8962133\n",
      " 0.89377047 0.89346794        nan 0.86744039 0.88534002 0.89287261\n",
      " 0.89571986 0.89671036 0.89421112 0.89662874 0.89356462 0.89370578\n",
      "        nan        nan        nan        nan        nan        nan\n",
      "        nan        nan        nan        nan        nan        nan\n",
      "        nan        nan        nan        nan        nan        nan\n",
      "        nan        nan        nan        nan        nan        nan\n",
      "        nan        nan        nan        nan        nan        nan\n",
      "        nan        nan        nan        nan        nan        nan\n",
      "        nan        nan        nan        nan]\n",
      "  warnings.warn(\n",
      "c:\\Users\\samuel.nporto\\Anaconda3\\lib\\site-packages\\sklearn\\model_selection\\_search.py:922: UserWarning: One or more of the train scores are non-finite: [       nan 0.98945566 0.99457231 0.99629569 0.99687959 0.99727006\n",
      " 0.99743347 0.99742136 0.99764541 0.99769692        nan 0.99074177\n",
      " 0.99479986 0.99627464 0.99704262 0.99732756 0.99751822 0.9974397\n",
      " 0.99763649 0.99777878        nan 0.98995118 0.99453984 0.99618417\n",
      " 0.99678274 0.99733369 0.99752128 0.99756956 0.99768783 0.9977486\n",
      "        nan 0.98904095 0.99492876 0.99626377 0.99704364 0.99740042\n",
      " 0.99753959 0.99760033 0.99777878 0.99783026        nan 0.9900537\n",
      " 0.99494582 0.99653548 0.99701012 0.99737345 0.99759741 0.99760043\n",
      " 0.99776079 0.99788192        nan 0.9895055  0.99463984 0.99618493\n",
      " 0.99692215 0.99741565 0.99761838 0.99761254 0.99772161 0.99783049\n",
      "        nan        nan        nan        nan        nan        nan\n",
      "        nan        nan        nan        nan        nan        nan\n",
      "        nan        nan        nan        nan        nan        nan\n",
      "        nan        nan        nan        nan        nan        nan\n",
      "        nan        nan        nan        nan        nan        nan\n",
      "        nan        nan        nan        nan        nan        nan\n",
      "        nan        nan        nan        nan]\n",
      "  warnings.warn(\n"
     ]
    },
    {
     "data": {
      "text/plain": [
       "GridSearchCV(cv=4,\n",
       "             estimator=RandomForestClassifier(n_estimators=150,\n",
       "                                              random_state=42),\n",
       "             n_jobs=-1,\n",
       "             param_grid={'max_features': [1, 2, 3, 4, 5, 6, 7, 8, 9, 10],\n",
       "                         'n_estimators': [0, 5, 10, 15, 20, 25, 30, 35, 40,\n",
       "                                          45]},\n",
       "             return_train_score=True, scoring='roc_auc')"
      ]
     },
     "execution_count": 60,
     "metadata": {},
     "output_type": "execute_result"
    }
   ],
   "source": [
    "params = {\n",
    "    'n_estimators': [h for h in np.arange(0,50,5)],\n",
    "    'max_features': [k for k in np.arange(1,df.shape[1])]\n",
    "}\n",
    "grid = GridSearchCV(RandomForestClassifier(random_state=RANDOM_SEED, n_estimators=150),\n",
    "                    params,\n",
    "                    cv = 4,\n",
    "                    scoring='roc_auc',\n",
    "                    return_train_score=True,\n",
    "                    n_jobs=-1\n",
    ")\n",
    "\n",
    "grid.fit(x_train_metadata,y_train_metadata)"
   ]
  },
  {
   "cell_type": "code",
   "execution_count": 61,
   "metadata": {},
   "outputs": [
    {
     "data": {
      "text/plain": [
       "{'max_features': 2, 'n_estimators': 10}"
      ]
     },
     "execution_count": 61,
     "metadata": {},
     "output_type": "execute_result"
    }
   ],
   "source": [
    "grid.best_params_"
   ]
  },
  {
   "cell_type": "code",
   "execution_count": 62,
   "metadata": {},
   "outputs": [
    {
     "name": "stdout",
     "output_type": "stream",
     "text": [
      "\n",
      "Binary RFC\n",
      "Model roc_auc on train: 0.8808911214571591\n",
      "Model roc_auc on test: 0.8754308390022677\n"
     ]
    },
    {
     "data": {
      "image/png": "[encoded data removed]",
      "text/plain": [
       "<Figure size 360x360 with 1 Axes>"
      ]
     },
     "metadata": {
      "needs_background": "light"
     },
     "output_type": "display_data"
    }
   ],
   "source": [
    "print(\"\\nBinary RFC\")\n",
    "rfc_clf_bin = grid.best_estimator_\n",
    "rfc_clf_bin.fit(x_train_metadata, y_train_metadata)\n",
    "eval_model(rfc_clf_bin, x_test, y_test, title=\"Binary Random Forest Classifier Confusion Matrix\", classes=[\"Not\", \"Cancer\"])\n",
    "tr = cross_val_score(rfc_clf_bin, x_train_metadata, y_train_metadata, cv=3, scoring='roc_auc')\n",
    "tst = cross_val_score(rfc_clf_bin, x_test, y_test, cv=3, scoring='roc_auc')\n",
    "print(f\"Model roc_auc on train: {tr.mean()}\\nModel roc_auc on test: {tst.mean()}\")"
   ]
  },
  {
   "cell_type": "code",
   "execution_count": 63,
   "metadata": {},
   "outputs": [
    {
     "data": {
      "text/plain": [
       "['C:\\\\Users\\\\samuel.nporto\\\\.cascid_data\\\\PAD-UFES\\\\rfc_clf_bin_final.joblib']"
      ]
     },
     "execution_count": 63,
     "metadata": {},
     "output_type": "execute_result"
    }
   ],
   "source": [
    "joblib.dump(rfc_clf_bin, PAD_UFES_DIR/'rfc_clf_bin_final.joblib')"
   ]
  },
  {
   "cell_type": "code",
   "execution_count": 66,
   "metadata": {},
   "outputs": [
    {
     "data": {
      "image/png": "[encoded data removed]",
      "text/plain": [
       "<Figure size 432x288 with 1 Axes>"
      ]
     },
     "metadata": {
      "needs_background": "light"
     },
     "output_type": "display_data"
    }
   ],
   "source": [
    "y_pred_proba = rfc_clf_bin.predict_proba(x_test)[::,1]\n",
    "\n",
    "fpr, tpr, _ = metrics.roc_curve([1 if x == 'Cancer' else 0 for x in y_test],  y_pred_proba)\n",
    "\n",
    "auc = metrics.roc_auc_score(y_test, y_pred_proba)\n",
    "\n",
    "#create ROC curve\n",
    "plt.plot(fpr,tpr, marker='.', label=\"AUC=\"+str(auc.round(2)))\n",
    "plt.ylabel('True Positive Rate')\n",
    "plt.xlabel('False Positive Rate')\n",
    "plt.legend()\n",
    "plt.show()\n"
   ]
  },
  {
   "cell_type": "code",
   "execution_count": 65,
   "metadata": {},
   "outputs": [
    {
     "data": {
      "image/png": "[encoded data removed]",
      "text/plain": [
       "<Figure size 432x288 with 1 Axes>"
      ]
     },
     "metadata": {
      "needs_background": "light"
     },
     "output_type": "display_data"
    }
   ],
   "source": [
    "rfc_precision, rfc_recall, _ = metrics.precision_recall_curve([1 if x == 'Cancer' else 0 for x in y_test], y_pred_proba)\n",
    "\n",
    "plt.plot(rfc_recall, rfc_precision, marker='.', label='RFC')\n",
    "plt.xlabel('Recall')\n",
    "plt.ylabel('Precision')\n",
    "plt.legend()\n",
    "plt.show()"
   ]
  },
  {
   "cell_type": "code",
   "execution_count": null,
   "metadata": {},
   "outputs": [],
   "source": []
  }
 ],
 "metadata": {
  "kernelspec": {
   "display_name": "Python 3.9.7 ('base')",
   "language": "python",
   "name": "python3"
  },
  "language_info": {
   "codemirror_mode": {
    "name": "ipython",
    "version": 3
   },
   "file_extension": ".py",
   "mimetype": "text/x-python",
   "name": "python",
   "nbconvert_exporter": "python",
   "pygments_lexer": "ipython3",
   "version": "3.9.7"
  },
  "orig_nbformat": 4,
  "vscode": {
   "interpreter": {
    "hash": "901f49fd5d6832a7040626b158d55b3d976519479c929c1446ade260a0f9c0c2"
   }
  }
 },
 "nbformat": 4,
 "nbformat_minor": 2
}
