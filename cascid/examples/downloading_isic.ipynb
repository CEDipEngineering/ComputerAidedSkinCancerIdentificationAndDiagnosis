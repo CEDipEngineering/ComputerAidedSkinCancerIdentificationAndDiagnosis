{
 "cells": [
  {
   "cell_type": "markdown",
   "metadata": {},
   "source": [
    "# How to:\n",
    "\n",
    "Download images from ISIC using the API in three steps.\n",
    "\n",
    "### First Step:\n",
    "\n",
    "Import cascid module's automated download functions."
   ]
  },
  {
   "cell_type": "code",
   "execution_count": null,
   "metadata": {},
   "outputs": [],
   "source": [
    "# Import isic downloading tools\n",
    "from cascid.datasets.isic import database, fetcher"
   ]
  },
  {
   "cell_type": "markdown",
   "metadata": {},
   "source": [
    "### Second Step:\n",
    "\n",
    "Ask fetcher to gather the metadata for however many images you want from each class. The 'fetch_from_isic' function returns a list of objects, which contain the metadata. This list is promptly passed on to the 'save_metadata' function, which interprets these objects, and saves a dataframe to a .csv file. This operation is repeatable, and will never overwrite previously collected data. As such, you have the option of running the cell below multiple times, without fear of loose metadata files, or losing access to already downloaded images. "
   ]
  },
  {
   "cell_type": "code",
   "execution_count": null,
   "metadata": {},
   "outputs": [],
   "source": [
    "images = fetcher.fetch_from_isic(\n",
    "    n_samples=6000, \n",
    "    diagnosis_list=[\n",
    "        \"melanoma\",\n",
    "        \"nevus\",\n",
    "        '\"basal cell carcinoma\"',\n",
    "        '\"seborrheic keratosis\"',\n",
    "        '\"actinic keratosis\"',\n",
    "        '\"squamous cell carcinoma\"'\n",
    "    ]\n",
    ")\n",
    "fetcher.save_metadata(image_list=images)"
   ]
  },
  {
   "cell_type": "markdown",
   "metadata": {},
   "source": [
    "The 'database.get_df' function, reads from this csv automatically."
   ]
  },
  {
   "cell_type": "code",
   "execution_count": null,
   "metadata": {},
   "outputs": [],
   "source": [
    "df = database.get_df()\n",
    "df"
   ]
  },
  {
   "cell_type": "markdown",
   "metadata": {},
   "source": [
    "### Third Step:\n",
    "\n",
    "So far, we have only gathered the metadata for the images, but not downloaded any of the images yet.\n",
    "Supply the read dataframe to the 'update_all_files' function. This function can detect missing images in the storage directory, and download them automatically based on the metadata available. Since the download is very slow on the network IO side, this is done using multiple threads, for a big performance boost. It can still be rather slow, as some images are very large. This can also produce some timeout errors if your network is particularly slow, but simply rerunning the cell will resume progress from where it left off, and continue downloading.  "
   ]
  },
  {
   "cell_type": "code",
   "execution_count": null,
   "metadata": {},
   "outputs": [],
   "source": [
    "database.update_all_files(df)"
   ]
  },
  {
   "cell_type": "markdown",
   "metadata": {},
   "source": [
    "And that's it! Now you have as many images as you want from the ISIC dataset. You may notice, you asked for 'x' images of each diagnosis, but only got 'y'. ISIC is not endless, and some diagnosis have more images than others. If one diagnosis has no more images, no more images will be downloaded. The program will still attempt to reach the goal for each diagnosis separately though, so if you ask for 5000, and there are 5000, you should get pretty close to 5000 (some images lack basic metadata, such as age or gender, and as such are not downloaded at all, bringing the total down by a few images on occasion)."
   ]
  }
 ],
 "metadata": {
  "kernelspec": {
   "display_name": "Python 3.8.10 64-bit",
   "language": "python",
   "name": "python3"
  },
  "language_info": {
   "name": "python",
   "version": "3.8.10"
  },
  "orig_nbformat": 4,
  "vscode": {
   "interpreter": {
    "hash": "916dbcbb3f70747c44a77c7bcd40155683ae19c65e1c03b4aa3499c5328201f1"
   }
  }
 },
 "nbformat": 4,
 "nbformat_minor": 2
}
