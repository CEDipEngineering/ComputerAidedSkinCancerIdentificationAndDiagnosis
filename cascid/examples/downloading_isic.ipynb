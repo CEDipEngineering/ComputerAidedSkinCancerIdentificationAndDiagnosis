{
 "cells": [
  {
   "cell_type": "markdown",
   "metadata": {},
   "source": [
    "# How to:\n",
    "\n",
    "Download images from ISIC using the API in three steps.\n",
    "\n",
    "### First Step:\n",
    "\n",
    "Import cascid module's automated download functions."
   ]
  },
  {
   "cell_type": "code",
   "execution_count": 1,
   "metadata": {},
   "outputs": [
    {
     "name": "stderr",
     "output_type": "stream",
     "text": [
      "2022-11-10 07:13:18.841563: I tensorflow/core/platform/cpu_feature_guard.cc:193] This TensorFlow binary is optimized with oneAPI Deep Neural Network Library (oneDNN) to use the following CPU instructions in performance-critical operations:  AVX2 FMA\n",
      "To enable them in other operations, rebuild TensorFlow with the appropriate compiler flags.\n",
      "2022-11-10 07:13:18.978760: W tensorflow/stream_executor/platform/default/dso_loader.cc:64] Could not load dynamic library 'libcudart.so.11.0'; dlerror: libcudart.so.11.0: cannot open shared object file: No such file or directory\n",
      "2022-11-10 07:13:18.978803: I tensorflow/stream_executor/cuda/cudart_stub.cc:29] Ignore above cudart dlerror if you do not have a GPU set up on your machine.\n",
      "2022-11-10 07:13:19.011857: E tensorflow/stream_executor/cuda/cuda_blas.cc:2981] Unable to register cuBLAS factory: Attempting to register factory for plugin cuBLAS when one has already been registered\n",
      "2022-11-10 07:13:19.812332: W tensorflow/stream_executor/platform/default/dso_loader.cc:64] Could not load dynamic library 'libnvinfer.so.7'; dlerror: libnvinfer.so.7: cannot open shared object file: No such file or directory\n",
      "2022-11-10 07:13:19.812400: W tensorflow/stream_executor/platform/default/dso_loader.cc:64] Could not load dynamic library 'libnvinfer_plugin.so.7'; dlerror: libnvinfer_plugin.so.7: cannot open shared object file: No such file or directory\n",
      "2022-11-10 07:13:19.812408: W tensorflow/compiler/tf2tensorrt/utils/py_utils.cc:38] TF-TRT Warning: Cannot dlopen some TensorRT libraries. If you would like to use Nvidia GPU with TensorRT, please make sure the missing libraries mentioned above are installed properly.\n"
     ]
    }
   ],
   "source": [
    "# Import isic downloading tools\n",
    "from cascid.datasets.isic import database, fetcher"
   ]
  },
  {
   "cell_type": "markdown",
   "metadata": {},
   "source": [
    "### Second Step:\n",
    "\n",
    "Ask fetcher to gather the metadata for however many images you want from each class. The 'fetch_from_isic' function returns a list of objects, which contain the metadata. This list is promptly passed on to the 'save_metadata' function, which interprets these objects, and saves a dataframe to a .csv file. This operation is repeatable, and will never overwrite previously collected data. As such, you have the option of running the cell below multiple times, without fear of loose metadata files, or losing access to already downloaded images. "
   ]
  },
  {
   "cell_type": "code",
   "execution_count": 2,
   "metadata": {},
   "outputs": [
    {
     "name": "stdout",
     "output_type": "stream",
     "text": [
      "Fetching 200 images from ISIC dataset for each of ['melanoma', 'nevus', '\"basal cell carcinoma\"', '\"seborrheic keratosis\"', '\"actinic keratosis\"', '\"squamous cell carcinoma\"'] diagnosis\n",
      "                                                                                                    \n",
      "Done!\n"
     ]
    }
   ],
   "source": [
    "images = fetcher.fetch_from_isic(\n",
    "    n_samples=200, # Number of samples for each label in 'diagnosis_list' \n",
    "    diagnosis_list=[\n",
    "        \"melanoma\",\n",
    "        \"nevus\",\n",
    "        '\"basal cell carcinoma\"',\n",
    "        '\"seborrheic keratosis\"',\n",
    "        '\"actinic keratosis\"',\n",
    "        '\"squamous cell carcinoma\"'\n",
    "    ]\n",
    ")\n",
    "fetcher.save_metadata(image_list=images)"
   ]
  },
  {
   "cell_type": "markdown",
   "metadata": {},
   "source": [
    "The 'database.get_df' function, reads from this csv automatically."
   ]
  },
  {
   "cell_type": "code",
   "execution_count": 3,
   "metadata": {},
   "outputs": [
    {
     "data": {
      "text/html": [
       "<div>\n",
       "<style scoped>\n",
       "    .dataframe tbody tr th:only-of-type {\n",
       "        vertical-align: middle;\n",
       "    }\n",
       "\n",
       "    .dataframe tbody tr th {\n",
       "        vertical-align: top;\n",
       "    }\n",
       "\n",
       "    .dataframe thead th {\n",
       "        text-align: right;\n",
       "    }\n",
       "</style>\n",
       "<table border=\"1\" class=\"dataframe\">\n",
       "  <thead>\n",
       "    <tr style=\"text-align: right;\">\n",
       "      <th></th>\n",
       "      <th>isic_id</th>\n",
       "      <th>sex</th>\n",
       "      <th>diagnostic</th>\n",
       "      <th>age_approx</th>\n",
       "      <th>image_url</th>\n",
       "      <th>img_id</th>\n",
       "    </tr>\n",
       "  </thead>\n",
       "  <tbody>\n",
       "    <tr>\n",
       "      <th>0</th>\n",
       "      <td>ISIC_1162337</td>\n",
       "      <td>male</td>\n",
       "      <td>MEL</td>\n",
       "      <td>45</td>\n",
       "      <td>https://content.isic-archive.com/a82fc918-76c7...</td>\n",
       "      <td>ISIC_1162337.jpg</td>\n",
       "    </tr>\n",
       "    <tr>\n",
       "      <th>1</th>\n",
       "      <td>ISIC_3909039</td>\n",
       "      <td>male</td>\n",
       "      <td>MEL</td>\n",
       "      <td>50</td>\n",
       "      <td>https://content.isic-archive.com/62d65089-0855...</td>\n",
       "      <td>ISIC_3909039.jpg</td>\n",
       "    </tr>\n",
       "    <tr>\n",
       "      <th>2</th>\n",
       "      <td>ISIC_6695831</td>\n",
       "      <td>female</td>\n",
       "      <td>MEL</td>\n",
       "      <td>65</td>\n",
       "      <td>https://content.isic-archive.com/a213f3c1-95e1...</td>\n",
       "      <td>ISIC_6695831.jpg</td>\n",
       "    </tr>\n",
       "    <tr>\n",
       "      <th>3</th>\n",
       "      <td>ISIC_2141237</td>\n",
       "      <td>female</td>\n",
       "      <td>MEL</td>\n",
       "      <td>85</td>\n",
       "      <td>https://content.isic-archive.com/7d9c8155-ab69...</td>\n",
       "      <td>ISIC_2141237.jpg</td>\n",
       "    </tr>\n",
       "    <tr>\n",
       "      <th>4</th>\n",
       "      <td>ISIC_8252406</td>\n",
       "      <td>male</td>\n",
       "      <td>MEL</td>\n",
       "      <td>85</td>\n",
       "      <td>https://content.isic-archive.com/f7205ec8-20c7...</td>\n",
       "      <td>ISIC_8252406.jpg</td>\n",
       "    </tr>\n",
       "    <tr>\n",
       "      <th>...</th>\n",
       "      <td>...</td>\n",
       "      <td>...</td>\n",
       "      <td>...</td>\n",
       "      <td>...</td>\n",
       "      <td>...</td>\n",
       "      <td>...</td>\n",
       "    </tr>\n",
       "    <tr>\n",
       "      <th>12067</th>\n",
       "      <td>ISIC_0064985</td>\n",
       "      <td>male</td>\n",
       "      <td>SCC</td>\n",
       "      <td>60</td>\n",
       "      <td>https://content.isic-archive.com/a62e48a3-e6c9...</td>\n",
       "      <td>ISIC_0064985.jpg</td>\n",
       "    </tr>\n",
       "    <tr>\n",
       "      <th>12068</th>\n",
       "      <td>ISIC_0064977</td>\n",
       "      <td>male</td>\n",
       "      <td>SCC</td>\n",
       "      <td>80</td>\n",
       "      <td>https://content.isic-archive.com/7db06c7e-7236...</td>\n",
       "      <td>ISIC_0064977.jpg</td>\n",
       "    </tr>\n",
       "    <tr>\n",
       "      <th>12069</th>\n",
       "      <td>ISIC_0064878</td>\n",
       "      <td>female</td>\n",
       "      <td>SCC</td>\n",
       "      <td>60</td>\n",
       "      <td>https://content.isic-archive.com/9bc8ec2e-12e1...</td>\n",
       "      <td>ISIC_0064878.jpg</td>\n",
       "    </tr>\n",
       "    <tr>\n",
       "      <th>12070</th>\n",
       "      <td>ISIC_0064760</td>\n",
       "      <td>female</td>\n",
       "      <td>SCC</td>\n",
       "      <td>70</td>\n",
       "      <td>https://content.isic-archive.com/9dec418e-59d5...</td>\n",
       "      <td>ISIC_0064760.jpg</td>\n",
       "    </tr>\n",
       "    <tr>\n",
       "      <th>12071</th>\n",
       "      <td>ISIC_0064593</td>\n",
       "      <td>male</td>\n",
       "      <td>SCC</td>\n",
       "      <td>70</td>\n",
       "      <td>https://content.isic-archive.com/20e33ddf-a2b3...</td>\n",
       "      <td>ISIC_0064593.jpg</td>\n",
       "    </tr>\n",
       "  </tbody>\n",
       "</table>\n",
       "<p>12072 rows × 6 columns</p>\n",
       "</div>"
      ],
      "text/plain": [
       "            isic_id     sex diagnostic  age_approx  \\\n",
       "0      ISIC_1162337    male        MEL          45   \n",
       "1      ISIC_3909039    male        MEL          50   \n",
       "2      ISIC_6695831  female        MEL          65   \n",
       "3      ISIC_2141237  female        MEL          85   \n",
       "4      ISIC_8252406    male        MEL          85   \n",
       "...             ...     ...        ...         ...   \n",
       "12067  ISIC_0064985    male        SCC          60   \n",
       "12068  ISIC_0064977    male        SCC          80   \n",
       "12069  ISIC_0064878  female        SCC          60   \n",
       "12070  ISIC_0064760  female        SCC          70   \n",
       "12071  ISIC_0064593    male        SCC          70   \n",
       "\n",
       "                                               image_url            img_id  \n",
       "0      https://content.isic-archive.com/a82fc918-76c7...  ISIC_1162337.jpg  \n",
       "1      https://content.isic-archive.com/62d65089-0855...  ISIC_3909039.jpg  \n",
       "2      https://content.isic-archive.com/a213f3c1-95e1...  ISIC_6695831.jpg  \n",
       "3      https://content.isic-archive.com/7d9c8155-ab69...  ISIC_2141237.jpg  \n",
       "4      https://content.isic-archive.com/f7205ec8-20c7...  ISIC_8252406.jpg  \n",
       "...                                                  ...               ...  \n",
       "12067  https://content.isic-archive.com/a62e48a3-e6c9...  ISIC_0064985.jpg  \n",
       "12068  https://content.isic-archive.com/7db06c7e-7236...  ISIC_0064977.jpg  \n",
       "12069  https://content.isic-archive.com/9bc8ec2e-12e1...  ISIC_0064878.jpg  \n",
       "12070  https://content.isic-archive.com/9dec418e-59d5...  ISIC_0064760.jpg  \n",
       "12071  https://content.isic-archive.com/20e33ddf-a2b3...  ISIC_0064593.jpg  \n",
       "\n",
       "[12072 rows x 6 columns]"
      ]
     },
     "execution_count": 3,
     "metadata": {},
     "output_type": "execute_result"
    }
   ],
   "source": [
    "df = database.get_df()\n",
    "df"
   ]
  },
  {
   "cell_type": "markdown",
   "metadata": {},
   "source": [
    "### Third Step:\n",
    "\n",
    "So far, we have only gathered the metadata for the images, but not downloaded any of the images yet.\n",
    "Supply the read dataframe to the 'update_all_files' function. This function can detect missing images in the storage directory, and download them automatically based on the metadata available. Since the download is very slow on the network IO side, this is done using multiple threads, for a big performance boost. It can still be rather slow, as some images are very large. This can also produce some timeout errors if your network is particularly slow, but simply rerunning the cell will resume progress from where it left off, and continue downloading.  "
   ]
  },
  {
   "cell_type": "code",
   "execution_count": 4,
   "metadata": {},
   "outputs": [
    {
     "name": "stdout",
     "output_type": "stream",
     "text": [
      "Beginning image downloads...\n",
      "Done\n"
     ]
    }
   ],
   "source": [
    "database.update_all_files(df)"
   ]
  },
  {
   "cell_type": "markdown",
   "metadata": {},
   "source": [
    "And that's it! Now you have as many images as you want from the ISIC dataset. You may notice, you asked for 'x' images of each diagnosis, but only got 'y'. ISIC is not endless, and some diagnosis have more images than others. If one diagnosis has no more images, no more images will be downloaded. The program will still attempt to reach the goal for each diagnosis separately though, so if you ask for 5000, and there are 5000, you should get pretty close to 5000 (some images lack basic metadata, such as age or gender, and as such are not downloaded at all, bringing the total down by a few images on occasion)."
   ]
  },
  {
   "cell_type": "markdown",
   "metadata": {},
   "source": [
    "### Preprocessing\n",
    "\n",
    "Cascid has some preprocessing built-in. In order to use it, you may want to examine the specifics of each dataset, or simply use 'datasets.pipeline.preprocessing' to preprocess all your images."
   ]
  },
  {
   "cell_type": "code",
   "execution_count": 2,
   "metadata": {},
   "outputs": [
    {
     "name": "stdout",
     "output_type": "stream",
     "text": [
      "Applying hairless preprocessing to isic dataset, this may take a few minutes, but caching is done automatically, so the next time it should be much faster.\n",
      "Beginning transformations, this may take a while...\n",
      "Finished transformations after 0h00min0.33s\n",
      "Applying hairless_quantized preprocessing to isic dataset, this may take a few minutes, but caching is done automatically, so the next time it should be much faster.\n",
      "Beginning transformations, this may take a while...\n",
      "Finished transformations after 0h00min0.35s\n"
     ]
    }
   ],
   "source": [
    "from cascid.datasets.pipeline.preprocessing import preprocess_dataset\n",
    "preprocess_dataset('isic', 'all', image_shape=(512,512)) # Apply all available forms of preprocessing to isic, and save images in 512x512 RGB resolution."
   ]
  }
 ],
 "metadata": {
  "kernelspec": {
   "display_name": "Python 3.8.10 64-bit",
   "language": "python",
   "name": "python3"
  },
  "language_info": {
   "codemirror_mode": {
    "name": "ipython",
    "version": 3
   },
   "file_extension": ".py",
   "mimetype": "text/x-python",
   "name": "python",
   "nbconvert_exporter": "python",
   "pygments_lexer": "ipython3",
   "version": "3.8.10"
  },
  "orig_nbformat": 4,
  "vscode": {
   "interpreter": {
    "hash": "916dbcbb3f70747c44a77c7bcd40155683ae19c65e1c03b4aa3499c5328201f1"
   }
  }
 },
 "nbformat": 4,
 "nbformat_minor": 2
}
